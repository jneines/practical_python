{
 "cells": [
  {
   "cell_type": "markdown",
   "id": "bea7cc29-d8e9-47c0-a436-081ba1ca75d0",
   "metadata": {},
   "source": [
    "# Is this really true?"
   ]
  },
  {
   "cell_type": "markdown",
   "id": "cdf17e41-a260-4edc-a9fd-1a4902f63dfa",
   "metadata": {},
   "source": [
    "A rather fundamental concept in programming is based on logical operations. These are baseed on the boolean data type. Python supports this as well. The fundamental values are `True` and `False`. Logical operations will evaluate to a result, which is either `True` or `False`. Based on this you can decide on how to proceed in your code."
   ]
  },
  {
   "cell_type": "code",
   "execution_count": 1,
   "id": "1b431541-5749-4b78-ad97-9928d04ed4d8",
   "metadata": {
    "execution": {
     "iopub.execute_input": "2022-02-23T09:23:52.630602Z",
     "iopub.status.busy": "2022-02-23T09:23:52.630396Z",
     "iopub.status.idle": "2022-02-23T09:23:52.640001Z",
     "shell.execute_reply": "2022-02-23T09:23:52.639550Z",
     "shell.execute_reply.started": "2022-02-23T09:23:52.630556Z"
    }
   },
   "outputs": [
    {
     "name": "stdout",
     "output_type": "stream",
     "text": [
      "True\n"
     ]
    },
    {
     "data": {
      "text/plain": [
       "bool"
      ]
     },
     "execution_count": 1,
     "metadata": {},
     "output_type": "execute_result"
    }
   ],
   "source": [
    "result = True\n",
    "print(result)\n",
    "type(result)"
   ]
  },
  {
   "cell_type": "code",
   "execution_count": 2,
   "id": "560b0b98-0fd3-4cb5-8830-b103053e88ea",
   "metadata": {
    "execution": {
     "iopub.execute_input": "2022-02-23T09:24:29.499242Z",
     "iopub.status.busy": "2022-02-23T09:24:29.498892Z",
     "iopub.status.idle": "2022-02-23T09:24:29.502398Z",
     "shell.execute_reply": "2022-02-23T09:24:29.501918Z",
     "shell.execute_reply.started": "2022-02-23T09:24:29.499222Z"
    }
   },
   "outputs": [
    {
     "name": "stdout",
     "output_type": "stream",
     "text": [
      "False\n"
     ]
    },
    {
     "data": {
      "text/plain": [
       "bool"
      ]
     },
     "execution_count": 2,
     "metadata": {},
     "output_type": "execute_result"
    }
   ],
   "source": [
    "another_result = False\n",
    "print(another_result)\n",
    "type(another_result)"
   ]
  },
  {
   "cell_type": "markdown",
   "id": "c9a3cba6-ff2d-43ec-93c6-583c4e541a07",
   "metadata": {},
   "source": [
    "So these are the two boolean values in action. Mostly they are the result of comparisons that you perform in your code."
   ]
  },
  {
   "cell_type": "code",
   "execution_count": 3,
   "id": "d4a6262c-09b6-4b0c-87ca-479b00428e1d",
   "metadata": {
    "execution": {
     "iopub.execute_input": "2022-02-23T09:26:24.890796Z",
     "iopub.status.busy": "2022-02-23T09:26:24.890633Z",
     "iopub.status.idle": "2022-02-23T09:26:24.893041Z",
     "shell.execute_reply": "2022-02-23T09:26:24.892599Z",
     "shell.execute_reply.started": "2022-02-23T09:26:24.890780Z"
    }
   },
   "outputs": [],
   "source": [
    "value = 1\n",
    "some_other_value = 2"
   ]
  },
  {
   "cell_type": "code",
   "execution_count": 7,
   "id": "f4ef5be1-3210-428c-beca-7580b2cb9dfd",
   "metadata": {
    "execution": {
     "iopub.execute_input": "2022-02-23T09:31:01.696273Z",
     "iopub.status.busy": "2022-02-23T09:31:01.696100Z",
     "iopub.status.idle": "2022-02-23T09:31:01.699284Z",
     "shell.execute_reply": "2022-02-23T09:31:01.698874Z",
     "shell.execute_reply.started": "2022-02-23T09:31:01.696257Z"
    },
    "tags": []
   },
   "outputs": [
    {
     "name": "stdout",
     "output_type": "stream",
     "text": [
      "Is value equal to some_other_value?            False\n",
      "Is value different from some_other_value?      True\n",
      "Is value larger than some_other_value?         False\n",
      "Is value lower than some_other_value?          True\n",
      "Is value greater or equal to some_other_value? False\n",
      "Is value lower or equal to some_other_value?   True\n"
     ]
    }
   ],
   "source": [
    "print(f\"Is value equal to some_other_value?            {value == some_other_value}\")\n",
    "print(f\"Is value different from some_other_value?      {value != some_other_value}\")\n",
    "print(f\"Is value larger than some_other_value?         {value > some_other_value}\")\n",
    "print(f\"Is value lower than some_other_value?          {value < some_other_value}\")\n",
    "print(f\"Is value greater or equal to some_other_value? {value >= some_other_value}\")\n",
    "print(f\"Is value lower or equal to some_other_value?   {value <= some_other_value}\")"
   ]
  },
  {
   "cell_type": "markdown",
   "id": "47eae51b-c1e1-4391-bca9-1d0e9c8a75b3",
   "metadata": {},
   "source": [
    "To make the view complete for boolean handling we need a few more operations: `and`, `or` and `not`. These are builtin operators to perform logical operations."
   ]
  },
  {
   "cell_type": "code",
   "execution_count": 34,
   "id": "65328d9a-239e-4998-878a-be98f3febbe3",
   "metadata": {
    "execution": {
     "iopub.execute_input": "2022-02-23T10:54:20.986796Z",
     "iopub.status.busy": "2022-02-23T10:54:20.986628Z",
     "iopub.status.idle": "2022-02-23T10:54:20.989678Z",
     "shell.execute_reply": "2022-02-23T10:54:20.989270Z",
     "shell.execute_reply.started": "2022-02-23T10:54:20.986780Z"
    },
    "tags": []
   },
   "outputs": [
    {
     "data": {
      "text/plain": [
       "False"
      ]
     },
     "execution_count": 34,
     "metadata": {},
     "output_type": "execute_result"
    }
   ],
   "source": [
    "True and False"
   ]
  },
  {
   "cell_type": "code",
   "execution_count": 35,
   "id": "629fdc99-1c94-4571-ae9f-2d0d36338786",
   "metadata": {
    "execution": {
     "iopub.execute_input": "2022-02-23T10:54:21.187922Z",
     "iopub.status.busy": "2022-02-23T10:54:21.187751Z",
     "iopub.status.idle": "2022-02-23T10:54:21.191024Z",
     "shell.execute_reply": "2022-02-23T10:54:21.190612Z",
     "shell.execute_reply.started": "2022-02-23T10:54:21.187906Z"
    },
    "tags": []
   },
   "outputs": [
    {
     "data": {
      "text/plain": [
       "True"
      ]
     },
     "execution_count": 35,
     "metadata": {},
     "output_type": "execute_result"
    }
   ],
   "source": [
    "True or False"
   ]
  },
  {
   "cell_type": "code",
   "execution_count": 36,
   "id": "0bf599ee-d9e7-4352-bc4e-78eaca5ee2f4",
   "metadata": {
    "execution": {
     "iopub.execute_input": "2022-02-23T10:54:21.400744Z",
     "iopub.status.busy": "2022-02-23T10:54:21.400504Z",
     "iopub.status.idle": "2022-02-23T10:54:21.403689Z",
     "shell.execute_reply": "2022-02-23T10:54:21.403288Z",
     "shell.execute_reply.started": "2022-02-23T10:54:21.400728Z"
    },
    "tags": []
   },
   "outputs": [
    {
     "data": {
      "text/plain": [
       "False"
      ]
     },
     "execution_count": 36,
     "metadata": {},
     "output_type": "execute_result"
    }
   ],
   "source": [
    "not True"
   ]
  },
  {
   "cell_type": "code",
   "execution_count": 37,
   "id": "1a43626b-c3bd-4898-bc3e-2d341fd991bd",
   "metadata": {
    "execution": {
     "iopub.execute_input": "2022-02-23T10:54:21.694077Z",
     "iopub.status.busy": "2022-02-23T10:54:21.693909Z",
     "iopub.status.idle": "2022-02-23T10:54:21.696877Z",
     "shell.execute_reply": "2022-02-23T10:54:21.696410Z",
     "shell.execute_reply.started": "2022-02-23T10:54:21.694061Z"
    },
    "tags": []
   },
   "outputs": [
    {
     "data": {
      "text/plain": [
       "True"
      ]
     },
     "execution_count": 37,
     "metadata": {},
     "output_type": "execute_result"
    }
   ],
   "source": [
    "not False"
   ]
  },
  {
   "cell_type": "markdown",
   "id": "12f22204-5399-4fc7-bac0-17dfa181663c",
   "metadata": {},
   "source": [
    "Based on this we can create the boolean tables for an operation, which are the fundamentals for computing.\n",
    "\n",
    "| and   | True  | False |\n",
    "|-------|-------|-------|\n",
    "| True  | True  | False |\n",
    "| False | False | False |\n",
    "\n",
    "| or    | True  | False |\n",
    "|-------|-------|-------|\n",
    "| True  | True  | True  |\n",
    "| False | True  | False |\n"
   ]
  },
  {
   "cell_type": "markdown",
   "id": "8fac0f1c-f597-49aa-96d0-529729143fac",
   "metadata": {},
   "source": [
    "Don't confuse these with the `&` and `|` operators. They have a similar meaning, but work bit by bit, or element by element, instead of evaluating the whole value. Let's check that by looking at some expressions using integer values. Consider these two values."
   ]
  },
  {
   "cell_type": "code",
   "execution_count": 50,
   "id": "92b666d6-21ed-4def-b0d6-826fc7948518",
   "metadata": {
    "execution": {
     "iopub.execute_input": "2022-02-23T11:00:18.739004Z",
     "iopub.status.busy": "2022-02-23T11:00:18.738724Z",
     "iopub.status.idle": "2022-02-23T11:00:18.741141Z",
     "shell.execute_reply": "2022-02-23T11:00:18.740701Z",
     "shell.execute_reply.started": "2022-02-23T11:00:18.738986Z"
    },
    "tags": []
   },
   "outputs": [],
   "source": [
    "a = 255\n",
    "b = 21"
   ]
  },
  {
   "cell_type": "markdown",
   "id": "4f213ed1-86b4-4dfc-bebb-97f1fc71d4bb",
   "metadata": {},
   "source": [
    "Applying the bit or element wise operators for `and` and `or`, `&` and `|` will result in the following."
   ]
  },
  {
   "cell_type": "code",
   "execution_count": 51,
   "id": "b27d9b00-184a-45f5-89a3-f4b6b688e357",
   "metadata": {
    "execution": {
     "iopub.execute_input": "2022-02-23T11:00:19.655181Z",
     "iopub.status.busy": "2022-02-23T11:00:19.654987Z",
     "iopub.status.idle": "2022-02-23T11:00:19.658105Z",
     "shell.execute_reply": "2022-02-23T11:00:19.657661Z",
     "shell.execute_reply.started": "2022-02-23T11:00:19.655161Z"
    },
    "tags": []
   },
   "outputs": [
    {
     "data": {
      "text/plain": [
       "21"
      ]
     },
     "execution_count": 51,
     "metadata": {},
     "output_type": "execute_result"
    }
   ],
   "source": [
    "c = a & b\n",
    "c"
   ]
  },
  {
   "cell_type": "code",
   "execution_count": 52,
   "id": "b1accdff-e268-4ce2-a4b6-cb97415831dd",
   "metadata": {
    "execution": {
     "iopub.execute_input": "2022-02-23T11:00:20.388024Z",
     "iopub.status.busy": "2022-02-23T11:00:20.387827Z",
     "iopub.status.idle": "2022-02-23T11:00:20.391449Z",
     "shell.execute_reply": "2022-02-23T11:00:20.390954Z",
     "shell.execute_reply.started": "2022-02-23T11:00:20.388009Z"
    },
    "tags": []
   },
   "outputs": [
    {
     "data": {
      "text/plain": [
       "255"
      ]
     },
     "execution_count": 52,
     "metadata": {},
     "output_type": "execute_result"
    }
   ],
   "source": [
    "d = a | b\n",
    "d"
   ]
  },
  {
   "cell_type": "code",
   "execution_count": 54,
   "id": "60947e4d-75d9-445f-aa43-46a054d86082",
   "metadata": {
    "execution": {
     "iopub.execute_input": "2022-02-23T11:00:38.521348Z",
     "iopub.status.busy": "2022-02-23T11:00:38.521171Z",
     "iopub.status.idle": "2022-02-23T11:00:38.524667Z",
     "shell.execute_reply": "2022-02-23T11:00:38.524221Z",
     "shell.execute_reply.started": "2022-02-23T11:00:38.521332Z"
    }
   },
   "outputs": [
    {
     "data": {
      "text/plain": [
       "234"
      ]
     },
     "execution_count": 54,
     "metadata": {},
     "output_type": "execute_result"
    }
   ],
   "source": [
    "e = a ^ b\n",
    "e"
   ]
  },
  {
   "cell_type": "markdown",
   "id": "18a99ac6-af5b-4505-a461-123ee4cb8c2d",
   "metadata": {},
   "source": [
    "Not straightforward to understand. Let's have a look at the bit representations for these two values and the operations. Things will become much clearer then. We can use a special format string to retrieve the bit representation."
   ]
  },
  {
   "cell_type": "code",
   "execution_count": 53,
   "id": "6e6c9f9d-4c30-4da7-a728-08a5beb09199",
   "metadata": {
    "execution": {
     "iopub.execute_input": "2022-02-23T11:00:21.286835Z",
     "iopub.status.busy": "2022-02-23T11:00:21.286652Z",
     "iopub.status.idle": "2022-02-23T11:00:21.289761Z",
     "shell.execute_reply": "2022-02-23T11:00:21.289197Z",
     "shell.execute_reply.started": "2022-02-23T11:00:21.286821Z"
    },
    "tags": []
   },
   "outputs": [
    {
     "name": "stdout",
     "output_type": "stream",
     "text": [
      "a=11111111\n",
      "b=00010101\n",
      "c=00010101\n"
     ]
    }
   ],
   "source": [
    "print(f\"{a=:08b}\")\n",
    "print(f\"{b=:08b}\")\n",
    "print(f\"{c=:08b}\")"
   ]
  },
  {
   "cell_type": "markdown",
   "id": "19cb3590-9375-4bae-8491-f4f14845a909",
   "metadata": {},
   "source": [
    "Based on our boolean tables above for the *and* operation, we can now understand, what's going on. Each bit in `c` becomes a *1* if both corresponding bit positions in `a` and `b` are *1*, else the result for this bit is zero. The corresponding value of this bit representation is *21*."
   ]
  },
  {
   "cell_type": "code",
   "execution_count": 57,
   "id": "e9903791-3551-4850-ba52-3b10aa5b7e2e",
   "metadata": {
    "execution": {
     "iopub.execute_input": "2022-02-23T11:01:11.033193Z",
     "iopub.status.busy": "2022-02-23T11:01:11.033022Z",
     "iopub.status.idle": "2022-02-23T11:01:11.036645Z",
     "shell.execute_reply": "2022-02-23T11:01:11.036066Z",
     "shell.execute_reply.started": "2022-02-23T11:01:11.033177Z"
    }
   },
   "outputs": [
    {
     "name": "stdout",
     "output_type": "stream",
     "text": [
      "a=11111111\n",
      "b=00010101\n",
      "d=11111111\n"
     ]
    }
   ],
   "source": [
    "print(f\"{a=:08b}\")\n",
    "print(f\"{b=:08b}\")\n",
    "print(f\"{d=:08b}\")"
   ]
  },
  {
   "cell_type": "markdown",
   "id": "09cf8944-fc33-4d36-bcd4-f33576a395c2",
   "metadata": {},
   "source": [
    "We can do the same for the bit-wise *or* operation. The resulting bit in `d` will be *1*, if either the corresponding bit in `a` or the one in `b` is *1*. Hence the result is *255*."
   ]
  },
  {
   "cell_type": "code",
   "execution_count": 58,
   "id": "b9f0b80b-1605-499f-86c5-8bd1556a7870",
   "metadata": {
    "execution": {
     "iopub.execute_input": "2022-02-23T11:01:15.892271Z",
     "iopub.status.busy": "2022-02-23T11:01:15.892052Z",
     "iopub.status.idle": "2022-02-23T11:01:15.894861Z",
     "shell.execute_reply": "2022-02-23T11:01:15.894373Z",
     "shell.execute_reply.started": "2022-02-23T11:01:15.892253Z"
    }
   },
   "outputs": [
    {
     "name": "stdout",
     "output_type": "stream",
     "text": [
      "a=11111111\n",
      "b=00010101\n",
      "e=11101010\n"
     ]
    }
   ],
   "source": [
    "print(f\"{a=:08b}\")\n",
    "print(f\"{b=:08b}\")\n",
    "print(f\"{e=:08b}\")"
   ]
  },
  {
   "cell_type": "markdown",
   "id": "74c081ed-fdb6-4988-ab73-0f8fdbd57387",
   "metadata": {},
   "source": [
    "The result for the last operation is *234* as the resulting bit in `e` will be *1* only if the values in `a` and `b` differ, else the bit will be set to *0*. That's the *exclusive or* operation. It just makes sense in an element wise comparison. Therfore no equivalent builtin function to be applied to single values, such as an *xor* completing the `and` and `or` functions, exists."
   ]
  },
  {
   "cell_type": "markdown",
   "id": "f29ce91e-124d-4397-994e-b56cdbab7ce8",
   "metadata": {},
   "source": [
    "Finally an interesting side note on booleans in Python. Although they look as completely self contained datatypes when quering their type, they're actually not. To clarify this let's perform some very simple checks."
   ]
  },
  {
   "cell_type": "code",
   "execution_count": 68,
   "id": "b8d062ee-b341-4197-85a0-dd59022b2b18",
   "metadata": {
    "execution": {
     "iopub.execute_input": "2022-02-23T17:02:12.499102Z",
     "iopub.status.busy": "2022-02-23T17:02:12.498940Z",
     "iopub.status.idle": "2022-02-23T17:02:12.501944Z",
     "shell.execute_reply": "2022-02-23T17:02:12.501491Z",
     "shell.execute_reply.started": "2022-02-23T17:02:12.499086Z"
    },
    "tags": []
   },
   "outputs": [
    {
     "data": {
      "text/plain": [
       "True"
      ]
     },
     "execution_count": 68,
     "metadata": {},
     "output_type": "execute_result"
    }
   ],
   "source": [
    "True == True"
   ]
  },
  {
   "cell_type": "code",
   "execution_count": 69,
   "id": "c925cbe4-4b3e-4942-b5b1-91bce324c29b",
   "metadata": {
    "execution": {
     "iopub.execute_input": "2022-02-23T17:02:16.336607Z",
     "iopub.status.busy": "2022-02-23T17:02:16.336442Z",
     "iopub.status.idle": "2022-02-23T17:02:16.339313Z",
     "shell.execute_reply": "2022-02-23T17:02:16.338850Z",
     "shell.execute_reply.started": "2022-02-23T17:02:16.336592Z"
    },
    "tags": []
   },
   "outputs": [
    {
     "data": {
      "text/plain": [
       "False"
      ]
     },
     "execution_count": 69,
     "metadata": {},
     "output_type": "execute_result"
    }
   ],
   "source": [
    "True == False"
   ]
  },
  {
   "cell_type": "code",
   "execution_count": 70,
   "id": "49e6c059-04a7-4cad-a02f-736e61612969",
   "metadata": {
    "execution": {
     "iopub.execute_input": "2022-02-23T17:02:19.396419Z",
     "iopub.status.busy": "2022-02-23T17:02:19.396256Z",
     "iopub.status.idle": "2022-02-23T17:02:19.398944Z",
     "shell.execute_reply": "2022-02-23T17:02:19.398598Z",
     "shell.execute_reply.started": "2022-02-23T17:02:19.396403Z"
    },
    "tags": []
   },
   "outputs": [
    {
     "data": {
      "text/plain": [
       "False"
      ]
     },
     "execution_count": 70,
     "metadata": {},
     "output_type": "execute_result"
    }
   ],
   "source": [
    "False == True"
   ]
  },
  {
   "cell_type": "code",
   "execution_count": 71,
   "id": "e33bd648-4f9f-4704-bbe0-508d64c1c61c",
   "metadata": {
    "execution": {
     "iopub.execute_input": "2022-02-23T17:02:23.705034Z",
     "iopub.status.busy": "2022-02-23T17:02:23.704865Z",
     "iopub.status.idle": "2022-02-23T17:02:23.708376Z",
     "shell.execute_reply": "2022-02-23T17:02:23.707896Z",
     "shell.execute_reply.started": "2022-02-23T17:02:23.705018Z"
    },
    "tags": []
   },
   "outputs": [
    {
     "data": {
      "text/plain": [
       "True"
      ]
     },
     "execution_count": 71,
     "metadata": {},
     "output_type": "execute_result"
    }
   ],
   "source": [
    "False == False"
   ]
  },
  {
   "cell_type": "markdown",
   "id": "835d2611-6737-47c1-9a3c-164e86818de9",
   "metadata": {},
   "source": [
    "Okay. The outcome is exactly as expected here. But let's play some more."
   ]
  },
  {
   "cell_type": "code",
   "execution_count": 72,
   "id": "63c8f955-797d-4314-8067-3ad60298acd5",
   "metadata": {
    "execution": {
     "iopub.execute_input": "2022-02-23T17:02:29.724444Z",
     "iopub.status.busy": "2022-02-23T17:02:29.724253Z",
     "iopub.status.idle": "2022-02-23T17:02:29.727716Z",
     "shell.execute_reply": "2022-02-23T17:02:29.727225Z",
     "shell.execute_reply.started": "2022-02-23T17:02:29.724404Z"
    },
    "tags": []
   },
   "outputs": [
    {
     "data": {
      "text/plain": [
       "True"
      ]
     },
     "execution_count": 72,
     "metadata": {},
     "output_type": "execute_result"
    }
   ],
   "source": [
    "True == 1"
   ]
  },
  {
   "cell_type": "markdown",
   "id": "5bce8a35-5b18-4bc3-8919-847790e046bd",
   "metadata": {},
   "source": [
    "Wait. What? `True` being a boolean has the same value as the integer number? What about False. If this matches, then the following might work as well."
   ]
  },
  {
   "cell_type": "code",
   "execution_count": 73,
   "id": "365f0fe5-8364-4766-805d-8a01145b1d7e",
   "metadata": {
    "execution": {
     "iopub.execute_input": "2022-02-23T17:19:10.515062Z",
     "iopub.status.busy": "2022-02-23T17:19:10.514900Z",
     "iopub.status.idle": "2022-02-23T17:19:10.518085Z",
     "shell.execute_reply": "2022-02-23T17:19:10.517608Z",
     "shell.execute_reply.started": "2022-02-23T17:19:10.515046Z"
    }
   },
   "outputs": [
    {
     "data": {
      "text/plain": [
       "True"
      ]
     },
     "execution_count": 73,
     "metadata": {},
     "output_type": "execute_result"
    }
   ],
   "source": [
    "False == 0"
   ]
  },
  {
   "cell_type": "markdown",
   "id": "7d9e58ec-dbb9-401e-ba68-f7f8fd31ff6a",
   "metadata": {},
   "source": [
    "Okay. So you can perfectly use `1` and `0` instead of `True` and `False` within your code. Actually you might find this in some source code around the internet. This is bad practise though!\n",
    "Always use `True` and `False` to be explicit as possible.\n",
    "Most often the usage of `1` and `0` originates from bad quality attempts to port algorithms from other programming languages such as *C* to Python"
   ]
  },
  {
   "cell_type": "markdown",
   "id": "a3a69c5f-5068-4f15-be67-91f94e0e3cc7",
   "metadata": {},
   "source": [
    "But it gets even weirder. If `True` equals to `1` and `False` to `0`. May I even calculate with these booleans?"
   ]
  },
  {
   "cell_type": "code",
   "execution_count": 74,
   "id": "11896bd0-bdc0-41eb-b097-c3fc3f1427eb",
   "metadata": {
    "execution": {
     "iopub.execute_input": "2022-02-23T17:23:49.456633Z",
     "iopub.status.busy": "2022-02-23T17:23:49.456404Z",
     "iopub.status.idle": "2022-02-23T17:23:49.460364Z",
     "shell.execute_reply": "2022-02-23T17:23:49.459766Z",
     "shell.execute_reply.started": "2022-02-23T17:23:49.456603Z"
    }
   },
   "outputs": [
    {
     "data": {
      "text/plain": [
       "2"
      ]
     },
     "execution_count": 74,
     "metadata": {},
     "output_type": "execute_result"
    }
   ],
   "source": [
    "True + True"
   ]
  },
  {
   "cell_type": "code",
   "execution_count": 75,
   "id": "a9bbd577-ca29-444a-968c-19937787d7d9",
   "metadata": {
    "execution": {
     "iopub.execute_input": "2022-02-23T17:23:55.561875Z",
     "iopub.status.busy": "2022-02-23T17:23:55.561709Z",
     "iopub.status.idle": "2022-02-23T17:23:55.565378Z",
     "shell.execute_reply": "2022-02-23T17:23:55.564864Z",
     "shell.execute_reply.started": "2022-02-23T17:23:55.561859Z"
    }
   },
   "outputs": [
    {
     "data": {
      "text/plain": [
       "-2"
      ]
     },
     "execution_count": 75,
     "metadata": {},
     "output_type": "execute_result"
    }
   ],
   "source": [
    "-2 * True"
   ]
  },
  {
   "cell_type": "markdown",
   "id": "e78c2bc3-f06a-4886-88a2-84a71950441b",
   "metadata": {},
   "source": [
    "Looks as though that is the case. Some more consequent weirdness?"
   ]
  },
  {
   "cell_type": "code",
   "execution_count": 77,
   "id": "ff8f4fe1-7632-4662-8115-8d7d305af74f",
   "metadata": {
    "execution": {
     "iopub.execute_input": "2022-02-23T17:24:56.382971Z",
     "iopub.status.busy": "2022-02-23T17:24:56.382653Z",
     "iopub.status.idle": "2022-02-23T17:24:56.386675Z",
     "shell.execute_reply": "2022-02-23T17:24:56.386161Z",
     "shell.execute_reply.started": "2022-02-23T17:24:56.382954Z"
    },
    "tags": []
   },
   "outputs": [
    {
     "data": {
      "text/plain": [
       "-4"
      ]
     },
     "execution_count": 77,
     "metadata": {},
     "output_type": "execute_result"
    }
   ],
   "source": [
    "-5 * (1 < 2) + (1 < 3)"
   ]
  },
  {
   "cell_type": "markdown",
   "id": "3cd202d9-36f7-49ef-959e-5e41d62c1118",
   "metadata": {},
   "source": [
    "So much fun!"
   ]
  },
  {
   "cell_type": "code",
   "execution_count": null,
   "id": "572dc049-af2d-45e1-9d90-15949a037f11",
   "metadata": {},
   "outputs": [],
   "source": []
  }
 ],
 "metadata": {
  "kernelspec": {
   "display_name": "Python 3 (ipykernel)",
   "language": "python",
   "name": "python3"
  },
  "language_info": {
   "codemirror_mode": {
    "name": "ipython",
    "version": 3
   },
   "file_extension": ".py",
   "mimetype": "text/x-python",
   "name": "python",
   "nbconvert_exporter": "python",
   "pygments_lexer": "ipython3",
   "version": "3.10.2"
  }
 },
 "nbformat": 4,
 "nbformat_minor": 5
}
