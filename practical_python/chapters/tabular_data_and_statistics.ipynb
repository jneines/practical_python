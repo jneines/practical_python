{
 "cells": [
  {
   "cell_type": "markdown",
   "id": "7a93ee77-dd84-4db7-8e4a-8b96cda89e41",
   "metadata": {
    "execution": {
     "iopub.execute_input": "2022-02-22T21:27:08.422837Z",
     "iopub.status.busy": "2022-02-22T21:27:08.422608Z",
     "iopub.status.idle": "2022-02-22T21:27:08.425629Z",
     "shell.execute_reply": "2022-02-22T21:27:08.425243Z",
     "shell.execute_reply.started": "2022-02-22T21:27:08.422793Z"
    }
   },
   "source": [
    "# Tabular data and statistics "
   ]
  },
  {
   "cell_type": "markdown",
   "id": "8224bc28-5f63-479b-a3cf-2850b66fe210",
   "metadata": {},
   "source": [
    "A typical pattern in the development of Pythons eco system is to recognize something very efficient and practical somewhere else and find ways to integrate or resemble that functionality to make it usable in the Python world.\n",
    "We've seen this for *numpy* and *Matplotlib* for example.\n",
    "Another success story here is the development of a library called *pandas*.\n",
    "This time it was someone from the world of statistics that saw the nice and modern features of the Python language, but the lack of statistical functions and procedures that were available in specialized languages such as *R*.\n",
    "Another key concept in *R* is the data model used throughout, the data frame.\n",
    "In statistics most data used can be organized and presented in tabular form, pretty comparable to an *Excel* sheet or a database table.\n",
    "A lot of core functionality is available for these object orientated data frames already as methods such as finding extreme values, averages, percentiles and so on. \n",
    "If one would want to do the same thing in Python, it would definitely be a good idea to implement this special data model first. A young statistician from the US, Wes McKinney one day did. The result is nowadays one of the most important contributions to modern Data Science, the `pandas` library. This library, together with `numpy` and `matplotlib`, the *Jupyter Notebook* and machine learning solutions such as `pytorch` and *scikit learn* are the reasons almost everyone doing Data Science is using Python for this these days."
   ]
  },
  {
   "cell_type": "markdown",
   "id": "91e71e3b-6d1e-4c00-b2c2-b719e1a03c25",
   "metadata": {},
   "source": [
    "```{figure} images/wes_mckinney.png\n",
    "---\n",
    "alt: wes_mckinney\n",
    "width: 400px\n",
    "align: center\n",
    "name: wes_mckinney\n",
    "---\n",
    "Wes McKinney (Courtesy unknown)\n",
    "```"
   ]
  },
  {
   "cell_type": "markdown",
   "id": "7bf004b4-554f-46dd-bd05-4fd61aa34e62",
   "metadata": {},
   "source": [
    "Let's play around with this a bit. It all starts with importing the library. In most cases you'll find the following pattern to do so."
   ]
  },
  {
   "cell_type": "code",
   "execution_count": 16,
   "id": "53e86f4a-cb5b-459a-9b17-62c64ee12be4",
   "metadata": {
    "execution": {
     "iopub.execute_input": "2022-03-24T15:01:32.419729Z",
     "iopub.status.busy": "2022-03-24T15:01:32.419540Z",
     "iopub.status.idle": "2022-03-24T15:01:32.422120Z",
     "shell.execute_reply": "2022-03-24T15:01:32.421704Z",
     "shell.execute_reply.started": "2022-03-24T15:01:32.419697Z"
    },
    "tags": []
   },
   "outputs": [],
   "source": [
    "import pandas as pd"
   ]
  },
  {
   "cell_type": "markdown",
   "id": "1f511c73-f494-4161-8370-62c315212550",
   "metadata": {},
   "source": [
    "*DataFrames* can of course be constructed from being empty onwards.\n",
    "The more usual way though is to migrate an existing data model into a dataframe.\n",
    "Most often you'll find one of the following two approaches. In the first case a dictionary is the base having one key-value pair per column, where the dicts value holds all items for the complete column."
   ]
  },
  {
   "cell_type": "code",
   "execution_count": 53,
   "id": "123d6643-7dbd-4961-8c65-3619e5d31309",
   "metadata": {
    "execution": {
     "iopub.execute_input": "2022-03-25T11:50:56.104546Z",
     "iopub.status.busy": "2022-03-25T11:50:56.104368Z",
     "iopub.status.idle": "2022-03-25T11:50:56.107634Z",
     "shell.execute_reply": "2022-03-25T11:50:56.107192Z",
     "shell.execute_reply.started": "2022-03-25T11:50:56.104529Z"
    },
    "tags": []
   },
   "outputs": [],
   "source": [
    "data = {\n",
    "    \"angle\": [-90, -75, -60, -45, -30, -15, 0, 15, 30, 45, 60, 75, 90],\n",
    "    \"value1\": [.13, .15, .18, .19, .21, .23, .25, .25, .24, .23, .20, .16, .12],\n",
    "    \"value2\": [.12, .16, .20, .23, .24, .25, .26, .23, .21, .18, .18, .15, .12],\n",
    "}"
   ]
  },
  {
   "cell_type": "code",
   "execution_count": 54,
   "id": "baed4649-0863-40b7-a09b-5d11a82ea991",
   "metadata": {
    "execution": {
     "iopub.execute_input": "2022-03-25T11:50:56.978163Z",
     "iopub.status.busy": "2022-03-25T11:50:56.977926Z",
     "iopub.status.idle": "2022-03-25T11:50:56.984564Z",
     "shell.execute_reply": "2022-03-25T11:50:56.984087Z",
     "shell.execute_reply.started": "2022-03-25T11:50:56.978146Z"
    },
    "tags": []
   },
   "outputs": [
    {
     "data": {
      "text/html": [
       "<div>\n",
       "<style scoped>\n",
       "    .dataframe tbody tr th:only-of-type {\n",
       "        vertical-align: middle;\n",
       "    }\n",
       "\n",
       "    .dataframe tbody tr th {\n",
       "        vertical-align: top;\n",
       "    }\n",
       "\n",
       "    .dataframe thead th {\n",
       "        text-align: right;\n",
       "    }\n",
       "</style>\n",
       "<table border=\"1\" class=\"dataframe\">\n",
       "  <thead>\n",
       "    <tr style=\"text-align: right;\">\n",
       "      <th></th>\n",
       "      <th>angle</th>\n",
       "      <th>value1</th>\n",
       "      <th>value2</th>\n",
       "    </tr>\n",
       "  </thead>\n",
       "  <tbody>\n",
       "    <tr>\n",
       "      <th>0</th>\n",
       "      <td>-90</td>\n",
       "      <td>0.13</td>\n",
       "      <td>0.12</td>\n",
       "    </tr>\n",
       "    <tr>\n",
       "      <th>1</th>\n",
       "      <td>-75</td>\n",
       "      <td>0.15</td>\n",
       "      <td>0.16</td>\n",
       "    </tr>\n",
       "    <tr>\n",
       "      <th>2</th>\n",
       "      <td>-60</td>\n",
       "      <td>0.18</td>\n",
       "      <td>0.20</td>\n",
       "    </tr>\n",
       "    <tr>\n",
       "      <th>3</th>\n",
       "      <td>-45</td>\n",
       "      <td>0.19</td>\n",
       "      <td>0.23</td>\n",
       "    </tr>\n",
       "    <tr>\n",
       "      <th>4</th>\n",
       "      <td>-30</td>\n",
       "      <td>0.21</td>\n",
       "      <td>0.24</td>\n",
       "    </tr>\n",
       "    <tr>\n",
       "      <th>5</th>\n",
       "      <td>-15</td>\n",
       "      <td>0.23</td>\n",
       "      <td>0.25</td>\n",
       "    </tr>\n",
       "    <tr>\n",
       "      <th>6</th>\n",
       "      <td>0</td>\n",
       "      <td>0.25</td>\n",
       "      <td>0.26</td>\n",
       "    </tr>\n",
       "    <tr>\n",
       "      <th>7</th>\n",
       "      <td>15</td>\n",
       "      <td>0.25</td>\n",
       "      <td>0.23</td>\n",
       "    </tr>\n",
       "    <tr>\n",
       "      <th>8</th>\n",
       "      <td>30</td>\n",
       "      <td>0.24</td>\n",
       "      <td>0.21</td>\n",
       "    </tr>\n",
       "    <tr>\n",
       "      <th>9</th>\n",
       "      <td>45</td>\n",
       "      <td>0.23</td>\n",
       "      <td>0.18</td>\n",
       "    </tr>\n",
       "    <tr>\n",
       "      <th>10</th>\n",
       "      <td>60</td>\n",
       "      <td>0.20</td>\n",
       "      <td>0.18</td>\n",
       "    </tr>\n",
       "    <tr>\n",
       "      <th>11</th>\n",
       "      <td>75</td>\n",
       "      <td>0.16</td>\n",
       "      <td>0.15</td>\n",
       "    </tr>\n",
       "    <tr>\n",
       "      <th>12</th>\n",
       "      <td>90</td>\n",
       "      <td>0.12</td>\n",
       "      <td>0.12</td>\n",
       "    </tr>\n",
       "  </tbody>\n",
       "</table>\n",
       "</div>"
      ],
      "text/plain": [
       "    angle  value1  value2\n",
       "0     -90    0.13    0.12\n",
       "1     -75    0.15    0.16\n",
       "2     -60    0.18    0.20\n",
       "3     -45    0.19    0.23\n",
       "4     -30    0.21    0.24\n",
       "5     -15    0.23    0.25\n",
       "6       0    0.25    0.26\n",
       "7      15    0.25    0.23\n",
       "8      30    0.24    0.21\n",
       "9      45    0.23    0.18\n",
       "10     60    0.20    0.18\n",
       "11     75    0.16    0.15\n",
       "12     90    0.12    0.12"
      ]
     },
     "execution_count": 54,
     "metadata": {},
     "output_type": "execute_result"
    }
   ],
   "source": [
    "df = pd.DataFrame(data)\n",
    "df"
   ]
  },
  {
   "cell_type": "markdown",
   "id": "31c8037a-8573-43b3-8c9d-8c2073fedc17",
   "metadata": {},
   "source": [
    "The other example shows the same values, but organized in a different fashion.\n",
    "Here we have a list of records, where each record is a dict having three key-value pairs.\n",
    "The keys will be used to create the columns for the *DataFrame*."
   ]
  },
  {
   "cell_type": "code",
   "execution_count": 55,
   "id": "d4cabe9e-f502-4106-be01-22cd77be4b38",
   "metadata": {
    "execution": {
     "iopub.execute_input": "2022-03-25T11:52:13.674778Z",
     "iopub.status.busy": "2022-03-25T11:52:13.674558Z",
     "iopub.status.idle": "2022-03-25T11:52:13.679964Z",
     "shell.execute_reply": "2022-03-25T11:52:13.679422Z",
     "shell.execute_reply.started": "2022-03-25T11:52:13.674748Z"
    },
    "tags": []
   },
   "outputs": [],
   "source": [
    "data = []\n",
    "data.append({\"angle\": -90, \"value1\": .13, \"value2\": .12})\n",
    "data.append({\"angle\": -75, \"value1\": .15, \"value2\": .16})\n",
    "data.append({\"angle\": -60, \"value1\": .18, \"value2\": .20})\n",
    "data.append({\"angle\": -45, \"value1\": .19, \"value2\": .23})\n",
    "data.append({\"angle\": -30, \"value1\": .21, \"value2\": .24})\n",
    "data.append({\"angle\": -15, \"value1\": .23, \"value2\": .25})\n",
    "data.append({\"angle\": 0, \"value1\": .25, \"value2\": .26})\n",
    "data.append({\"angle\": 15, \"value1\": .25, \"value2\": .23})\n",
    "data.append({\"angle\": 30, \"value1\": .24, \"value2\": .21})\n",
    "data.append({\"angle\": 45, \"value1\": .23, \"value2\": .18})\n",
    "data.append({\"angle\": 60, \"value1\": .20, \"value2\": .18})\n",
    "data.append({\"angle\": 75, \"value1\": .16, \"value2\": .15})\n",
    "data.append({\"angle\": 90, \"value1\": .12, \"value2\": .12})"
   ]
  },
  {
   "cell_type": "code",
   "execution_count": 56,
   "id": "3d008d82-642b-4d19-80c2-efe76be5f8c3",
   "metadata": {
    "execution": {
     "iopub.execute_input": "2022-03-25T11:52:13.983873Z",
     "iopub.status.busy": "2022-03-25T11:52:13.983254Z",
     "iopub.status.idle": "2022-03-25T11:52:13.990565Z",
     "shell.execute_reply": "2022-03-25T11:52:13.990069Z",
     "shell.execute_reply.started": "2022-03-25T11:52:13.983857Z"
    },
    "tags": []
   },
   "outputs": [
    {
     "data": {
      "text/html": [
       "<div>\n",
       "<style scoped>\n",
       "    .dataframe tbody tr th:only-of-type {\n",
       "        vertical-align: middle;\n",
       "    }\n",
       "\n",
       "    .dataframe tbody tr th {\n",
       "        vertical-align: top;\n",
       "    }\n",
       "\n",
       "    .dataframe thead th {\n",
       "        text-align: right;\n",
       "    }\n",
       "</style>\n",
       "<table border=\"1\" class=\"dataframe\">\n",
       "  <thead>\n",
       "    <tr style=\"text-align: right;\">\n",
       "      <th></th>\n",
       "      <th>angle</th>\n",
       "      <th>value1</th>\n",
       "      <th>value2</th>\n",
       "    </tr>\n",
       "  </thead>\n",
       "  <tbody>\n",
       "    <tr>\n",
       "      <th>0</th>\n",
       "      <td>-90</td>\n",
       "      <td>0.13</td>\n",
       "      <td>0.12</td>\n",
       "    </tr>\n",
       "    <tr>\n",
       "      <th>1</th>\n",
       "      <td>-75</td>\n",
       "      <td>0.15</td>\n",
       "      <td>0.16</td>\n",
       "    </tr>\n",
       "    <tr>\n",
       "      <th>2</th>\n",
       "      <td>-60</td>\n",
       "      <td>0.18</td>\n",
       "      <td>0.20</td>\n",
       "    </tr>\n",
       "    <tr>\n",
       "      <th>3</th>\n",
       "      <td>-45</td>\n",
       "      <td>0.19</td>\n",
       "      <td>0.23</td>\n",
       "    </tr>\n",
       "    <tr>\n",
       "      <th>4</th>\n",
       "      <td>-30</td>\n",
       "      <td>0.21</td>\n",
       "      <td>0.24</td>\n",
       "    </tr>\n",
       "    <tr>\n",
       "      <th>5</th>\n",
       "      <td>-15</td>\n",
       "      <td>0.23</td>\n",
       "      <td>0.25</td>\n",
       "    </tr>\n",
       "    <tr>\n",
       "      <th>6</th>\n",
       "      <td>0</td>\n",
       "      <td>0.25</td>\n",
       "      <td>0.26</td>\n",
       "    </tr>\n",
       "    <tr>\n",
       "      <th>7</th>\n",
       "      <td>15</td>\n",
       "      <td>0.25</td>\n",
       "      <td>0.23</td>\n",
       "    </tr>\n",
       "    <tr>\n",
       "      <th>8</th>\n",
       "      <td>30</td>\n",
       "      <td>0.24</td>\n",
       "      <td>0.21</td>\n",
       "    </tr>\n",
       "    <tr>\n",
       "      <th>9</th>\n",
       "      <td>45</td>\n",
       "      <td>0.23</td>\n",
       "      <td>0.18</td>\n",
       "    </tr>\n",
       "    <tr>\n",
       "      <th>10</th>\n",
       "      <td>60</td>\n",
       "      <td>0.20</td>\n",
       "      <td>0.18</td>\n",
       "    </tr>\n",
       "    <tr>\n",
       "      <th>11</th>\n",
       "      <td>75</td>\n",
       "      <td>0.16</td>\n",
       "      <td>0.15</td>\n",
       "    </tr>\n",
       "    <tr>\n",
       "      <th>12</th>\n",
       "      <td>90</td>\n",
       "      <td>0.12</td>\n",
       "      <td>0.12</td>\n",
       "    </tr>\n",
       "  </tbody>\n",
       "</table>\n",
       "</div>"
      ],
      "text/plain": [
       "    angle  value1  value2\n",
       "0     -90    0.13    0.12\n",
       "1     -75    0.15    0.16\n",
       "2     -60    0.18    0.20\n",
       "3     -45    0.19    0.23\n",
       "4     -30    0.21    0.24\n",
       "5     -15    0.23    0.25\n",
       "6       0    0.25    0.26\n",
       "7      15    0.25    0.23\n",
       "8      30    0.24    0.21\n",
       "9      45    0.23    0.18\n",
       "10     60    0.20    0.18\n",
       "11     75    0.16    0.15\n",
       "12     90    0.12    0.12"
      ]
     },
     "execution_count": 56,
     "metadata": {},
     "output_type": "execute_result"
    }
   ],
   "source": [
    "df = pd.DataFrame(data)\n",
    "df"
   ]
  },
  {
   "cell_type": "markdown",
   "id": "511709f7-45f3-4545-b178-5462c384f029",
   "metadata": {},
   "source": [
    "## Some simple statistics"
   ]
  },
  {
   "cell_type": "markdown",
   "id": "3f728797-c64c-4477-8e38-e72622d945c0",
   "metadata": {},
   "source": [
    "Both approaches will create the very same *DataFrame* here, as you can see from its output. The *DataFrame* has three columns though, even though only two have been specified.\n",
    "The first column holds the *DataFrames* index, which can be used to address the elements in a *DataFrame*. This is very similar to working with data in *Excel* or databases for example, where you can use the index and the columns names to access values in the table.\n",
    "Before we do that however, lets have a quick overview on the values this *DataFrame* contains. The `describe` method is a perfect way to get first insights on the values showing you the count of items in each column, the mean value for the column, the minimum and maximum value found in each column, as well as the 25, 50 and 75 percentiles."
   ]
  },
  {
   "cell_type": "code",
   "execution_count": 57,
   "id": "f526cd3b-5a07-4b06-aed6-81ff04ac5b7c",
   "metadata": {
    "execution": {
     "iopub.execute_input": "2022-03-25T11:52:16.593320Z",
     "iopub.status.busy": "2022-03-25T11:52:16.593143Z",
     "iopub.status.idle": "2022-03-25T11:52:16.603037Z",
     "shell.execute_reply": "2022-03-25T11:52:16.602516Z",
     "shell.execute_reply.started": "2022-03-25T11:52:16.593303Z"
    },
    "tags": []
   },
   "outputs": [
    {
     "data": {
      "text/html": [
       "<div>\n",
       "<style scoped>\n",
       "    .dataframe tbody tr th:only-of-type {\n",
       "        vertical-align: middle;\n",
       "    }\n",
       "\n",
       "    .dataframe tbody tr th {\n",
       "        vertical-align: top;\n",
       "    }\n",
       "\n",
       "    .dataframe thead th {\n",
       "        text-align: right;\n",
       "    }\n",
       "</style>\n",
       "<table border=\"1\" class=\"dataframe\">\n",
       "  <thead>\n",
       "    <tr style=\"text-align: right;\">\n",
       "      <th></th>\n",
       "      <th>angle</th>\n",
       "      <th>value1</th>\n",
       "      <th>value2</th>\n",
       "    </tr>\n",
       "  </thead>\n",
       "  <tbody>\n",
       "    <tr>\n",
       "      <th>count</th>\n",
       "      <td>13.000000</td>\n",
       "      <td>13.000000</td>\n",
       "      <td>13.000000</td>\n",
       "    </tr>\n",
       "    <tr>\n",
       "      <th>mean</th>\n",
       "      <td>0.000000</td>\n",
       "      <td>0.195385</td>\n",
       "      <td>0.194615</td>\n",
       "    </tr>\n",
       "    <tr>\n",
       "      <th>std</th>\n",
       "      <td>58.416607</td>\n",
       "      <td>0.044836</td>\n",
       "      <td>0.047367</td>\n",
       "    </tr>\n",
       "    <tr>\n",
       "      <th>min</th>\n",
       "      <td>-90.000000</td>\n",
       "      <td>0.120000</td>\n",
       "      <td>0.120000</td>\n",
       "    </tr>\n",
       "    <tr>\n",
       "      <th>25%</th>\n",
       "      <td>-45.000000</td>\n",
       "      <td>0.160000</td>\n",
       "      <td>0.160000</td>\n",
       "    </tr>\n",
       "    <tr>\n",
       "      <th>50%</th>\n",
       "      <td>0.000000</td>\n",
       "      <td>0.200000</td>\n",
       "      <td>0.200000</td>\n",
       "    </tr>\n",
       "    <tr>\n",
       "      <th>75%</th>\n",
       "      <td>45.000000</td>\n",
       "      <td>0.230000</td>\n",
       "      <td>0.230000</td>\n",
       "    </tr>\n",
       "    <tr>\n",
       "      <th>max</th>\n",
       "      <td>90.000000</td>\n",
       "      <td>0.250000</td>\n",
       "      <td>0.260000</td>\n",
       "    </tr>\n",
       "  </tbody>\n",
       "</table>\n",
       "</div>"
      ],
      "text/plain": [
       "           angle     value1     value2\n",
       "count  13.000000  13.000000  13.000000\n",
       "mean    0.000000   0.195385   0.194615\n",
       "std    58.416607   0.044836   0.047367\n",
       "min   -90.000000   0.120000   0.120000\n",
       "25%   -45.000000   0.160000   0.160000\n",
       "50%     0.000000   0.200000   0.200000\n",
       "75%    45.000000   0.230000   0.230000\n",
       "max    90.000000   0.250000   0.260000"
      ]
     },
     "execution_count": 57,
     "metadata": {},
     "output_type": "execute_result"
    }
   ],
   "source": [
    "df.describe()"
   ]
  },
  {
   "cell_type": "markdown",
   "id": "241093e0-cec6-49dd-bb46-31588acabb0f",
   "metadata": {},
   "source": [
    "You can also have a look at the starting rows of the *DataFrame* with the `head` method or the final ones using the `tail` method."
   ]
  },
  {
   "cell_type": "code",
   "execution_count": 70,
   "id": "c1dcb273-8d6c-4e6e-8099-cea45a8b6c11",
   "metadata": {
    "execution": {
     "iopub.execute_input": "2022-03-25T13:04:10.004847Z",
     "iopub.status.busy": "2022-03-25T13:04:10.004625Z",
     "iopub.status.idle": "2022-03-25T13:04:10.010706Z",
     "shell.execute_reply": "2022-03-25T13:04:10.010295Z",
     "shell.execute_reply.started": "2022-03-25T13:04:10.004817Z"
    },
    "tags": []
   },
   "outputs": [
    {
     "data": {
      "text/html": [
       "<div>\n",
       "<style scoped>\n",
       "    .dataframe tbody tr th:only-of-type {\n",
       "        vertical-align: middle;\n",
       "    }\n",
       "\n",
       "    .dataframe tbody tr th {\n",
       "        vertical-align: top;\n",
       "    }\n",
       "\n",
       "    .dataframe thead th {\n",
       "        text-align: right;\n",
       "    }\n",
       "</style>\n",
       "<table border=\"1\" class=\"dataframe\">\n",
       "  <thead>\n",
       "    <tr style=\"text-align: right;\">\n",
       "      <th></th>\n",
       "      <th>angle</th>\n",
       "      <th>value1</th>\n",
       "      <th>value2</th>\n",
       "    </tr>\n",
       "  </thead>\n",
       "  <tbody>\n",
       "    <tr>\n",
       "      <th>0</th>\n",
       "      <td>-90</td>\n",
       "      <td>0.13</td>\n",
       "      <td>0.12</td>\n",
       "    </tr>\n",
       "    <tr>\n",
       "      <th>1</th>\n",
       "      <td>-75</td>\n",
       "      <td>0.15</td>\n",
       "      <td>0.16</td>\n",
       "    </tr>\n",
       "    <tr>\n",
       "      <th>2</th>\n",
       "      <td>-60</td>\n",
       "      <td>0.18</td>\n",
       "      <td>0.20</td>\n",
       "    </tr>\n",
       "    <tr>\n",
       "      <th>3</th>\n",
       "      <td>-45</td>\n",
       "      <td>0.19</td>\n",
       "      <td>0.23</td>\n",
       "    </tr>\n",
       "    <tr>\n",
       "      <th>4</th>\n",
       "      <td>-30</td>\n",
       "      <td>0.21</td>\n",
       "      <td>0.24</td>\n",
       "    </tr>\n",
       "  </tbody>\n",
       "</table>\n",
       "</div>"
      ],
      "text/plain": [
       "   angle  value1  value2\n",
       "0    -90    0.13    0.12\n",
       "1    -75    0.15    0.16\n",
       "2    -60    0.18    0.20\n",
       "3    -45    0.19    0.23\n",
       "4    -30    0.21    0.24"
      ]
     },
     "execution_count": 70,
     "metadata": {},
     "output_type": "execute_result"
    }
   ],
   "source": [
    "df.head()"
   ]
  },
  {
   "cell_type": "code",
   "execution_count": 71,
   "id": "b24f05dc-17df-45f2-a58a-08e8534dfe49",
   "metadata": {
    "execution": {
     "iopub.execute_input": "2022-03-25T13:04:10.384650Z",
     "iopub.status.busy": "2022-03-25T13:04:10.384474Z",
     "iopub.status.idle": "2022-03-25T13:04:10.389872Z",
     "shell.execute_reply": "2022-03-25T13:04:10.389436Z",
     "shell.execute_reply.started": "2022-03-25T13:04:10.384633Z"
    },
    "tags": []
   },
   "outputs": [
    {
     "data": {
      "text/html": [
       "<div>\n",
       "<style scoped>\n",
       "    .dataframe tbody tr th:only-of-type {\n",
       "        vertical-align: middle;\n",
       "    }\n",
       "\n",
       "    .dataframe tbody tr th {\n",
       "        vertical-align: top;\n",
       "    }\n",
       "\n",
       "    .dataframe thead th {\n",
       "        text-align: right;\n",
       "    }\n",
       "</style>\n",
       "<table border=\"1\" class=\"dataframe\">\n",
       "  <thead>\n",
       "    <tr style=\"text-align: right;\">\n",
       "      <th></th>\n",
       "      <th>angle</th>\n",
       "      <th>value1</th>\n",
       "      <th>value2</th>\n",
       "    </tr>\n",
       "  </thead>\n",
       "  <tbody>\n",
       "    <tr>\n",
       "      <th>8</th>\n",
       "      <td>30</td>\n",
       "      <td>0.24</td>\n",
       "      <td>0.21</td>\n",
       "    </tr>\n",
       "    <tr>\n",
       "      <th>9</th>\n",
       "      <td>45</td>\n",
       "      <td>0.23</td>\n",
       "      <td>0.18</td>\n",
       "    </tr>\n",
       "    <tr>\n",
       "      <th>10</th>\n",
       "      <td>60</td>\n",
       "      <td>0.20</td>\n",
       "      <td>0.18</td>\n",
       "    </tr>\n",
       "    <tr>\n",
       "      <th>11</th>\n",
       "      <td>75</td>\n",
       "      <td>0.16</td>\n",
       "      <td>0.15</td>\n",
       "    </tr>\n",
       "    <tr>\n",
       "      <th>12</th>\n",
       "      <td>90</td>\n",
       "      <td>0.12</td>\n",
       "      <td>0.12</td>\n",
       "    </tr>\n",
       "  </tbody>\n",
       "</table>\n",
       "</div>"
      ],
      "text/plain": [
       "    angle  value1  value2\n",
       "8      30    0.24    0.21\n",
       "9      45    0.23    0.18\n",
       "10     60    0.20    0.18\n",
       "11     75    0.16    0.15\n",
       "12     90    0.12    0.12"
      ]
     },
     "execution_count": 71,
     "metadata": {},
     "output_type": "execute_result"
    }
   ],
   "source": [
    "df.tail()"
   ]
  },
  {
   "cell_type": "markdown",
   "id": "6c1701ae-3ec8-4acd-9380-429b9c5624fb",
   "metadata": {},
   "source": [
    "For very large *DataFrames* it can be useful to check a random sample of rows to get an overview. You can use the `sample` method for that. The number of rows to be sampled can be used as an optional parameter. The default for this is 1, so calling `sample` without arguments fetches you a randomly chosen single row from the *DataFrame*"
   ]
  },
  {
   "cell_type": "code",
   "execution_count": 60,
   "id": "01c49edf-3c37-49f7-bc90-3befea00375f",
   "metadata": {
    "execution": {
     "iopub.execute_input": "2022-03-25T11:52:21.105110Z",
     "iopub.status.busy": "2022-03-25T11:52:21.104935Z",
     "iopub.status.idle": "2022-03-25T11:52:21.110315Z",
     "shell.execute_reply": "2022-03-25T11:52:21.109899Z",
     "shell.execute_reply.started": "2022-03-25T11:52:21.105094Z"
    },
    "tags": []
   },
   "outputs": [
    {
     "data": {
      "text/html": [
       "<div>\n",
       "<style scoped>\n",
       "    .dataframe tbody tr th:only-of-type {\n",
       "        vertical-align: middle;\n",
       "    }\n",
       "\n",
       "    .dataframe tbody tr th {\n",
       "        vertical-align: top;\n",
       "    }\n",
       "\n",
       "    .dataframe thead th {\n",
       "        text-align: right;\n",
       "    }\n",
       "</style>\n",
       "<table border=\"1\" class=\"dataframe\">\n",
       "  <thead>\n",
       "    <tr style=\"text-align: right;\">\n",
       "      <th></th>\n",
       "      <th>angle</th>\n",
       "      <th>value1</th>\n",
       "      <th>value2</th>\n",
       "    </tr>\n",
       "  </thead>\n",
       "  <tbody>\n",
       "    <tr>\n",
       "      <th>3</th>\n",
       "      <td>-45</td>\n",
       "      <td>0.19</td>\n",
       "      <td>0.23</td>\n",
       "    </tr>\n",
       "  </tbody>\n",
       "</table>\n",
       "</div>"
      ],
      "text/plain": [
       "   angle  value1  value2\n",
       "3    -45    0.19    0.23"
      ]
     },
     "execution_count": 60,
     "metadata": {},
     "output_type": "execute_result"
    }
   ],
   "source": [
    "df.sample()"
   ]
  },
  {
   "cell_type": "markdown",
   "id": "e756c922-fae4-4b4e-baf5-d28404b42643",
   "metadata": {},
   "source": [
    "Let's fetch some more rows for a better impression."
   ]
  },
  {
   "cell_type": "code",
   "execution_count": 61,
   "id": "e46e2aa2-9dde-4b8a-b977-529d6151f0ed",
   "metadata": {
    "execution": {
     "iopub.execute_input": "2022-03-25T11:52:21.858889Z",
     "iopub.status.busy": "2022-03-25T11:52:21.858717Z",
     "iopub.status.idle": "2022-03-25T11:52:21.864581Z",
     "shell.execute_reply": "2022-03-25T11:52:21.864093Z",
     "shell.execute_reply.started": "2022-03-25T11:52:21.858872Z"
    },
    "tags": []
   },
   "outputs": [
    {
     "data": {
      "text/html": [
       "<div>\n",
       "<style scoped>\n",
       "    .dataframe tbody tr th:only-of-type {\n",
       "        vertical-align: middle;\n",
       "    }\n",
       "\n",
       "    .dataframe tbody tr th {\n",
       "        vertical-align: top;\n",
       "    }\n",
       "\n",
       "    .dataframe thead th {\n",
       "        text-align: right;\n",
       "    }\n",
       "</style>\n",
       "<table border=\"1\" class=\"dataframe\">\n",
       "  <thead>\n",
       "    <tr style=\"text-align: right;\">\n",
       "      <th></th>\n",
       "      <th>angle</th>\n",
       "      <th>value1</th>\n",
       "      <th>value2</th>\n",
       "    </tr>\n",
       "  </thead>\n",
       "  <tbody>\n",
       "    <tr>\n",
       "      <th>12</th>\n",
       "      <td>90</td>\n",
       "      <td>0.12</td>\n",
       "      <td>0.12</td>\n",
       "    </tr>\n",
       "    <tr>\n",
       "      <th>1</th>\n",
       "      <td>-75</td>\n",
       "      <td>0.15</td>\n",
       "      <td>0.16</td>\n",
       "    </tr>\n",
       "    <tr>\n",
       "      <th>5</th>\n",
       "      <td>-15</td>\n",
       "      <td>0.23</td>\n",
       "      <td>0.25</td>\n",
       "    </tr>\n",
       "    <tr>\n",
       "      <th>10</th>\n",
       "      <td>60</td>\n",
       "      <td>0.20</td>\n",
       "      <td>0.18</td>\n",
       "    </tr>\n",
       "    <tr>\n",
       "      <th>2</th>\n",
       "      <td>-60</td>\n",
       "      <td>0.18</td>\n",
       "      <td>0.20</td>\n",
       "    </tr>\n",
       "  </tbody>\n",
       "</table>\n",
       "</div>"
      ],
      "text/plain": [
       "    angle  value1  value2\n",
       "12     90    0.12    0.12\n",
       "1     -75    0.15    0.16\n",
       "5     -15    0.23    0.25\n",
       "10     60    0.20    0.18\n",
       "2     -60    0.18    0.20"
      ]
     },
     "execution_count": 61,
     "metadata": {},
     "output_type": "execute_result"
    }
   ],
   "source": [
    "df.sample(5)"
   ]
  },
  {
   "cell_type": "markdown",
   "id": "0ff579fd-31b4-4a83-8537-3f398e6807a7",
   "metadata": {},
   "source": [
    "## Indexing"
   ]
  },
  {
   "cell_type": "markdown",
   "id": "8bc40142-d015-44fc-ab27-17f007637ac8",
   "metadata": {},
   "source": [
    "As mentioned before items in a *DataFrame* can be accessed using the columns names and the index.\n",
    "There are several ways to do so. All being implemented as pythonic as possible. So we would expect some sort of square brackets to be used here. And just that is the case.\n",
    "You can fetch the complete column with items for \"value1\" for example like the following."
   ]
  },
  {
   "cell_type": "code",
   "execution_count": 72,
   "id": "0eef4718-1163-451c-b1ee-63464bef18b4",
   "metadata": {
    "execution": {
     "iopub.execute_input": "2022-03-25T13:06:20.194780Z",
     "iopub.status.busy": "2022-03-25T13:06:20.194574Z",
     "iopub.status.idle": "2022-03-25T13:06:20.199368Z",
     "shell.execute_reply": "2022-03-25T13:06:20.198673Z",
     "shell.execute_reply.started": "2022-03-25T13:06:20.194764Z"
    },
    "tags": []
   },
   "outputs": [
    {
     "data": {
      "text/plain": [
       "0     0.13\n",
       "1     0.15\n",
       "2     0.18\n",
       "3     0.19\n",
       "4     0.21\n",
       "5     0.23\n",
       "6     0.25\n",
       "7     0.25\n",
       "8     0.24\n",
       "9     0.23\n",
       "10    0.20\n",
       "11    0.16\n",
       "12    0.12\n",
       "Name: value1, dtype: float64"
      ]
     },
     "execution_count": 72,
     "metadata": {},
     "output_type": "execute_result"
    }
   ],
   "source": [
    "values = df[\"value1\"]\n",
    "values"
   ]
  },
  {
   "cell_type": "markdown",
   "id": "b07d51ee-aa64-45e0-a2f1-bc42535e9094",
   "metadata": {},
   "source": [
    "The result however is not a simple iterable, such as a list of values, but of type `Series`. Actually the `DataFrame` is a collection of elements of type `Series`.\n",
    "In addition to the raw values there is still the index, the `dtype` and the name of the dataset in the `DataFrame`.\n",
    "We can fetch single elements from the `Series` as we would expect."
   ]
  },
  {
   "cell_type": "code",
   "execution_count": 73,
   "id": "e693b042-0f92-4f7e-abdd-be8ba89db4ce",
   "metadata": {
    "execution": {
     "iopub.execute_input": "2022-03-25T13:07:30.181167Z",
     "iopub.status.busy": "2022-03-25T13:07:30.180943Z",
     "iopub.status.idle": "2022-03-25T13:07:30.185027Z",
     "shell.execute_reply": "2022-03-25T13:07:30.184542Z",
     "shell.execute_reply.started": "2022-03-25T13:07:30.181136Z"
    },
    "tags": []
   },
   "outputs": [
    {
     "data": {
      "text/plain": [
       "0.18"
      ]
     },
     "execution_count": 73,
     "metadata": {},
     "output_type": "execute_result"
    }
   ],
   "source": [
    "values[2]"
   ]
  },
  {
   "cell_type": "markdown",
   "id": "0b0d076f-77aa-4cb3-a25c-0fcf6c9610ba",
   "metadata": {},
   "source": [
    "This will give is the third element in our selected column.\n",
    "\n",
    "A direct indexing to a single element is possible as well of course. The only thing to keep in mind here, is that you need to index columns before rows here."
   ]
  },
  {
   "cell_type": "code",
   "execution_count": 64,
   "id": "2d30eab5-8f6d-4d5d-80c7-4815cbc0219c",
   "metadata": {
    "execution": {
     "iopub.execute_input": "2022-03-25T11:52:33.571296Z",
     "iopub.status.busy": "2022-03-25T11:52:33.571041Z",
     "iopub.status.idle": "2022-03-25T11:52:33.575314Z",
     "shell.execute_reply": "2022-03-25T11:52:33.574781Z",
     "shell.execute_reply.started": "2022-03-25T11:52:33.571266Z"
    },
    "tags": []
   },
   "outputs": [
    {
     "data": {
      "text/plain": [
       "0.18"
      ]
     },
     "execution_count": 64,
     "metadata": {},
     "output_type": "execute_result"
    }
   ],
   "source": [
    "df[\"value1\"][2]"
   ]
  },
  {
   "cell_type": "markdown",
   "id": "6338eb3c-cf0b-40ed-907a-08f8f2ad4448",
   "metadata": {},
   "source": [
    "Even striding, which means to index subsets of the *DataFrame* is possible. To select every second element in our \"value1\" column for example, we can use this approach."
   ]
  },
  {
   "cell_type": "code",
   "execution_count": 74,
   "id": "b1bd6856-ca47-4970-983d-fbe524d484a6",
   "metadata": {
    "execution": {
     "iopub.execute_input": "2022-03-25T13:08:21.019690Z",
     "iopub.status.busy": "2022-03-25T13:08:21.019457Z",
     "iopub.status.idle": "2022-03-25T13:08:21.024212Z",
     "shell.execute_reply": "2022-03-25T13:08:21.023625Z",
     "shell.execute_reply.started": "2022-03-25T13:08:21.019674Z"
    },
    "tags": []
   },
   "outputs": [
    {
     "data": {
      "text/plain": [
       "0     0.13\n",
       "2     0.18\n",
       "4     0.21\n",
       "6     0.25\n",
       "8     0.24\n",
       "10    0.20\n",
       "12    0.12\n",
       "Name: value1, dtype: float64"
      ]
     },
     "execution_count": 74,
     "metadata": {},
     "output_type": "execute_result"
    }
   ],
   "source": [
    "df[\"value1\"][::2]"
   ]
  },
  {
   "cell_type": "markdown",
   "id": "418375c0-6f86-4a60-a0dc-f8157ae29576",
   "metadata": {},
   "source": [
    "Pretty much all tricks from working with lists and numpy arrays will work here as well.\n",
    "Selecting multiple columns by name is possible as well. The syntax is a bit different though, as simply counting names and specifying steps is not directly possible. But using every second named column for an analysis will hardly make sense anyways.\n",
    "However selecting several columns from the original *DataFrame* goes like this."
   ]
  },
  {
   "cell_type": "code",
   "execution_count": 75,
   "id": "003244dd-a79e-41d0-9d0b-428dff037d96",
   "metadata": {
    "execution": {
     "iopub.execute_input": "2022-03-25T13:08:38.223936Z",
     "iopub.status.busy": "2022-03-25T13:08:38.223702Z",
     "iopub.status.idle": "2022-03-25T13:08:38.230320Z",
     "shell.execute_reply": "2022-03-25T13:08:38.229663Z",
     "shell.execute_reply.started": "2022-03-25T13:08:38.223919Z"
    },
    "tags": []
   },
   "outputs": [
    {
     "data": {
      "text/html": [
       "<div>\n",
       "<style scoped>\n",
       "    .dataframe tbody tr th:only-of-type {\n",
       "        vertical-align: middle;\n",
       "    }\n",
       "\n",
       "    .dataframe tbody tr th {\n",
       "        vertical-align: top;\n",
       "    }\n",
       "\n",
       "    .dataframe thead th {\n",
       "        text-align: right;\n",
       "    }\n",
       "</style>\n",
       "<table border=\"1\" class=\"dataframe\">\n",
       "  <thead>\n",
       "    <tr style=\"text-align: right;\">\n",
       "      <th></th>\n",
       "      <th>value2</th>\n",
       "      <th>angle</th>\n",
       "    </tr>\n",
       "  </thead>\n",
       "  <tbody>\n",
       "    <tr>\n",
       "      <th>0</th>\n",
       "      <td>0.12</td>\n",
       "      <td>-90</td>\n",
       "    </tr>\n",
       "    <tr>\n",
       "      <th>1</th>\n",
       "      <td>0.16</td>\n",
       "      <td>-75</td>\n",
       "    </tr>\n",
       "    <tr>\n",
       "      <th>2</th>\n",
       "      <td>0.20</td>\n",
       "      <td>-60</td>\n",
       "    </tr>\n",
       "    <tr>\n",
       "      <th>3</th>\n",
       "      <td>0.23</td>\n",
       "      <td>-45</td>\n",
       "    </tr>\n",
       "    <tr>\n",
       "      <th>4</th>\n",
       "      <td>0.24</td>\n",
       "      <td>-30</td>\n",
       "    </tr>\n",
       "    <tr>\n",
       "      <th>5</th>\n",
       "      <td>0.25</td>\n",
       "      <td>-15</td>\n",
       "    </tr>\n",
       "    <tr>\n",
       "      <th>6</th>\n",
       "      <td>0.26</td>\n",
       "      <td>0</td>\n",
       "    </tr>\n",
       "    <tr>\n",
       "      <th>7</th>\n",
       "      <td>0.23</td>\n",
       "      <td>15</td>\n",
       "    </tr>\n",
       "    <tr>\n",
       "      <th>8</th>\n",
       "      <td>0.21</td>\n",
       "      <td>30</td>\n",
       "    </tr>\n",
       "    <tr>\n",
       "      <th>9</th>\n",
       "      <td>0.18</td>\n",
       "      <td>45</td>\n",
       "    </tr>\n",
       "    <tr>\n",
       "      <th>10</th>\n",
       "      <td>0.18</td>\n",
       "      <td>60</td>\n",
       "    </tr>\n",
       "    <tr>\n",
       "      <th>11</th>\n",
       "      <td>0.15</td>\n",
       "      <td>75</td>\n",
       "    </tr>\n",
       "    <tr>\n",
       "      <th>12</th>\n",
       "      <td>0.12</td>\n",
       "      <td>90</td>\n",
       "    </tr>\n",
       "  </tbody>\n",
       "</table>\n",
       "</div>"
      ],
      "text/plain": [
       "    value2  angle\n",
       "0     0.12    -90\n",
       "1     0.16    -75\n",
       "2     0.20    -60\n",
       "3     0.23    -45\n",
       "4     0.24    -30\n",
       "5     0.25    -15\n",
       "6     0.26      0\n",
       "7     0.23     15\n",
       "8     0.21     30\n",
       "9     0.18     45\n",
       "10    0.18     60\n",
       "11    0.15     75\n",
       "12    0.12     90"
      ]
     },
     "execution_count": 75,
     "metadata": {},
     "output_type": "execute_result"
    }
   ],
   "source": [
    "df[[\"value2\", \"angle\"]]"
   ]
  },
  {
   "cell_type": "markdown",
   "id": "3a70d538-0288-4fae-b356-dec83c1a2eb1",
   "metadata": {},
   "source": [
    "This effectively swaps the order of columns compared to our original `DataFrame`.\n",
    "Of course combining the two approaches works as well."
   ]
  },
  {
   "cell_type": "code",
   "execution_count": 76,
   "id": "f9a44440-35c8-4c75-9cc9-d5cff9c6f902",
   "metadata": {
    "execution": {
     "iopub.execute_input": "2022-03-25T13:08:55.668070Z",
     "iopub.status.busy": "2022-03-25T13:08:55.667839Z",
     "iopub.status.idle": "2022-03-25T13:08:55.674880Z",
     "shell.execute_reply": "2022-03-25T13:08:55.674267Z",
     "shell.execute_reply.started": "2022-03-25T13:08:55.668054Z"
    },
    "tags": []
   },
   "outputs": [
    {
     "data": {
      "text/html": [
       "<div>\n",
       "<style scoped>\n",
       "    .dataframe tbody tr th:only-of-type {\n",
       "        vertical-align: middle;\n",
       "    }\n",
       "\n",
       "    .dataframe tbody tr th {\n",
       "        vertical-align: top;\n",
       "    }\n",
       "\n",
       "    .dataframe thead th {\n",
       "        text-align: right;\n",
       "    }\n",
       "</style>\n",
       "<table border=\"1\" class=\"dataframe\">\n",
       "  <thead>\n",
       "    <tr style=\"text-align: right;\">\n",
       "      <th></th>\n",
       "      <th>value2</th>\n",
       "      <th>angle</th>\n",
       "    </tr>\n",
       "  </thead>\n",
       "  <tbody>\n",
       "    <tr>\n",
       "      <th>1</th>\n",
       "      <td>0.16</td>\n",
       "      <td>-75</td>\n",
       "    </tr>\n",
       "    <tr>\n",
       "      <th>3</th>\n",
       "      <td>0.23</td>\n",
       "      <td>-45</td>\n",
       "    </tr>\n",
       "    <tr>\n",
       "      <th>5</th>\n",
       "      <td>0.25</td>\n",
       "      <td>-15</td>\n",
       "    </tr>\n",
       "    <tr>\n",
       "      <th>7</th>\n",
       "      <td>0.23</td>\n",
       "      <td>15</td>\n",
       "    </tr>\n",
       "    <tr>\n",
       "      <th>9</th>\n",
       "      <td>0.18</td>\n",
       "      <td>45</td>\n",
       "    </tr>\n",
       "  </tbody>\n",
       "</table>\n",
       "</div>"
      ],
      "text/plain": [
       "   value2  angle\n",
       "1    0.16    -75\n",
       "3    0.23    -45\n",
       "5    0.25    -15\n",
       "7    0.23     15\n",
       "9    0.18     45"
      ]
     },
     "execution_count": 76,
     "metadata": {},
     "output_type": "execute_result"
    }
   ],
   "source": [
    "df[[\"value2\", \"angle\"]][1:-2:2]"
   ]
  },
  {
   "cell_type": "markdown",
   "id": "d824e837-fc53-4b50-bef3-58173e51504f",
   "metadata": {},
   "source": [
    "Here, we create the column based subset first, and after that select all rows beginning from the second to the second last one in steps of two. Nice!"
   ]
  },
  {
   "cell_type": "markdown",
   "id": "6ea70a59-4323-47b6-924f-836c78bedecc",
   "metadata": {},
   "source": [
    "There are two other indexing approaches though, which are more consistent when it comes to further processing these sub selections. The reason for their existence is that `pandas` tries to avoid creating copies of data as good as possible to be efficient and fast.\n",
    "When working with subsets of data the way we've seen before, this can become error prone.\n",
    "\n",
    "There are two further alternatives to index data, both location based and one of them being purely focused on indexes in both row and column direction.\n",
    "The purely index based approach can be used by the `iloc` attribute.\n",
    "This is not a function as you can see.\n",
    "It's used with the square brackets syntax.\n",
    "Notice that in conrast to the former approach, the order of axes is different here. We're indexing in row first order!\n",
    "\n",
    "However indexing into the axes works as expected again.\n",
    "To select the first two rows of the \"value1\" column we can use the following approach."
   ]
  },
  {
   "cell_type": "code",
   "execution_count": 83,
   "id": "d1316b23-a5df-4199-9ba6-15f6eae0f113",
   "metadata": {
    "execution": {
     "iopub.execute_input": "2022-03-25T13:13:24.947515Z",
     "iopub.status.busy": "2022-03-25T13:13:24.947341Z",
     "iopub.status.idle": "2022-03-25T13:13:24.951433Z",
     "shell.execute_reply": "2022-03-25T13:13:24.950978Z",
     "shell.execute_reply.started": "2022-03-25T13:13:24.947499Z"
    },
    "tags": []
   },
   "outputs": [
    {
     "data": {
      "text/plain": [
       "0    0.13\n",
       "1    0.15\n",
       "Name: value1, dtype: float64"
      ]
     },
     "execution_count": 83,
     "metadata": {},
     "output_type": "execute_result"
    }
   ],
   "source": [
    "df.iloc[0:2,1]"
   ]
  },
  {
   "cell_type": "markdown",
   "id": "216ce23f-3ad3-4985-a1b8-ceb862f32d94",
   "metadata": {},
   "source": [
    "The second approach allows to use names for the columns again. To select the first two elements from the \"angle\" column, we would write"
   ]
  },
  {
   "cell_type": "code",
   "execution_count": 84,
   "id": "5bb8454b-5ec9-46d0-b474-5b404c36d7fa",
   "metadata": {
    "execution": {
     "iopub.execute_input": "2022-03-25T13:14:21.063524Z",
     "iopub.status.busy": "2022-03-25T13:14:21.063279Z",
     "iopub.status.idle": "2022-03-25T13:14:21.067693Z",
     "shell.execute_reply": "2022-03-25T13:14:21.067088Z",
     "shell.execute_reply.started": "2022-03-25T13:14:21.063492Z"
    },
    "tags": []
   },
   "outputs": [
    {
     "data": {
      "text/plain": [
       "0   -90\n",
       "1   -75\n",
       "2   -60\n",
       "Name: angle, dtype: int64"
      ]
     },
     "execution_count": 84,
     "metadata": {},
     "output_type": "execute_result"
    }
   ],
   "source": [
    "df.loc[0:2, \"angle\"]"
   ]
  },
  {
   "cell_type": "markdown",
   "id": "085ce44c-0222-463d-b259-ba0c9a1af78d",
   "metadata": {},
   "source": [
    "Moreover, the type of name based striding which wasn't possible in the naive indexing approach is possible here. To create a subset of values based on just the values columns we can use the following statement."
   ]
  },
  {
   "cell_type": "code",
   "execution_count": 89,
   "id": "15e04066-041a-4ff2-8f6a-43fb498c8f95",
   "metadata": {
    "execution": {
     "iopub.execute_input": "2022-03-25T13:16:19.788297Z",
     "iopub.status.busy": "2022-03-25T13:16:19.788092Z",
     "iopub.status.idle": "2022-03-25T13:16:19.794165Z",
     "shell.execute_reply": "2022-03-25T13:16:19.793787Z",
     "shell.execute_reply.started": "2022-03-25T13:16:19.788280Z"
    },
    "tags": []
   },
   "outputs": [
    {
     "data": {
      "text/html": [
       "<div>\n",
       "<style scoped>\n",
       "    .dataframe tbody tr th:only-of-type {\n",
       "        vertical-align: middle;\n",
       "    }\n",
       "\n",
       "    .dataframe tbody tr th {\n",
       "        vertical-align: top;\n",
       "    }\n",
       "\n",
       "    .dataframe thead th {\n",
       "        text-align: right;\n",
       "    }\n",
       "</style>\n",
       "<table border=\"1\" class=\"dataframe\">\n",
       "  <thead>\n",
       "    <tr style=\"text-align: right;\">\n",
       "      <th></th>\n",
       "      <th>value1</th>\n",
       "      <th>value2</th>\n",
       "    </tr>\n",
       "  </thead>\n",
       "  <tbody>\n",
       "    <tr>\n",
       "      <th>3</th>\n",
       "      <td>0.19</td>\n",
       "      <td>0.23</td>\n",
       "    </tr>\n",
       "    <tr>\n",
       "      <th>4</th>\n",
       "      <td>0.21</td>\n",
       "      <td>0.24</td>\n",
       "    </tr>\n",
       "    <tr>\n",
       "      <th>5</th>\n",
       "      <td>0.23</td>\n",
       "      <td>0.25</td>\n",
       "    </tr>\n",
       "    <tr>\n",
       "      <th>6</th>\n",
       "      <td>0.25</td>\n",
       "      <td>0.26</td>\n",
       "    </tr>\n",
       "  </tbody>\n",
       "</table>\n",
       "</div>"
      ],
      "text/plain": [
       "   value1  value2\n",
       "3    0.19    0.23\n",
       "4    0.21    0.24\n",
       "5    0.23    0.25\n",
       "6    0.25    0.26"
      ]
     },
     "execution_count": 89,
     "metadata": {},
     "output_type": "execute_result"
    }
   ],
   "source": [
    "df.loc[3:6, \"value1\":\"value2\"]"
   ]
  },
  {
   "cell_type": "markdown",
   "id": "0144503c-c4d9-4287-a69f-b19c78dbd586",
   "metadata": {},
   "source": [
    "Given enough columns, using the step parameter for indexing would work as well here."
   ]
  },
  {
   "cell_type": "markdown",
   "id": "5ebb8893-49cc-48d5-84dd-6a36112fa74f",
   "metadata": {},
   "source": [
    "## Modifying columns"
   ]
  },
  {
   "cell_type": "markdown",
   "id": "0ed8c711-0b2e-4ede-a901-3175183e00e9",
   "metadata": {},
   "source": [
    "It's quite easy to add columns, for example from other datasets or based on calculations with the existing ones. For example to add a column holding the difference for the two *value* columns, we could write"
   ]
  },
  {
   "cell_type": "code",
   "execution_count": 90,
   "id": "04d2b9b2-4cb0-4e85-803a-0d84da6def76",
   "metadata": {
    "execution": {
     "iopub.execute_input": "2022-03-25T13:19:34.773493Z",
     "iopub.status.busy": "2022-03-25T13:19:34.773284Z",
     "iopub.status.idle": "2022-03-25T13:19:34.780839Z",
     "shell.execute_reply": "2022-03-25T13:19:34.780381Z",
     "shell.execute_reply.started": "2022-03-25T13:19:34.773477Z"
    }
   },
   "outputs": [
    {
     "data": {
      "text/html": [
       "<div>\n",
       "<style scoped>\n",
       "    .dataframe tbody tr th:only-of-type {\n",
       "        vertical-align: middle;\n",
       "    }\n",
       "\n",
       "    .dataframe tbody tr th {\n",
       "        vertical-align: top;\n",
       "    }\n",
       "\n",
       "    .dataframe thead th {\n",
       "        text-align: right;\n",
       "    }\n",
       "</style>\n",
       "<table border=\"1\" class=\"dataframe\">\n",
       "  <thead>\n",
       "    <tr style=\"text-align: right;\">\n",
       "      <th></th>\n",
       "      <th>angle</th>\n",
       "      <th>value1</th>\n",
       "      <th>value2</th>\n",
       "      <th>diff</th>\n",
       "    </tr>\n",
       "  </thead>\n",
       "  <tbody>\n",
       "    <tr>\n",
       "      <th>0</th>\n",
       "      <td>-90</td>\n",
       "      <td>0.13</td>\n",
       "      <td>0.12</td>\n",
       "      <td>0.01</td>\n",
       "    </tr>\n",
       "    <tr>\n",
       "      <th>1</th>\n",
       "      <td>-75</td>\n",
       "      <td>0.15</td>\n",
       "      <td>0.16</td>\n",
       "      <td>-0.01</td>\n",
       "    </tr>\n",
       "    <tr>\n",
       "      <th>2</th>\n",
       "      <td>-60</td>\n",
       "      <td>0.18</td>\n",
       "      <td>0.20</td>\n",
       "      <td>-0.02</td>\n",
       "    </tr>\n",
       "    <tr>\n",
       "      <th>3</th>\n",
       "      <td>-45</td>\n",
       "      <td>0.19</td>\n",
       "      <td>0.23</td>\n",
       "      <td>-0.04</td>\n",
       "    </tr>\n",
       "    <tr>\n",
       "      <th>4</th>\n",
       "      <td>-30</td>\n",
       "      <td>0.21</td>\n",
       "      <td>0.24</td>\n",
       "      <td>-0.03</td>\n",
       "    </tr>\n",
       "    <tr>\n",
       "      <th>5</th>\n",
       "      <td>-15</td>\n",
       "      <td>0.23</td>\n",
       "      <td>0.25</td>\n",
       "      <td>-0.02</td>\n",
       "    </tr>\n",
       "    <tr>\n",
       "      <th>6</th>\n",
       "      <td>0</td>\n",
       "      <td>0.25</td>\n",
       "      <td>0.26</td>\n",
       "      <td>-0.01</td>\n",
       "    </tr>\n",
       "    <tr>\n",
       "      <th>7</th>\n",
       "      <td>15</td>\n",
       "      <td>0.25</td>\n",
       "      <td>0.23</td>\n",
       "      <td>0.02</td>\n",
       "    </tr>\n",
       "    <tr>\n",
       "      <th>8</th>\n",
       "      <td>30</td>\n",
       "      <td>0.24</td>\n",
       "      <td>0.21</td>\n",
       "      <td>0.03</td>\n",
       "    </tr>\n",
       "    <tr>\n",
       "      <th>9</th>\n",
       "      <td>45</td>\n",
       "      <td>0.23</td>\n",
       "      <td>0.18</td>\n",
       "      <td>0.05</td>\n",
       "    </tr>\n",
       "    <tr>\n",
       "      <th>10</th>\n",
       "      <td>60</td>\n",
       "      <td>0.20</td>\n",
       "      <td>0.18</td>\n",
       "      <td>0.02</td>\n",
       "    </tr>\n",
       "    <tr>\n",
       "      <th>11</th>\n",
       "      <td>75</td>\n",
       "      <td>0.16</td>\n",
       "      <td>0.15</td>\n",
       "      <td>0.01</td>\n",
       "    </tr>\n",
       "    <tr>\n",
       "      <th>12</th>\n",
       "      <td>90</td>\n",
       "      <td>0.12</td>\n",
       "      <td>0.12</td>\n",
       "      <td>0.00</td>\n",
       "    </tr>\n",
       "  </tbody>\n",
       "</table>\n",
       "</div>"
      ],
      "text/plain": [
       "    angle  value1  value2  diff\n",
       "0     -90    0.13    0.12  0.01\n",
       "1     -75    0.15    0.16 -0.01\n",
       "2     -60    0.18    0.20 -0.02\n",
       "3     -45    0.19    0.23 -0.04\n",
       "4     -30    0.21    0.24 -0.03\n",
       "5     -15    0.23    0.25 -0.02\n",
       "6       0    0.25    0.26 -0.01\n",
       "7      15    0.25    0.23  0.02\n",
       "8      30    0.24    0.21  0.03\n",
       "9      45    0.23    0.18  0.05\n",
       "10     60    0.20    0.18  0.02\n",
       "11     75    0.16    0.15  0.01\n",
       "12     90    0.12    0.12  0.00"
      ]
     },
     "execution_count": 90,
     "metadata": {},
     "output_type": "execute_result"
    }
   ],
   "source": [
    "df[\"diff\"] = df[\"value1\"] - df[\"value2\"]\n",
    "df"
   ]
  },
  {
   "cell_type": "markdown",
   "id": "9d064721-b9d7-496d-9b11-7182cd4afce9",
   "metadata": {},
   "source": [
    "As you can see our `DataFrame` now has a fourth column with all the calculated differences. "
   ]
  },
  {
   "cell_type": "markdown",
   "id": "604dac59-24c5-4f6f-815a-b375bd2b5f73",
   "metadata": {},
   "source": [
    "## Simple calculus"
   ]
  },
  {
   "cell_type": "markdown",
   "id": "c0b20982-3299-4c0f-810c-4e787717c57e",
   "metadata": {},
   "source": [
    "The `DataFrame` has several methods we already now from `numpy` available. Finding the minimum values in each column can be achieved like so."
   ]
  },
  {
   "cell_type": "code",
   "execution_count": 91,
   "id": "9bab5222-b28e-4f99-87c8-0171d691fc56",
   "metadata": {
    "execution": {
     "iopub.execute_input": "2022-03-25T13:21:49.219159Z",
     "iopub.status.busy": "2022-03-25T13:21:49.218948Z",
     "iopub.status.idle": "2022-03-25T13:21:49.223697Z",
     "shell.execute_reply": "2022-03-25T13:21:49.223330Z",
     "shell.execute_reply.started": "2022-03-25T13:21:49.219142Z"
    }
   },
   "outputs": [
    {
     "data": {
      "text/plain": [
       "angle    -90.00\n",
       "value1     0.12\n",
       "value2     0.12\n",
       "diff      -0.04\n",
       "dtype: float64"
      ]
     },
     "execution_count": 91,
     "metadata": {},
     "output_type": "execute_result"
    }
   ],
   "source": [
    "df.min()"
   ]
  },
  {
   "cell_type": "markdown",
   "id": "1e1fb11d-8213-4bee-9aab-4c09d18c71b0",
   "metadata": {},
   "source": [
    "Showing the maximum values works the same way."
   ]
  },
  {
   "cell_type": "code",
   "execution_count": 92,
   "id": "970a3129-c6bc-4653-82ff-345a10df17da",
   "metadata": {
    "execution": {
     "iopub.execute_input": "2022-03-25T13:22:14.317969Z",
     "iopub.status.busy": "2022-03-25T13:22:14.317649Z",
     "iopub.status.idle": "2022-03-25T13:22:14.323197Z",
     "shell.execute_reply": "2022-03-25T13:22:14.322540Z",
     "shell.execute_reply.started": "2022-03-25T13:22:14.317932Z"
    }
   },
   "outputs": [
    {
     "data": {
      "text/plain": [
       "angle     90.00\n",
       "value1     0.25\n",
       "value2     0.26\n",
       "diff       0.05\n",
       "dtype: float64"
      ]
     },
     "execution_count": 92,
     "metadata": {},
     "output_type": "execute_result"
    }
   ],
   "source": [
    "df.max()"
   ]
  },
  {
   "cell_type": "markdown",
   "id": "ade8712c-75cb-4eed-8400-3a9bee61e95c",
   "metadata": {},
   "source": [
    "As do summing up the values or calculating the mean."
   ]
  },
  {
   "cell_type": "code",
   "execution_count": 101,
   "id": "edbe42cd-bcdf-4bf4-b144-ae804c6268ca",
   "metadata": {
    "execution": {
     "iopub.execute_input": "2022-03-25T13:24:45.568698Z",
     "iopub.status.busy": "2022-03-25T13:24:45.568492Z",
     "iopub.status.idle": "2022-03-25T13:24:45.573563Z",
     "shell.execute_reply": "2022-03-25T13:24:45.573014Z",
     "shell.execute_reply.started": "2022-03-25T13:24:45.568681Z"
    },
    "tags": []
   },
   "outputs": [
    {
     "data": {
      "text/plain": [
       "angle     0.00\n",
       "value1    2.54\n",
       "value2    2.53\n",
       "diff      0.01\n",
       "dtype: float64"
      ]
     },
     "execution_count": 101,
     "metadata": {},
     "output_type": "execute_result"
    }
   ],
   "source": [
    "df.sum()"
   ]
  },
  {
   "cell_type": "code",
   "execution_count": 102,
   "id": "3cc8737e-2239-4afd-abb3-eb984e0a6b90",
   "metadata": {
    "execution": {
     "iopub.execute_input": "2022-03-25T13:24:45.698418Z",
     "iopub.status.busy": "2022-03-25T13:24:45.698238Z",
     "iopub.status.idle": "2022-03-25T13:24:45.702519Z",
     "shell.execute_reply": "2022-03-25T13:24:45.702105Z",
     "shell.execute_reply.started": "2022-03-25T13:24:45.698400Z"
    },
    "tags": []
   },
   "outputs": [
    {
     "data": {
      "text/plain": [
       "angle     0.000000\n",
       "value1    0.195385\n",
       "value2    0.194615\n",
       "diff      0.000769\n",
       "dtype: float64"
      ]
     },
     "execution_count": 102,
     "metadata": {},
     "output_type": "execute_result"
    }
   ],
   "source": [
    "df.mean()"
   ]
  },
  {
   "cell_type": "markdown",
   "id": "f822c422-027a-4f84-ac2b-d1833ce350c2",
   "metadata": {},
   "source": [
    "Calculating the difference of consecutive rows."
   ]
  },
  {
   "cell_type": "code",
   "execution_count": 103,
   "id": "64273926-dca8-4c3d-92eb-d62c50bac64a",
   "metadata": {
    "execution": {
     "iopub.execute_input": "2022-03-25T13:24:45.972832Z",
     "iopub.status.busy": "2022-03-25T13:24:45.972658Z",
     "iopub.status.idle": "2022-03-25T13:24:45.979884Z",
     "shell.execute_reply": "2022-03-25T13:24:45.979516Z",
     "shell.execute_reply.started": "2022-03-25T13:24:45.972816Z"
    },
    "tags": []
   },
   "outputs": [
    {
     "data": {
      "text/html": [
       "<div>\n",
       "<style scoped>\n",
       "    .dataframe tbody tr th:only-of-type {\n",
       "        vertical-align: middle;\n",
       "    }\n",
       "\n",
       "    .dataframe tbody tr th {\n",
       "        vertical-align: top;\n",
       "    }\n",
       "\n",
       "    .dataframe thead th {\n",
       "        text-align: right;\n",
       "    }\n",
       "</style>\n",
       "<table border=\"1\" class=\"dataframe\">\n",
       "  <thead>\n",
       "    <tr style=\"text-align: right;\">\n",
       "      <th></th>\n",
       "      <th>angle</th>\n",
       "      <th>value1</th>\n",
       "      <th>value2</th>\n",
       "      <th>diff</th>\n",
       "    </tr>\n",
       "  </thead>\n",
       "  <tbody>\n",
       "    <tr>\n",
       "      <th>0</th>\n",
       "      <td>NaN</td>\n",
       "      <td>NaN</td>\n",
       "      <td>NaN</td>\n",
       "      <td>NaN</td>\n",
       "    </tr>\n",
       "    <tr>\n",
       "      <th>1</th>\n",
       "      <td>15.0</td>\n",
       "      <td>0.02</td>\n",
       "      <td>0.04</td>\n",
       "      <td>-0.02</td>\n",
       "    </tr>\n",
       "    <tr>\n",
       "      <th>2</th>\n",
       "      <td>15.0</td>\n",
       "      <td>0.03</td>\n",
       "      <td>0.04</td>\n",
       "      <td>-0.01</td>\n",
       "    </tr>\n",
       "    <tr>\n",
       "      <th>3</th>\n",
       "      <td>15.0</td>\n",
       "      <td>0.01</td>\n",
       "      <td>0.03</td>\n",
       "      <td>-0.02</td>\n",
       "    </tr>\n",
       "    <tr>\n",
       "      <th>4</th>\n",
       "      <td>15.0</td>\n",
       "      <td>0.02</td>\n",
       "      <td>0.01</td>\n",
       "      <td>0.01</td>\n",
       "    </tr>\n",
       "    <tr>\n",
       "      <th>5</th>\n",
       "      <td>15.0</td>\n",
       "      <td>0.02</td>\n",
       "      <td>0.01</td>\n",
       "      <td>0.01</td>\n",
       "    </tr>\n",
       "    <tr>\n",
       "      <th>6</th>\n",
       "      <td>15.0</td>\n",
       "      <td>0.02</td>\n",
       "      <td>0.01</td>\n",
       "      <td>0.01</td>\n",
       "    </tr>\n",
       "    <tr>\n",
       "      <th>7</th>\n",
       "      <td>15.0</td>\n",
       "      <td>0.00</td>\n",
       "      <td>-0.03</td>\n",
       "      <td>0.03</td>\n",
       "    </tr>\n",
       "    <tr>\n",
       "      <th>8</th>\n",
       "      <td>15.0</td>\n",
       "      <td>-0.01</td>\n",
       "      <td>-0.02</td>\n",
       "      <td>0.01</td>\n",
       "    </tr>\n",
       "    <tr>\n",
       "      <th>9</th>\n",
       "      <td>15.0</td>\n",
       "      <td>-0.01</td>\n",
       "      <td>-0.03</td>\n",
       "      <td>0.02</td>\n",
       "    </tr>\n",
       "    <tr>\n",
       "      <th>10</th>\n",
       "      <td>15.0</td>\n",
       "      <td>-0.03</td>\n",
       "      <td>0.00</td>\n",
       "      <td>-0.03</td>\n",
       "    </tr>\n",
       "    <tr>\n",
       "      <th>11</th>\n",
       "      <td>15.0</td>\n",
       "      <td>-0.04</td>\n",
       "      <td>-0.03</td>\n",
       "      <td>-0.01</td>\n",
       "    </tr>\n",
       "    <tr>\n",
       "      <th>12</th>\n",
       "      <td>15.0</td>\n",
       "      <td>-0.04</td>\n",
       "      <td>-0.03</td>\n",
       "      <td>-0.01</td>\n",
       "    </tr>\n",
       "  </tbody>\n",
       "</table>\n",
       "</div>"
      ],
      "text/plain": [
       "    angle  value1  value2  diff\n",
       "0     NaN     NaN     NaN   NaN\n",
       "1    15.0    0.02    0.04 -0.02\n",
       "2    15.0    0.03    0.04 -0.01\n",
       "3    15.0    0.01    0.03 -0.02\n",
       "4    15.0    0.02    0.01  0.01\n",
       "5    15.0    0.02    0.01  0.01\n",
       "6    15.0    0.02    0.01  0.01\n",
       "7    15.0    0.00   -0.03  0.03\n",
       "8    15.0   -0.01   -0.02  0.01\n",
       "9    15.0   -0.01   -0.03  0.02\n",
       "10   15.0   -0.03    0.00 -0.03\n",
       "11   15.0   -0.04   -0.03 -0.01\n",
       "12   15.0   -0.04   -0.03 -0.01"
      ]
     },
     "execution_count": 103,
     "metadata": {},
     "output_type": "execute_result"
    }
   ],
   "source": [
    "df.diff()"
   ]
  },
  {
   "cell_type": "markdown",
   "id": "07b54797-f25d-4552-9968-f511d3689742",
   "metadata": {},
   "source": [
    "Calculating the cumulative sum"
   ]
  },
  {
   "cell_type": "code",
   "execution_count": 108,
   "id": "8d3210c3-568b-4625-9421-5e9d14c7c72b",
   "metadata": {
    "execution": {
     "iopub.execute_input": "2022-03-25T13:26:55.589144Z",
     "iopub.status.busy": "2022-03-25T13:26:55.588973Z",
     "iopub.status.idle": "2022-03-25T13:26:55.595926Z",
     "shell.execute_reply": "2022-03-25T13:26:55.595563Z",
     "shell.execute_reply.started": "2022-03-25T13:26:55.589128Z"
    },
    "tags": []
   },
   "outputs": [
    {
     "data": {
      "text/html": [
       "<div>\n",
       "<style scoped>\n",
       "    .dataframe tbody tr th:only-of-type {\n",
       "        vertical-align: middle;\n",
       "    }\n",
       "\n",
       "    .dataframe tbody tr th {\n",
       "        vertical-align: top;\n",
       "    }\n",
       "\n",
       "    .dataframe thead th {\n",
       "        text-align: right;\n",
       "    }\n",
       "</style>\n",
       "<table border=\"1\" class=\"dataframe\">\n",
       "  <thead>\n",
       "    <tr style=\"text-align: right;\">\n",
       "      <th></th>\n",
       "      <th>angle</th>\n",
       "      <th>value1</th>\n",
       "      <th>value2</th>\n",
       "      <th>diff</th>\n",
       "    </tr>\n",
       "  </thead>\n",
       "  <tbody>\n",
       "    <tr>\n",
       "      <th>0</th>\n",
       "      <td>-90</td>\n",
       "      <td>0.13</td>\n",
       "      <td>0.12</td>\n",
       "      <td>0.01</td>\n",
       "    </tr>\n",
       "    <tr>\n",
       "      <th>1</th>\n",
       "      <td>-165</td>\n",
       "      <td>0.28</td>\n",
       "      <td>0.28</td>\n",
       "      <td>0.00</td>\n",
       "    </tr>\n",
       "    <tr>\n",
       "      <th>2</th>\n",
       "      <td>-225</td>\n",
       "      <td>0.46</td>\n",
       "      <td>0.48</td>\n",
       "      <td>-0.02</td>\n",
       "    </tr>\n",
       "    <tr>\n",
       "      <th>3</th>\n",
       "      <td>-270</td>\n",
       "      <td>0.65</td>\n",
       "      <td>0.71</td>\n",
       "      <td>-0.06</td>\n",
       "    </tr>\n",
       "    <tr>\n",
       "      <th>4</th>\n",
       "      <td>-300</td>\n",
       "      <td>0.86</td>\n",
       "      <td>0.95</td>\n",
       "      <td>-0.09</td>\n",
       "    </tr>\n",
       "    <tr>\n",
       "      <th>5</th>\n",
       "      <td>-315</td>\n",
       "      <td>1.09</td>\n",
       "      <td>1.20</td>\n",
       "      <td>-0.11</td>\n",
       "    </tr>\n",
       "    <tr>\n",
       "      <th>6</th>\n",
       "      <td>-315</td>\n",
       "      <td>1.34</td>\n",
       "      <td>1.46</td>\n",
       "      <td>-0.12</td>\n",
       "    </tr>\n",
       "    <tr>\n",
       "      <th>7</th>\n",
       "      <td>-300</td>\n",
       "      <td>1.59</td>\n",
       "      <td>1.69</td>\n",
       "      <td>-0.10</td>\n",
       "    </tr>\n",
       "    <tr>\n",
       "      <th>8</th>\n",
       "      <td>-270</td>\n",
       "      <td>1.83</td>\n",
       "      <td>1.90</td>\n",
       "      <td>-0.07</td>\n",
       "    </tr>\n",
       "    <tr>\n",
       "      <th>9</th>\n",
       "      <td>-225</td>\n",
       "      <td>2.06</td>\n",
       "      <td>2.08</td>\n",
       "      <td>-0.02</td>\n",
       "    </tr>\n",
       "    <tr>\n",
       "      <th>10</th>\n",
       "      <td>-165</td>\n",
       "      <td>2.26</td>\n",
       "      <td>2.26</td>\n",
       "      <td>0.00</td>\n",
       "    </tr>\n",
       "    <tr>\n",
       "      <th>11</th>\n",
       "      <td>-90</td>\n",
       "      <td>2.42</td>\n",
       "      <td>2.41</td>\n",
       "      <td>0.01</td>\n",
       "    </tr>\n",
       "    <tr>\n",
       "      <th>12</th>\n",
       "      <td>0</td>\n",
       "      <td>2.54</td>\n",
       "      <td>2.53</td>\n",
       "      <td>0.01</td>\n",
       "    </tr>\n",
       "  </tbody>\n",
       "</table>\n",
       "</div>"
      ],
      "text/plain": [
       "    angle  value1  value2  diff\n",
       "0     -90    0.13    0.12  0.01\n",
       "1    -165    0.28    0.28  0.00\n",
       "2    -225    0.46    0.48 -0.02\n",
       "3    -270    0.65    0.71 -0.06\n",
       "4    -300    0.86    0.95 -0.09\n",
       "5    -315    1.09    1.20 -0.11\n",
       "6    -315    1.34    1.46 -0.12\n",
       "7    -300    1.59    1.69 -0.10\n",
       "8    -270    1.83    1.90 -0.07\n",
       "9    -225    2.06    2.08 -0.02\n",
       "10   -165    2.26    2.26  0.00\n",
       "11    -90    2.42    2.41  0.01\n",
       "12      0    2.54    2.53  0.01"
      ]
     },
     "execution_count": 108,
     "metadata": {},
     "output_type": "execute_result"
    }
   ],
   "source": [
    "df.cumsum()"
   ]
  },
  {
   "cell_type": "markdown",
   "id": "88eb3dcc-981c-46a6-b3c7-f29b83e84fd1",
   "metadata": {},
   "source": [
    "Value based selections.\n",
    "\n",
    "Select all rows in the `DataFrame` where the values in the *value1* column are above its mean value."
   ]
  },
  {
   "cell_type": "code",
   "execution_count": 106,
   "id": "19abeca0-965a-452d-b8ce-2c652137568a",
   "metadata": {
    "execution": {
     "iopub.execute_input": "2022-03-25T13:25:07.238689Z",
     "iopub.status.busy": "2022-03-25T13:25:07.238458Z",
     "iopub.status.idle": "2022-03-25T13:25:07.245565Z",
     "shell.execute_reply": "2022-03-25T13:25:07.245111Z",
     "shell.execute_reply.started": "2022-03-25T13:25:07.238672Z"
    },
    "tags": []
   },
   "outputs": [
    {
     "data": {
      "text/html": [
       "<div>\n",
       "<style scoped>\n",
       "    .dataframe tbody tr th:only-of-type {\n",
       "        vertical-align: middle;\n",
       "    }\n",
       "\n",
       "    .dataframe tbody tr th {\n",
       "        vertical-align: top;\n",
       "    }\n",
       "\n",
       "    .dataframe thead th {\n",
       "        text-align: right;\n",
       "    }\n",
       "</style>\n",
       "<table border=\"1\" class=\"dataframe\">\n",
       "  <thead>\n",
       "    <tr style=\"text-align: right;\">\n",
       "      <th></th>\n",
       "      <th>angle</th>\n",
       "      <th>value1</th>\n",
       "      <th>value2</th>\n",
       "      <th>diff</th>\n",
       "    </tr>\n",
       "  </thead>\n",
       "  <tbody>\n",
       "    <tr>\n",
       "      <th>4</th>\n",
       "      <td>-30</td>\n",
       "      <td>0.21</td>\n",
       "      <td>0.24</td>\n",
       "      <td>-0.03</td>\n",
       "    </tr>\n",
       "    <tr>\n",
       "      <th>5</th>\n",
       "      <td>-15</td>\n",
       "      <td>0.23</td>\n",
       "      <td>0.25</td>\n",
       "      <td>-0.02</td>\n",
       "    </tr>\n",
       "    <tr>\n",
       "      <th>6</th>\n",
       "      <td>0</td>\n",
       "      <td>0.25</td>\n",
       "      <td>0.26</td>\n",
       "      <td>-0.01</td>\n",
       "    </tr>\n",
       "    <tr>\n",
       "      <th>7</th>\n",
       "      <td>15</td>\n",
       "      <td>0.25</td>\n",
       "      <td>0.23</td>\n",
       "      <td>0.02</td>\n",
       "    </tr>\n",
       "    <tr>\n",
       "      <th>8</th>\n",
       "      <td>30</td>\n",
       "      <td>0.24</td>\n",
       "      <td>0.21</td>\n",
       "      <td>0.03</td>\n",
       "    </tr>\n",
       "    <tr>\n",
       "      <th>9</th>\n",
       "      <td>45</td>\n",
       "      <td>0.23</td>\n",
       "      <td>0.18</td>\n",
       "      <td>0.05</td>\n",
       "    </tr>\n",
       "    <tr>\n",
       "      <th>10</th>\n",
       "      <td>60</td>\n",
       "      <td>0.20</td>\n",
       "      <td>0.18</td>\n",
       "      <td>0.02</td>\n",
       "    </tr>\n",
       "  </tbody>\n",
       "</table>\n",
       "</div>"
      ],
      "text/plain": [
       "    angle  value1  value2  diff\n",
       "4     -30    0.21    0.24 -0.03\n",
       "5     -15    0.23    0.25 -0.02\n",
       "6       0    0.25    0.26 -0.01\n",
       "7      15    0.25    0.23  0.02\n",
       "8      30    0.24    0.21  0.03\n",
       "9      45    0.23    0.18  0.05\n",
       "10     60    0.20    0.18  0.02"
      ]
     },
     "execution_count": 106,
     "metadata": {},
     "output_type": "execute_result"
    }
   ],
   "source": [
    "df[df[\"value1\"] > df[\"value1\"].mean()]"
   ]
  },
  {
   "cell_type": "markdown",
   "id": "5e7d8191-7f68-43d4-a64f-a52e7fc41161",
   "metadata": {},
   "source": [
    "## Plotting"
   ]
  },
  {
   "cell_type": "markdown",
   "id": "d517b701-9452-493d-ae4f-9da3ec60ca38",
   "metadata": {},
   "source": [
    "Simple plotting is also available as a method for `DataFrame`s. This has been implemented to provide a consistent api, where the `DataFrame` itself is always the core element.\n",
    "This is well suited for a quick overview.\n",
    "However for more detailed plots, where more control is needed over the plot itself, using the approaches from the *Plotting* chapter is advised."
   ]
  },
  {
   "cell_type": "markdown",
   "id": "bd5ecdda-eaaa-4d99-ad15-806ef375ff07",
   "metadata": {},
   "source": [
    "We need to prepare a bit for the plots to look nice and work as expected. pandas will use an available backend for the plots. So let's prepare our *Matplotlib* and *seaborn* based approach first."
   ]
  },
  {
   "cell_type": "code",
   "execution_count": 109,
   "id": "d6c8d283-18b5-4331-bfdb-117e8ef86338",
   "metadata": {
    "execution": {
     "iopub.execute_input": "2022-03-25T13:29:29.090673Z",
     "iopub.status.busy": "2022-03-25T13:29:29.090436Z",
     "iopub.status.idle": "2022-03-25T13:29:29.095011Z",
     "shell.execute_reply": "2022-03-25T13:29:29.094429Z",
     "shell.execute_reply.started": "2022-03-25T13:29:29.090657Z"
    },
    "tags": []
   },
   "outputs": [],
   "source": [
    "%matplotlib widget\n",
    "import seaborn as sns\n",
    "sns.set()"
   ]
  },
  {
   "cell_type": "markdown",
   "id": "10c9002a-1bf4-4a99-b760-bccdd7ca3e6f",
   "metadata": {},
   "source": [
    "The most simple way to create a plot is to just call the `plot` method on the `DataFrame`. Some already known *Matplotlib* parameters can be used in this context as well."
   ]
  },
  {
   "cell_type": "code",
   "execution_count": 113,
   "id": "3049eb73-93e9-411b-9553-95cef62f79e8",
   "metadata": {
    "execution": {
     "iopub.execute_input": "2022-03-25T13:31:56.369148Z",
     "iopub.status.busy": "2022-03-25T13:31:56.368806Z",
     "iopub.status.idle": "2022-03-25T13:31:56.454911Z",
     "shell.execute_reply": "2022-03-25T13:31:56.454492Z",
     "shell.execute_reply.started": "2022-03-25T13:31:56.369131Z"
    },
    "tags": []
   },
   "outputs": [
    {
     "data": {
      "text/plain": [
       "<AxesSubplot:>"
      ]
     },
     "execution_count": 113,
     "metadata": {},
     "output_type": "execute_result"
    },
    {
     "data": {
      "application/vnd.jupyter.widget-view+json": {
       "model_id": "f847b71497f34cbe8eb8fbabfbc9cc95",
       "version_major": 2,
       "version_minor": 0
      },
      "image/png": "[encoded data removed]",
      "text/html": [
       "\n",
       "            <div style=\"display: inline-block;\">\n",
       "                <div class=\"jupyter-widgets widget-label\" style=\"text-align: center;\">\n",
       "                    Figure\n",
       "                </div>\n",
       "                <img src='data:image/png;base64,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' width=800.0/>\n",
       "            </div>\n",
       "        "
      ],
      "text/plain": [
       "Canvas(toolbar=Toolbar(toolitems=[('Home', 'Reset original view', 'home', 'home'), ('Back', 'Back to previous …"
      ]
     },
     "metadata": {},
     "output_type": "display_data"
    }
   ],
   "source": [
    "df.plot(figsize=(8,5))"
   ]
  },
  {
   "cell_type": "markdown",
   "id": "fa02c098-5163-4c7a-9c4f-865b540efed3",
   "metadata": {},
   "source": [
    "Based on the legend shown in the plot we can see that all four available columns are plotted against the index by default.\n",
    "\n",
    "If we wanted to use a different column to be the base, we need to change the index. `pandas` offers a way for this by using the `set_index` method.\n",
    "Itr returns a different view on the same `DataFrame` with the index now being the chosen column."
   ]
  },
  {
   "cell_type": "code",
   "execution_count": 114,
   "id": "5085022b-c4e5-49be-b799-81b0921c10c0",
   "metadata": {
    "execution": {
     "iopub.execute_input": "2022-03-25T13:34:43.930948Z",
     "iopub.status.busy": "2022-03-25T13:34:43.930460Z",
     "iopub.status.idle": "2022-03-25T13:34:43.938493Z",
     "shell.execute_reply": "2022-03-25T13:34:43.937920Z",
     "shell.execute_reply.started": "2022-03-25T13:34:43.930932Z"
    },
    "tags": []
   },
   "outputs": [
    {
     "data": {
      "text/html": [
       "<div>\n",
       "<style scoped>\n",
       "    .dataframe tbody tr th:only-of-type {\n",
       "        vertical-align: middle;\n",
       "    }\n",
       "\n",
       "    .dataframe tbody tr th {\n",
       "        vertical-align: top;\n",
       "    }\n",
       "\n",
       "    .dataframe thead th {\n",
       "        text-align: right;\n",
       "    }\n",
       "</style>\n",
       "<table border=\"1\" class=\"dataframe\">\n",
       "  <thead>\n",
       "    <tr style=\"text-align: right;\">\n",
       "      <th></th>\n",
       "      <th>value1</th>\n",
       "      <th>value2</th>\n",
       "      <th>diff</th>\n",
       "    </tr>\n",
       "    <tr>\n",
       "      <th>angle</th>\n",
       "      <th></th>\n",
       "      <th></th>\n",
       "      <th></th>\n",
       "    </tr>\n",
       "  </thead>\n",
       "  <tbody>\n",
       "    <tr>\n",
       "      <th>-90</th>\n",
       "      <td>0.13</td>\n",
       "      <td>0.12</td>\n",
       "      <td>0.01</td>\n",
       "    </tr>\n",
       "    <tr>\n",
       "      <th>-75</th>\n",
       "      <td>0.15</td>\n",
       "      <td>0.16</td>\n",
       "      <td>-0.01</td>\n",
       "    </tr>\n",
       "    <tr>\n",
       "      <th>-60</th>\n",
       "      <td>0.18</td>\n",
       "      <td>0.20</td>\n",
       "      <td>-0.02</td>\n",
       "    </tr>\n",
       "    <tr>\n",
       "      <th>-45</th>\n",
       "      <td>0.19</td>\n",
       "      <td>0.23</td>\n",
       "      <td>-0.04</td>\n",
       "    </tr>\n",
       "    <tr>\n",
       "      <th>-30</th>\n",
       "      <td>0.21</td>\n",
       "      <td>0.24</td>\n",
       "      <td>-0.03</td>\n",
       "    </tr>\n",
       "    <tr>\n",
       "      <th>-15</th>\n",
       "      <td>0.23</td>\n",
       "      <td>0.25</td>\n",
       "      <td>-0.02</td>\n",
       "    </tr>\n",
       "    <tr>\n",
       "      <th>0</th>\n",
       "      <td>0.25</td>\n",
       "      <td>0.26</td>\n",
       "      <td>-0.01</td>\n",
       "    </tr>\n",
       "    <tr>\n",
       "      <th>15</th>\n",
       "      <td>0.25</td>\n",
       "      <td>0.23</td>\n",
       "      <td>0.02</td>\n",
       "    </tr>\n",
       "    <tr>\n",
       "      <th>30</th>\n",
       "      <td>0.24</td>\n",
       "      <td>0.21</td>\n",
       "      <td>0.03</td>\n",
       "    </tr>\n",
       "    <tr>\n",
       "      <th>45</th>\n",
       "      <td>0.23</td>\n",
       "      <td>0.18</td>\n",
       "      <td>0.05</td>\n",
       "    </tr>\n",
       "    <tr>\n",
       "      <th>60</th>\n",
       "      <td>0.20</td>\n",
       "      <td>0.18</td>\n",
       "      <td>0.02</td>\n",
       "    </tr>\n",
       "    <tr>\n",
       "      <th>75</th>\n",
       "      <td>0.16</td>\n",
       "      <td>0.15</td>\n",
       "      <td>0.01</td>\n",
       "    </tr>\n",
       "    <tr>\n",
       "      <th>90</th>\n",
       "      <td>0.12</td>\n",
       "      <td>0.12</td>\n",
       "      <td>0.00</td>\n",
       "    </tr>\n",
       "  </tbody>\n",
       "</table>\n",
       "</div>"
      ],
      "text/plain": [
       "       value1  value2  diff\n",
       "angle                      \n",
       "-90      0.13    0.12  0.01\n",
       "-75      0.15    0.16 -0.01\n",
       "-60      0.18    0.20 -0.02\n",
       "-45      0.19    0.23 -0.04\n",
       "-30      0.21    0.24 -0.03\n",
       "-15      0.23    0.25 -0.02\n",
       " 0       0.25    0.26 -0.01\n",
       " 15      0.25    0.23  0.02\n",
       " 30      0.24    0.21  0.03\n",
       " 45      0.23    0.18  0.05\n",
       " 60      0.20    0.18  0.02\n",
       " 75      0.16    0.15  0.01\n",
       " 90      0.12    0.12  0.00"
      ]
     },
     "execution_count": 114,
     "metadata": {},
     "output_type": "execute_result"
    }
   ],
   "source": [
    "df1 = df.set_index(\"angle\")\n",
    "df1"
   ]
  },
  {
   "cell_type": "markdown",
   "id": "ec7bdae9-4011-461e-aefa-ce59ef200e85",
   "metadata": {},
   "source": [
    "Calling the `plot` method on this `DataFrame` shows the probably more desired output."
   ]
  },
  {
   "cell_type": "code",
   "execution_count": 115,
   "id": "b567bda2-00d4-46e4-b144-9bdada2423ee",
   "metadata": {
    "execution": {
     "iopub.execute_input": "2022-03-25T13:35:35.883487Z",
     "iopub.status.busy": "2022-03-25T13:35:35.883313Z",
     "iopub.status.idle": "2022-03-25T13:35:35.965506Z",
     "shell.execute_reply": "2022-03-25T13:35:35.965082Z",
     "shell.execute_reply.started": "2022-03-25T13:35:35.883470Z"
    },
    "tags": []
   },
   "outputs": [
    {
     "data": {
      "text/plain": [
       "<AxesSubplot:xlabel='angle'>"
      ]
     },
     "execution_count": 115,
     "metadata": {},
     "output_type": "execute_result"
    },
    {
     "data": {
      "application/vnd.jupyter.widget-view+json": {
       "model_id": "53484b5f6e4c4b62821007101eac093c",
       "version_major": 2,
       "version_minor": 0
      },
      "image/png": "[encoded data removed]",
      "text/html": [
       "\n",
       "            <div style=\"display: inline-block;\">\n",
       "                <div class=\"jupyter-widgets widget-label\" style=\"text-align: center;\">\n",
       "                    Figure\n",
       "                </div>\n",
       "                <img src='data:image/png;base64,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' width=800.0/>\n",
       "            </div>\n",
       "        "
      ],
      "text/plain": [
       "Canvas(toolbar=Toolbar(toolitems=[('Home', 'Reset original view', 'home', 'home'), ('Back', 'Back to previous …"
      ]
     },
     "metadata": {},
     "output_type": "display_data"
    }
   ],
   "source": [
    "df1.plot(figsize=(8,5))"
   ]
  },
  {
   "cell_type": "code",
   "execution_count": null,
   "id": "0e3b8d9b-33e7-4ce8-a6f7-e726630c88ec",
   "metadata": {},
   "outputs": [],
   "source": []
  },
  {
   "cell_type": "code",
   "execution_count": null,
   "id": "22ee0110-80b4-4274-a656-83f493247140",
   "metadata": {},
   "outputs": [],
   "source": []
  }
 ],
 "metadata": {
  "kernelspec": {
   "display_name": "Python 3 (ipykernel)",
   "language": "python",
   "name": "python3"
  },
  "language_info": {
   "codemirror_mode": {
    "name": "ipython",
    "version": 3
   },
   "file_extension": ".py",
   "mimetype": "text/x-python",
   "name": "python",
   "nbconvert_exporter": "python",
   "pygments_lexer": "ipython3",
   "version": "3.10.2"
  }
 },
 "nbformat": 4,
 "nbformat_minor": 5
}
