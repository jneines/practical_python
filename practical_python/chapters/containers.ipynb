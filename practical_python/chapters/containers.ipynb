{
 "cells": [
  {
   "cell_type": "markdown",
   "id": "f50d0e18-5b3c-404c-8c1e-329a7e4af29c",
   "metadata": {},
   "source": [
    "# Container data types\n",
    "\n",
    "\n"
   ]
  },
  {
   "cell_type": "markdown",
   "id": "8b87fe74-ee0b-4bda-83e0-f931c91baf2e",
   "metadata": {},
   "source": [
    "## Lists\n",
    "\n",
    "There are some very powerful data typs to organize larger amounts of data. Think of a situation where you are performing a measurement for a longer period of time and would like to collect the results to work on these later. One variable per measurement is clearly not the way here. But something array like would be quite helpful here. Python offers some comparable, but slightly more powerful than an array, the `list`.\n",
    "\n",
    "There are two ways to create an empty list."
   ]
  },
  {
   "cell_type": "code",
   "execution_count": 1,
   "id": "2b93f43e-ecb3-402f-897e-2f7beabc2905",
   "metadata": {
    "execution": {
     "iopub.execute_input": "2022-02-23T14:40:04.520064Z",
     "iopub.status.busy": "2022-02-23T14:40:04.519880Z",
     "iopub.status.idle": "2022-02-23T14:40:04.525673Z",
     "shell.execute_reply": "2022-02-23T14:40:04.524693Z",
     "shell.execute_reply.started": "2022-02-23T14:40:04.520024Z"
    },
    "tags": []
   },
   "outputs": [],
   "source": [
    "l = []"
   ]
  },
  {
   "cell_type": "markdown",
   "id": "2d9ed392-4613-4a4e-ac3c-823503eeb9fd",
   "metadata": {},
   "source": [
    "and"
   ]
  },
  {
   "cell_type": "code",
   "execution_count": 2,
   "id": "8b2bf312-258b-4e06-bce9-6b8f7cef0356",
   "metadata": {
    "execution": {
     "iopub.execute_input": "2022-02-23T14:40:04.526544Z",
     "iopub.status.busy": "2022-02-23T14:40:04.526453Z",
     "iopub.status.idle": "2022-02-23T14:40:04.528842Z",
     "shell.execute_reply": "2022-02-23T14:40:04.528468Z",
     "shell.execute_reply.started": "2022-02-23T14:40:04.526532Z"
    }
   },
   "outputs": [],
   "source": [
    "l = list()"
   ]
  },
  {
   "cell_type": "markdown",
   "id": "858cb51e-0e22-428d-a2a1-29bba2ab13d3",
   "metadata": {},
   "source": [
    "The output looks like this."
   ]
  },
  {
   "cell_type": "code",
   "execution_count": 3,
   "id": "2b4b2a6f-c68a-4e6e-90ae-385ec584d6ce",
   "metadata": {
    "execution": {
     "iopub.execute_input": "2022-02-23T14:40:04.531040Z",
     "iopub.status.busy": "2022-02-23T14:40:04.530821Z",
     "iopub.status.idle": "2022-02-23T14:40:04.538966Z",
     "shell.execute_reply": "2022-02-23T14:40:04.538392Z",
     "shell.execute_reply.started": "2022-02-23T14:40:04.531024Z"
    }
   },
   "outputs": [
    {
     "data": {
      "text/plain": [
       "[]"
      ]
     },
     "execution_count": 3,
     "metadata": {},
     "output_type": "execute_result"
    }
   ],
   "source": [
    "l"
   ]
  },
  {
   "cell_type": "markdown",
   "id": "258337d4-d05a-4f4b-8bb7-9f05d06be70b",
   "metadata": {},
   "source": [
    "You can of course verify the correct type at any time using the `type` function."
   ]
  },
  {
   "cell_type": "code",
   "execution_count": 4,
   "id": "e0620569-5fa3-4771-a5de-500bbc382fc1",
   "metadata": {
    "execution": {
     "iopub.execute_input": "2022-02-23T14:40:04.539762Z",
     "iopub.status.busy": "2022-02-23T14:40:04.539614Z",
     "iopub.status.idle": "2022-02-23T14:40:04.542633Z",
     "shell.execute_reply": "2022-02-23T14:40:04.542184Z",
     "shell.execute_reply.started": "2022-02-23T14:40:04.539748Z"
    },
    "tags": []
   },
   "outputs": [
    {
     "data": {
      "text/plain": [
       "list"
      ]
     },
     "execution_count": 4,
     "metadata": {},
     "output_type": "execute_result"
    }
   ],
   "source": [
    "type(l)"
   ]
  },
  {
   "cell_type": "markdown",
   "id": "1501a5fb-13ad-4d6d-8c07-b8d60eae53d9",
   "metadata": {},
   "source": [
    "In our measurement example we will probably want to add a new measurement value, a *voltage* for example right after each measurement is done.\n",
    "The way to do this is to use the `append` method."
   ]
  },
  {
   "cell_type": "code",
   "execution_count": 5,
   "id": "3bbc3d03-64dd-4be5-bf41-820971ceb735",
   "metadata": {
    "execution": {
     "iopub.execute_input": "2022-02-23T14:40:04.543502Z",
     "iopub.status.busy": "2022-02-23T14:40:04.543353Z",
     "iopub.status.idle": "2022-02-23T14:40:04.546184Z",
     "shell.execute_reply": "2022-02-23T14:40:04.545850Z",
     "shell.execute_reply.started": "2022-02-23T14:40:04.543488Z"
    }
   },
   "outputs": [
    {
     "data": {
      "text/plain": [
       "[0.1]"
      ]
     },
     "execution_count": 5,
     "metadata": {},
     "output_type": "execute_result"
    }
   ],
   "source": [
    "voltage = 0.1\n",
    "l.append(voltage)\n",
    "l"
   ]
  },
  {
   "cell_type": "markdown",
   "id": "4180afc3-c47d-4225-8da1-9829f154390f",
   "metadata": {},
   "source": [
    "This can be performed over and over again until our measurements are all done "
   ]
  },
  {
   "cell_type": "code",
   "execution_count": 6,
   "id": "f92b6ba0-c2ea-47d0-bbe5-13ff571b149b",
   "metadata": {
    "execution": {
     "iopub.execute_input": "2022-02-23T14:40:04.547030Z",
     "iopub.status.busy": "2022-02-23T14:40:04.546819Z",
     "iopub.status.idle": "2022-02-23T14:40:04.550582Z",
     "shell.execute_reply": "2022-02-23T14:40:04.550144Z",
     "shell.execute_reply.started": "2022-02-23T14:40:04.547012Z"
    }
   },
   "outputs": [
    {
     "data": {
      "text/plain": [
       "[0.1, 0.2, 0.25, 0.11, 0.72]"
      ]
     },
     "execution_count": 6,
     "metadata": {},
     "output_type": "execute_result"
    }
   ],
   "source": [
    "voltage = 0.2\n",
    "l.append(voltage)\n",
    "voltage = 0.25\n",
    "l.append(voltage)\n",
    "voltage = 0.11\n",
    "l.append(voltage)\n",
    "voltage = 0.72\n",
    "l.append(voltage)\n",
    "l"
   ]
  },
  {
   "cell_type": "markdown",
   "id": "25f9517d-a618-4562-880e-e6cd92801377",
   "metadata": {},
   "source": [
    "In case (some) initial values are already known, the list can as well be pre-initialized."
   ]
  },
  {
   "cell_type": "code",
   "execution_count": 7,
   "id": "4ab6f3b3-e57d-41e7-bf68-e0d5c8fe0d3a",
   "metadata": {
    "execution": {
     "iopub.execute_input": "2022-02-23T14:40:04.551303Z",
     "iopub.status.busy": "2022-02-23T14:40:04.551160Z",
     "iopub.status.idle": "2022-02-23T14:40:04.553410Z",
     "shell.execute_reply": "2022-02-23T14:40:04.553041Z",
     "shell.execute_reply.started": "2022-02-23T14:40:04.551286Z"
    },
    "tags": []
   },
   "outputs": [],
   "source": [
    "l = [0.1, 0.2, 0.25, 0.11, 0.72]"
   ]
  },
  {
   "cell_type": "markdown",
   "id": "b6f0003c-182e-4941-b10b-46ac24d00564",
   "metadata": {},
   "source": [
    "This will create the exact same list, but this time without the repeated append calls."
   ]
  },
  {
   "cell_type": "markdown",
   "id": "a342a683-d6ca-48e9-a02f-bbd46cb86af1",
   "metadata": {},
   "source": [
    "Now `l` holds all our volage values from the measurements to further work with.\n",
    "Lists support indexing. So to retrieve the 1st element we can use this syntax"
   ]
  },
  {
   "cell_type": "code",
   "execution_count": 8,
   "id": "bff75ce5-7f5a-4922-84f1-75d6402fce9b",
   "metadata": {
    "execution": {
     "iopub.execute_input": "2022-02-23T14:40:04.554181Z",
     "iopub.status.busy": "2022-02-23T14:40:04.554023Z",
     "iopub.status.idle": "2022-02-23T14:40:04.556922Z",
     "shell.execute_reply": "2022-02-23T14:40:04.556577Z",
     "shell.execute_reply.started": "2022-02-23T14:40:04.554166Z"
    },
    "tags": []
   },
   "outputs": [
    {
     "data": {
      "text/plain": [
       "0.1"
      ]
     },
     "execution_count": 8,
     "metadata": {},
     "output_type": "execute_result"
    }
   ],
   "source": [
    "l[0]"
   ]
  },
  {
   "cell_type": "markdown",
   "id": "7ed0b06f-1422-4cb1-9811-567314eed0e5",
   "metadata": {},
   "source": [
    "This will output the first voltage from our list. Note that Python, such as most other programming languages starts to count at zero, so in order to retrieve the first element, we need to use zero as our index value.\n",
    "Accessing the other values in the list is probably straightforward."
   ]
  },
  {
   "cell_type": "code",
   "execution_count": 9,
   "id": "51dd94d5-c6b6-4b9d-8baa-0dc1db985dff",
   "metadata": {
    "execution": {
     "iopub.execute_input": "2022-02-23T14:40:04.557715Z",
     "iopub.status.busy": "2022-02-23T14:40:04.557591Z",
     "iopub.status.idle": "2022-02-23T14:40:04.560780Z",
     "shell.execute_reply": "2022-02-23T14:40:04.560425Z",
     "shell.execute_reply.started": "2022-02-23T14:40:04.557700Z"
    },
    "tags": []
   },
   "outputs": [
    {
     "name": "stdout",
     "output_type": "stream",
     "text": [
      "0.2\n",
      "0.25\n",
      "0.11\n",
      "0.72\n"
     ]
    }
   ],
   "source": [
    "print(l[1])\n",
    "print(l[2])\n",
    "print(l[3])\n",
    "print(l[4])"
   ]
  },
  {
   "cell_type": "markdown",
   "id": "3fde99b9-7d7e-4e9a-a064-157cefd5ba54",
   "metadata": {},
   "source": [
    "Rather surprising, but very handy, is the fact the Python supports indexing starting at the end and towards the beginning. Simply use negative index values for this."
   ]
  },
  {
   "cell_type": "code",
   "execution_count": 10,
   "id": "896be801-3c6b-4e6c-ac2c-d41a837585c6",
   "metadata": {
    "execution": {
     "iopub.execute_input": "2022-02-23T14:40:04.561690Z",
     "iopub.status.busy": "2022-02-23T14:40:04.561527Z",
     "iopub.status.idle": "2022-02-23T14:40:04.564361Z",
     "shell.execute_reply": "2022-02-23T14:40:04.563984Z",
     "shell.execute_reply.started": "2022-02-23T14:40:04.561674Z"
    },
    "tags": []
   },
   "outputs": [
    {
     "name": "stdout",
     "output_type": "stream",
     "text": [
      "0.72\n",
      "0.11\n",
      "0.25\n",
      "0.2\n",
      "0.1\n"
     ]
    }
   ],
   "source": [
    "print(l[-1])\n",
    "print(l[-2])\n",
    "print(l[-3])\n",
    "print(l[-4])\n",
    "print(l[-5])"
   ]
  },
  {
   "cell_type": "markdown",
   "id": "0e1fa36b-57e1-4c12-9370-68f9a6e8c607",
   "metadata": {},
   "source": [
    "Another interesting concept is *slicing*. Instead of retrieving just one element from a list, we can fetch a subset of it. The syntax for this is using colons `:`. E.g. `start_index:end_index:every_nth` denotes a slice starting at `start_index` up to (and excluding) `end_index` fetching `every_nth` value. Also shortcuts to this exist. Let's have a look at some of these."
   ]
  },
  {
   "cell_type": "markdown",
   "id": "c07e7cf0-e5aa-4af9-9fbc-e0faa3d5c1c2",
   "metadata": {},
   "source": [
    "Retrieve all voltages starting with the second. `start_index` is 1 in this case."
   ]
  },
  {
   "cell_type": "code",
   "execution_count": 11,
   "id": "b7a46ca1-d250-4706-b56b-e32bb4189bee",
   "metadata": {
    "execution": {
     "iopub.execute_input": "2022-02-23T14:40:04.565163Z",
     "iopub.status.busy": "2022-02-23T14:40:04.565018Z",
     "iopub.status.idle": "2022-02-23T14:40:04.567869Z",
     "shell.execute_reply": "2022-02-23T14:40:04.567511Z",
     "shell.execute_reply.started": "2022-02-23T14:40:04.565150Z"
    },
    "tags": []
   },
   "outputs": [
    {
     "data": {
      "text/plain": [
       "[0.2, 0.25, 0.11, 0.72]"
      ]
     },
     "execution_count": 11,
     "metadata": {},
     "output_type": "execute_result"
    }
   ],
   "source": [
    "l[1:]"
   ]
  },
  {
   "cell_type": "markdown",
   "id": "45492088-2843-4d42-915c-3ef1922659b3",
   "metadata": {},
   "source": [
    "Fetch all values up to the third. `end_index` is 2 in this case."
   ]
  },
  {
   "cell_type": "code",
   "execution_count": 12,
   "id": "5f335fdc-4823-4fd7-9cdb-850771de1ec5",
   "metadata": {
    "execution": {
     "iopub.execute_input": "2022-02-23T14:40:04.572428Z",
     "iopub.status.busy": "2022-02-23T14:40:04.572273Z",
     "iopub.status.idle": "2022-02-23T14:40:04.575483Z",
     "shell.execute_reply": "2022-02-23T14:40:04.575115Z",
     "shell.execute_reply.started": "2022-02-23T14:40:04.572413Z"
    },
    "tags": []
   },
   "outputs": [
    {
     "data": {
      "text/plain": [
       "[0.1, 0.2]"
      ]
     },
     "execution_count": 12,
     "metadata": {},
     "output_type": "execute_result"
    }
   ],
   "source": [
    "l[:2]"
   ]
  },
  {
   "cell_type": "markdown",
   "id": "10c69b54-efc9-4b29-a14c-40cc3ace911d",
   "metadata": {},
   "source": [
    "Fetch every second value from the beginning."
   ]
  },
  {
   "cell_type": "code",
   "execution_count": 13,
   "id": "98a5c85d-66a5-493c-8f58-f9957ea5f07a",
   "metadata": {
    "execution": {
     "iopub.execute_input": "2022-02-23T14:40:04.576296Z",
     "iopub.status.busy": "2022-02-23T14:40:04.576149Z",
     "iopub.status.idle": "2022-02-23T14:40:04.579154Z",
     "shell.execute_reply": "2022-02-23T14:40:04.578638Z",
     "shell.execute_reply.started": "2022-02-23T14:40:04.576282Z"
    },
    "tags": []
   },
   "outputs": [
    {
     "data": {
      "text/plain": [
       "[0.1, 0.25, 0.72]"
      ]
     },
     "execution_count": 13,
     "metadata": {},
     "output_type": "execute_result"
    }
   ],
   "source": [
    "l[::2]"
   ]
  },
  {
   "cell_type": "markdown",
   "id": "c3b87801-6b09-41da-8a37-b9f70ce0596f",
   "metadata": {},
   "source": [
    "You can even index this way from the end. Simply use negative indices for all index positions."
   ]
  },
  {
   "cell_type": "code",
   "execution_count": 14,
   "id": "c63562e8-7299-41d7-a6cb-078a789fcd80",
   "metadata": {
    "execution": {
     "iopub.execute_input": "2022-02-23T14:40:04.580127Z",
     "iopub.status.busy": "2022-02-23T14:40:04.579914Z",
     "iopub.status.idle": "2022-02-23T14:40:04.583464Z",
     "shell.execute_reply": "2022-02-23T14:40:04.583062Z",
     "shell.execute_reply.started": "2022-02-23T14:40:04.580110Z"
    },
    "tags": []
   },
   "outputs": [
    {
     "data": {
      "text/plain": [
       "[0.72, 0.25]"
      ]
     },
     "execution_count": 14,
     "metadata": {},
     "output_type": "execute_result"
    }
   ],
   "source": [
    "l[-1:0:-2]"
   ]
  },
  {
   "cell_type": "markdown",
   "id": "2fe305e2-1cdb-491c-998e-c9652707b9c3",
   "metadata": {},
   "source": [
    "This will give us the last value, followed by the third but not the first, as the definition is to iterate up until but excluding the `end_index`."
   ]
  },
  {
   "cell_type": "markdown",
   "id": "833e7148-585c-41d9-8989-c4b087877d40",
   "metadata": {},
   "source": [
    ":::{tip}\n",
    "Use the `dir` and `help` methods to learn more on what a list type has to offer.\n",
    ":::"
   ]
  },
  {
   "cell_type": "markdown",
   "id": "273fa704-b24a-443a-85f0-f6fac57c6ba1",
   "metadata": {},
   "source": [
    "As the list type is mutable, the values in the list can be changed. You can use the same indexing approach together with an assignment to alter an existing value. To change the second voltage measured to another value, use the following."
   ]
  },
  {
   "cell_type": "code",
   "execution_count": 15,
   "id": "104be2fd-a331-47a1-9ec8-fa01150d6fcd",
   "metadata": {
    "execution": {
     "iopub.execute_input": "2022-02-23T14:40:04.584349Z",
     "iopub.status.busy": "2022-02-23T14:40:04.584211Z",
     "iopub.status.idle": "2022-02-23T14:40:04.587281Z",
     "shell.execute_reply": "2022-02-23T14:40:04.586939Z",
     "shell.execute_reply.started": "2022-02-23T14:40:04.584331Z"
    },
    "tags": []
   },
   "outputs": [
    {
     "data": {
      "text/plain": [
       "[0.1, 1.0, 0.25, 0.11, 0.72]"
      ]
     },
     "execution_count": 15,
     "metadata": {},
     "output_type": "execute_result"
    }
   ],
   "source": [
    "l[1] = 1.0\n",
    "l"
   ]
  },
  {
   "cell_type": "markdown",
   "id": "f7f06565-26b7-41a9-a461-6958ca3a6b0a",
   "metadata": {},
   "source": [
    "Another quite remarkable feature of the list type, and that is what distinguishes it from arrays, is, that there is no need for consistency of datatypes used in the list. So overwriting an item with a text for example is perfectly fine and valid. It might not support the desired outcome of your measurement analysis workflow, but it will work. But who knows?"
   ]
  },
  {
   "cell_type": "code",
   "execution_count": 16,
   "id": "8713a818-adeb-46a5-a242-92bfcbf645b6",
   "metadata": {
    "execution": {
     "iopub.execute_input": "2022-02-23T14:40:04.588078Z",
     "iopub.status.busy": "2022-02-23T14:40:04.587929Z",
     "iopub.status.idle": "2022-02-23T14:40:04.590835Z",
     "shell.execute_reply": "2022-02-23T14:40:04.590480Z",
     "shell.execute_reply.started": "2022-02-23T14:40:04.588064Z"
    },
    "tags": []
   },
   "outputs": [
    {
     "data": {
      "text/plain": [
       "[0.1, 1.0, 0.25, 'Invalid', 0.72]"
      ]
     },
     "execution_count": 16,
     "metadata": {},
     "output_type": "execute_result"
    }
   ],
   "source": [
    "l[3] = \"Invalid\"\n",
    "l"
   ]
  },
  {
   "cell_type": "markdown",
   "id": "4d401854-1df6-4a5d-b0d6-d942e1be0d70",
   "metadata": {},
   "source": [
    "An interesting new aspect arises when adding empty lists to a new empty list. This will effectively create a two dimensional array."
   ]
  },
  {
   "cell_type": "code",
   "execution_count": 17,
   "id": "3bce25bd-9667-47ee-9fc4-ac255d1899eb",
   "metadata": {
    "execution": {
     "iopub.execute_input": "2022-02-23T14:40:04.591657Z",
     "iopub.status.busy": "2022-02-23T14:40:04.591512Z",
     "iopub.status.idle": "2022-02-23T14:40:04.594246Z",
     "shell.execute_reply": "2022-02-23T14:40:04.593917Z",
     "shell.execute_reply.started": "2022-02-23T14:40:04.591643Z"
    },
    "tags": []
   },
   "outputs": [
    {
     "data": {
      "text/plain": [
       "[[], [], []]"
      ]
     },
     "execution_count": 17,
     "metadata": {},
     "output_type": "execute_result"
    }
   ],
   "source": [
    "data = [[], [], []]\n",
    "data"
   ]
  },
  {
   "cell_type": "markdown",
   "id": "54ff1ae1-54a3-4279-ac7e-aad6c87e8224",
   "metadata": {},
   "source": [
    "You can again use the index approach to *reach* the inner lists. So to append values to the inner structure, you would use this."
   ]
  },
  {
   "cell_type": "code",
   "execution_count": 18,
   "id": "234d3b5e-c389-4a15-845a-bc4da37d7343",
   "metadata": {
    "execution": {
     "iopub.execute_input": "2022-02-23T14:40:04.594982Z",
     "iopub.status.busy": "2022-02-23T14:40:04.594866Z",
     "iopub.status.idle": "2022-02-23T14:40:04.599845Z",
     "shell.execute_reply": "2022-02-23T14:40:04.599478Z",
     "shell.execute_reply.started": "2022-02-23T14:40:04.594968Z"
    },
    "tags": []
   },
   "outputs": [
    {
     "data": {
      "text/plain": [
       "[[1, 2, 3, 4, 5],\n",
       " [0.1, 0.2, 0.25, 0.72, 0.12],\n",
       " [(1+1j), (1+1.1j), (1.1+1j), (1.2+0.9j), (0.1+1.2j)]]"
      ]
     },
     "execution_count": 18,
     "metadata": {},
     "output_type": "execute_result"
    }
   ],
   "source": [
    "data[0].append(1)\n",
    "data[1].append(0.1)\n",
    "data[2].append(1 + 1j)\n",
    "\n",
    "data[0].append(2)\n",
    "data[1].append(0.2)\n",
    "data[2].append(1 + 1.1j)\n",
    "\n",
    "data[0].append(3)\n",
    "data[1].append(0.25)\n",
    "data[2].append(1.1 + 1j)\n",
    "\n",
    "data[0].append(4)\n",
    "data[1].append(0.72)\n",
    "data[2].append(1.2 + 0.9j)\n",
    "\n",
    "data[0].append(5)\n",
    "data[1].append(0.12)\n",
    "data[2].append(0.1 + 1.2j)\n",
    "\n",
    "data"
   ]
  },
  {
   "cell_type": "markdown",
   "id": "ae16ce61-f7c3-4aa0-a257-e71f8c8670b5",
   "metadata": {},
   "source": [
    "This pretty much looks like a more complex data structure to hold measurement data. The first inner list would store something like a measurement number, the second maybe represents a voltage value, whilst the last one might hold some more complex."
   ]
  },
  {
   "cell_type": "markdown",
   "id": "2d18cc49-742f-4caa-88a0-8489873fb00c",
   "metadata": {},
   "source": [
    "To retrieve a value use the indexing approach again. It's a two step procedure now. Step into the correct inner list and fetch the value from that. The following two ways of doing this are identical, and we will use variables for the indexing."
   ]
  },
  {
   "cell_type": "code",
   "execution_count": 19,
   "id": "ca6686ac-1d98-4819-8cb0-b036c076f7df",
   "metadata": {
    "execution": {
     "iopub.execute_input": "2022-02-23T14:40:04.600645Z",
     "iopub.status.busy": "2022-02-23T14:40:04.600512Z",
     "iopub.status.idle": "2022-02-23T14:40:04.603265Z",
     "shell.execute_reply": "2022-02-23T14:40:04.602910Z",
     "shell.execute_reply.started": "2022-02-23T14:40:04.600631Z"
    },
    "tags": []
   },
   "outputs": [
    {
     "name": "stdout",
     "output_type": "stream",
     "text": [
      "0.72\n",
      "0.72\n"
     ]
    }
   ],
   "source": [
    "column = 1\n",
    "row = 3\n",
    "\n",
    "dataset = data[column]\n",
    "value = dataset[row]\n",
    "print(value)\n",
    "\n",
    "value = data[column][row]\n",
    "print(value)"
   ]
  },
  {
   "cell_type": "markdown",
   "id": "55625901-3f1b-467c-954d-c6a7fffa6efd",
   "metadata": {},
   "source": [
    "This was already quite something related to list usage. But there is more. You can use the `dir` command to see what more our list `l` has to offer."
   ]
  },
  {
   "cell_type": "code",
   "execution_count": 20,
   "id": "d39cc783-cdc3-4fd2-bcda-ceac0009639c",
   "metadata": {
    "execution": {
     "iopub.execute_input": "2022-02-23T14:40:04.604038Z",
     "iopub.status.busy": "2022-02-23T14:40:04.603908Z",
     "iopub.status.idle": "2022-02-23T14:40:04.607122Z",
     "shell.execute_reply": "2022-02-23T14:40:04.606733Z",
     "shell.execute_reply.started": "2022-02-23T14:40:04.604024Z"
    },
    "tags": []
   },
   "outputs": [
    {
     "data": {
      "text/plain": [
       "['__add__',\n",
       " '__class__',\n",
       " '__class_getitem__',\n",
       " '__contains__',\n",
       " '__delattr__',\n",
       " '__delitem__',\n",
       " '__dir__',\n",
       " '__doc__',\n",
       " '__eq__',\n",
       " '__format__',\n",
       " '__ge__',\n",
       " '__getattribute__',\n",
       " '__getitem__',\n",
       " '__gt__',\n",
       " '__hash__',\n",
       " '__iadd__',\n",
       " '__imul__',\n",
       " '__init__',\n",
       " '__init_subclass__',\n",
       " '__iter__',\n",
       " '__le__',\n",
       " '__len__',\n",
       " '__lt__',\n",
       " '__mul__',\n",
       " '__ne__',\n",
       " '__new__',\n",
       " '__reduce__',\n",
       " '__reduce_ex__',\n",
       " '__repr__',\n",
       " '__reversed__',\n",
       " '__rmul__',\n",
       " '__setattr__',\n",
       " '__setitem__',\n",
       " '__sizeof__',\n",
       " '__str__',\n",
       " '__subclasshook__',\n",
       " 'append',\n",
       " 'clear',\n",
       " 'copy',\n",
       " 'count',\n",
       " 'extend',\n",
       " 'index',\n",
       " 'insert',\n",
       " 'pop',\n",
       " 'remove',\n",
       " 'reverse',\n",
       " 'sort']"
      ]
     },
     "execution_count": 20,
     "metadata": {},
     "output_type": "execute_result"
    }
   ],
   "source": [
    "dir(l)"
   ]
  },
  {
   "cell_type": "markdown",
   "id": "228513a3-5004-4490-a450-8c2dd96a0bc8",
   "metadata": {},
   "source": [
    "There are quite a few of those dunder methods there, which implement to use some protocols to be used with the list, such as iteration for example. And we see addition, which implemented by the `__add__` method. So, in a way, lists can be added. There's also a `__mul__` method, which indicates that there is also some way to perform a multiplication with lists. Interesting. The `__len__` method let's us call the `len` function on it. This will show the length of the list. Another interesting one is the `__repr__` method. This implements a string representation of the contents of the list. Because of this we can use `print` to show the contents of the list. Let's quickly try some of those."
   ]
  },
  {
   "cell_type": "code",
   "execution_count": 21,
   "id": "4d6a1fda-195b-4456-b08d-1796bd77ed05",
   "metadata": {
    "execution": {
     "iopub.execute_input": "2022-02-23T14:40:04.607945Z",
     "iopub.status.busy": "2022-02-23T14:40:04.607776Z",
     "iopub.status.idle": "2022-02-23T14:40:04.610264Z",
     "shell.execute_reply": "2022-02-23T14:40:04.609816Z",
     "shell.execute_reply.started": "2022-02-23T14:40:04.607928Z"
    },
    "tags": []
   },
   "outputs": [
    {
     "name": "stdout",
     "output_type": "stream",
     "text": [
      "[0.1, 1.0, 0.25, 'Invalid', 0.72]\n"
     ]
    }
   ],
   "source": [
    "print(l)"
   ]
  },
  {
   "cell_type": "code",
   "execution_count": 22,
   "id": "6ff0be17-8ea8-4e37-b9e6-20cb72fd8fcc",
   "metadata": {
    "execution": {
     "iopub.execute_input": "2022-02-23T14:40:04.611302Z",
     "iopub.status.busy": "2022-02-23T14:40:04.610994Z",
     "iopub.status.idle": "2022-02-23T14:40:04.614191Z",
     "shell.execute_reply": "2022-02-23T14:40:04.613794Z",
     "shell.execute_reply.started": "2022-02-23T14:40:04.611279Z"
    },
    "tags": []
   },
   "outputs": [
    {
     "data": {
      "text/plain": [
       "5"
      ]
     },
     "execution_count": 22,
     "metadata": {},
     "output_type": "execute_result"
    }
   ],
   "source": [
    "len(l)"
   ]
  },
  {
   "cell_type": "markdown",
   "id": "10cf60bd-a57b-43b4-96aa-d05fb72e335c",
   "metadata": {},
   "source": [
    "So these where quite obvious. But what about addition?"
   ]
  },
  {
   "cell_type": "code",
   "execution_count": 23,
   "id": "185b96b0-99bb-4adc-93ec-ef046ffaa25c",
   "metadata": {
    "execution": {
     "iopub.execute_input": "2022-02-23T14:40:04.615034Z",
     "iopub.status.busy": "2022-02-23T14:40:04.614880Z",
     "iopub.status.idle": "2022-02-23T14:40:04.618875Z",
     "shell.execute_reply": "2022-02-23T14:40:04.618413Z",
     "shell.execute_reply.started": "2022-02-23T14:40:04.615020Z"
    },
    "tags": []
   },
   "outputs": [
    {
     "data": {
      "text/plain": [
       "[0.1, 1.0, 0.25, 'Invalid', 0.72, 'Hallo', 'Welt']"
      ]
     },
     "execution_count": 23,
     "metadata": {},
     "output_type": "execute_result"
    }
   ],
   "source": [
    "l + [\"Hallo\", \"Welt\"]"
   ]
  },
  {
   "cell_type": "markdown",
   "id": "796cac96-b6a6-477b-a54d-35662ec514ec",
   "metadata": {},
   "source": [
    "Addition can be used to create a new, extended version of the list. Both lists `l` and the new one with the items *Hello* and *World*, will be concatenated and form a new list, which can be used further on. \n",
    "\n",
    "And how will multiplication work? Multiplication can be used to create a new list with `n` copies of an existing one. Here's an example."
   ]
  },
  {
   "cell_type": "code",
   "execution_count": 24,
   "id": "ed59baef-4a4b-4204-b896-df76da5ab36b",
   "metadata": {
    "execution": {
     "iopub.execute_input": "2022-02-23T14:40:04.619790Z",
     "iopub.status.busy": "2022-02-23T14:40:04.619574Z",
     "iopub.status.idle": "2022-02-23T14:40:04.622846Z",
     "shell.execute_reply": "2022-02-23T14:40:04.622464Z",
     "shell.execute_reply.started": "2022-02-23T14:40:04.619773Z"
    },
    "tags": []
   },
   "outputs": [
    {
     "data": {
      "text/plain": [
       "[0.1,\n",
       " 1.0,\n",
       " 0.25,\n",
       " 'Invalid',\n",
       " 0.72,\n",
       " 0.1,\n",
       " 1.0,\n",
       " 0.25,\n",
       " 'Invalid',\n",
       " 0.72,\n",
       " 0.1,\n",
       " 1.0,\n",
       " 0.25,\n",
       " 'Invalid',\n",
       " 0.72,\n",
       " 0.1,\n",
       " 1.0,\n",
       " 0.25,\n",
       " 'Invalid',\n",
       " 0.72,\n",
       " 0.1,\n",
       " 1.0,\n",
       " 0.25,\n",
       " 'Invalid',\n",
       " 0.72]"
      ]
     },
     "execution_count": 24,
     "metadata": {},
     "output_type": "execute_result"
    }
   ],
   "source": [
    "l * 5"
   ]
  },
  {
   "cell_type": "markdown",
   "id": "ca780e28-1912-4e2c-983b-09a060305d04",
   "metadata": {},
   "source": [
    "The result is a list having 5 times the content of `l`. Not very useful, I know. This concept is more often used to pre-initialize lists with values to be replaced later on.\n",
    "For example to create a list of 20 zeros, just use this."
   ]
  },
  {
   "cell_type": "code",
   "execution_count": 25,
   "id": "011f1d63-5f6e-4c94-8d0d-26eef91595cd",
   "metadata": {
    "execution": {
     "iopub.execute_input": "2022-02-23T14:40:04.623631Z",
     "iopub.status.busy": "2022-02-23T14:40:04.623500Z",
     "iopub.status.idle": "2022-02-23T14:40:04.625870Z",
     "shell.execute_reply": "2022-02-23T14:40:04.625513Z",
     "shell.execute_reply.started": "2022-02-23T14:40:04.623617Z"
    },
    "tags": []
   },
   "outputs": [
    {
     "name": "stdout",
     "output_type": "stream",
     "text": [
      "[0, 0, 0, 0, 0, 0, 0, 0, 0, 0, 0, 0, 0, 0, 0, 0, 0, 0, 0, 0]\n"
     ]
    }
   ],
   "source": [
    "twenty_zeros = [0] * 20\n",
    "print(twenty_zeros)"
   ]
  },
  {
   "cell_type": "markdown",
   "id": "270a0614-8013-49e0-b23a-5aa9d824a74f",
   "metadata": {},
   "source": [
    "But let's now have a look at the more exposed methods of our list type. Those methods not having those double underscores.\n",
    " append, clear, copy, count, extend, index, insert, pop, remove, reverse, sort\n"
   ]
  },
  {
   "cell_type": "markdown",
   "id": "171fe479-0169-43f5-9152-8a6fd0d6f614",
   "metadata": {},
   "source": [
    "We already used the `append` method. Use this to add single items to an existing list.\n",
    "With the `extend` method, an existing list can be extended by the contents of another list."
   ]
  },
  {
   "cell_type": "code",
   "execution_count": 26,
   "id": "3d051724-ae23-43a7-9395-3bcdfa375ff6",
   "metadata": {
    "execution": {
     "iopub.execute_input": "2022-02-23T14:40:04.626664Z",
     "iopub.status.busy": "2022-02-23T14:40:04.626521Z",
     "iopub.status.idle": "2022-02-23T14:40:04.628802Z",
     "shell.execute_reply": "2022-02-23T14:40:04.628404Z",
     "shell.execute_reply.started": "2022-02-23T14:40:04.626650Z"
    },
    "tags": []
   },
   "outputs": [],
   "source": [
    "l.extend([\"Hallo\", \"Welt\"])"
   ]
  },
  {
   "cell_type": "markdown",
   "id": "f470ce03-5b7e-4b27-9f8b-f63c4d6fed4a",
   "metadata": {},
   "source": [
    "This looks pretty comparable to our addition experiment above. But this time, no new list is created, hence the missing output. This is a so called *inplace* operation. Printing our list `l` shows the new, extended state."
   ]
  },
  {
   "cell_type": "code",
   "execution_count": 27,
   "id": "87b8e2e9-d212-4726-a762-f43940898e32",
   "metadata": {
    "execution": {
     "iopub.execute_input": "2022-02-23T14:40:04.629632Z",
     "iopub.status.busy": "2022-02-23T14:40:04.629494Z",
     "iopub.status.idle": "2022-02-23T14:40:04.631845Z",
     "shell.execute_reply": "2022-02-23T14:40:04.631478Z",
     "shell.execute_reply.started": "2022-02-23T14:40:04.629615Z"
    },
    "tags": []
   },
   "outputs": [
    {
     "name": "stdout",
     "output_type": "stream",
     "text": [
      "[0.1, 1.0, 0.25, 'Invalid', 0.72, 'Hallo', 'Welt']\n"
     ]
    }
   ],
   "source": [
    "print(l)"
   ]
  },
  {
   "cell_type": "markdown",
   "id": "980993b6-459a-4731-b31f-5054aaa75b58",
   "metadata": {},
   "source": [
    "You can of course use `extend` to append single values as well. It's an extension using a one elemented list. So"
   ]
  },
  {
   "cell_type": "code",
   "execution_count": 28,
   "id": "44d36670-d242-4ef7-8628-3c6564d0a567",
   "metadata": {
    "execution": {
     "iopub.execute_input": "2022-02-23T14:40:04.632582Z",
     "iopub.status.busy": "2022-02-23T14:40:04.632461Z",
     "iopub.status.idle": "2022-02-23T14:40:04.634765Z",
     "shell.execute_reply": "2022-02-23T14:40:04.634431Z",
     "shell.execute_reply.started": "2022-02-23T14:40:04.632568Z"
    }
   },
   "outputs": [
    {
     "name": "stdout",
     "output_type": "stream",
     "text": [
      "[0.1, 1.0, 0.25, 'Invalid', 0.72, 'Hallo', 'Welt', 'Another element']\n"
     ]
    }
   ],
   "source": [
    "l.extend([\"Another element\"])\n",
    "print(l)"
   ]
  },
  {
   "cell_type": "markdown",
   "id": "1b6a8ad7-fa4a-4ed6-ae10-15bf48677793",
   "metadata": {},
   "source": [
    "will extend our list by another item. But this will be kind of weird to use."
   ]
  },
  {
   "cell_type": "markdown",
   "id": "652f687d-1cab-4d6a-81f5-465e53da808a",
   "metadata": {},
   "source": [
    "We can use `copy` to create a copy of our list."
   ]
  },
  {
   "cell_type": "code",
   "execution_count": 29,
   "id": "7a455f0d-904d-43ef-b3d4-ac4a31bbd718",
   "metadata": {
    "execution": {
     "iopub.execute_input": "2022-02-23T14:40:04.635483Z",
     "iopub.status.busy": "2022-02-23T14:40:04.635365Z",
     "iopub.status.idle": "2022-02-23T14:40:04.637629Z",
     "shell.execute_reply": "2022-02-23T14:40:04.637288Z",
     "shell.execute_reply.started": "2022-02-23T14:40:04.635469Z"
    }
   },
   "outputs": [
    {
     "name": "stdout",
     "output_type": "stream",
     "text": [
      "[0.1, 1.0, 0.25, 'Invalid', 0.72, 'Hallo', 'Welt', 'Another element']\n"
     ]
    }
   ],
   "source": [
    "l2 = l.copy()\n",
    "print(l2)"
   ]
  },
  {
   "cell_type": "markdown",
   "id": "26bdc05f-57fd-40dc-892b-46d77b871796",
   "metadata": {},
   "source": [
    "From now on l and l2 can be modified independently of one another. Quite useful sometimes. Note that"
   ]
  },
  {
   "cell_type": "code",
   "execution_count": 30,
   "id": "dece8d08-af19-4859-8592-0470b88987bf",
   "metadata": {
    "execution": {
     "iopub.execute_input": "2022-02-23T14:40:04.638342Z",
     "iopub.status.busy": "2022-02-23T14:40:04.638215Z",
     "iopub.status.idle": "2022-02-23T14:40:04.640383Z",
     "shell.execute_reply": "2022-02-23T14:40:04.640050Z",
     "shell.execute_reply.started": "2022-02-23T14:40:04.638329Z"
    },
    "tags": []
   },
   "outputs": [
    {
     "name": "stdout",
     "output_type": "stream",
     "text": [
      "[0.1, 1.0, 0.25, 'Invalid', 0.72, 'Hallo', 'Welt', 'Another element']\n"
     ]
    }
   ],
   "source": [
    "l3 = l[:]\n",
    "print(l3)"
   ]
  },
  {
   "cell_type": "markdown",
   "id": "f9be0bc2-3443-4573-8c79-101bd7abc0a0",
   "metadata": {},
   "source": [
    "does effectively the same thing. You will probably see this version much more often than the copy method."
   ]
  },
  {
   "cell_type": "markdown",
   "id": "d102e74d-fb65-47d5-811a-e88f548d095c",
   "metadata": {},
   "source": [
    "Copying might be an important step if you temporarily would like to modify a few items in an existing list to see where this would lead you. Notice, that a simple variable assignment to another name, probably does not have the desired effect."
   ]
  },
  {
   "cell_type": "code",
   "execution_count": 31,
   "id": "36828d06-a7b2-48e3-9ecc-2b7deb9dc9d8",
   "metadata": {
    "execution": {
     "iopub.execute_input": "2022-02-23T14:40:04.641084Z",
     "iopub.status.busy": "2022-02-23T14:40:04.640958Z",
     "iopub.status.idle": "2022-02-23T14:40:04.643449Z",
     "shell.execute_reply": "2022-02-23T14:40:04.643097Z",
     "shell.execute_reply.started": "2022-02-23T14:40:04.641070Z"
    }
   },
   "outputs": [
    {
     "name": "stdout",
     "output_type": "stream",
     "text": [
      "[0.1, 1000, 0.25, 'Invalid', 0.72, 'Hallo', 'Welt', 'Another element']\n",
      "[0.1, 1000, 0.25, 'Invalid', 0.72, 'Hallo', 'Welt', 'Another element']\n"
     ]
    }
   ],
   "source": [
    "l4 = l.copy()\n",
    "l5 = l4\n",
    "l5[1] = 1000\n",
    "print(l5)\n",
    "print(l4)"
   ]
  },
  {
   "cell_type": "markdown",
   "id": "da44f2e0-5d8a-4283-8bba-49bb2bd03ad0",
   "metadata": {},
   "source": [
    "Changing the second element in l5, seems to have changed the value in l4 as well. Strange, isn't it?\n",
    "Actually it's not. All we have done is to create a new reference to the contents of the already existing list `l4` named `l5`. By doing so, you can now access the same values by either using `l4` or `l5`. And that's why the change is visible for both `l4` and `l5`."
   ]
  },
  {
   "cell_type": "markdown",
   "id": "e91b7c2e-6ee2-4c10-b288-7e3e742341f9",
   "metadata": {},
   "source": [
    "But there is still more to come. \n",
    "`count` for example assists you in counting occurences of an item in a list."
   ]
  },
  {
   "cell_type": "code",
   "execution_count": 32,
   "id": "282ec047-58f5-4d84-9172-95c4dae1a69e",
   "metadata": {
    "execution": {
     "iopub.execute_input": "2022-02-23T14:40:04.644333Z",
     "iopub.status.busy": "2022-02-23T14:40:04.644177Z",
     "iopub.status.idle": "2022-02-23T14:40:04.647038Z",
     "shell.execute_reply": "2022-02-23T14:40:04.646687Z",
     "shell.execute_reply.started": "2022-02-23T14:40:04.644319Z"
    }
   },
   "outputs": [
    {
     "data": {
      "text/plain": [
       "2"
      ]
     },
     "execution_count": 32,
     "metadata": {},
     "output_type": "execute_result"
    }
   ],
   "source": [
    "l6 = [1, 2, 3, 1, 6, \"Hallo\"]\n",
    "l6.count(1)"
   ]
  },
  {
   "cell_type": "markdown",
   "id": "e9d7171c-216c-45a2-81b3-cf8a3c239279",
   "metadata": {},
   "source": [
    "This shows, that we can find the number 1 two times in the list `l6`.\n",
    "By using `index`, we can find the position of an element."
   ]
  },
  {
   "cell_type": "code",
   "execution_count": 33,
   "id": "418d4bc1-d7ee-443b-8e14-53cf7a3bb033",
   "metadata": {
    "execution": {
     "iopub.execute_input": "2022-02-23T14:40:04.647794Z",
     "iopub.status.busy": "2022-02-23T14:40:04.647675Z",
     "iopub.status.idle": "2022-02-23T14:40:04.650711Z",
     "shell.execute_reply": "2022-02-23T14:40:04.650198Z",
     "shell.execute_reply.started": "2022-02-23T14:40:04.647780Z"
    },
    "tags": []
   },
   "outputs": [
    {
     "data": {
      "text/plain": [
       "0"
      ]
     },
     "execution_count": 33,
     "metadata": {},
     "output_type": "execute_result"
    }
   ],
   "source": [
    "l6.index(1)"
   ]
  },
  {
   "cell_type": "markdown",
   "id": "ffd04af5-c494-4483-8348-ae3aab450760",
   "metadata": {},
   "source": [
    "shows, that the number 1 can be found at the first position. But that number occured twice, right? How to find the next index? The `help` method will be useful again here."
   ]
  },
  {
   "cell_type": "code",
   "execution_count": 34,
   "id": "1aefa750-18e4-4478-820e-0b869bb5405a",
   "metadata": {
    "execution": {
     "iopub.execute_input": "2022-02-23T14:40:04.651461Z",
     "iopub.status.busy": "2022-02-23T14:40:04.651325Z",
     "iopub.status.idle": "2022-02-23T14:40:04.655190Z",
     "shell.execute_reply": "2022-02-23T14:40:04.654768Z",
     "shell.execute_reply.started": "2022-02-23T14:40:04.651445Z"
    }
   },
   "outputs": [
    {
     "name": "stdout",
     "output_type": "stream",
     "text": [
      "Help on built-in function index:\n",
      "\n",
      "index(value, start=0, stop=9223372036854775807, /) method of builtins.list instance\n",
      "    Return first index of value.\n",
      "    \n",
      "    Raises ValueError if the value is not present.\n",
      "\n"
     ]
    }
   ],
   "source": [
    "help(l6.index)"
   ]
  },
  {
   "cell_type": "markdown",
   "id": "27a1db61-5157-4fe0-aae4-59c53360f19c",
   "metadata": {},
   "source": [
    "So the index method can have further optional arguments `start` and `stop` to narrow down the area, where `value` should be searched for. We can use repeated calls, omitting an already found index to find the next position."
   ]
  },
  {
   "cell_type": "code",
   "execution_count": 35,
   "id": "f900b4e9-db25-44cd-baa3-9cb21a5bc8e5",
   "metadata": {
    "execution": {
     "iopub.execute_input": "2022-02-23T14:40:04.656115Z",
     "iopub.status.busy": "2022-02-23T14:40:04.655959Z",
     "iopub.status.idle": "2022-02-23T14:40:04.969154Z",
     "shell.execute_reply": "2022-02-23T14:40:04.965407Z",
     "shell.execute_reply.started": "2022-02-23T14:40:04.656100Z"
    },
    "tags": []
   },
   "outputs": [
    {
     "name": "stdout",
     "output_type": "stream",
     "text": [
      "0\n",
      "3\n"
     ]
    },
    {
     "ename": "ValueError",
     "evalue": "1 is not in list",
     "output_type": "error",
     "traceback": [
      "\u001b[0;31m---------------------------------------------------------------------------\u001b[0m",
      "\u001b[0;31mValueError\u001b[0m                                Traceback (most recent call last)",
      "Input \u001b[0;32mIn [35]\u001b[0m, in \u001b[0;36m<module>\u001b[0;34m\u001b[0m\n\u001b[1;32m      3\u001b[0m next_position \u001b[38;5;241m=\u001b[39m l6\u001b[38;5;241m.\u001b[39mindex(\u001b[38;5;241m1\u001b[39m, position \u001b[38;5;241m+\u001b[39m \u001b[38;5;241m1\u001b[39m)\n\u001b[1;32m      4\u001b[0m \u001b[38;5;28mprint\u001b[39m(next_position)\n\u001b[0;32m----> 5\u001b[0m maybe_another_position \u001b[38;5;241m=\u001b[39m \u001b[43ml6\u001b[49m\u001b[38;5;241;43m.\u001b[39;49m\u001b[43mindex\u001b[49m\u001b[43m(\u001b[49m\u001b[38;5;241;43m1\u001b[39;49m\u001b[43m,\u001b[49m\u001b[43m \u001b[49m\u001b[43mnext_position\u001b[49m\u001b[43m \u001b[49m\u001b[38;5;241;43m+\u001b[39;49m\u001b[43m \u001b[49m\u001b[38;5;241;43m1\u001b[39;49m\u001b[43m)\u001b[49m\n\u001b[1;32m      6\u001b[0m \u001b[38;5;28mprint\u001b[39m(maybe_another_position)\n",
      "\u001b[0;31mValueError\u001b[0m: 1 is not in list"
     ]
    }
   ],
   "source": [
    "position = l6.index(1)\n",
    "print(position)\n",
    "next_position = l6.index(1, position + 1)\n",
    "print(next_position)\n",
    "maybe_another_position = l6.index(1, next_position + 1)\n",
    "print(maybe_another_position)"
   ]
  },
  {
   "cell_type": "markdown",
   "id": "139acdfd-d8a3-4b91-ac4b-5dc85dba05fc",
   "metadata": {},
   "source": [
    "The last `index` call resulted in a `ValueError`, which is correct, as we just have 2 occurences of 1 in the list."
   ]
  },
  {
   "cell_type": "markdown",
   "id": "d01fc468-a9fd-4905-90ab-d243ebc6ad39",
   "metadata": {},
   "source": [
    "`append` and `extend` are not the only ways to fill our list. The `insert` method can be used to put a new `value` at a certain position, moving all existing elements next to this position to the right."
   ]
  },
  {
   "cell_type": "code",
   "execution_count": 36,
   "id": "d03a6afb-b64a-4153-a278-efb677cd3013",
   "metadata": {
    "execution": {
     "iopub.execute_input": "2022-02-23T14:40:11.766430Z",
     "iopub.status.busy": "2022-02-23T14:40:11.766257Z",
     "iopub.status.idle": "2022-02-23T14:40:11.768816Z",
     "shell.execute_reply": "2022-02-23T14:40:11.768388Z",
     "shell.execute_reply.started": "2022-02-23T14:40:11.766413Z"
    },
    "tags": []
   },
   "outputs": [],
   "source": [
    "l6.insert(3, \"A new Value\")"
   ]
  },
  {
   "cell_type": "code",
   "execution_count": 37,
   "id": "b32dd146-bf85-4817-b98a-3a1eaa13a655",
   "metadata": {
    "execution": {
     "iopub.execute_input": "2022-02-23T14:40:12.234612Z",
     "iopub.status.busy": "2022-02-23T14:40:12.234404Z",
     "iopub.status.idle": "2022-02-23T14:40:12.237204Z",
     "shell.execute_reply": "2022-02-23T14:40:12.236771Z",
     "shell.execute_reply.started": "2022-02-23T14:40:12.234581Z"
    },
    "tags": []
   },
   "outputs": [
    {
     "name": "stdout",
     "output_type": "stream",
     "text": [
      "[1, 2, 3, 'A new Value', 1, 6, 'Hallo']\n"
     ]
    }
   ],
   "source": [
    "print(l6)"
   ]
  },
  {
   "cell_type": "markdown",
   "id": "fee6a971-d3ce-4581-835e-c78a32023729",
   "metadata": {},
   "source": [
    "The next two interesting methods can be used to modify the positions of the lists contents in place.\n",
    "`sort` will sort the existing values in place, so without creating a new sorted copy. Note, that in order to sort the contents of a list, these values need to be comparable. As it makes no sense to decide if a string type will be lower or larger to a number, the attempt to sort our current list `l6` will fail. So let's quickly create a new one."
   ]
  },
  {
   "cell_type": "code",
   "execution_count": 38,
   "id": "66cbe44b-9c54-400b-ae4c-b5b77e1a7b11",
   "metadata": {
    "execution": {
     "iopub.execute_input": "2022-02-23T14:40:12.549202Z",
     "iopub.status.busy": "2022-02-23T14:40:12.549025Z",
     "iopub.status.idle": "2022-02-23T14:40:12.551878Z",
     "shell.execute_reply": "2022-02-23T14:40:12.551499Z",
     "shell.execute_reply.started": "2022-02-23T14:40:12.549185Z"
    },
    "tags": []
   },
   "outputs": [
    {
     "name": "stdout",
     "output_type": "stream",
     "text": [
      "[-3, 0.1, 12, 25, 42, 120]\n"
     ]
    }
   ],
   "source": [
    "l7 = [42, 120, 0.1, -3, 12, 25]\n",
    "l7.sort()\n",
    "print(l7)"
   ]
  },
  {
   "cell_type": "markdown",
   "id": "e3f4f991-a648-4421-9104-eeb861d885a0",
   "metadata": {},
   "source": [
    ":::{tip}\n",
    "Use the `sorted` builtin to create a sorted copy of a list: `sorted(l7)`\n",
    ":::"
   ]
  },
  {
   "cell_type": "markdown",
   "id": "da7a6ad2-a12f-4ff9-865b-bc6c5e1cfea4",
   "metadata": {},
   "source": [
    "Using `reverse` we can change the order of the items in the list from starting at the front to start from the back. "
   ]
  },
  {
   "cell_type": "code",
   "execution_count": 39,
   "id": "8b1a2fa9-d5dc-4a28-8004-1906590c45fd",
   "metadata": {
    "execution": {
     "iopub.execute_input": "2022-02-23T14:40:12.953733Z",
     "iopub.status.busy": "2022-02-23T14:40:12.953520Z",
     "iopub.status.idle": "2022-02-23T14:40:12.956402Z",
     "shell.execute_reply": "2022-02-23T14:40:12.956034Z",
     "shell.execute_reply.started": "2022-02-23T14:40:12.953700Z"
    },
    "tags": []
   },
   "outputs": [
    {
     "name": "stdout",
     "output_type": "stream",
     "text": [
      "[120, 42, 25, 12, 0.1, -3]\n"
     ]
    }
   ],
   "source": [
    "l7.reverse()\n",
    "print(l7)"
   ]
  },
  {
   "cell_type": "markdown",
   "id": "e3c39152-81bb-4be2-b911-27091b1ecdbb",
   "metadata": {},
   "source": [
    ":::{tip}\n",
    "Use the `reversed` builtin function to create a copy of your list in reversed order without modifying the original contend. `reversed(l7)`\n",
    ":::"
   ]
  },
  {
   "cell_type": "markdown",
   "id": "a9fab922-a5d4-4ef0-b2e7-a0dbb2558e90",
   "metadata": {},
   "source": [
    "The final methods help cleaning up."
   ]
  },
  {
   "cell_type": "markdown",
   "id": "040b6fbd-b955-48cc-85b6-8585f3e38285",
   "metadata": {},
   "source": [
    "Use `remove` to remove an occurance from a list."
   ]
  },
  {
   "cell_type": "code",
   "execution_count": 40,
   "id": "701dc743-fb10-4159-8c67-b4fbddbb05cc",
   "metadata": {
    "execution": {
     "iopub.execute_input": "2022-02-23T14:40:13.595067Z",
     "iopub.status.busy": "2022-02-23T14:40:13.594892Z",
     "iopub.status.idle": "2022-02-23T14:40:13.597740Z",
     "shell.execute_reply": "2022-02-23T14:40:13.597313Z",
     "shell.execute_reply.started": "2022-02-23T14:40:13.595050Z"
    },
    "tags": []
   },
   "outputs": [
    {
     "name": "stdout",
     "output_type": "stream",
     "text": [
      "[120, 42, 12, 0.1, -3]\n"
     ]
    }
   ],
   "source": [
    "l7.remove(25)\n",
    "print(l7)"
   ]
  },
  {
   "cell_type": "markdown",
   "id": "76786789-20f8-4153-8144-19e2e15c0d0a",
   "metadata": {},
   "source": [
    "Using `pop` an item can be removed from an index position in the list returning the corresponding value. The default index is -1. So calling `pop` without an argument will remove an element from the back. Think of the inverse procedure of `append`."
   ]
  },
  {
   "cell_type": "code",
   "execution_count": 41,
   "id": "f4ea763e-b8e3-48a4-85f0-4e4d0256ae2b",
   "metadata": {
    "execution": {
     "iopub.execute_input": "2022-02-23T14:40:13.842984Z",
     "iopub.status.busy": "2022-02-23T14:40:13.842812Z",
     "iopub.status.idle": "2022-02-23T14:40:13.845587Z",
     "shell.execute_reply": "2022-02-23T14:40:13.845122Z",
     "shell.execute_reply.started": "2022-02-23T14:40:13.842967Z"
    },
    "tags": []
   },
   "outputs": [
    {
     "name": "stdout",
     "output_type": "stream",
     "text": [
      "The removed value is -3.\n",
      "[120, 42, 12, 0.1]\n"
     ]
    }
   ],
   "source": [
    "removed_value = l7.pop()\n",
    "print(f\"The removed value is {removed_value}.\")\n",
    "print(l7)"
   ]
  },
  {
   "cell_type": "code",
   "execution_count": 42,
   "id": "939e7050-9c31-4568-b1d3-5ce34f1fb46f",
   "metadata": {
    "execution": {
     "iopub.execute_input": "2022-02-23T14:40:13.965596Z",
     "iopub.status.busy": "2022-02-23T14:40:13.965421Z",
     "iopub.status.idle": "2022-02-23T14:40:13.968097Z",
     "shell.execute_reply": "2022-02-23T14:40:13.967713Z",
     "shell.execute_reply.started": "2022-02-23T14:40:13.965577Z"
    },
    "tags": []
   },
   "outputs": [
    {
     "name": "stdout",
     "output_type": "stream",
     "text": [
      "The removed value is 120.\n",
      "[42, 12, 0.1]\n"
     ]
    }
   ],
   "source": [
    "removed_value = l7.pop(0)\n",
    "print(f\"The removed value is {removed_value}.\")\n",
    "print(l7)"
   ]
  },
  {
   "cell_type": "markdown",
   "id": "d9604c34-5871-4f25-8e48-236a13a5e510",
   "metadata": {},
   "source": [
    "By using `clear` the list can be completely cleared."
   ]
  },
  {
   "cell_type": "code",
   "execution_count": 43,
   "id": "fc5c5857-ad84-40b4-ba09-a2ea36603e40",
   "metadata": {
    "execution": {
     "iopub.execute_input": "2022-02-23T14:40:14.225236Z",
     "iopub.status.busy": "2022-02-23T14:40:14.225060Z",
     "iopub.status.idle": "2022-02-23T14:40:14.227552Z",
     "shell.execute_reply": "2022-02-23T14:40:14.227134Z",
     "shell.execute_reply.started": "2022-02-23T14:40:14.225218Z"
    },
    "tags": []
   },
   "outputs": [
    {
     "name": "stdout",
     "output_type": "stream",
     "text": [
      "[]\n"
     ]
    }
   ],
   "source": [
    "l7.clear()\n",
    "print(l7)"
   ]
  },
  {
   "cell_type": "markdown",
   "id": "6cc73c4a-124d-426c-b13f-e12af6cbb950",
   "metadata": {},
   "source": [
    "Using `clear` is quite seldomly used though. Most usually to clear the list another empty one is assigned to the same variable. So the following would of course achieve the same thing."
   ]
  },
  {
   "cell_type": "code",
   "execution_count": 44,
   "id": "dae053f2-ff0b-4840-94d9-ec260959d40f",
   "metadata": {
    "execution": {
     "iopub.execute_input": "2022-02-23T14:40:14.473332Z",
     "iopub.status.busy": "2022-02-23T14:40:14.473167Z",
     "iopub.status.idle": "2022-02-23T14:40:14.475585Z",
     "shell.execute_reply": "2022-02-23T14:40:14.475211Z",
     "shell.execute_reply.started": "2022-02-23T14:40:14.473315Z"
    },
    "tags": []
   },
   "outputs": [
    {
     "name": "stdout",
     "output_type": "stream",
     "text": [
      "[]\n"
     ]
    }
   ],
   "source": [
    "l7 = []\n",
    "print(l7)"
   ]
  },
  {
   "cell_type": "markdown",
   "id": "b980af5f-9083-47cc-9b6e-634d41058e90",
   "metadata": {},
   "source": [
    "### A quick return to maths"
   ]
  },
  {
   "cell_type": "markdown",
   "id": "34d17236-6baf-492c-8e5d-c932e450d694",
   "metadata": {},
   "source": [
    "Now that we're able to handle lists correctly, it's time for another builtin related to maths. You can use `sum` builtin to calculate the sum of values in a list. For example"
   ]
  },
  {
   "cell_type": "code",
   "execution_count": 135,
   "id": "960accb5-71a7-4b79-8ab7-8fd1b4b7c068",
   "metadata": {
    "execution": {
     "iopub.execute_input": "2022-02-23T17:06:07.622951Z",
     "iopub.status.busy": "2022-02-23T17:06:07.622676Z",
     "iopub.status.idle": "2022-02-23T17:06:07.626380Z",
     "shell.execute_reply": "2022-02-23T17:06:07.625938Z",
     "shell.execute_reply.started": "2022-02-23T17:06:07.622917Z"
    }
   },
   "outputs": [
    {
     "data": {
      "text/plain": [
       "15"
      ]
     },
     "execution_count": 135,
     "metadata": {},
     "output_type": "execute_result"
    }
   ],
   "source": [
    "values = [1, 2, 3, 4, 5]\n",
    "sum(values)"
   ]
  },
  {
   "cell_type": "markdown",
   "id": "83214fef-d76e-4912-9957-b74a66932a2a",
   "metadata": {},
   "source": [
    "will add up all numbers in the list to the correct result 15. This will work with floating point numbers as well. Let's use the cool multiplication feature for lists to create a list of simple float values and add them. Say a list with ten occurences of the value 0.1. This will sum up exactly to 1.0. Easy to check. Let's go."
   ]
  },
  {
   "cell_type": "code",
   "execution_count": 136,
   "id": "aba4741b-80f9-40d4-bc50-636a5b9d093d",
   "metadata": {
    "execution": {
     "iopub.execute_input": "2022-02-23T17:08:18.242637Z",
     "iopub.status.busy": "2022-02-23T17:08:18.242193Z",
     "iopub.status.idle": "2022-02-23T17:08:18.246468Z",
     "shell.execute_reply": "2022-02-23T17:08:18.245912Z",
     "shell.execute_reply.started": "2022-02-23T17:08:18.242620Z"
    }
   },
   "outputs": [
    {
     "name": "stdout",
     "output_type": "stream",
     "text": [
      "[0.1, 0.1, 0.1, 0.1, 0.1, 0.1, 0.1, 0.1, 0.1, 0.1]\n"
     ]
    },
    {
     "data": {
      "text/plain": [
       "0.9999999999999999"
      ]
     },
     "execution_count": 136,
     "metadata": {},
     "output_type": "execute_result"
    }
   ],
   "source": [
    "values = [0.1] * 10\n",
    "print(values)\n",
    "sum(values)"
   ]
  },
  {
   "cell_type": "markdown",
   "id": "ca15d9f6-bee2-4961-ac84-0d41433ba208",
   "metadata": {},
   "source": [
    "Wait! That is not the expected result. It's really close, but not the expected value of 1.0. Is Python that bad in calculating with floating point numbers?\n",
    "\n",
    "No! This is a trivial example to show one of the weaknesses of floating point numbers. The precision is limited due to it's internal design. Floating point numbers are represented using an exponential expression based on a *sign*, *fraction* and an *exponent*. The combination of those makes the number, and only a limited number of bits is available for each, hence the problems with precision. The main problem here though is not the internal bit representation for each value, as you can see above, as the value 0.1 is printed correctly ten times. There are problems with the floating point addition algoritmn. To solve this issue, a specialized (slower) implementation exists in the `math` module, which better takes care of the bit operations. Using"
   ]
  },
  {
   "cell_type": "code",
   "execution_count": 139,
   "id": "707ee212-620b-462f-a84b-2fa057eaa9ff",
   "metadata": {
    "execution": {
     "iopub.execute_input": "2022-02-23T17:33:19.159139Z",
     "iopub.status.busy": "2022-02-23T17:33:19.158913Z",
     "iopub.status.idle": "2022-02-23T17:33:19.162777Z",
     "shell.execute_reply": "2022-02-23T17:33:19.162339Z",
     "shell.execute_reply.started": "2022-02-23T17:33:19.159123Z"
    },
    "tags": []
   },
   "outputs": [
    {
     "data": {
      "text/plain": [
       "1.0"
      ]
     },
     "execution_count": 139,
     "metadata": {},
     "output_type": "execute_result"
    }
   ],
   "source": [
    "import math\n",
    "\n",
    "math.fsum(values)"
   ]
  },
  {
   "cell_type": "markdown",
   "id": "28258b02-8037-46fc-972f-5bd1452fc4c5",
   "metadata": {},
   "source": [
    "will provided the desired, and totally correct result."
   ]
  },
  {
   "cell_type": "markdown",
   "id": "8022e42b-c280-49f9-a9dd-febbeca40a8a",
   "metadata": {},
   "source": [
    "## Tuples\n",
    "\n",
    "Tuples are very comparable to lists, but cannot be altered. There is no way to append data to a tuple or overwrite values. In a way they can considered to be constant. I know, I've said the concept of constants does not really exist in Python, and a tuple is very much this. However, from the practical perspective tuples wouldn't be very convenient to use when it comes to handle a single constant value. And putting all those values considered to be constant into a single tuple and using the via indices ... Yeah, that's not very practical either. Named Tuples though ...., but that's a different, more advanced story. Let's focus on the simple version here. So tuples are very comparable to lists. Instead of square brackets use the round ones to create a tuple or use the tuple keyword."
   ]
  },
  {
   "cell_type": "code",
   "execution_count": 45,
   "id": "7b958d73-e80e-4d2a-bcd5-b3432b6a11a5",
   "metadata": {
    "execution": {
     "iopub.execute_input": "2022-02-23T14:40:14.743127Z",
     "iopub.status.busy": "2022-02-23T14:40:14.742953Z",
     "iopub.status.idle": "2022-02-23T14:40:14.745360Z",
     "shell.execute_reply": "2022-02-23T14:40:14.744943Z",
     "shell.execute_reply.started": "2022-02-23T14:40:14.743110Z"
    },
    "tags": []
   },
   "outputs": [],
   "source": [
    "t = ()"
   ]
  },
  {
   "cell_type": "code",
   "execution_count": 46,
   "id": "c9af16e1-df34-4e22-858a-4384e69403f3",
   "metadata": {
    "execution": {
     "iopub.execute_input": "2022-02-23T14:40:14.855481Z",
     "iopub.status.busy": "2022-02-23T14:40:14.855304Z",
     "iopub.status.idle": "2022-02-23T14:40:14.857667Z",
     "shell.execute_reply": "2022-02-23T14:40:14.857254Z",
     "shell.execute_reply.started": "2022-02-23T14:40:14.855464Z"
    },
    "tags": []
   },
   "outputs": [],
   "source": [
    "t = tuple()"
   ]
  },
  {
   "cell_type": "markdown",
   "id": "b12d119d-f44f-4227-aeb9-cbfcf27c4d5f",
   "metadata": {},
   "source": [
    "Let's quickly check if we really created a typle data type."
   ]
  },
  {
   "cell_type": "code",
   "execution_count": 47,
   "id": "20d8bc84-108f-4653-b3e6-545864c749b5",
   "metadata": {
    "execution": {
     "iopub.execute_input": "2022-02-23T14:40:15.113845Z",
     "iopub.status.busy": "2022-02-23T14:40:15.113669Z",
     "iopub.status.idle": "2022-02-23T14:40:15.116870Z",
     "shell.execute_reply": "2022-02-23T14:40:15.116485Z",
     "shell.execute_reply.started": "2022-02-23T14:40:15.113829Z"
    },
    "tags": []
   },
   "outputs": [
    {
     "data": {
      "text/plain": [
       "tuple"
      ]
     },
     "execution_count": 47,
     "metadata": {},
     "output_type": "execute_result"
    }
   ],
   "source": [
    "type(t)"
   ]
  },
  {
   "cell_type": "markdown",
   "id": "1a5e50d3-43e1-4a42-b8d0-4b624a26f2cd",
   "metadata": {},
   "source": [
    "Yes, that worked okay. So, what has a tuple to offer? We can use the `dir` function again to query for the tuples methods."
   ]
  },
  {
   "cell_type": "code",
   "execution_count": 48,
   "id": "ca14e505-1b5b-4810-95b2-3772cbc1c347",
   "metadata": {
    "execution": {
     "iopub.execute_input": "2022-02-23T14:40:15.383849Z",
     "iopub.status.busy": "2022-02-23T14:40:15.383626Z",
     "iopub.status.idle": "2022-02-23T14:40:15.387327Z",
     "shell.execute_reply": "2022-02-23T14:40:15.386884Z",
     "shell.execute_reply.started": "2022-02-23T14:40:15.383831Z"
    },
    "tags": []
   },
   "outputs": [
    {
     "data": {
      "text/plain": [
       "['__add__',\n",
       " '__class__',\n",
       " '__class_getitem__',\n",
       " '__contains__',\n",
       " '__delattr__',\n",
       " '__dir__',\n",
       " '__doc__',\n",
       " '__eq__',\n",
       " '__format__',\n",
       " '__ge__',\n",
       " '__getattribute__',\n",
       " '__getitem__',\n",
       " '__getnewargs__',\n",
       " '__gt__',\n",
       " '__hash__',\n",
       " '__init__',\n",
       " '__init_subclass__',\n",
       " '__iter__',\n",
       " '__le__',\n",
       " '__len__',\n",
       " '__lt__',\n",
       " '__mul__',\n",
       " '__ne__',\n",
       " '__new__',\n",
       " '__reduce__',\n",
       " '__reduce_ex__',\n",
       " '__repr__',\n",
       " '__rmul__',\n",
       " '__setattr__',\n",
       " '__sizeof__',\n",
       " '__str__',\n",
       " '__subclasshook__',\n",
       " 'count',\n",
       " 'index']"
      ]
     },
     "execution_count": 48,
     "metadata": {},
     "output_type": "execute_result"
    }
   ],
   "source": [
    "dir(tuple)"
   ]
  },
  {
   "cell_type": "markdown",
   "id": "5be6d069-f8f8-4d9c-b146-63fe84ed3415",
   "metadata": {},
   "source": [
    "There are quite some dunder methods again. A few we already recognize. The `__len__` is there, so we can get the size of the tuple using the `len` function. An `__add__` and `__mul__` method is available. So in some way we could add or multiply those tuples. The only exposed methods are `count` and `index`. And they will do just the same thing as for lists. `count` will support you in getting the number of occurences of an item in the tuple, whereas `index` will show you the position of an element in the tuple. So seeing a tuple as a readonly and therefore reduced version of a list does make sense. Let's play around with these tuples a bit."
   ]
  },
  {
   "cell_type": "code",
   "execution_count": 49,
   "id": "800ee61f-d128-4761-a7d9-93091edf8a4e",
   "metadata": {
    "execution": {
     "iopub.execute_input": "2022-02-23T14:40:15.608913Z",
     "iopub.status.busy": "2022-02-23T14:40:15.608735Z",
     "iopub.status.idle": "2022-02-23T14:40:15.611189Z",
     "shell.execute_reply": "2022-02-23T14:40:15.610791Z",
     "shell.execute_reply.started": "2022-02-23T14:40:15.608896Z"
    },
    "tags": []
   },
   "outputs": [],
   "source": [
    "t1 = (1, \"Hello\", 2)\n",
    "t2 = (12, 24, 42)"
   ]
  },
  {
   "cell_type": "code",
   "execution_count": 50,
   "id": "9595b822-096f-47cd-b3f9-e82218ca7ca7",
   "metadata": {
    "execution": {
     "iopub.execute_input": "2022-02-23T14:40:15.744098Z",
     "iopub.status.busy": "2022-02-23T14:40:15.743922Z",
     "iopub.status.idle": "2022-02-23T14:40:15.747359Z",
     "shell.execute_reply": "2022-02-23T14:40:15.746916Z",
     "shell.execute_reply.started": "2022-02-23T14:40:15.744080Z"
    },
    "tags": []
   },
   "outputs": [
    {
     "name": "stdout",
     "output_type": "stream",
     "text": [
      "(1, 'Hello', 2, 12, 24, 42)\n"
     ]
    },
    {
     "data": {
      "text/plain": [
       "tuple"
      ]
     },
     "execution_count": 50,
     "metadata": {},
     "output_type": "execute_result"
    }
   ],
   "source": [
    "t3 = t1 + t2\n",
    "print(t3)\n",
    "type(t3)"
   ]
  },
  {
   "cell_type": "markdown",
   "id": "aebe54ac-5874-497f-b78e-13fa2046fd26",
   "metadata": {},
   "source": [
    "So adding to tuples joins the tuple in a newly created again readonly tuple."
   ]
  },
  {
   "cell_type": "code",
   "execution_count": 51,
   "id": "acb37698-74a3-43be-93c3-8f95dce5809e",
   "metadata": {
    "execution": {
     "iopub.execute_input": "2022-02-23T14:40:16.025092Z",
     "iopub.status.busy": "2022-02-23T14:40:16.024915Z",
     "iopub.status.idle": "2022-02-23T14:40:16.029117Z",
     "shell.execute_reply": "2022-02-23T14:40:16.028720Z",
     "shell.execute_reply.started": "2022-02-23T14:40:16.025075Z"
    },
    "tags": []
   },
   "outputs": [
    {
     "name": "stdout",
     "output_type": "stream",
     "text": [
      "(1, 'Hello', 2, 1, 'Hello', 2, 1, 'Hello', 2, 1, 'Hello', 2, 1, 'Hello', 2)\n"
     ]
    },
    {
     "data": {
      "text/plain": [
       "tuple"
      ]
     },
     "execution_count": 51,
     "metadata": {},
     "output_type": "execute_result"
    }
   ],
   "source": [
    "t4 = t1 * 5\n",
    "print(t4)\n",
    "type(t4)"
   ]
  },
  {
   "cell_type": "markdown",
   "id": "36ef90bf-4d8e-47ca-bde9-57861ed176c8",
   "metadata": {},
   "source": [
    "Whereas multiplication repeats the tuple a number of times to create a new tuple."
   ]
  },
  {
   "cell_type": "markdown",
   "id": "0fac173f-2325-44fc-8040-6938f26bec79",
   "metadata": {},
   "source": [
    "Tuples and lists can be converted into each other by using the one as an argument in the others construction."
   ]
  },
  {
   "cell_type": "code",
   "execution_count": 52,
   "id": "f7b0ec3f-7fb8-45b3-8db8-01a5a8b0a086",
   "metadata": {
    "execution": {
     "iopub.execute_input": "2022-02-23T14:40:16.430956Z",
     "iopub.status.busy": "2022-02-23T14:40:16.430787Z",
     "iopub.status.idle": "2022-02-23T14:40:16.434346Z",
     "shell.execute_reply": "2022-02-23T14:40:16.433945Z",
     "shell.execute_reply.started": "2022-02-23T14:40:16.430939Z"
    },
    "tags": []
   },
   "outputs": [
    {
     "name": "stdout",
     "output_type": "stream",
     "text": [
      "[1, 'Hello', 2]\n"
     ]
    },
    {
     "data": {
      "text/plain": [
       "list"
      ]
     },
     "execution_count": 52,
     "metadata": {},
     "output_type": "execute_result"
    }
   ],
   "source": [
    "l1 = list(t1)\n",
    "print(l1)\n",
    "type(l1)"
   ]
  },
  {
   "cell_type": "markdown",
   "id": "30bf1760-9a75-43bb-a0ce-d240a82ef53e",
   "metadata": {},
   "source": [
    "This created the list `l1` out of our tuple `t1`, whereas"
   ]
  },
  {
   "cell_type": "code",
   "execution_count": 53,
   "id": "4d921cf4-0429-478e-b470-e89ee7f09aad",
   "metadata": {
    "execution": {
     "iopub.execute_input": "2022-02-23T14:40:16.695408Z",
     "iopub.status.busy": "2022-02-23T14:40:16.695237Z",
     "iopub.status.idle": "2022-02-23T14:40:16.698665Z",
     "shell.execute_reply": "2022-02-23T14:40:16.698215Z",
     "shell.execute_reply.started": "2022-02-23T14:40:16.695392Z"
    },
    "tags": []
   },
   "outputs": [
    {
     "name": "stdout",
     "output_type": "stream",
     "text": [
      "(1, 'Hello', 2)\n"
     ]
    },
    {
     "data": {
      "text/plain": [
       "tuple"
      ]
     },
     "execution_count": 53,
     "metadata": {},
     "output_type": "execute_result"
    }
   ],
   "source": [
    "t1 = tuple(l1)\n",
    "print(t1)\n",
    "type(t1)"
   ]
  },
  {
   "cell_type": "markdown",
   "id": "ec795fc2-ff83-4982-aacf-c9a49755e838",
   "metadata": {},
   "source": [
    "will create a tuple out of our newly created list, assigning it to the varable name `t1`, hence overwriting the original `t1` contents. So tuples cannot be modified, but of course completely replaced."
   ]
  },
  {
   "cell_type": "markdown",
   "id": "d44435a5-def7-4fac-a8b9-49e3f88c9f22",
   "metadata": {},
   "source": [
    "And here's something interesting. If I can put anything into a tuple, what about creating a tuple of tuples then."
   ]
  },
  {
   "cell_type": "code",
   "execution_count": 54,
   "id": "9152844c-b40a-42ef-b57a-b71e206eb2a7",
   "metadata": {
    "execution": {
     "iopub.execute_input": "2022-02-23T14:40:17.070224Z",
     "iopub.status.busy": "2022-02-23T14:40:17.069995Z",
     "iopub.status.idle": "2022-02-23T14:40:17.073975Z",
     "shell.execute_reply": "2022-02-23T14:40:17.073582Z",
     "shell.execute_reply.started": "2022-02-23T14:40:17.070185Z"
    },
    "tags": []
   },
   "outputs": [
    {
     "name": "stdout",
     "output_type": "stream",
     "text": [
      "((), (), ())\n"
     ]
    },
    {
     "data": {
      "text/plain": [
       "tuple"
      ]
     },
     "execution_count": 54,
     "metadata": {},
     "output_type": "execute_result"
    }
   ],
   "source": [
    "t5 = ((), (), ())\n",
    "print(t5)\n",
    "type(t5)"
   ]
  },
  {
   "cell_type": "markdown",
   "id": "22b6d470-3ce0-4c0a-ba55-430bbb0b8b22",
   "metadata": {},
   "source": [
    "This went perfectly fine. However it's not very useful. The contents of the tuple cannot be modified."
   ]
  },
  {
   "cell_type": "code",
   "execution_count": 55,
   "id": "442ac17a-5f5a-4750-818c-50fac784fdfb",
   "metadata": {
    "execution": {
     "iopub.execute_input": "2022-02-23T14:40:17.339862Z",
     "iopub.status.busy": "2022-02-23T14:40:17.339689Z",
     "iopub.status.idle": "2022-02-23T14:40:17.342741Z",
     "shell.execute_reply": "2022-02-23T14:40:17.342367Z",
     "shell.execute_reply.started": "2022-02-23T14:40:17.339846Z"
    },
    "tags": []
   },
   "outputs": [
    {
     "data": {
      "text/plain": [
       "()"
      ]
     },
     "execution_count": 55,
     "metadata": {},
     "output_type": "execute_result"
    }
   ],
   "source": [
    "t5[0]"
   ]
  },
  {
   "cell_type": "code",
   "execution_count": 56,
   "id": "be310478-31c6-440a-ab45-5bfccd266068",
   "metadata": {
    "execution": {
     "iopub.execute_input": "2022-02-23T14:40:17.474769Z",
     "iopub.status.busy": "2022-02-23T14:40:17.474598Z",
     "iopub.status.idle": "2022-02-23T14:40:17.484272Z",
     "shell.execute_reply": "2022-02-23T14:40:17.483636Z",
     "shell.execute_reply.started": "2022-02-23T14:40:17.474752Z"
    },
    "tags": []
   },
   "outputs": [
    {
     "ename": "TypeError",
     "evalue": "'tuple' object does not support item assignment",
     "output_type": "error",
     "traceback": [
      "\u001b[0;31m---------------------------------------------------------------------------\u001b[0m",
      "\u001b[0;31mTypeError\u001b[0m                                 Traceback (most recent call last)",
      "Input \u001b[0;32mIn [56]\u001b[0m, in \u001b[0;36m<module>\u001b[0;34m\u001b[0m\n\u001b[0;32m----> 1\u001b[0m t5[\u001b[38;5;241m0\u001b[39m] \u001b[38;5;241m=\u001b[39m \u001b[38;5;241m1\u001b[39m\n",
      "\u001b[0;31mTypeError\u001b[0m: 'tuple' object does not support item assignment"
     ]
    }
   ],
   "source": [
    "t5[0] = 1"
   ]
  },
  {
   "cell_type": "markdown",
   "id": "ae0c8b4c-0049-44bd-bd30-019644152626",
   "metadata": {},
   "source": [
    "Indexing to the inner tuples works as expected, but the contents there, being a tuple, cannot be modified either. So it will just stay a tuple having three empty tuples. But what about adding lists to the the tuple?"
   ]
  },
  {
   "cell_type": "code",
   "execution_count": 57,
   "id": "5051fc78-9654-40e6-a6e8-f05baaf28622",
   "metadata": {
    "execution": {
     "iopub.execute_input": "2022-02-23T14:40:17.735333Z",
     "iopub.status.busy": "2022-02-23T14:40:17.735151Z",
     "iopub.status.idle": "2022-02-23T14:40:17.738722Z",
     "shell.execute_reply": "2022-02-23T14:40:17.738343Z",
     "shell.execute_reply.started": "2022-02-23T14:40:17.735315Z"
    },
    "tags": []
   },
   "outputs": [
    {
     "name": "stdout",
     "output_type": "stream",
     "text": [
      "([], [], [])\n"
     ]
    },
    {
     "data": {
      "text/plain": [
       "tuple"
      ]
     },
     "execution_count": 57,
     "metadata": {},
     "output_type": "execute_result"
    }
   ],
   "source": [
    "t6 = ([], [], [])\n",
    "print(t6)\n",
    "type(t6)"
   ]
  },
  {
   "cell_type": "markdown",
   "id": "40a50fd2-5177-449d-bcc9-8588ce499ef3",
   "metadata": {
    "execution": {
     "iopub.execute_input": "2022-02-22T08:38:10.818493Z",
     "iopub.status.busy": "2022-02-22T08:38:10.818299Z",
     "iopub.status.idle": "2022-02-22T08:38:10.822420Z",
     "shell.execute_reply": "2022-02-22T08:38:10.821826Z",
     "shell.execute_reply.started": "2022-02-22T08:38:10.818474Z"
    }
   },
   "source": [
    "Now we have a tuple with 3 empty lists. Let's see if we can add contents to the lists."
   ]
  },
  {
   "cell_type": "code",
   "execution_count": 58,
   "id": "3a0e27ca-3731-45b9-a78b-35799a0ce4ae",
   "metadata": {
    "execution": {
     "iopub.execute_input": "2022-02-23T14:40:18.005251Z",
     "iopub.status.busy": "2022-02-23T14:40:18.005064Z",
     "iopub.status.idle": "2022-02-23T14:40:18.008760Z",
     "shell.execute_reply": "2022-02-23T14:40:18.008326Z",
     "shell.execute_reply.started": "2022-02-23T14:40:18.005234Z"
    },
    "tags": []
   },
   "outputs": [
    {
     "name": "stdout",
     "output_type": "stream",
     "text": [
      "([1], [2], [3])\n"
     ]
    },
    {
     "data": {
      "text/plain": [
       "tuple"
      ]
     },
     "execution_count": 58,
     "metadata": {},
     "output_type": "execute_result"
    }
   ],
   "source": [
    "t6[0].append(1)\n",
    "t6[1].append(2)\n",
    "t6[2].append(3)\n",
    "print(t6)\n",
    "type(t6)"
   ]
  },
  {
   "cell_type": "markdown",
   "id": "3c2f2ca8-8559-4b9a-a416-d2ede078c2f8",
   "metadata": {},
   "source": [
    "This worked, and was expected of course. Whilst the tuple is *immutable* and because of this there is no chance to increase or decrease the number of elements in the tuple itself, the inner lists are happy to handle content. Cleaning up here will be a bit more difficult, as you cannot overwrite the contents of the tuple with empty lists. Yeah, that readonly feature again. But you can of course remove the items from the list using `pop`, or simply use the `clear` method. "
   ]
  },
  {
   "cell_type": "code",
   "execution_count": 59,
   "id": "f6f821e2-e607-4bbd-b8a6-908c77e054ac",
   "metadata": {
    "execution": {
     "iopub.execute_input": "2022-02-23T14:40:18.286243Z",
     "iopub.status.busy": "2022-02-23T14:40:18.286065Z",
     "iopub.status.idle": "2022-02-23T14:40:18.289190Z",
     "shell.execute_reply": "2022-02-23T14:40:18.288746Z",
     "shell.execute_reply.started": "2022-02-23T14:40:18.286226Z"
    },
    "tags": []
   },
   "outputs": [
    {
     "name": "stdout",
     "output_type": "stream",
     "text": [
      "([], [], [])\n"
     ]
    }
   ],
   "source": [
    "t6[0].pop()\n",
    "t6[1].clear()\n",
    "t6[2].pop()\n",
    "print(t6)"
   ]
  },
  {
   "cell_type": "markdown",
   "id": "59fa5971-d2f4-4686-a447-595980f364ce",
   "metadata": {},
   "source": [
    "## Sets"
   ]
  },
  {
   "cell_type": "markdown",
   "id": "6e53886e-6d60-4481-b644-f35f88b0063f",
   "metadata": {},
   "source": [
    "Sets are modeled after the mathematical concept of sets. It's basic feature is, that elements can exist only once in a set. You can create an empty set like this."
   ]
  },
  {
   "cell_type": "code",
   "execution_count": 60,
   "id": "2f1f2cd2-4a93-4133-875d-a80eda818ef8",
   "metadata": {
    "execution": {
     "iopub.execute_input": "2022-02-23T14:40:18.938530Z",
     "iopub.status.busy": "2022-02-23T14:40:18.938348Z",
     "iopub.status.idle": "2022-02-23T14:40:18.940709Z",
     "shell.execute_reply": "2022-02-23T14:40:18.940307Z",
     "shell.execute_reply.started": "2022-02-23T14:40:18.938512Z"
    },
    "tags": []
   },
   "outputs": [],
   "source": [
    "s = set()"
   ]
  },
  {
   "cell_type": "code",
   "execution_count": 61,
   "id": "c14e3eb7-6b08-47b6-9923-a927d1cbfb89",
   "metadata": {
    "execution": {
     "iopub.execute_input": "2022-02-23T14:40:19.073895Z",
     "iopub.status.busy": "2022-02-23T14:40:19.073696Z",
     "iopub.status.idle": "2022-02-23T14:40:19.076881Z",
     "shell.execute_reply": "2022-02-23T14:40:19.076442Z",
     "shell.execute_reply.started": "2022-02-23T14:40:19.073875Z"
    },
    "tags": []
   },
   "outputs": [
    {
     "data": {
      "text/plain": [
       "set"
      ]
     },
     "execution_count": 61,
     "metadata": {},
     "output_type": "execute_result"
    }
   ],
   "source": [
    "type(s)"
   ]
  },
  {
   "cell_type": "markdown",
   "id": "fd1747eb-994a-49be-9701-2b594e976aff",
   "metadata": {},
   "source": [
    "A quick `dir` on the newly creates set shows what this data type has to offer."
   ]
  },
  {
   "cell_type": "code",
   "execution_count": 62,
   "id": "d21aeafd-f442-4cdd-b33f-2c6e43a34f6e",
   "metadata": {
    "execution": {
     "iopub.execute_input": "2022-02-23T14:40:19.355550Z",
     "iopub.status.busy": "2022-02-23T14:40:19.355374Z",
     "iopub.status.idle": "2022-02-23T14:40:19.358935Z",
     "shell.execute_reply": "2022-02-23T14:40:19.358571Z",
     "shell.execute_reply.started": "2022-02-23T14:40:19.355531Z"
    },
    "tags": []
   },
   "outputs": [
    {
     "data": {
      "text/plain": [
       "['__and__',\n",
       " '__class__',\n",
       " '__class_getitem__',\n",
       " '__contains__',\n",
       " '__delattr__',\n",
       " '__dir__',\n",
       " '__doc__',\n",
       " '__eq__',\n",
       " '__format__',\n",
       " '__ge__',\n",
       " '__getattribute__',\n",
       " '__gt__',\n",
       " '__hash__',\n",
       " '__iand__',\n",
       " '__init__',\n",
       " '__init_subclass__',\n",
       " '__ior__',\n",
       " '__isub__',\n",
       " '__iter__',\n",
       " '__ixor__',\n",
       " '__le__',\n",
       " '__len__',\n",
       " '__lt__',\n",
       " '__ne__',\n",
       " '__new__',\n",
       " '__or__',\n",
       " '__rand__',\n",
       " '__reduce__',\n",
       " '__reduce_ex__',\n",
       " '__repr__',\n",
       " '__ror__',\n",
       " '__rsub__',\n",
       " '__rxor__',\n",
       " '__setattr__',\n",
       " '__sizeof__',\n",
       " '__str__',\n",
       " '__sub__',\n",
       " '__subclasshook__',\n",
       " '__xor__',\n",
       " 'add',\n",
       " 'clear',\n",
       " 'copy',\n",
       " 'difference',\n",
       " 'difference_update',\n",
       " 'discard',\n",
       " 'intersection',\n",
       " 'intersection_update',\n",
       " 'isdisjoint',\n",
       " 'issubset',\n",
       " 'issuperset',\n",
       " 'pop',\n",
       " 'remove',\n",
       " 'symmetric_difference',\n",
       " 'symmetric_difference_update',\n",
       " 'union',\n",
       " 'update']"
      ]
     },
     "execution_count": 62,
     "metadata": {},
     "output_type": "execute_result"
    }
   ],
   "source": [
    "dir(s)"
   ]
  },
  {
   "cell_type": "markdown",
   "id": "1c87b4f3-c0bc-45d4-935c-267c12d0d44c",
   "metadata": {},
   "source": [
    "This again is quite a set of functionality available. Based on the fact that the Python `set` represents the mathmatical idea of sets, we expect a few things to work. So let's have a closer look.\n",
    "First of all, we expect to be able to add things to our set."
   ]
  },
  {
   "cell_type": "code",
   "execution_count": 63,
   "id": "caac1ad0-e87d-47fe-8213-890c919b107d",
   "metadata": {
    "execution": {
     "iopub.execute_input": "2022-02-23T14:40:19.635369Z",
     "iopub.status.busy": "2022-02-23T14:40:19.635155Z",
     "iopub.status.idle": "2022-02-23T14:40:19.638460Z",
     "shell.execute_reply": "2022-02-23T14:40:19.638109Z",
     "shell.execute_reply.started": "2022-02-23T14:40:19.635352Z"
    },
    "tags": []
   },
   "outputs": [
    {
     "data": {
      "text/plain": [
       "{1}"
      ]
     },
     "execution_count": 63,
     "metadata": {},
     "output_type": "execute_result"
    }
   ],
   "source": [
    "s.add(1)\n",
    "s"
   ]
  },
  {
   "cell_type": "markdown",
   "id": "beee927a-0e6c-4114-a930-a2307dd793a5",
   "metadata": {},
   "source": [
    "Okay. So this is the way we add items to our set. Let's add some more."
   ]
  },
  {
   "cell_type": "code",
   "execution_count": 64,
   "id": "70bbcf61-d3c5-45cc-a4af-0d4ae03999e0",
   "metadata": {
    "execution": {
     "iopub.execute_input": "2022-02-23T14:40:19.928789Z",
     "iopub.status.busy": "2022-02-23T14:40:19.928612Z",
     "iopub.status.idle": "2022-02-23T14:40:19.931993Z",
     "shell.execute_reply": "2022-02-23T14:40:19.931583Z",
     "shell.execute_reply.started": "2022-02-23T14:40:19.928770Z"
    },
    "tags": []
   },
   "outputs": [
    {
     "data": {
      "text/plain": [
       "{1, 2.1, 17, 42, 50}"
      ]
     },
     "execution_count": 64,
     "metadata": {},
     "output_type": "execute_result"
    }
   ],
   "source": [
    "s.add(42)\n",
    "s.add(50)\n",
    "s.add(2.1)\n",
    "s.add(17)\n",
    "s"
   ]
  },
  {
   "cell_type": "markdown",
   "id": "14444ff2-c623-4f2c-b6ef-3d1477d961b8",
   "metadata": {},
   "source": [
    "Fine. What about adding items that already exist?"
   ]
  },
  {
   "cell_type": "code",
   "execution_count": 65,
   "id": "b2f78bdf-da22-4b57-a831-88131ddd3a14",
   "metadata": {
    "execution": {
     "iopub.execute_input": "2022-02-23T14:40:20.210024Z",
     "iopub.status.busy": "2022-02-23T14:40:20.209849Z",
     "iopub.status.idle": "2022-02-23T14:40:20.213079Z",
     "shell.execute_reply": "2022-02-23T14:40:20.212693Z",
     "shell.execute_reply.started": "2022-02-23T14:40:20.210007Z"
    },
    "tags": []
   },
   "outputs": [
    {
     "data": {
      "text/plain": [
       "{1, 2.1, 17, 42, 50}"
      ]
     },
     "execution_count": 65,
     "metadata": {},
     "output_type": "execute_result"
    }
   ],
   "source": [
    "s.add(42)\n",
    "s"
   ]
  },
  {
   "cell_type": "markdown",
   "id": "7a6e89b4-cf49-44e0-aac6-e1ee71f56e1e",
   "metadata": {},
   "source": [
    "This also works as expected. No error, but as the item 42 is already in the set, there is no second occurance."
   ]
  },
  {
   "cell_type": "markdown",
   "id": "d0f81ea6-ced0-4271-9ace-f089895ac612",
   "metadata": {},
   "source": [
    "For removing items we also have an idea. `pop` and `remove` exist here, so they probably work as well as expected."
   ]
  },
  {
   "cell_type": "code",
   "execution_count": 66,
   "id": "dc15a17d-f944-4432-83f1-d6b5eb0eaf13",
   "metadata": {
    "execution": {
     "iopub.execute_input": "2022-02-23T14:40:20.626720Z",
     "iopub.status.busy": "2022-02-23T14:40:20.626549Z",
     "iopub.status.idle": "2022-02-23T14:40:20.630552Z",
     "shell.execute_reply": "2022-02-23T14:40:20.630126Z",
     "shell.execute_reply.started": "2022-02-23T14:40:20.626702Z"
    },
    "tags": []
   },
   "outputs": [
    {
     "name": "stdout",
     "output_type": "stream",
     "text": [
      "1\n"
     ]
    },
    {
     "data": {
      "text/plain": [
       "{2.1, 42, 50}"
      ]
     },
     "execution_count": 66,
     "metadata": {},
     "output_type": "execute_result"
    }
   ],
   "source": [
    "removed_item = s.pop()\n",
    "print(removed_item)\n",
    "s.remove(17)\n",
    "s"
   ]
  },
  {
   "cell_type": "markdown",
   "id": "c6c4967b-22b1-446f-bfb4-82e9cba8fcdd",
   "metadata": {},
   "source": [
    "Note that `remove` deletes the item from the set without returning it, which makes sense as you probably already know what you're removing."
   ]
  },
  {
   "cell_type": "markdown",
   "id": "0f5fecd9-21a7-4cec-aae0-ddc8c6579383",
   "metadata": {},
   "source": [
    "Also calling `len` on the set is possible, as the `__len__` method exists."
   ]
  },
  {
   "cell_type": "code",
   "execution_count": 67,
   "id": "f3ff8e5c-f011-4e6e-8a25-161b4f593150",
   "metadata": {
    "execution": {
     "iopub.execute_input": "2022-02-23T14:40:20.987354Z",
     "iopub.status.busy": "2022-02-23T14:40:20.987179Z",
     "iopub.status.idle": "2022-02-23T14:40:20.990145Z",
     "shell.execute_reply": "2022-02-23T14:40:20.989745Z",
     "shell.execute_reply.started": "2022-02-23T14:40:20.987337Z"
    },
    "tags": []
   },
   "outputs": [
    {
     "data": {
      "text/plain": [
       "3"
      ]
     },
     "execution_count": 67,
     "metadata": {},
     "output_type": "execute_result"
    }
   ],
   "source": [
    "len(s)"
   ]
  },
  {
   "cell_type": "markdown",
   "id": "2708ba98-5d6b-4f51-8826-ac6ecd4f0e6f",
   "metadata": {},
   "source": [
    "But we expect some more specialized methods when working with sets, such as joining two sets, building the difference, an intersection, or checking if one set is part (subset) of another or a superset. All of these expected methods exist, and usually a well known builtin operator can be used instead as well, as it will support a very readable syntax. Consider the following two sets having interger values."
   ]
  },
  {
   "cell_type": "code",
   "execution_count": 68,
   "id": "d411e5c4-a5dd-4e72-8a76-b683fdacc9a6",
   "metadata": {
    "execution": {
     "iopub.execute_input": "2022-02-23T14:40:21.256913Z",
     "iopub.status.busy": "2022-02-23T14:40:21.256741Z",
     "iopub.status.idle": "2022-02-23T14:40:21.259245Z",
     "shell.execute_reply": "2022-02-23T14:40:21.258834Z",
     "shell.execute_reply.started": "2022-02-23T14:40:21.256897Z"
    },
    "tags": []
   },
   "outputs": [],
   "source": [
    "s1 = {1, 2, 3, 4, 5}\n",
    "s2 = {4, 5, 6, 7, 8}"
   ]
  },
  {
   "cell_type": "markdown",
   "id": "7486cca6-b3ad-4700-a3d3-018ff26d61f0",
   "metadata": {},
   "source": [
    "We can union these two sets by either of the two following expressions."
   ]
  },
  {
   "cell_type": "code",
   "execution_count": 69,
   "id": "78ee7ca0-8f3c-45e3-b952-aaa863d5552c",
   "metadata": {
    "execution": {
     "iopub.execute_input": "2022-02-23T14:40:21.538427Z",
     "iopub.status.busy": "2022-02-23T14:40:21.538255Z",
     "iopub.status.idle": "2022-02-23T14:40:21.541461Z",
     "shell.execute_reply": "2022-02-23T14:40:21.541096Z",
     "shell.execute_reply.started": "2022-02-23T14:40:21.538410Z"
    },
    "tags": []
   },
   "outputs": [
    {
     "data": {
      "text/plain": [
       "{1, 2, 3, 4, 5, 6, 7, 8}"
      ]
     },
     "execution_count": 69,
     "metadata": {},
     "output_type": "execute_result"
    }
   ],
   "source": [
    "s1.union(s2)"
   ]
  },
  {
   "cell_type": "markdown",
   "id": "f12f0435-ef64-4f72-a5d1-66adb639efcd",
   "metadata": {},
   "source": [
    "When creating a union of two sets, the idea is to have a group of elements, which are either in `s1` or in `s2`. So the element wise *or* operation `|` will do the job here just the same."
   ]
  },
  {
   "cell_type": "code",
   "execution_count": 70,
   "id": "396cf5bb-d893-4b0c-b1b4-3d38fd7e292d",
   "metadata": {
    "execution": {
     "iopub.execute_input": "2022-02-23T14:40:21.774450Z",
     "iopub.status.busy": "2022-02-23T14:40:21.774274Z",
     "iopub.status.idle": "2022-02-23T14:40:21.777550Z",
     "shell.execute_reply": "2022-02-23T14:40:21.777140Z",
     "shell.execute_reply.started": "2022-02-23T14:40:21.774433Z"
    },
    "tags": []
   },
   "outputs": [
    {
     "data": {
      "text/plain": [
       "{1, 2, 3, 4, 5, 6, 7, 8}"
      ]
     },
     "execution_count": 70,
     "metadata": {},
     "output_type": "execute_result"
    }
   ],
   "source": [
    "s1 | s2"
   ]
  },
  {
   "cell_type": "markdown",
   "id": "26ecc8aa-e681-45d6-91c7-4dad9c047893",
   "metadata": {},
   "source": [
    "Building the difference between the two sets goes like this. We like to get all elements in `s1` that are not in `s2` or vice versa."
   ]
  },
  {
   "cell_type": "code",
   "execution_count": 71,
   "id": "cb10525b-6904-4283-a174-4e3204bc17b2",
   "metadata": {
    "execution": {
     "iopub.execute_input": "2022-02-23T14:40:22.043800Z",
     "iopub.status.busy": "2022-02-23T14:40:22.043572Z",
     "iopub.status.idle": "2022-02-23T14:40:22.046960Z",
     "shell.execute_reply": "2022-02-23T14:40:22.046550Z",
     "shell.execute_reply.started": "2022-02-23T14:40:22.043781Z"
    },
    "tags": []
   },
   "outputs": [
    {
     "data": {
      "text/plain": [
       "{1, 2, 3}"
      ]
     },
     "execution_count": 71,
     "metadata": {},
     "output_type": "execute_result"
    }
   ],
   "source": [
    "s1.difference(s2)"
   ]
  },
  {
   "cell_type": "code",
   "execution_count": 72,
   "id": "b9646f11-1748-4242-b472-afd0d4e25b93",
   "metadata": {
    "execution": {
     "iopub.execute_input": "2022-02-23T14:40:22.190051Z",
     "iopub.status.busy": "2022-02-23T14:40:22.189876Z",
     "iopub.status.idle": "2022-02-23T14:40:22.192920Z",
     "shell.execute_reply": "2022-02-23T14:40:22.192534Z",
     "shell.execute_reply.started": "2022-02-23T14:40:22.190034Z"
    },
    "tags": []
   },
   "outputs": [
    {
     "data": {
      "text/plain": [
       "{6, 7, 8}"
      ]
     },
     "execution_count": 72,
     "metadata": {},
     "output_type": "execute_result"
    }
   ],
   "source": [
    "s2.difference(s1)"
   ]
  },
  {
   "cell_type": "markdown",
   "id": "d53cc000-4b3a-4185-a3c9-fda1840b2e51",
   "metadata": {},
   "source": [
    "The *subtraction* operator `-` will provide just the same result."
   ]
  },
  {
   "cell_type": "code",
   "execution_count": 73,
   "id": "1544f64d-23f8-4275-a3bf-f07453b072c4",
   "metadata": {
    "execution": {
     "iopub.execute_input": "2022-02-23T14:40:22.471808Z",
     "iopub.status.busy": "2022-02-23T14:40:22.471638Z",
     "iopub.status.idle": "2022-02-23T14:40:22.474679Z",
     "shell.execute_reply": "2022-02-23T14:40:22.474305Z",
     "shell.execute_reply.started": "2022-02-23T14:40:22.471790Z"
    },
    "tags": []
   },
   "outputs": [
    {
     "data": {
      "text/plain": [
       "{1, 2, 3}"
      ]
     },
     "execution_count": 73,
     "metadata": {},
     "output_type": "execute_result"
    }
   ],
   "source": [
    "s1 - s2"
   ]
  },
  {
   "cell_type": "code",
   "execution_count": 74,
   "id": "c5fa4f27-e04d-4afe-9c7b-6ae3b0bb15a8",
   "metadata": {
    "execution": {
     "iopub.execute_input": "2022-02-23T14:40:22.617702Z",
     "iopub.status.busy": "2022-02-23T14:40:22.617534Z",
     "iopub.status.idle": "2022-02-23T14:40:22.620617Z",
     "shell.execute_reply": "2022-02-23T14:40:22.620239Z",
     "shell.execute_reply.started": "2022-02-23T14:40:22.617684Z"
    },
    "tags": []
   },
   "outputs": [
    {
     "data": {
      "text/plain": [
       "{6, 7, 8}"
      ]
     },
     "execution_count": 74,
     "metadata": {},
     "output_type": "execute_result"
    }
   ],
   "source": [
    "s2 - s1"
   ]
  },
  {
   "cell_type": "markdown",
   "id": "7c4b37c3-5232-43ad-a7a3-ac489f94312c",
   "metadata": {},
   "source": [
    "What about the intersection?"
   ]
  },
  {
   "cell_type": "code",
   "execution_count": 75,
   "id": "8be23301-e186-4e91-87ff-ca933166e840",
   "metadata": {
    "execution": {
     "iopub.execute_input": "2022-02-23T14:40:22.898435Z",
     "iopub.status.busy": "2022-02-23T14:40:22.898261Z",
     "iopub.status.idle": "2022-02-23T14:40:22.901458Z",
     "shell.execute_reply": "2022-02-23T14:40:22.901018Z",
     "shell.execute_reply.started": "2022-02-23T14:40:22.898418Z"
    },
    "tags": []
   },
   "outputs": [
    {
     "data": {
      "text/plain": [
       "{4, 5}"
      ]
     },
     "execution_count": 75,
     "metadata": {},
     "output_type": "execute_result"
    }
   ],
   "source": [
    "s1.intersection(s2)"
   ]
  },
  {
   "cell_type": "markdown",
   "id": "9485ef77-d1e8-43f4-b748-e18a62ec5351",
   "metadata": {},
   "source": [
    "We're looking for elements, that are both in `s1` and `s2`. So the element wise *and* operation `&` will be equivalent here."
   ]
  },
  {
   "cell_type": "code",
   "execution_count": 76,
   "id": "b3074a40-a02c-424a-9dde-572042e495a5",
   "metadata": {
    "execution": {
     "iopub.execute_input": "2022-02-23T14:40:23.180406Z",
     "iopub.status.busy": "2022-02-23T14:40:23.180190Z",
     "iopub.status.idle": "2022-02-23T14:40:23.183703Z",
     "shell.execute_reply": "2022-02-23T14:40:23.183302Z",
     "shell.execute_reply.started": "2022-02-23T14:40:23.180374Z"
    },
    "tags": []
   },
   "outputs": [
    {
     "data": {
      "text/plain": [
       "{4, 5}"
      ]
     },
     "execution_count": 76,
     "metadata": {},
     "output_type": "execute_result"
    }
   ],
   "source": [
    "s1 & s2"
   ]
  },
  {
   "cell_type": "markdown",
   "id": "0a59e156-b05e-4594-9bf3-1e18b57d0c64",
   "metadata": {},
   "source": [
    "We know one more element wise operator from our work with boolean operations with number values. The exclusive or operation *xor*, available using the `^` operator. We can fetch all values being exclusively either in `s1` or in `s2` with that."
   ]
  },
  {
   "cell_type": "code",
   "execution_count": 77,
   "id": "e36452cf-f242-4fe9-97a5-ae624831de28",
   "metadata": {
    "execution": {
     "iopub.execute_input": "2022-02-23T14:40:23.450372Z",
     "iopub.status.busy": "2022-02-23T14:40:23.450199Z",
     "iopub.status.idle": "2022-02-23T14:40:23.453446Z",
     "shell.execute_reply": "2022-02-23T14:40:23.453090Z",
     "shell.execute_reply.started": "2022-02-23T14:40:23.450354Z"
    },
    "tags": []
   },
   "outputs": [
    {
     "data": {
      "text/plain": [
       "{1, 2, 3, 6, 7, 8}"
      ]
     },
     "execution_count": 77,
     "metadata": {},
     "output_type": "execute_result"
    }
   ],
   "source": [
    "s1 ^ s2"
   ]
  },
  {
   "cell_type": "markdown",
   "id": "6a5bd14f-d7ca-4b6d-a704-d371f621ccfa",
   "metadata": {},
   "source": [
    "The exposed method implementing this is the `symmetric_difference` function."
   ]
  },
  {
   "cell_type": "code",
   "execution_count": 78,
   "id": "b02050a3-035d-4c64-891d-f309eba94868",
   "metadata": {
    "execution": {
     "iopub.execute_input": "2022-02-23T14:40:23.731864Z",
     "iopub.status.busy": "2022-02-23T14:40:23.731683Z",
     "iopub.status.idle": "2022-02-23T14:40:23.734816Z",
     "shell.execute_reply": "2022-02-23T14:40:23.734413Z",
     "shell.execute_reply.started": "2022-02-23T14:40:23.731845Z"
    },
    "tags": []
   },
   "outputs": [
    {
     "data": {
      "text/plain": [
       "{1, 2, 3, 6, 7, 8}"
      ]
     },
     "execution_count": 78,
     "metadata": {},
     "output_type": "execute_result"
    }
   ],
   "source": [
    "s1.symmetric_difference(s2)"
   ]
  },
  {
   "cell_type": "markdown",
   "id": "f3820c05-de51-4428-971a-0804e32d93eb",
   "metadata": {},
   "source": [
    "Whats finally missing is the subset handling. Let's create a new test set for this."
   ]
  },
  {
   "cell_type": "code",
   "execution_count": 79,
   "id": "546bdc56-9c27-4995-a5d1-cd74e4d3acf0",
   "metadata": {
    "execution": {
     "iopub.execute_input": "2022-02-23T14:40:24.012455Z",
     "iopub.status.busy": "2022-02-23T14:40:24.012286Z",
     "iopub.status.idle": "2022-02-23T14:40:24.014715Z",
     "shell.execute_reply": "2022-02-23T14:40:24.014260Z",
     "shell.execute_reply.started": "2022-02-23T14:40:24.012439Z"
    },
    "tags": []
   },
   "outputs": [],
   "source": [
    "s3 = {2, 3}"
   ]
  },
  {
   "cell_type": "markdown",
   "id": "26d05496-c71b-4a3d-a6c9-8efcc39162f2",
   "metadata": {},
   "source": [
    "We can use the `<` operator or the `issubset` method to check if `s3` is a subset of `s1`"
   ]
  },
  {
   "cell_type": "code",
   "execution_count": 80,
   "id": "c2ee734b-a06e-47a5-801d-d0a41ec3325e",
   "metadata": {
    "execution": {
     "iopub.execute_input": "2022-02-23T14:40:24.305268Z",
     "iopub.status.busy": "2022-02-23T14:40:24.305090Z",
     "iopub.status.idle": "2022-02-23T14:40:24.308225Z",
     "shell.execute_reply": "2022-02-23T14:40:24.307851Z",
     "shell.execute_reply.started": "2022-02-23T14:40:24.305251Z"
    },
    "tags": []
   },
   "outputs": [
    {
     "data": {
      "text/plain": [
       "True"
      ]
     },
     "execution_count": 80,
     "metadata": {},
     "output_type": "execute_result"
    }
   ],
   "source": [
    "s3 < s1"
   ]
  },
  {
   "cell_type": "code",
   "execution_count": 81,
   "id": "a6a52203-0c79-4833-9dfc-ba767b0f5680",
   "metadata": {
    "execution": {
     "iopub.execute_input": "2022-02-23T14:40:24.440725Z",
     "iopub.status.busy": "2022-02-23T14:40:24.440550Z",
     "iopub.status.idle": "2022-02-23T14:40:24.443693Z",
     "shell.execute_reply": "2022-02-23T14:40:24.443317Z",
     "shell.execute_reply.started": "2022-02-23T14:40:24.440707Z"
    },
    "tags": []
   },
   "outputs": [
    {
     "data": {
      "text/plain": [
       "True"
      ]
     },
     "execution_count": 81,
     "metadata": {},
     "output_type": "execute_result"
    }
   ],
   "source": [
    "s3.issubset(s1)"
   ]
  },
  {
   "cell_type": "markdown",
   "id": "42d8668d-b324-4ab7-8853-bae922f83879",
   "metadata": {},
   "source": [
    "If we read this the other way around, we'll perform a superset check. Use the `>` operator or `issuperset` method for this."
   ]
  },
  {
   "cell_type": "code",
   "execution_count": 82,
   "id": "69234d9f-14fc-40d4-8c37-853a214f10b4",
   "metadata": {
    "execution": {
     "iopub.execute_input": "2022-02-23T14:40:24.720729Z",
     "iopub.status.busy": "2022-02-23T14:40:24.720560Z",
     "iopub.status.idle": "2022-02-23T14:40:24.723745Z",
     "shell.execute_reply": "2022-02-23T14:40:24.723363Z",
     "shell.execute_reply.started": "2022-02-23T14:40:24.720712Z"
    },
    "tags": []
   },
   "outputs": [
    {
     "data": {
      "text/plain": [
       "True"
      ]
     },
     "execution_count": 82,
     "metadata": {},
     "output_type": "execute_result"
    }
   ],
   "source": [
    "s1 > s3"
   ]
  },
  {
   "cell_type": "code",
   "execution_count": 83,
   "id": "e17d5a24-4d27-4270-9f30-4b44ab539701",
   "metadata": {
    "execution": {
     "iopub.execute_input": "2022-02-23T14:40:24.846096Z",
     "iopub.status.busy": "2022-02-23T14:40:24.845933Z",
     "iopub.status.idle": "2022-02-23T14:40:24.849033Z",
     "shell.execute_reply": "2022-02-23T14:40:24.848628Z",
     "shell.execute_reply.started": "2022-02-23T14:40:24.846079Z"
    },
    "tags": []
   },
   "outputs": [
    {
     "data": {
      "text/plain": [
       "True"
      ]
     },
     "execution_count": 83,
     "metadata": {},
     "output_type": "execute_result"
    }
   ],
   "source": [
    "s1.issuperset(s3)"
   ]
  },
  {
   "cell_type": "markdown",
   "id": "ca062409-3d1d-43a7-b06c-1762703dcfd7",
   "metadata": {},
   "source": [
    "For the sake of completeness there is two more operators to be used here, namely the `>=` and `<=` operators. They are very similar to the `>` and `<` operators in that they check for superset or subset properties, however this time they decide on of a set is a *proper* sub or superset. A very subtle difference, where a set can be a subset of another set, if both sets have the exact same values in it. In that case however, the set is not a *proper* subset. Same is true the other way around for supersets."
   ]
  },
  {
   "cell_type": "code",
   "execution_count": 84,
   "id": "7c6a5525-3ca0-495d-a818-1f7c3778eee1",
   "metadata": {
    "execution": {
     "iopub.execute_input": "2022-02-23T14:40:25.103987Z",
     "iopub.status.busy": "2022-02-23T14:40:25.103825Z",
     "iopub.status.idle": "2022-02-23T14:40:25.107397Z",
     "shell.execute_reply": "2022-02-23T14:40:25.106982Z",
     "shell.execute_reply.started": "2022-02-23T14:40:25.103972Z"
    },
    "tags": []
   },
   "outputs": [
    {
     "data": {
      "text/plain": [
       "False"
      ]
     },
     "execution_count": 84,
     "metadata": {},
     "output_type": "execute_result"
    }
   ],
   "source": [
    "s3 >= s1"
   ]
  },
  {
   "cell_type": "code",
   "execution_count": 85,
   "id": "43724096-51a0-4c23-a00c-4ba05cc7d949",
   "metadata": {
    "execution": {
     "iopub.execute_input": "2022-02-23T14:40:25.239523Z",
     "iopub.status.busy": "2022-02-23T14:40:25.239353Z",
     "iopub.status.idle": "2022-02-23T14:40:25.242439Z",
     "shell.execute_reply": "2022-02-23T14:40:25.242041Z",
     "shell.execute_reply.started": "2022-02-23T14:40:25.239506Z"
    },
    "tags": []
   },
   "outputs": [
    {
     "data": {
      "text/plain": [
       "True"
      ]
     },
     "execution_count": 85,
     "metadata": {},
     "output_type": "execute_result"
    }
   ],
   "source": [
    "s3 <= s1"
   ]
  },
  {
   "cell_type": "markdown",
   "id": "f2b77fba-1598-493d-a7a9-bceddee9e9b3",
   "metadata": {},
   "source": [
    "I think this should be enough for handling sets. Note that the most usual syntax for dealing with sets is using operators such as `-`, `<`, `|` and so forth instead of their exposed methods, as this is pretty much forward to read. Please note as well, that all those operators can be chained and will be evaluated from left to right in that case. We can create some remarkable complexity with this. Those one liners might feel very powerful, but quite often they're not that easy to follow. Take care of that in your work."
   ]
  },
  {
   "cell_type": "markdown",
   "id": "e75bf4db-99a7-4baa-9d40-792544c98ba3",
   "metadata": {},
   "source": [
    ":::{tip}\n",
    "Play around with the other exposed methods for sets and try some chaining for set operations to get the feel for these operations.\n",
    ":::"
   ]
  },
  {
   "cell_type": "markdown",
   "id": "b623d217-9b68-40a8-94c6-9cb19cdd98c3",
   "metadata": {},
   "source": [
    "## Dictionaries"
   ]
  },
  {
   "cell_type": "markdown",
   "id": "da5ff51c-a8e5-4dbb-9a47-23413cb1243b",
   "metadata": {},
   "source": [
    "Dictionaries are possibly the most powerful data type in Python. A dictionary is a *key*-*value* store, mapping values to a names. That means, that you can save some arbitrary value by assigning it to a label for later use. You can either assign or retrieve values that way. There is just one restriction to chosing the data type for the label. It has to be *hashable*. Pretty much the same as for adding values to sets.\n",
    "\n",
    "A dictionary can be created in the follwing two ways."
   ]
  },
  {
   "cell_type": "code",
   "execution_count": 86,
   "id": "dfb5d93c-1f13-48b0-8a41-0e069499e3bf",
   "metadata": {
    "execution": {
     "iopub.execute_input": "2022-02-23T14:40:25.947874Z",
     "iopub.status.busy": "2022-02-23T14:40:25.947697Z",
     "iopub.status.idle": "2022-02-23T14:40:25.949980Z",
     "shell.execute_reply": "2022-02-23T14:40:25.949609Z",
     "shell.execute_reply.started": "2022-02-23T14:40:25.947856Z"
    },
    "tags": []
   },
   "outputs": [],
   "source": [
    "d = {}"
   ]
  },
  {
   "cell_type": "code",
   "execution_count": 87,
   "id": "832ed145-1b2f-4ae3-91b9-defdc0d8222a",
   "metadata": {
    "execution": {
     "iopub.execute_input": "2022-02-23T14:40:26.093255Z",
     "iopub.status.busy": "2022-02-23T14:40:26.093074Z",
     "iopub.status.idle": "2022-02-23T14:40:26.095564Z",
     "shell.execute_reply": "2022-02-23T14:40:26.095132Z",
     "shell.execute_reply.started": "2022-02-23T14:40:26.093238Z"
    },
    "tags": []
   },
   "outputs": [],
   "source": [
    "d = dict()"
   ]
  },
  {
   "cell_type": "code",
   "execution_count": 88,
   "id": "520d8a10-bf6c-46c9-af83-ce34501fb912",
   "metadata": {
    "execution": {
     "iopub.execute_input": "2022-02-23T14:40:26.250166Z",
     "iopub.status.busy": "2022-02-23T14:40:26.249994Z",
     "iopub.status.idle": "2022-02-23T14:40:26.253218Z",
     "shell.execute_reply": "2022-02-23T14:40:26.252761Z",
     "shell.execute_reply.started": "2022-02-23T14:40:26.250149Z"
    },
    "tags": []
   },
   "outputs": [
    {
     "data": {
      "text/plain": [
       "dict"
      ]
     },
     "execution_count": 88,
     "metadata": {},
     "output_type": "execute_result"
    }
   ],
   "source": [
    "type(d)"
   ]
  },
  {
   "cell_type": "markdown",
   "id": "32c20a20-ce0c-4498-8f3c-392948e14106",
   "metadata": {},
   "source": [
    "As usual dictionaries can also be pre filled. The syntax is as follows. It will assign to *key*-*value* pairs to the dict, maybe related to some time based measurement that has been defined."
   ]
  },
  {
   "cell_type": "code",
   "execution_count": 89,
   "id": "9d4c88f1-c3b3-4933-8f60-8b8c0912ff1a",
   "metadata": {
    "execution": {
     "iopub.execute_input": "2022-02-23T14:40:26.544264Z",
     "iopub.status.busy": "2022-02-23T14:40:26.544091Z",
     "iopub.status.idle": "2022-02-23T14:40:26.546900Z",
     "shell.execute_reply": "2022-02-23T14:40:26.546423Z",
     "shell.execute_reply.started": "2022-02-23T14:40:26.544247Z"
    },
    "tags": []
   },
   "outputs": [
    {
     "name": "stdout",
     "output_type": "stream",
     "text": [
      "{'time': 0, 'value': 0}\n"
     ]
    }
   ],
   "source": [
    "d = {\n",
    "    \"time\": 0,\n",
    "    \"value\": 0\n",
    "}\n",
    "print(d)"
   ]
  },
  {
   "cell_type": "markdown",
   "id": "adcac54e-f8c2-4e49-84b4-2e45b646605e",
   "metadata": {},
   "source": [
    "Calling `dir` on the dict will show us the dicts features we can use."
   ]
  },
  {
   "cell_type": "code",
   "execution_count": 90,
   "id": "b864bf7b-a0ec-4505-91d7-f91068ac15bf",
   "metadata": {
    "execution": {
     "iopub.execute_input": "2022-02-23T14:40:26.849144Z",
     "iopub.status.busy": "2022-02-23T14:40:26.848972Z",
     "iopub.status.idle": "2022-02-23T14:40:26.852468Z",
     "shell.execute_reply": "2022-02-23T14:40:26.852014Z",
     "shell.execute_reply.started": "2022-02-23T14:40:26.849126Z"
    },
    "tags": []
   },
   "outputs": [
    {
     "data": {
      "text/plain": [
       "['__class__',\n",
       " '__class_getitem__',\n",
       " '__contains__',\n",
       " '__delattr__',\n",
       " '__delitem__',\n",
       " '__dir__',\n",
       " '__doc__',\n",
       " '__eq__',\n",
       " '__format__',\n",
       " '__ge__',\n",
       " '__getattribute__',\n",
       " '__getitem__',\n",
       " '__gt__',\n",
       " '__hash__',\n",
       " '__init__',\n",
       " '__init_subclass__',\n",
       " '__ior__',\n",
       " '__iter__',\n",
       " '__le__',\n",
       " '__len__',\n",
       " '__lt__',\n",
       " '__ne__',\n",
       " '__new__',\n",
       " '__or__',\n",
       " '__reduce__',\n",
       " '__reduce_ex__',\n",
       " '__repr__',\n",
       " '__reversed__',\n",
       " '__ror__',\n",
       " '__setattr__',\n",
       " '__setitem__',\n",
       " '__sizeof__',\n",
       " '__str__',\n",
       " '__subclasshook__',\n",
       " 'clear',\n",
       " 'copy',\n",
       " 'fromkeys',\n",
       " 'get',\n",
       " 'items',\n",
       " 'keys',\n",
       " 'pop',\n",
       " 'popitem',\n",
       " 'setdefault',\n",
       " 'update',\n",
       " 'values']"
      ]
     },
     "execution_count": 90,
     "metadata": {},
     "output_type": "execute_result"
    }
   ],
   "source": [
    "dir(d)"
   ]
  },
  {
   "cell_type": "markdown",
   "id": "435d2cd2-f102-4d64-ad33-a0aa8f63f927",
   "metadata": {},
   "source": [
    "Quite some well known friends among them. There's the `__len__` dunder, so calling `len` on the dict will probably work. There is `__repr__`, and we've seen its effect above already when printing the dict `d`. `copy` will probably perform the expected action, we can clean up using `clear` and we can remove items by `pop`ing them out of the dict. The new kids in town are `keys`, `values`, `items`, as well as `get`, `popitem` and `update` here. Let's have a closer look."
   ]
  },
  {
   "cell_type": "markdown",
   "id": "d85ea550-ef73-4ed3-9849-588643a78736",
   "metadata": {},
   "source": [
    "The `keys` method will let us fetch all keys available in the dictionary."
   ]
  },
  {
   "cell_type": "code",
   "execution_count": 91,
   "id": "65f95f6d-0861-4b0f-b2c9-d920cbd101c3",
   "metadata": {
    "execution": {
     "iopub.execute_input": "2022-02-23T14:40:27.500530Z",
     "iopub.status.busy": "2022-02-23T14:40:27.500300Z",
     "iopub.status.idle": "2022-02-23T14:40:27.504283Z",
     "shell.execute_reply": "2022-02-23T14:40:27.503679Z",
     "shell.execute_reply.started": "2022-02-23T14:40:27.500513Z"
    },
    "tags": []
   },
   "outputs": [
    {
     "data": {
      "text/plain": [
       "dict_keys(['time', 'value'])"
      ]
     },
     "execution_count": 91,
     "metadata": {},
     "output_type": "execute_result"
    }
   ],
   "source": [
    "keys = d.keys()\n",
    "keys"
   ]
  },
  {
   "cell_type": "markdown",
   "id": "d96b50eb-3bbf-48bb-bfc7-a77600be62f5",
   "metadata": {},
   "source": [
    "In contrast to that the `values` method retrieves all values stored along with the keys."
   ]
  },
  {
   "cell_type": "code",
   "execution_count": 92,
   "id": "7398c1df-43bf-4190-b925-7a56830eeb96",
   "metadata": {
    "execution": {
     "iopub.execute_input": "2022-02-23T14:40:27.759937Z",
     "iopub.status.busy": "2022-02-23T14:40:27.759767Z",
     "iopub.status.idle": "2022-02-23T14:40:27.762956Z",
     "shell.execute_reply": "2022-02-23T14:40:27.762555Z",
     "shell.execute_reply.started": "2022-02-23T14:40:27.759920Z"
    },
    "tags": []
   },
   "outputs": [
    {
     "data": {
      "text/plain": [
       "dict_values([0, 0])"
      ]
     },
     "execution_count": 92,
     "metadata": {},
     "output_type": "execute_result"
    }
   ],
   "source": [
    "values = d.values()\n",
    "values"
   ]
  },
  {
   "cell_type": "markdown",
   "id": "66265697-ff15-4647-bd46-e27bffc1fe99",
   "metadata": {},
   "source": [
    ":::{note}\n",
    "Please note that the return type of `keys` and `list` is not of type list. So it does not support indexing. Shall you want to use it this way, you can quickly make a list out of it using `list(d.keys())` for example.\n",
    ":::"
   ]
  },
  {
   "cell_type": "markdown",
   "id": "2b664aa5-f643-4628-b409-52d105056148",
   "metadata": {},
   "source": [
    "The dictionary type also supports to get all key-value pairs at once. Use the `items` method for this."
   ]
  },
  {
   "cell_type": "code",
   "execution_count": 102,
   "id": "9d27331c-516c-4b1b-bec9-e1b191afb1e9",
   "metadata": {
    "execution": {
     "iopub.execute_input": "2022-02-23T14:42:50.413385Z",
     "iopub.status.busy": "2022-02-23T14:42:50.413210Z",
     "iopub.status.idle": "2022-02-23T14:42:50.416834Z",
     "shell.execute_reply": "2022-02-23T14:42:50.416345Z",
     "shell.execute_reply.started": "2022-02-23T14:42:50.413367Z"
    },
    "tags": []
   },
   "outputs": [
    {
     "data": {
      "text/plain": [
       "dict_items([('time', 0), ('value', 0)])"
      ]
     },
     "execution_count": 102,
     "metadata": {},
     "output_type": "execute_result"
    }
   ],
   "source": [
    "d.items()"
   ]
  },
  {
   "cell_type": "markdown",
   "id": "c774eb65-7125-40fc-a9b8-2a222601ba1b",
   "metadata": {},
   "source": [
    "The value for a key can be retrieved using `get`. However, this is seldomly used. The much preferred variant of this is to use the squared brackets syntax, just as for lists, tuples and sets, but this time with the key instead of an index number."
   ]
  },
  {
   "cell_type": "code",
   "execution_count": 103,
   "id": "d33cff9b-be62-4574-bb63-315aaf5e33df",
   "metadata": {
    "execution": {
     "iopub.execute_input": "2022-02-23T14:45:18.156288Z",
     "iopub.status.busy": "2022-02-23T14:45:18.156116Z",
     "iopub.status.idle": "2022-02-23T14:45:18.158912Z",
     "shell.execute_reply": "2022-02-23T14:45:18.158431Z",
     "shell.execute_reply.started": "2022-02-23T14:45:18.156271Z"
    },
    "tags": []
   },
   "outputs": [
    {
     "name": "stdout",
     "output_type": "stream",
     "text": [
      "0\n",
      "0\n"
     ]
    }
   ],
   "source": [
    "print(d.get(\"time\"))\n",
    "print(d[\"time\"])"
   ]
  },
  {
   "cell_type": "markdown",
   "id": "20858728-a20d-4efd-b3a1-e5692ad9e582",
   "metadata": {},
   "source": [
    "A way to remove an entry from a dict is to use the `pop` method. It will return the value to the key specified and remove the complete entry."
   ]
  },
  {
   "cell_type": "code",
   "execution_count": 104,
   "id": "c4995ef5-13db-42c0-bbc3-9bb5e225f6fc",
   "metadata": {
    "execution": {
     "iopub.execute_input": "2022-02-23T14:46:41.060686Z",
     "iopub.status.busy": "2022-02-23T14:46:41.060514Z",
     "iopub.status.idle": "2022-02-23T14:46:41.064093Z",
     "shell.execute_reply": "2022-02-23T14:46:41.063691Z",
     "shell.execute_reply.started": "2022-02-23T14:46:41.060669Z"
    },
    "tags": []
   },
   "outputs": [
    {
     "data": {
      "text/plain": [
       "0"
      ]
     },
     "execution_count": 104,
     "metadata": {},
     "output_type": "execute_result"
    }
   ],
   "source": [
    "value = d.pop(\"time\")\n",
    "value"
   ]
  },
  {
   "cell_type": "markdown",
   "id": "1b97b1e8-47bf-4b4c-bc81-b0419b1f75b2",
   "metadata": {},
   "source": [
    "The contents of the dict is now this."
   ]
  },
  {
   "cell_type": "code",
   "execution_count": 105,
   "id": "30a42db8-4750-4d54-a259-ea70f47cdbeb",
   "metadata": {
    "execution": {
     "iopub.execute_input": "2022-02-23T14:47:05.079650Z",
     "iopub.status.busy": "2022-02-23T14:47:05.079411Z",
     "iopub.status.idle": "2022-02-23T14:47:05.083336Z",
     "shell.execute_reply": "2022-02-23T14:47:05.082754Z",
     "shell.execute_reply.started": "2022-02-23T14:47:05.079634Z"
    },
    "tags": []
   },
   "outputs": [
    {
     "data": {
      "text/plain": [
       "{'value': 0}"
      ]
     },
     "execution_count": 105,
     "metadata": {},
     "output_type": "execute_result"
    }
   ],
   "source": [
    "d"
   ]
  },
  {
   "cell_type": "markdown",
   "id": "78ccd908-58de-4e08-9b26-b5a25f05f414",
   "metadata": {},
   "source": [
    "Using `popitem` you can remove the last entry from the dict in the same way it works for lists for example. It will return a key-value pair."
   ]
  },
  {
   "cell_type": "code",
   "execution_count": 107,
   "id": "d77f9762-afbb-4ab4-9165-79ba6ae95930",
   "metadata": {
    "execution": {
     "iopub.execute_input": "2022-02-23T14:48:21.106381Z",
     "iopub.status.busy": "2022-02-23T14:48:21.106168Z",
     "iopub.status.idle": "2022-02-23T14:48:21.109925Z",
     "shell.execute_reply": "2022-02-23T14:48:21.109432Z",
     "shell.execute_reply.started": "2022-02-23T14:48:21.106364Z"
    },
    "tags": []
   },
   "outputs": [
    {
     "data": {
      "text/plain": [
       "('value', 0)"
      ]
     },
     "execution_count": 107,
     "metadata": {},
     "output_type": "execute_result"
    }
   ],
   "source": [
    "d.popitem()"
   ]
  },
  {
   "cell_type": "markdown",
   "id": "33d65a31-1c84-474e-b7c2-e15bd1f8b541",
   "metadata": {},
   "source": [
    "Effectively out dict is now empty."
   ]
  },
  {
   "cell_type": "code",
   "execution_count": 108,
   "id": "a429363d-ecfb-44a4-b8a0-91aacdec10c5",
   "metadata": {
    "execution": {
     "iopub.execute_input": "2022-02-23T14:49:03.236746Z",
     "iopub.status.busy": "2022-02-23T14:49:03.236572Z",
     "iopub.status.idle": "2022-02-23T14:49:03.239564Z",
     "shell.execute_reply": "2022-02-23T14:49:03.239188Z",
     "shell.execute_reply.started": "2022-02-23T14:49:03.236726Z"
    },
    "tags": []
   },
   "outputs": [
    {
     "data": {
      "text/plain": [
       "{}"
      ]
     },
     "execution_count": 108,
     "metadata": {},
     "output_type": "execute_result"
    }
   ],
   "source": [
    "d"
   ]
  },
  {
   "cell_type": "markdown",
   "id": "97bc5d7f-bf41-4b82-ba5f-00aafe2a968a",
   "metadata": {},
   "source": [
    "The last method of interest now is the `update` method. Using `update` an existing dict can be updated using another dict as its argument. Existing values will be overwritten by this call, as it's an inplace operation."
   ]
  },
  {
   "cell_type": "code",
   "execution_count": 111,
   "id": "8a8b40d4-d425-4d5d-89a4-3aa02b51cacf",
   "metadata": {
    "execution": {
     "iopub.execute_input": "2022-02-23T14:51:16.312400Z",
     "iopub.status.busy": "2022-02-23T14:51:16.312237Z",
     "iopub.status.idle": "2022-02-23T14:51:16.314616Z",
     "shell.execute_reply": "2022-02-23T14:51:16.314232Z",
     "shell.execute_reply.started": "2022-02-23T14:51:16.312384Z"
    },
    "tags": []
   },
   "outputs": [],
   "source": [
    "d.update({\"time\": 0, \"value\": 0.1})"
   ]
  },
  {
   "cell_type": "code",
   "execution_count": 112,
   "id": "99d6958a-f922-4f5e-8f4c-83bf6847d870",
   "metadata": {
    "execution": {
     "iopub.execute_input": "2022-02-23T14:51:16.663241Z",
     "iopub.status.busy": "2022-02-23T14:51:16.663031Z",
     "iopub.status.idle": "2022-02-23T14:51:16.666578Z",
     "shell.execute_reply": "2022-02-23T14:51:16.666192Z",
     "shell.execute_reply.started": "2022-02-23T14:51:16.663224Z"
    },
    "tags": []
   },
   "outputs": [
    {
     "data": {
      "text/plain": [
       "{'time': 0, 'value': 0.1}"
      ]
     },
     "execution_count": 112,
     "metadata": {},
     "output_type": "execute_result"
    }
   ],
   "source": [
    "d"
   ]
  },
  {
   "cell_type": "markdown",
   "id": "6f8d4149-9c58-4a78-aadb-3dbdda18f2f8",
   "metadata": {},
   "source": [
    "In newer versions of Python the same can be achieved using the element wise or operator `|`. This works the same way as for sets."
   ]
  },
  {
   "cell_type": "code",
   "execution_count": 118,
   "id": "02ecc939-1dc1-4c56-941d-000bdf83c7b4",
   "metadata": {
    "execution": {
     "iopub.execute_input": "2022-02-23T14:53:05.777563Z",
     "iopub.status.busy": "2022-02-23T14:53:05.777388Z",
     "iopub.status.idle": "2022-02-23T14:53:05.781094Z",
     "shell.execute_reply": "2022-02-23T14:53:05.780607Z",
     "shell.execute_reply.started": "2022-02-23T14:53:05.777546Z"
    },
    "tags": []
   },
   "outputs": [
    {
     "data": {
      "text/plain": [
       "{'time': 0, 'value': 0.1, 'time1': 1, 'value1': 0.2}"
      ]
     },
     "execution_count": 118,
     "metadata": {},
     "output_type": "execute_result"
    }
   ],
   "source": [
    "d  | {\"time1\": 1, \"value1\": .2}"
   ]
  },
  {
   "cell_type": "markdown",
   "id": "bc8fb4d7-8368-4e4b-8596-ee4d44ad2c48",
   "metadata": {},
   "source": [
    "In the same way as the other container types also dicts can become multidimensional. As soon as you start to put another dict as a value to an existing dict, effectively the dimensionality of the original dict increased. This is usually used to create hierarchical data models.\n",
    "Consider you plan to create a birthday calendar. One approach for this could be store months first level, and the day in the second level. The value behind that would be the name of that person. It might look like this in that case."
   ]
  },
  {
   "cell_type": "code",
   "execution_count": 132,
   "id": "ded5960e-87e7-4bae-8203-910cc5da770d",
   "metadata": {
    "execution": {
     "iopub.execute_input": "2022-02-23T15:06:13.902188Z",
     "iopub.status.busy": "2022-02-23T15:06:13.901976Z",
     "iopub.status.idle": "2022-02-23T15:06:13.905117Z",
     "shell.execute_reply": "2022-02-23T15:06:13.904500Z",
     "shell.execute_reply.started": "2022-02-23T15:06:13.902170Z"
    },
    "tags": []
   },
   "outputs": [],
   "source": [
    "birthdays = {\n",
    "    \"january\": {\n",
    "        1: \"Susie\",\n",
    "        15: \"Joe\",\n",
    "    },\n",
    "    \"march\": {\n",
    "        23: \"Jane\",\n",
    "    },\n",
    "    \"june\": {\n",
    "        15: \"Fred\",\n",
    "        22: \"Gilbert\",\n",
    "    },\n",
    "}"
   ]
  },
  {
   "cell_type": "code",
   "execution_count": 129,
   "id": "728d176a-5238-4ad5-a072-6c6b19775d50",
   "metadata": {
    "execution": {
     "iopub.execute_input": "2022-02-23T15:03:58.306887Z",
     "iopub.status.busy": "2022-02-23T15:03:58.306715Z",
     "iopub.status.idle": "2022-02-23T15:03:58.309701Z",
     "shell.execute_reply": "2022-02-23T15:03:58.309130Z",
     "shell.execute_reply.started": "2022-02-23T15:03:58.306870Z"
    }
   },
   "outputs": [
    {
     "name": "stdout",
     "output_type": "stream",
     "text": [
      "{'january': {1: 'Susie', 15: 'Joe'}, 'march': {23: 'Jane'}, 'june': {15: 'Fred', 22: 'Gilbert'}}\n"
     ]
    }
   ],
   "source": [
    "print(birthdays)"
   ]
  },
  {
   "cell_type": "markdown",
   "id": "c2fe9865-d740-4a99-9fe9-04d4583d4380",
   "metadata": {},
   "source": [
    "To retrieve all birthday entries in january, you would access the key \"january\" in the `birthdays` dict. The return value will be another dict."
   ]
  },
  {
   "cell_type": "code",
   "execution_count": 133,
   "id": "0b7a8719-3185-43ab-83f6-6d3eb1dcd3c1",
   "metadata": {
    "execution": {
     "iopub.execute_input": "2022-02-23T15:07:25.833457Z",
     "iopub.status.busy": "2022-02-23T15:07:25.833284Z",
     "iopub.status.idle": "2022-02-23T15:07:25.836967Z",
     "shell.execute_reply": "2022-02-23T15:07:25.836569Z",
     "shell.execute_reply.started": "2022-02-23T15:07:25.833440Z"
    },
    "tags": []
   },
   "outputs": [
    {
     "data": {
      "text/plain": [
       "{1: 'Susie', 15: 'Joe'}"
      ]
     },
     "execution_count": 133,
     "metadata": {},
     "output_type": "execute_result"
    }
   ],
   "source": [
    "birthdays[\"january\"]"
   ]
  },
  {
   "cell_type": "markdown",
   "id": "babfe628-5a3e-4026-bc04-58fb9fa33bdd",
   "metadata": {},
   "source": [
    "And to see the name of the person celebrating birthday on january 15th, use a two-level approach like so."
   ]
  },
  {
   "cell_type": "code",
   "execution_count": 134,
   "id": "0413c151-0179-4e53-b246-83391520267c",
   "metadata": {
    "execution": {
     "iopub.execute_input": "2022-02-23T15:08:27.339601Z",
     "iopub.status.busy": "2022-02-23T15:08:27.339425Z",
     "iopub.status.idle": "2022-02-23T15:08:27.342651Z",
     "shell.execute_reply": "2022-02-23T15:08:27.342278Z",
     "shell.execute_reply.started": "2022-02-23T15:08:27.339584Z"
    },
    "tags": []
   },
   "outputs": [
    {
     "data": {
      "text/plain": [
       "'Joe'"
      ]
     },
     "execution_count": 134,
     "metadata": {},
     "output_type": "execute_result"
    }
   ],
   "source": [
    "birthdays[\"january\"][15]"
   ]
  },
  {
   "cell_type": "markdown",
   "id": "727d4d95-ad79-49a7-bb48-fc4a95c96b61",
   "metadata": {},
   "source": [
    "Quite powerful, isn't it? Using dicts is *very* common in Python. It is probably *the* most used data type for managing data, because of its flexibility and ease of handling. I strongly suggest to play around with using dicts to gain more experience in using them,"
   ]
  },
  {
   "cell_type": "code",
   "execution_count": null,
   "id": "97396a9f-7795-49bd-a4c6-4dd7e0cb2f61",
   "metadata": {},
   "outputs": [],
   "source": []
  }
 ],
 "metadata": {
  "kernelspec": {
   "display_name": "Python 3 (ipykernel)",
   "language": "python",
   "name": "python3"
  },
  "language_info": {
   "codemirror_mode": {
    "name": "ipython",
    "version": 3
   },
   "file_extension": ".py",
   "mimetype": "text/x-python",
   "name": "python",
   "nbconvert_exporter": "python",
   "pygments_lexer": "ipython3",
   "version": "3.10.2"
  }
 },
 "nbformat": 4,
 "nbformat_minor": 5
}
