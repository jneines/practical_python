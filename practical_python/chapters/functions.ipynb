{
 "cells": [
  {
   "cell_type": "markdown",
   "id": "e298a8bf-c93c-4c00-a847-f9d15135b724",
   "metadata": {},
   "source": [
    "# Using functions to wrap code"
   ]
  },
  {
   "cell_type": "markdown",
   "id": "ae55b041-ca18-431d-b754-403bdde0d2c0",
   "metadata": {},
   "source": [
    "When developing software you will surely reach the point where you recognize that you need the same code to solve a problem over and over again. The most straightforward approach to organize this is to use functions for that. Functions offer a way to wrap a piece of code into a re-usable block which can be given a name. Furthermore it offers an interface for use. You can define parameters to be specified at call time to make the function work properly and functions can return results after doing all the necessary work. We've used that concept before throughout this book. Actually most Python core functionality is organized and offered that way.\n",
    "\n",
    "Let's have a look at how functions work with the minimum possible example of a function definition."
   ]
  },
  {
   "cell_type": "code",
   "execution_count": 44,
   "id": "fb2dc4cc-e23d-46b6-b821-5e1b93e2b301",
   "metadata": {
    "execution": {
     "iopub.execute_input": "2022-03-24T12:25:11.369428Z",
     "iopub.status.busy": "2022-03-24T12:25:11.369207Z",
     "iopub.status.idle": "2022-03-24T12:25:11.371988Z",
     "shell.execute_reply": "2022-03-24T12:25:11.371276Z",
     "shell.execute_reply.started": "2022-03-24T12:25:11.369391Z"
    },
    "tags": []
   },
   "outputs": [],
   "source": [
    "def my_function():\n",
    "    pass"
   ]
  },
  {
   "cell_type": "markdown",
   "id": "881e47f7-2f48-47ee-b9ff-fcbe97693603",
   "metadata": {},
   "source": [
    "Functions are defined by the keyword `def` following by the name of the function. The round brackets offer space for defining parameters required for the function. In our simple case no parameters are necessary, hence the brackets are empty here. As usually a colon ends the function header to introduce an indented block acting as the function body. The only statement that should be executed when calling our example function is the `pass` statement, which essentially will do nothing.\n",
    "\n",
    "Now that the function is properly defined, we can already use it."
   ]
  },
  {
   "cell_type": "code",
   "execution_count": 45,
   "id": "ba7020d4-b1ab-4d3a-9766-e8b0435daa93",
   "metadata": {
    "execution": {
     "iopub.execute_input": "2022-03-24T12:25:11.794024Z",
     "iopub.status.busy": "2022-03-24T12:25:11.793854Z",
     "iopub.status.idle": "2022-03-24T12:25:11.796058Z",
     "shell.execute_reply": "2022-03-24T12:25:11.795657Z",
     "shell.execute_reply.started": "2022-03-24T12:25:11.794007Z"
    },
    "tags": []
   },
   "outputs": [],
   "source": [
    "my_function()"
   ]
  },
  {
   "cell_type": "markdown",
   "id": "9a890ed3-fda3-4332-be44-b89d3675b6e3",
   "metadata": {},
   "source": [
    "As expected, nothing happens. Under the hood a lot happened already, so we can use our well known standard tools to investigate what our function has to offer. Using `help` for example reveals some default documentation on the function and how to properly call it."
   ]
  },
  {
   "cell_type": "code",
   "execution_count": 46,
   "id": "b508548c-7d3a-43a7-bd00-a62dad5bb3d9",
   "metadata": {
    "execution": {
     "iopub.execute_input": "2022-03-24T12:25:22.685992Z",
     "iopub.status.busy": "2022-03-24T12:25:22.685825Z",
     "iopub.status.idle": "2022-03-24T12:25:22.688769Z",
     "shell.execute_reply": "2022-03-24T12:25:22.688402Z",
     "shell.execute_reply.started": "2022-03-24T12:25:22.685976Z"
    },
    "tags": []
   },
   "outputs": [
    {
     "name": "stdout",
     "output_type": "stream",
     "text": [
      "Help on function my_function in module __main__:\n",
      "\n",
      "my_function()\n",
      "\n"
     ]
    }
   ],
   "source": [
    "help(my_function)"
   ]
  },
  {
   "cell_type": "markdown",
   "id": "48281c30-9c37-4efc-bbce-317cd5ba0970",
   "metadata": {},
   "source": [
    ":::{tip}\n",
    "Use the `dir` function to learn more on the default capabilities a function has to offer.\n",
    ":::"
   ]
  },
  {
   "cell_type": "markdown",
   "id": "bc69abb3-7b69-41b6-b470-dc5c320f51f0",
   "metadata": {},
   "source": [
    "Functions become more usable however if they actually do something, take arguments to modify parameters of an algorithm implemented in the functions body and return results. Python offers very flexible ways to define the arguments for a function. Let's investigate the possible options in a very abstract way first and later create an example where the use of all these options might actually make sense. \n",
    "\n",
    "Let's start with a simple function definition, which takes a necessary argument and simply returns it."
   ]
  },
  {
   "cell_type": "code",
   "execution_count": 47,
   "id": "875d42e6-59b7-40a9-a635-c2e2b2d8a5a7",
   "metadata": {
    "execution": {
     "iopub.execute_input": "2022-03-24T12:26:19.643816Z",
     "iopub.status.busy": "2022-03-24T12:26:19.643652Z",
     "iopub.status.idle": "2022-03-24T12:26:19.645998Z",
     "shell.execute_reply": "2022-03-24T12:26:19.645576Z",
     "shell.execute_reply.started": "2022-03-24T12:26:19.643801Z"
    },
    "tags": []
   },
   "outputs": [],
   "source": [
    "def my_function(a):\n",
    "    return a"
   ]
  },
  {
   "cell_type": "markdown",
   "id": "0d20dc56-d83c-4828-87ce-3f0eb7d04d04",
   "metadata": {},
   "source": [
    "`a` is a necessary, non-optional argument in this case. It has to be specified for the function to work, leaving it out will throw an error. So let's call it properly."
   ]
  },
  {
   "cell_type": "code",
   "execution_count": 48,
   "id": "f83150ea-db58-4832-a91b-2e1accfe1d76",
   "metadata": {
    "execution": {
     "iopub.execute_input": "2022-03-24T12:26:47.960019Z",
     "iopub.status.busy": "2022-03-24T12:26:47.959838Z",
     "iopub.status.idle": "2022-03-24T12:26:47.962893Z",
     "shell.execute_reply": "2022-03-24T12:26:47.962491Z",
     "shell.execute_reply.started": "2022-03-24T12:26:47.960001Z"
    },
    "tags": []
   },
   "outputs": [
    {
     "data": {
      "text/plain": [
       "1"
      ]
     },
     "execution_count": 48,
     "metadata": {},
     "output_type": "execute_result"
    }
   ],
   "source": [
    "my_function(1)"
   ]
  },
  {
   "cell_type": "markdown",
   "id": "aca6d206-d952-4338-b623-6f8f65e339f6",
   "metadata": {},
   "source": [
    "The number of arguments can be extended as necessary to make the algorithm work and more flexible. Let's redefine the function to take 6 arguments and return the sum of them, when called using numbers as arguments."
   ]
  },
  {
   "cell_type": "code",
   "execution_count": 49,
   "id": "9946920c-24f1-4515-86b6-918d046533cf",
   "metadata": {
    "execution": {
     "iopub.execute_input": "2022-03-24T12:28:55.545600Z",
     "iopub.status.busy": "2022-03-24T12:28:55.545390Z",
     "iopub.status.idle": "2022-03-24T12:28:55.547901Z",
     "shell.execute_reply": "2022-03-24T12:28:55.547464Z",
     "shell.execute_reply.started": "2022-03-24T12:28:55.545582Z"
    },
    "tags": []
   },
   "outputs": [],
   "source": [
    "def my_function(a, b, c, d, e, f):\n",
    "    return a + b + c + d + e + f"
   ]
  },
  {
   "cell_type": "code",
   "execution_count": 50,
   "id": "3a8ddf66-f7c1-4e4d-8aef-748d3b722136",
   "metadata": {
    "execution": {
     "iopub.execute_input": "2022-03-24T12:28:55.908010Z",
     "iopub.status.busy": "2022-03-24T12:28:55.907782Z",
     "iopub.status.idle": "2022-03-24T12:28:55.911844Z",
     "shell.execute_reply": "2022-03-24T12:28:55.911115Z",
     "shell.execute_reply.started": "2022-03-24T12:28:55.907994Z"
    },
    "tags": []
   },
   "outputs": [
    {
     "data": {
      "text/plain": [
       "21"
      ]
     },
     "execution_count": 50,
     "metadata": {},
     "output_type": "execute_result"
    }
   ],
   "source": [
    "my_function(1, 2, 3, 4, 5, 6)"
   ]
  },
  {
   "cell_type": "markdown",
   "id": "d35e8173-1be3-4d88-aa77-e59fd76ae2a4",
   "metadata": {},
   "source": [
    "Depending on the algorithm wrapped in the function, it might not be desirable to always provide all six parameters, as for example four of them rarely change. In this case it makes sense to redefine our function to use default values for some of the arguments making the use of them optional. The arguments that have default values however have to follow the non-optional arguments. They cannot be mixed."
   ]
  },
  {
   "cell_type": "code",
   "execution_count": 51,
   "id": "7c4bb260-a757-4f08-9da3-b819b2c45399",
   "metadata": {
    "execution": {
     "iopub.execute_input": "2022-03-24T12:29:32.819656Z",
     "iopub.status.busy": "2022-03-24T12:29:32.819497Z",
     "iopub.status.idle": "2022-03-24T12:29:32.822006Z",
     "shell.execute_reply": "2022-03-24T12:29:32.821595Z",
     "shell.execute_reply.started": "2022-03-24T12:29:32.819641Z"
    },
    "tags": []
   },
   "outputs": [],
   "source": [
    "def my_function(a, b, c=3, d=4, e=5, f=6):\n",
    "    return a + b + c + d + e + f"
   ]
  },
  {
   "cell_type": "markdown",
   "id": "2a01ba33-610f-4585-9fe3-cdf71da47990",
   "metadata": {},
   "source": [
    "By doing so our function can now be called with just two arguments to return a result."
   ]
  },
  {
   "cell_type": "code",
   "execution_count": 52,
   "id": "30c3de80-6ef1-4c8d-a825-631e31231274",
   "metadata": {
    "execution": {
     "iopub.execute_input": "2022-03-24T12:29:35.517640Z",
     "iopub.status.busy": "2022-03-24T12:29:35.517473Z",
     "iopub.status.idle": "2022-03-24T12:29:35.520616Z",
     "shell.execute_reply": "2022-03-24T12:29:35.520200Z",
     "shell.execute_reply.started": "2022-03-24T12:29:35.517622Z"
    },
    "tags": []
   },
   "outputs": [
    {
     "data": {
      "text/plain": [
       "48"
      ]
     },
     "execution_count": 52,
     "metadata": {},
     "output_type": "execute_result"
    }
   ],
   "source": [
    "my_function(10, 20)"
   ]
  },
  {
   "cell_type": "markdown",
   "id": "ca0dec25-f0cc-479d-8792-338590b17e22",
   "metadata": {},
   "source": [
    "Defining all possible arguments though is still possible."
   ]
  },
  {
   "cell_type": "code",
   "execution_count": 53,
   "id": "c0082a63-d415-43e1-badf-0daf76663c26",
   "metadata": {
    "execution": {
     "iopub.execute_input": "2022-03-24T12:29:38.061047Z",
     "iopub.status.busy": "2022-03-24T12:29:38.060888Z",
     "iopub.status.idle": "2022-03-24T12:29:38.064224Z",
     "shell.execute_reply": "2022-03-24T12:29:38.063697Z",
     "shell.execute_reply.started": "2022-03-24T12:29:38.061033Z"
    },
    "tags": []
   },
   "outputs": [
    {
     "data": {
      "text/plain": [
       "210"
      ]
     },
     "execution_count": 53,
     "metadata": {},
     "output_type": "execute_result"
    }
   ],
   "source": [
    "my_function(10, 20, 30, 40, 50, 60)"
   ]
  },
  {
   "cell_type": "markdown",
   "id": "7589825b-87ef-4160-8348-e1dda36e908b",
   "metadata": {},
   "source": [
    "Even defining any number of arguments between the minimal set of parameters and the maximum number works. The defaults for the arguments will be overwritten in the order they occur in this case."
   ]
  },
  {
   "cell_type": "code",
   "execution_count": 54,
   "id": "ede62e85-7c68-43ce-960a-0343b7372a3e",
   "metadata": {
    "execution": {
     "iopub.execute_input": "2022-03-24T12:30:07.232022Z",
     "iopub.status.busy": "2022-03-24T12:30:07.231850Z",
     "iopub.status.idle": "2022-03-24T12:30:07.235344Z",
     "shell.execute_reply": "2022-03-24T12:30:07.234847Z",
     "shell.execute_reply.started": "2022-03-24T12:30:07.232005Z"
    },
    "tags": []
   },
   "outputs": [
    {
     "data": {
      "text/plain": [
       "111"
      ]
     },
     "execution_count": 54,
     "metadata": {},
     "output_type": "execute_result"
    }
   ],
   "source": [
    "my_function(10, 20, 30, 40)"
   ]
  },
  {
   "cell_type": "markdown",
   "id": "0996d0d6-3103-47c7-8c2e-34a17d13ef84",
   "metadata": {},
   "source": [
    "If selected default values shall be replaced, this will work as well by directly naming the argument."
   ]
  },
  {
   "cell_type": "code",
   "execution_count": 21,
   "id": "6c534a78-ca50-4637-bef2-bdd947970fce",
   "metadata": {
    "execution": {
     "iopub.execute_input": "2022-03-24T08:40:05.685688Z",
     "iopub.status.busy": "2022-03-24T08:40:05.685215Z",
     "iopub.status.idle": "2022-03-24T08:40:05.689278Z",
     "shell.execute_reply": "2022-03-24T08:40:05.688753Z",
     "shell.execute_reply.started": "2022-03-24T08:40:05.685671Z"
    },
    "tags": []
   },
   "outputs": [
    {
     "data": {
      "text/plain": [
       "102"
      ]
     },
     "execution_count": 21,
     "metadata": {},
     "output_type": "execute_result"
    }
   ],
   "source": [
    "my_function(10, 20, f=60)"
   ]
  },
  {
   "cell_type": "markdown",
   "id": "f55686a9-26f6-4aee-8998-0ed07ca754f5",
   "metadata": {},
   "source": [
    "This gained quite some more flexibility already. Bit this is not the end.\n",
    "\n",
    "There might as well be situations, where the real number of arguments is not known beforehand. Think of processing a list like set of arguments. Python offers a neat concept for this as well. When an argument in a function definition is preceeded with an asterisk `*`, it will take all remaining arguments in the function call, aggregate them and offer them as a tuple via the arguments name. It is common practice to call that variable `args`.\n",
    "\n",
    "When using this pattern for our function definition, the resulting code to return the same result would look like this."
   ]
  },
  {
   "cell_type": "code",
   "execution_count": 55,
   "id": "8a46b242-e120-412e-aab6-db80cf31f9be",
   "metadata": {
    "execution": {
     "iopub.execute_input": "2022-03-24T12:32:33.121275Z",
     "iopub.status.busy": "2022-03-24T12:32:33.120990Z",
     "iopub.status.idle": "2022-03-24T12:32:33.123881Z",
     "shell.execute_reply": "2022-03-24T12:32:33.123365Z",
     "shell.execute_reply.started": "2022-03-24T12:32:33.121257Z"
    },
    "tags": []
   },
   "outputs": [],
   "source": [
    "def my_function(a, b, *args):\n",
    "    result = a + b\n",
    "    for arg in args:\n",
    "        result += arg\n",
    "\n",
    "    return result"
   ]
  },
  {
   "cell_type": "code",
   "execution_count": 56,
   "id": "2d090bcc-a090-4efc-8860-a75004ed476b",
   "metadata": {
    "execution": {
     "iopub.execute_input": "2022-03-24T12:32:33.649963Z",
     "iopub.status.busy": "2022-03-24T12:32:33.649803Z",
     "iopub.status.idle": "2022-03-24T12:32:33.653044Z",
     "shell.execute_reply": "2022-03-24T12:32:33.652628Z",
     "shell.execute_reply.started": "2022-03-24T12:32:33.649948Z"
    },
    "tags": []
   },
   "outputs": [
    {
     "data": {
      "text/plain": [
       "21"
      ]
     },
     "execution_count": 56,
     "metadata": {},
     "output_type": "execute_result"
    }
   ],
   "source": [
    "my_function(1, 2, 3, 4, 5, 6)"
   ]
  },
  {
   "cell_type": "markdown",
   "id": "43c31991-de10-4c79-8ca9-f7458c3ecdb1",
   "metadata": {},
   "source": [
    "Not specifying the arguments considered optional before now returns a different result."
   ]
  },
  {
   "cell_type": "code",
   "execution_count": 57,
   "id": "17504185-0f56-42cc-b245-4ede666b6f40",
   "metadata": {
    "execution": {
     "iopub.execute_input": "2022-03-24T12:32:42.145754Z",
     "iopub.status.busy": "2022-03-24T12:32:42.145582Z",
     "iopub.status.idle": "2022-03-24T12:32:42.149227Z",
     "shell.execute_reply": "2022-03-24T12:32:42.148744Z",
     "shell.execute_reply.started": "2022-03-24T12:32:42.145736Z"
    },
    "tags": []
   },
   "outputs": [
    {
     "data": {
      "text/plain": [
       "3"
      ]
     },
     "execution_count": 57,
     "metadata": {},
     "output_type": "execute_result"
    }
   ],
   "source": [
    "my_function(1, 2)"
   ]
  },
  {
   "cell_type": "markdown",
   "id": "c63a337a-adb1-4305-b2c6-498915d48fc4",
   "metadata": {},
   "source": [
    "On the other hand, the number of arguments is now no longer limited."
   ]
  },
  {
   "cell_type": "code",
   "execution_count": 58,
   "id": "efc85018-2032-4a04-9889-4f1c9c18a251",
   "metadata": {
    "execution": {
     "iopub.execute_input": "2022-03-24T12:32:46.039272Z",
     "iopub.status.busy": "2022-03-24T12:32:46.039112Z",
     "iopub.status.idle": "2022-03-24T12:32:46.042505Z",
     "shell.execute_reply": "2022-03-24T12:32:46.042107Z",
     "shell.execute_reply.started": "2022-03-24T12:32:46.039257Z"
    },
    "tags": []
   },
   "outputs": [
    {
     "data": {
      "text/plain": [
       "45"
      ]
     },
     "execution_count": 58,
     "metadata": {},
     "output_type": "execute_result"
    }
   ],
   "source": [
    "my_function(1, 2, 3, 4, 5, 6, 7, 8, 9)"
   ]
  },
  {
   "cell_type": "markdown",
   "id": "9c3cee89-bf1b-47ea-b788-91fd3cfc6b0a",
   "metadata": {},
   "source": [
    "And a final type for arguments exists, where you can define optional arguments using arbitrarily chosen names. An argument preceeded by two asterisks `**` will be treated as a dictionary within the function and takes all optional named arguments specified from that argument location on. The usually chosen name for this type of argument is `kwargs`, which stands for *keyword arguments*.\n",
    "\n",
    "To use this feature our function definition might become"
   ]
  },
  {
   "cell_type": "code",
   "execution_count": 59,
   "id": "12258c3a-ff2e-4be6-92fd-80b2a917ea5b",
   "metadata": {
    "execution": {
     "iopub.execute_input": "2022-03-24T12:33:33.636844Z",
     "iopub.status.busy": "2022-03-24T12:33:33.636680Z",
     "iopub.status.idle": "2022-03-24T12:33:33.639650Z",
     "shell.execute_reply": "2022-03-24T12:33:33.639166Z",
     "shell.execute_reply.started": "2022-03-24T12:33:33.636827Z"
    },
    "tags": []
   },
   "outputs": [],
   "source": [
    "def my_function(a, b, *args, **kwargs):\n",
    "    result = a + b\n",
    "    for arg in args:\n",
    "        result += arg\n",
    "    for value in kwargs.values():\n",
    "        result += value\n",
    "\n",
    "    return result"
   ]
  },
  {
   "cell_type": "markdown",
   "id": "6ecf19ed-71a7-4975-9a64-21ce1ab73a08",
   "metadata": {},
   "source": [
    "The three function calls before still work as expected"
   ]
  },
  {
   "cell_type": "code",
   "execution_count": 60,
   "id": "27402857-487b-4cf5-8487-32f134472895",
   "metadata": {
    "execution": {
     "iopub.execute_input": "2022-03-24T12:33:37.382074Z",
     "iopub.status.busy": "2022-03-24T12:33:37.381904Z",
     "iopub.status.idle": "2022-03-24T12:33:37.385394Z",
     "shell.execute_reply": "2022-03-24T12:33:37.384905Z",
     "shell.execute_reply.started": "2022-03-24T12:33:37.382057Z"
    },
    "tags": []
   },
   "outputs": [
    {
     "data": {
      "text/plain": [
       "21"
      ]
     },
     "execution_count": 60,
     "metadata": {},
     "output_type": "execute_result"
    }
   ],
   "source": [
    "my_function(1, 2, 3, 4, 5, 6)"
   ]
  },
  {
   "cell_type": "code",
   "execution_count": 61,
   "id": "b310ef29-036f-41b8-a92b-1e13373d3021",
   "metadata": {
    "execution": {
     "iopub.execute_input": "2022-03-24T12:33:37.810553Z",
     "iopub.status.busy": "2022-03-24T12:33:37.810379Z",
     "iopub.status.idle": "2022-03-24T12:33:37.813463Z",
     "shell.execute_reply": "2022-03-24T12:33:37.813111Z",
     "shell.execute_reply.started": "2022-03-24T12:33:37.810537Z"
    },
    "tags": []
   },
   "outputs": [
    {
     "data": {
      "text/plain": [
       "3"
      ]
     },
     "execution_count": 61,
     "metadata": {},
     "output_type": "execute_result"
    }
   ],
   "source": [
    "my_function(1, 2)"
   ]
  },
  {
   "cell_type": "code",
   "execution_count": 62,
   "id": "b14639f1-6f56-4d4b-bbae-b76105ff3e4e",
   "metadata": {
    "execution": {
     "iopub.execute_input": "2022-03-24T12:33:38.056034Z",
     "iopub.status.busy": "2022-03-24T12:33:38.055872Z",
     "iopub.status.idle": "2022-03-24T12:33:38.058985Z",
     "shell.execute_reply": "2022-03-24T12:33:38.058588Z",
     "shell.execute_reply.started": "2022-03-24T12:33:38.056019Z"
    },
    "tags": []
   },
   "outputs": [
    {
     "data": {
      "text/plain": [
       "45"
      ]
     },
     "execution_count": 62,
     "metadata": {},
     "output_type": "execute_result"
    }
   ],
   "source": [
    "my_function(1, 2, 3, 4, 5, 6, 7, 8, 9)"
   ]
  },
  {
   "cell_type": "markdown",
   "id": "e507f90c-0a99-4bef-aa28-28203a8b7121",
   "metadata": {},
   "source": [
    "And this will be now possible as well."
   ]
  },
  {
   "cell_type": "code",
   "execution_count": 63,
   "id": "2fe5ec45-65ee-4e36-afb4-8476c3d1dbad",
   "metadata": {
    "execution": {
     "iopub.execute_input": "2022-03-24T12:33:39.476106Z",
     "iopub.status.busy": "2022-03-24T12:33:39.475874Z",
     "iopub.status.idle": "2022-03-24T12:33:39.479831Z",
     "shell.execute_reply": "2022-03-24T12:33:39.479281Z",
     "shell.execute_reply.started": "2022-03-24T12:33:39.476090Z"
    },
    "tags": []
   },
   "outputs": [
    {
     "data": {
      "text/plain": [
       "78"
      ]
     },
     "execution_count": 63,
     "metadata": {},
     "output_type": "execute_result"
    }
   ],
   "source": [
    "my_function(1, 2, 3, 4, 5, 6, 7, 8, 9, ten=10, eleven=11, twelve=12)"
   ]
  },
  {
   "cell_type": "code",
   "execution_count": 64,
   "id": "cb4c8606-12a6-4692-a7b3-1a75cfbe05f9",
   "metadata": {
    "execution": {
     "iopub.execute_input": "2022-03-24T12:33:40.666839Z",
     "iopub.status.busy": "2022-03-24T12:33:40.666646Z",
     "iopub.status.idle": "2022-03-24T12:33:40.670373Z",
     "shell.execute_reply": "2022-03-24T12:33:40.669957Z",
     "shell.execute_reply.started": "2022-03-24T12:33:40.666823Z"
    },
    "tags": []
   },
   "outputs": [
    {
     "data": {
      "text/plain": [
       "36"
      ]
     },
     "execution_count": 64,
     "metadata": {},
     "output_type": "execute_result"
    }
   ],
   "source": [
    "my_function(1, 2, ten=10, eleven=11, twelve=12)"
   ]
  },
  {
   "cell_type": "markdown",
   "id": "1950d484-a0cc-46c2-abf9-0de0d87a30eb",
   "metadata": {},
   "source": [
    "So to wrap up a complete but still abstract function definition using all possible options might look like the following.\n",
    "In this case it will just print out the arguments contents to show which variable holds the specified parameters within the function body.\n",
    "\n",
    "Note that the `*args` and `**kwargs` concept can only be used once in the function definition, which makes sense if you think about it.\n",
    "Furthermore the argument handling concepts can only be used in that specific order."
   ]
  },
  {
   "cell_type": "code",
   "execution_count": 65,
   "id": "19425c90-5d43-49c1-8469-7a36c038a9fb",
   "metadata": {
    "execution": {
     "iopub.execute_input": "2022-03-24T12:35:15.160933Z",
     "iopub.status.busy": "2022-03-24T12:35:15.160753Z",
     "iopub.status.idle": "2022-03-24T12:35:15.163515Z",
     "shell.execute_reply": "2022-03-24T12:35:15.163125Z",
     "shell.execute_reply.started": "2022-03-24T12:35:15.160914Z"
    },
    "tags": []
   },
   "outputs": [],
   "source": [
    "def my_function(a, b, c=1, *args, **kwargs):\n",
    "    print(f\"{a=}\")\n",
    "    print(f\"{b=}\")\n",
    "    print(f\"{c=}\")\n",
    "    print(f\"{args=}\")\n",
    "    print(f\"{kwargs=}\")"
   ]
  },
  {
   "cell_type": "code",
   "execution_count": 66,
   "id": "8c712220-8c86-400c-9300-fc052d21ea70",
   "metadata": {
    "execution": {
     "iopub.execute_input": "2022-03-24T12:35:15.937992Z",
     "iopub.status.busy": "2022-03-24T12:35:15.937733Z",
     "iopub.status.idle": "2022-03-24T12:35:15.940915Z",
     "shell.execute_reply": "2022-03-24T12:35:15.940463Z",
     "shell.execute_reply.started": "2022-03-24T12:35:15.937974Z"
    },
    "tags": []
   },
   "outputs": [
    {
     "name": "stdout",
     "output_type": "stream",
     "text": [
      "a=1\n",
      "b=2\n",
      "c=3\n",
      "args=(4, 5, 6, 7, 8, 9)\n",
      "kwargs={'ten': 10, 'eleven': 11, 'twelve': 12}\n"
     ]
    }
   ],
   "source": [
    "my_function(1, 2, 3, 4, 5, 6, 7, 8, 9, ten=10, eleven=11, twelve=12)"
   ]
  },
  {
   "cell_type": "markdown",
   "id": "86c97946-ffc0-4db4-bb73-dc660ce7a6e3",
   "metadata": {
    "execution": {
     "iopub.execute_input": "2022-03-24T08:59:43.655257Z",
     "iopub.status.busy": "2022-03-24T08:59:43.655049Z",
     "iopub.status.idle": "2022-03-24T08:59:43.658693Z",
     "shell.execute_reply": "2022-03-24T08:59:43.658100Z",
     "shell.execute_reply.started": "2022-03-24T08:59:43.655240Z"
    },
    "tags": []
   },
   "source": [
    ":::{tip}\n",
    "Play around with several argument assignments to practice the concept.\n",
    "This is considered to be a very important concept for defining interfaces for accessing functionality.\n",
    "Designing a clean and usable interface for an algorithm is a key feature for its successful use.\n",
    ":::"
   ]
  },
  {
   "cell_type": "markdown",
   "id": "fc588feb-beba-4503-8071-d132f7917170",
   "metadata": {},
   "source": [
    "## Scopes of variables"
   ]
  },
  {
   "cell_type": "markdown",
   "id": "7497b797-1d3e-4190-bf51-fa4cce154803",
   "metadata": {},
   "source": [
    "Another important thing to note here is that functions create a local variable namespace distinct from the global one that is used for top level execution.\n",
    "That means, variables that have been defined prior to a function definition will be visible to the function and used in a read only fashion.\n",
    "Modifying these variables is not possible without further attention and should be avoided.\n",
    "\n",
    "Let's investigate this with another abstract example. Let's say we would want to create a simple function working on a number, say increment it. We'll use a function definition and code like the following, showing a pre-initialized variable before the function, a variable of the same name within the function that gets modified and the state of the variable after the function call."
   ]
  },
  {
   "cell_type": "code",
   "execution_count": 92,
   "id": "64d5debb-8325-473d-a916-939b60c2eb09",
   "metadata": {
    "execution": {
     "iopub.execute_input": "2022-03-24T12:54:41.798864Z",
     "iopub.status.busy": "2022-03-24T12:54:41.798687Z",
     "iopub.status.idle": "2022-03-24T12:54:41.801977Z",
     "shell.execute_reply": "2022-03-24T12:54:41.801575Z",
     "shell.execute_reply.started": "2022-03-24T12:54:41.798847Z"
    },
    "tags": []
   },
   "outputs": [
    {
     "name": "stdout",
     "output_type": "stream",
     "text": [
      "Variable before function call: a=1\n",
      "Variable within function before increment: a=10\n",
      "Variable within function after increment: a=11\n",
      "Variable after function call: a=1\n"
     ]
    }
   ],
   "source": [
    "def increment_a():\n",
    "    a = 10\n",
    "    print(f\"Variable within function before increment: {a=}\")\n",
    "    a = a + 1\n",
    "    print(f\"Variable within function after increment: {a=}\")\n",
    "\n",
    "\n",
    "a = 1\n",
    "print(f\"Variable before function call: {a=}\")\n",
    "increment_a()\n",
    "print(f\"Variable after function call: {a=}\")"
   ]
  },
  {
   "cell_type": "markdown",
   "id": "f1c1f432-9466-422c-88c5-0d49c3a01359",
   "metadata": {},
   "source": [
    "We can see that the variable `a`, despite the fact that it has been seemingly modified twice in the function by assigning it a different value and incrementing it by 1, has the original value after the function call again.\n",
    "What happened was that the variable has effectively been defined in two distinct scopes. One variable with the name `a` has been defined into the local namespace of the function.\n",
    "This variable has been assigned the value 10 and incremented by one afterwards.\n",
    "That very variable creation only exists while the function is executed.\n",
    "\n",
    "In the main program a variable `a` has been created as well. This variable lives in the global scope of the program. \n",
    "As the function defines its own variable `a`, which is completely distinct of the globals one, it is not modified by the function call.\n",
    "\n",
    "Technically there are ways to make this work as possibly expected with the use of the `global` keyword in the function definition. However, as it is considered to be bad practice to write code like this, I won't show how this actually works.\n",
    "\n",
    "The better implementation for this is to take `a` as a right hand side argument to the function call and provide the incremented value as a left hand side argument by returning it.\n",
    "Effectively our code for this becomes"
   ]
  },
  {
   "cell_type": "code",
   "execution_count": 93,
   "id": "2679e118-0255-4319-b9ff-ed82b6d4f813",
   "metadata": {
    "execution": {
     "iopub.execute_input": "2022-03-24T13:02:23.575784Z",
     "iopub.status.busy": "2022-03-24T13:02:23.575564Z",
     "iopub.status.idle": "2022-03-24T13:02:23.579124Z",
     "shell.execute_reply": "2022-03-24T13:02:23.578671Z",
     "shell.execute_reply.started": "2022-03-24T13:02:23.575767Z"
    }
   },
   "outputs": [
    {
     "name": "stdout",
     "output_type": "stream",
     "text": [
      "Variable before function call: a=1\n",
      "Variable within function before increment: value=1\n",
      "Variable within function after increment: result=2\n",
      "Variable after function call: a=2\n"
     ]
    }
   ],
   "source": [
    "def increment(value):\n",
    "    print(f\"Variable within function before increment: {value=}\")\n",
    "    result = value + 1\n",
    "    print(f\"Variable within function after increment: {result=}\")\n",
    "    return result\n",
    "\n",
    "a = 1\n",
    "print(f\"Variable before function call: {a=}\")\n",
    "a = increment(a)\n",
    "print(f\"Variable after function call: {a=}\")"
   ]
  },
  {
   "cell_type": "markdown",
   "id": "611347d0-e77d-4b31-b8e8-432a4819da83",
   "metadata": {},
   "source": [
    "This is the expected result, with a clean implementation."
   ]
  },
  {
   "cell_type": "markdown",
   "id": "bf26cc05-18c1-477d-803a-5b1f80fbb347",
   "metadata": {},
   "source": [
    "## A reality example"
   ]
  },
  {
   "cell_type": "markdown",
   "id": "1da1b434-8a82-40d9-8489-d2f819ee9e23",
   "metadata": {},
   "source": [
    "To show the usage of various argument types using less abstract more real world example, let's have a look at our trivial sorting algorithm.\n",
    "Let's design the interface in a way that it takes an iterable of `items` to sort, which should be numbers in this case.\n",
    "Furthermore we think, that this algorithm will be used most often to sort the numbers in ascending order, but descending order should be supported as well. \n",
    "We will handle this by introducing a `cmp` argument, which stands for the comparison strategy in this case. A \"lt\" will use a *lower than* test to compare two values, a \"gt\" for example indicates you would like to receive the items in descending order.\n",
    "For some very rare case there should be an option to return every nth element only from the sorted result. This we handle by checking the keys and values of the optional `**kwargs` dict."
   ]
  },
  {
   "cell_type": "code",
   "execution_count": 117,
   "id": "423a847c-31e0-4a7a-9c2e-763ca220510a",
   "metadata": {
    "execution": {
     "iopub.execute_input": "2022-03-24T13:22:14.496420Z",
     "iopub.status.busy": "2022-03-24T13:22:14.496125Z",
     "iopub.status.idle": "2022-03-24T13:22:14.500341Z",
     "shell.execute_reply": "2022-03-24T13:22:14.499799Z",
     "shell.execute_reply.started": "2022-03-24T13:22:14.496403Z"
    },
    "tags": []
   },
   "outputs": [],
   "source": [
    "def sort(items, cmp=\"lt\", **kwargs):\n",
    "    result = items[:]\n",
    "    for _ in range(len(result)-1):\n",
    "        for index in range(len(result)-1):\n",
    "            left, right = result[index], result[index+1]\n",
    "            if cmp == \"lt\":\n",
    "                if right < left:\n",
    "                    result[index] = right\n",
    "                    result[index+1] = left\n",
    "            else:\n",
    "                if right > left:\n",
    "                    result[index] = right\n",
    "                    result[index+1] = left\n",
    "                    \n",
    "    if \"every\" in kwargs.keys():\n",
    "        return result[::kwargs[\"every\"]]\n",
    "    return result"
   ]
  },
  {
   "cell_type": "markdown",
   "id": "cf3a2378-7610-439b-a36c-866788e80d55",
   "metadata": {},
   "source": [
    "Let's now test several possible usage options.\n",
    "First of all call it the default way."
   ]
  },
  {
   "cell_type": "code",
   "execution_count": 118,
   "id": "ebe95ccb-da93-4daf-aad0-a6eef38c5d5b",
   "metadata": {
    "execution": {
     "iopub.execute_input": "2022-03-24T13:22:15.046209Z",
     "iopub.status.busy": "2022-03-24T13:22:15.046033Z",
     "iopub.status.idle": "2022-03-24T13:22:15.049352Z",
     "shell.execute_reply": "2022-03-24T13:22:15.048975Z",
     "shell.execute_reply.started": "2022-03-24T13:22:15.046193Z"
    },
    "tags": []
   },
   "outputs": [
    {
     "data": {
      "text/plain": [
       "[1, 2, 2, 4, 5, 6, 7, 8]"
      ]
     },
     "execution_count": 118,
     "metadata": {},
     "output_type": "execute_result"
    }
   ],
   "source": [
    "items = [2, 1, 5, 4, 6, 7, 8, 2]\n",
    "sort(items)"
   ]
  },
  {
   "cell_type": "markdown",
   "id": "16362446-78a5-4de3-b695-da821219128e",
   "metadata": {},
   "source": [
    "Next change the default argument to change the sort order."
   ]
  },
  {
   "cell_type": "code",
   "execution_count": 119,
   "id": "f9eb8ed2-20d9-4b75-b60c-7f7a7e5fc13b",
   "metadata": {
    "execution": {
     "iopub.execute_input": "2022-03-24T13:22:15.496634Z",
     "iopub.status.busy": "2022-03-24T13:22:15.496401Z",
     "iopub.status.idle": "2022-03-24T13:22:15.500597Z",
     "shell.execute_reply": "2022-03-24T13:22:15.499946Z",
     "shell.execute_reply.started": "2022-03-24T13:22:15.496618Z"
    },
    "tags": []
   },
   "outputs": [
    {
     "data": {
      "text/plain": [
       "[8, 7, 6, 5, 4, 2, 2, 1]"
      ]
     },
     "execution_count": 119,
     "metadata": {},
     "output_type": "execute_result"
    }
   ],
   "source": [
    "sort(items, cmp=\"gt\")"
   ]
  },
  {
   "cell_type": "markdown",
   "id": "805264b5-2e25-4f31-89d1-48647c473984",
   "metadata": {},
   "source": [
    "And lastly add an optional keyword argument to only return every nth element"
   ]
  },
  {
   "cell_type": "code",
   "execution_count": 120,
   "id": "07585d9a-78ac-4eff-bf64-0b686873c15d",
   "metadata": {
    "execution": {
     "iopub.execute_input": "2022-03-24T13:22:16.644577Z",
     "iopub.status.busy": "2022-03-24T13:22:16.644376Z",
     "iopub.status.idle": "2022-03-24T13:22:16.648284Z",
     "shell.execute_reply": "2022-03-24T13:22:16.647585Z",
     "shell.execute_reply.started": "2022-03-24T13:22:16.644547Z"
    },
    "tags": []
   },
   "outputs": [
    {
     "data": {
      "text/plain": [
       "[1, 2, 5, 7]"
      ]
     },
     "execution_count": 120,
     "metadata": {},
     "output_type": "execute_result"
    }
   ],
   "source": [
    "sort(items, every=2)"
   ]
  },
  {
   "cell_type": "code",
   "execution_count": null,
   "id": "75aebc26-df8b-4f79-9335-52c11d5b8d54",
   "metadata": {},
   "outputs": [],
   "source": []
  }
 ],
 "metadata": {
  "kernelspec": {
   "display_name": "Python 3 (ipykernel)",
   "language": "python",
   "name": "python3"
  },
  "language_info": {
   "codemirror_mode": {
    "name": "ipython",
    "version": 3
   },
   "file_extension": ".py",
   "mimetype": "text/x-python",
   "name": "python",
   "nbconvert_exporter": "python",
   "pygments_lexer": "ipython3",
   "version": "3.10.2"
  }
 },
 "nbformat": 4,
 "nbformat_minor": 5
}
