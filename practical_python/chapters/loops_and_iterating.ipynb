{
 "cells": [
  {
   "cell_type": "markdown",
   "id": "38c4c924-25b0-47c3-855b-a3d9e315f023",
   "metadata": {},
   "source": [
    "# Learning to loop\n",
    "\n",
    "Looping over data is another fundamental programming concept.\n",
    "It's necessary for a whole bunch of algorithms dealing with an amount of data larger then one.\n",
    "Sometimes its more than obvious, sometimes things happen behind the scenes.\n",
    "But using loops to work with data will almost always be there.\n",
    "\n",
    "There are essentially two ways of looping over data in Python.\n",
    "If we know the number of elements to work with in advance, we can use a `for` loop.\n",
    "In all other situations, where data is consumed without the knowledge on its amout, we can use the `while` loop."
   ]
  },
  {
   "cell_type": "markdown",
   "id": "50040814-692f-493e-9746-829ee0d665ca",
   "metadata": {},
   "source": [
    "## for loops"
   ]
  },
  {
   "cell_type": "markdown",
   "id": "2d45b1f2-8767-4ab0-a6a4-202b85265b92",
   "metadata": {},
   "source": [
    "To use a `for` loop the container with elements to loop over needs to support the iteration protocol, that is an `__iter__` method exists. This is true for all the lists, tuples, sets and dictionaries we've seen earlier, and for generators.\n",
    "Those generators are a special, memory efficient alternative to lists for example.\n",
    "If the content of a list is known in advance, or in other words a plan exists how to create the content, than this plan can be brought to life using a generator concept, which will provide the desired content on the fly.\n",
    "Without looking into the details on how to exactly do that, the `range` function is just that thing.\n",
    "A generator to create numbers on the fly from a start to an end value with an optional setting for the step size.\n",
    "The start value is optional here as well and has a default value of 0. Let's use the `help` function again to have a closer look."
   ]
  },
  {
   "cell_type": "code",
   "execution_count": 1,
   "id": "0712fe82-e16c-45f9-b33a-34d054e0fccb",
   "metadata": {
    "execution": {
     "iopub.execute_input": "2022-02-28T08:03:01.345505Z",
     "iopub.status.busy": "2022-02-28T08:03:01.345296Z",
     "iopub.status.idle": "2022-02-28T08:03:01.354714Z",
     "shell.execute_reply": "2022-02-28T08:03:01.354225Z",
     "shell.execute_reply.started": "2022-02-28T08:03:01.345458Z"
    },
    "tags": []
   },
   "outputs": [
    {
     "name": "stdout",
     "output_type": "stream",
     "text": [
      "Help on class range in module builtins:\n",
      "\n",
      "class range(object)\n",
      " |  range(stop) -> range object\n",
      " |  range(start, stop[, step]) -> range object\n",
      " |  \n",
      " |  Return an object that produces a sequence of integers from start (inclusive)\n",
      " |  to stop (exclusive) by step.  range(i, j) produces i, i+1, i+2, ..., j-1.\n",
      " |  start defaults to 0, and stop is omitted!  range(4) produces 0, 1, 2, 3.\n",
      " |  These are exactly the valid indices for a list of 4 elements.\n",
      " |  When step is given, it specifies the increment (or decrement).\n",
      " |  \n",
      " |  Methods defined here:\n",
      " |  \n",
      " |  __bool__(self, /)\n",
      " |      self != 0\n",
      " |  \n",
      " |  __contains__(self, key, /)\n",
      " |      Return key in self.\n",
      " |  \n",
      " |  __eq__(self, value, /)\n",
      " |      Return self==value.\n",
      " |  \n",
      " |  __ge__(self, value, /)\n",
      " |      Return self>=value.\n",
      " |  \n",
      " |  __getattribute__(self, name, /)\n",
      " |      Return getattr(self, name).\n",
      " |  \n",
      " |  __getitem__(self, key, /)\n",
      " |      Return self[key].\n",
      " |  \n",
      " |  __gt__(self, value, /)\n",
      " |      Return self>value.\n",
      " |  \n",
      " |  __hash__(self, /)\n",
      " |      Return hash(self).\n",
      " |  \n",
      " |  __iter__(self, /)\n",
      " |      Implement iter(self).\n",
      " |  \n",
      " |  __le__(self, value, /)\n",
      " |      Return self<=value.\n",
      " |  \n",
      " |  __len__(self, /)\n",
      " |      Return len(self).\n",
      " |  \n",
      " |  __lt__(self, value, /)\n",
      " |      Return self<value.\n",
      " |  \n",
      " |  __ne__(self, value, /)\n",
      " |      Return self!=value.\n",
      " |  \n",
      " |  __reduce__(...)\n",
      " |      Helper for pickle.\n",
      " |  \n",
      " |  __repr__(self, /)\n",
      " |      Return repr(self).\n",
      " |  \n",
      " |  __reversed__(...)\n",
      " |      Return a reverse iterator.\n",
      " |  \n",
      " |  count(...)\n",
      " |      rangeobject.count(value) -> integer -- return number of occurrences of value\n",
      " |  \n",
      " |  index(...)\n",
      " |      rangeobject.index(value) -> integer -- return index of value.\n",
      " |      Raise ValueError if the value is not present.\n",
      " |  \n",
      " |  ----------------------------------------------------------------------\n",
      " |  Static methods defined here:\n",
      " |  \n",
      " |  __new__(*args, **kwargs) from builtins.type\n",
      " |      Create and return a new object.  See help(type) for accurate signature.\n",
      " |  \n",
      " |  ----------------------------------------------------------------------\n",
      " |  Data descriptors defined here:\n",
      " |  \n",
      " |  start\n",
      " |  \n",
      " |  step\n",
      " |  \n",
      " |  stop\n",
      "\n"
     ]
    }
   ],
   "source": [
    "help(range)"
   ]
  },
  {
   "cell_type": "markdown",
   "id": "681744aa-9dd7-44c5-a420-1a264f1053d0",
   "metadata": {},
   "source": [
    "We can see the syntax to be used here, with the two options of calling and an optional `step` setting, as well as the necessary `__iter__` method which essentially makes `range` a generator. And when trying to create numbers from 0 to 10 using range, we see, that just calling it won't deliver the expected result."
   ]
  },
  {
   "cell_type": "code",
   "execution_count": 2,
   "id": "21ecd28f-3684-489e-8cfa-7c4ffd55b17a",
   "metadata": {
    "execution": {
     "iopub.execute_input": "2022-02-28T08:05:49.734535Z",
     "iopub.status.busy": "2022-02-28T08:05:49.734326Z",
     "iopub.status.idle": "2022-02-28T08:05:49.741681Z",
     "shell.execute_reply": "2022-02-28T08:05:49.741028Z",
     "shell.execute_reply.started": "2022-02-28T08:05:49.734519Z"
    }
   },
   "outputs": [
    {
     "data": {
      "text/plain": [
       "range(0, 10)"
      ]
     },
     "execution_count": 2,
     "metadata": {},
     "output_type": "execute_result"
    }
   ],
   "source": [
    "range(10)"
   ]
  },
  {
   "cell_type": "markdown",
   "id": "d861e852-e02c-420b-b961-67d26c812882",
   "metadata": {},
   "source": [
    "But as soon as we iterate over the generator we receive the numbers we are looking for."
   ]
  },
  {
   "cell_type": "code",
   "execution_count": 3,
   "id": "8cb82fab-0b4e-4342-a83d-4aaef96e66d7",
   "metadata": {
    "execution": {
     "iopub.execute_input": "2022-02-28T08:06:18.270324Z",
     "iopub.status.busy": "2022-02-28T08:06:18.270087Z",
     "iopub.status.idle": "2022-02-28T08:06:18.273598Z",
     "shell.execute_reply": "2022-02-28T08:06:18.272953Z",
     "shell.execute_reply.started": "2022-02-28T08:06:18.270308Z"
    },
    "tags": []
   },
   "outputs": [
    {
     "name": "stdout",
     "output_type": "stream",
     "text": [
      "0\n",
      "1\n",
      "2\n",
      "3\n",
      "4\n",
      "5\n",
      "6\n",
      "7\n",
      "8\n",
      "9\n"
     ]
    }
   ],
   "source": [
    "for index in range(10):\n",
    "    print(index)"
   ]
  },
  {
   "cell_type": "markdown",
   "id": "2974a229-1224-4505-9888-8ae5b292014a",
   "metadata": {},
   "source": [
    "## while loops\n",
    "\n",
    "The other type for iterating in Pythin is the `while` loop. It's used whenever the amount of iterations to be done is not known in advance, such as when working with live data from some other application for example, or when reading a sensors output. The idea here is to keep on iterating whilst some condition is true.\n",
    "\n",
    "Here's a trivial example to mimic the behaviour of the `for` loop providing numbers from 0 to 10."
   ]
  },
  {
   "cell_type": "code",
   "execution_count": 4,
   "id": "aff442a9-4fa6-4948-80a9-404d22333b35",
   "metadata": {
    "execution": {
     "iopub.execute_input": "2022-02-28T08:27:24.822294Z",
     "iopub.status.busy": "2022-02-28T08:27:24.822090Z",
     "iopub.status.idle": "2022-02-28T08:27:24.826122Z",
     "shell.execute_reply": "2022-02-28T08:27:24.825580Z",
     "shell.execute_reply.started": "2022-02-28T08:27:24.822278Z"
    },
    "tags": []
   },
   "outputs": [
    {
     "name": "stdout",
     "output_type": "stream",
     "text": [
      "0\n",
      "1\n",
      "2\n",
      "3\n",
      "4\n",
      "5\n",
      "6\n",
      "7\n",
      "8\n",
      "9\n"
     ]
    }
   ],
   "source": [
    "index = 0\n",
    "\n",
    "while True:\n",
    "    print(index)\n",
    "\n",
    "    if index >= 9:\n",
    "        break\n",
    "\n",
    "    index += 1"
   ]
  },
  {
   "cell_type": "markdown",
   "id": "25a76eda-2251-4e54-9202-d347149ec210",
   "metadata": {},
   "source": [
    "## Container types revisited\n",
    "\n",
    "We've learned about container types to organize Python objects in a previous chapter. There had been two ways differing in syntax to create the container type.\n",
    "One *long* expression using the respective constructor calls, such as `list()`, `tuple()`, `set()` and `dict()`, as well as the *short* syntax using `[]`, `()` and `{}`\n",
    "We've seen how they are created being empty at the beginning and filled afterwards, or pre-initialized directly at definition time.\n",
    "There is another, very elegant way to programmatically pre-initialize containers, at least for lists, tuples and dictionaries, closely modeled after the mathematical set building syntax.\n",
    "Such as \"a set of square numbers, such that the number is in the range 0 to 10 exclusively\",\n",
    "or mathemetically written as \n",
    "\n",
    "$${n^2|\\; n \\in \\mathbb{N}, 0 \\le n \\lt 10}$$"
   ]
  },
  {
   "cell_type": "markdown",
   "id": "a4c64f1f-43ee-4fab-af37-fb2315e031f4",
   "metadata": {},
   "source": [
    "### List comprehension\n",
    "\n",
    "The Python syntax for the explicit call is this"
   ]
  },
  {
   "cell_type": "code",
   "execution_count": 18,
   "id": "7ec6eb17-d1aa-4b00-b785-7a1ff21238df",
   "metadata": {
    "execution": {
     "iopub.execute_input": "2022-02-28T09:00:47.112547Z",
     "iopub.status.busy": "2022-02-28T09:00:47.112373Z",
     "iopub.status.idle": "2022-02-28T09:00:47.116259Z",
     "shell.execute_reply": "2022-02-28T09:00:47.115754Z",
     "shell.execute_reply.started": "2022-02-28T09:00:47.112531Z"
    },
    "tags": []
   },
   "outputs": [
    {
     "data": {
      "text/plain": [
       "[0, 1, 4, 9, 16, 25, 36, 49, 64, 81]"
      ]
     },
     "execution_count": 18,
     "metadata": {},
     "output_type": "execute_result"
    }
   ],
   "source": [
    "list(x**2 for x in range(10))"
   ]
  },
  {
   "cell_type": "markdown",
   "id": "ddb6142d-10a1-4d79-9198-e38c33589d60",
   "metadata": {},
   "source": [
    "The shorter, much preferred version is written as"
   ]
  },
  {
   "cell_type": "code",
   "execution_count": 19,
   "id": "45d99bea-e0d9-474f-8b58-6fc076f1b147",
   "metadata": {
    "execution": {
     "iopub.execute_input": "2022-02-28T09:01:08.412894Z",
     "iopub.status.busy": "2022-02-28T09:01:08.412352Z",
     "iopub.status.idle": "2022-02-28T09:01:08.416559Z",
     "shell.execute_reply": "2022-02-28T09:01:08.416145Z",
     "shell.execute_reply.started": "2022-02-28T09:01:08.412877Z"
    },
    "tags": []
   },
   "outputs": [
    {
     "data": {
      "text/plain": [
       "[0, 1, 4, 9, 16, 25, 36, 49, 64, 81]"
      ]
     },
     "execution_count": 19,
     "metadata": {},
     "output_type": "execute_result"
    }
   ],
   "source": [
    "[x**2 for x in range(10)]"
   ]
  },
  {
   "cell_type": "markdown",
   "id": "00fc7004-5be0-499e-b145-a13f9bab5dd3",
   "metadata": {},
   "source": [
    "It can even be combined with an `if` clause to narrow the result set down. Let's create a list of square numbers built from even numbers only this time to illustrate this."
   ]
  },
  {
   "cell_type": "code",
   "execution_count": 20,
   "id": "1b4fdf87-2319-445c-a15e-f013f29bfee5",
   "metadata": {
    "execution": {
     "iopub.execute_input": "2022-02-28T09:01:15.275955Z",
     "iopub.status.busy": "2022-02-28T09:01:15.275723Z",
     "iopub.status.idle": "2022-02-28T09:01:15.279638Z",
     "shell.execute_reply": "2022-02-28T09:01:15.279169Z",
     "shell.execute_reply.started": "2022-02-28T09:01:15.275939Z"
    },
    "tags": []
   },
   "outputs": [
    {
     "data": {
      "text/plain": [
       "[0, 4, 16, 36, 64]"
      ]
     },
     "execution_count": 20,
     "metadata": {},
     "output_type": "execute_result"
    }
   ],
   "source": [
    "[x**2 for x in range(10) if x % 2 == 0]"
   ]
  },
  {
   "cell_type": "markdown",
   "id": "edc396b5-035a-4683-87c8-d97f0b1ae03e",
   "metadata": {},
   "source": [
    "This is much more readable and enjoyable than the classic variant I think!"
   ]
  },
  {
   "cell_type": "code",
   "execution_count": 21,
   "id": "81d279ad-50ee-44fd-8841-1539dfb1b6e1",
   "metadata": {
    "execution": {
     "iopub.execute_input": "2022-02-28T09:01:16.017751Z",
     "iopub.status.busy": "2022-02-28T09:01:16.017512Z",
     "iopub.status.idle": "2022-02-28T09:01:16.022094Z",
     "shell.execute_reply": "2022-02-28T09:01:16.021535Z",
     "shell.execute_reply.started": "2022-02-28T09:01:16.017734Z"
    },
    "tags": []
   },
   "outputs": [
    {
     "data": {
      "text/plain": [
       "[0, 4, 16, 36, 64]"
      ]
     },
     "execution_count": 21,
     "metadata": {},
     "output_type": "execute_result"
    }
   ],
   "source": [
    "square_numbers = []\n",
    "for x in range(10):\n",
    "    if x % 2 == 0:\n",
    "        square_numbers.append(x**2)\n",
    "square_numbers"
   ]
  },
  {
   "cell_type": "markdown",
   "id": "d1f69b70-e0e8-4d1c-8fe7-86c2f03d8fbe",
   "metadata": {},
   "source": [
    "### Tuple comprehension\n",
    "\n",
    "So that was the syntax for lists. What about the other container types. What about tuples?"
   ]
  },
  {
   "cell_type": "code",
   "execution_count": 22,
   "id": "6690e38b-f22c-4912-b436-b95cdc0d6b78",
   "metadata": {
    "execution": {
     "iopub.execute_input": "2022-02-28T09:01:38.203013Z",
     "iopub.status.busy": "2022-02-28T09:01:38.202839Z",
     "iopub.status.idle": "2022-02-28T09:01:38.206226Z",
     "shell.execute_reply": "2022-02-28T09:01:38.205836Z",
     "shell.execute_reply.started": "2022-02-28T09:01:38.202996Z"
    },
    "tags": []
   },
   "outputs": [
    {
     "data": {
      "text/plain": [
       "(0, 1, 4, 9, 16, 25, 36, 49, 64, 81)"
      ]
     },
     "execution_count": 22,
     "metadata": {},
     "output_type": "execute_result"
    }
   ],
   "source": [
    "tuple(x**2 for x in range(10))"
   ]
  },
  {
   "cell_type": "markdown",
   "id": "a41630ce-910e-4325-b895-d8de4d4e9f6c",
   "metadata": {},
   "source": [
    "This created a pre-filled tuple with the desired square numbers. Matching the nature of a `tuple`, the contents of this `tuple` can be iterated over, but not altered in any way."
   ]
  },
  {
   "cell_type": "markdown",
   "id": "e68df209-e5f4-4154-8d54-9af0ac81d484",
   "metadata": {},
   "source": [
    "And what about the short syntax?"
   ]
  },
  {
   "cell_type": "code",
   "execution_count": 23,
   "id": "6dbb7ec6-5ff7-44e4-844d-6a6b083a293f",
   "metadata": {
    "execution": {
     "iopub.execute_input": "2022-02-28T09:03:05.683815Z",
     "iopub.status.busy": "2022-02-28T09:03:05.683577Z",
     "iopub.status.idle": "2022-02-28T09:03:05.687696Z",
     "shell.execute_reply": "2022-02-28T09:03:05.687162Z",
     "shell.execute_reply.started": "2022-02-28T09:03:05.683798Z"
    },
    "tags": []
   },
   "outputs": [
    {
     "data": {
      "text/plain": [
       "<generator object <genexpr> at 0x10d29e180>"
      ]
     },
     "execution_count": 23,
     "metadata": {},
     "output_type": "execute_result"
    }
   ],
   "source": [
    "(x**2 for x in range(10))"
   ]
  },
  {
   "cell_type": "markdown",
   "id": "3c14596e-ecfe-461a-84d4-4126fdd75716",
   "metadata": {},
   "source": [
    "Interesting! It did not really create a tuple with our squares right away, but something a lot more exciting.\n",
    "The result is a generator, with the same usage pattern as the `range` function.\n",
    "We have to iterate over the contents of the generator to receive our square values, which looks a bit weird in this very context."
   ]
  },
  {
   "cell_type": "code",
   "execution_count": 24,
   "id": "afa3c56b-d86a-4845-a8fa-d7125f3014ee",
   "metadata": {
    "execution": {
     "iopub.execute_input": "2022-02-28T09:03:19.477470Z",
     "iopub.status.busy": "2022-02-28T09:03:19.477165Z",
     "iopub.status.idle": "2022-02-28T09:03:19.481541Z",
     "shell.execute_reply": "2022-02-28T09:03:19.480918Z",
     "shell.execute_reply.started": "2022-02-28T09:03:19.477424Z"
    },
    "tags": []
   },
   "outputs": [
    {
     "name": "stdout",
     "output_type": "stream",
     "text": [
      "0\n",
      "1\n",
      "4\n",
      "9\n",
      "16\n",
      "25\n",
      "36\n",
      "49\n",
      "64\n",
      "81\n"
     ]
    }
   ],
   "source": [
    "for square in (x**2 for x in range(10)):\n",
    "    print(square)"
   ]
  },
  {
   "cell_type": "markdown",
   "id": "6f771089-2329-4d46-8814-f2bd57b9cd21",
   "metadata": {},
   "source": [
    "Yeah. We've seen simpler ways before."
   ]
  },
  {
   "cell_type": "markdown",
   "id": "897b2676-c59f-42b8-bdf4-81ce39ee8621",
   "metadata": {},
   "source": [
    "### Set comprehension"
   ]
  },
  {
   "cell_type": "markdown",
   "id": "e25c1739-7156-4300-b510-f425f9fd7075",
   "metadata": {},
   "source": [
    "Next in the row is the set comprehension. It totally works as expected. \n",
    "Creating a set of squares just takes this line."
   ]
  },
  {
   "cell_type": "code",
   "execution_count": 9,
   "id": "e1c1688f-bb0f-4224-a8ff-1eee6d634c6e",
   "metadata": {
    "execution": {
     "iopub.execute_input": "2022-02-28T08:53:08.025202Z",
     "iopub.status.busy": "2022-02-28T08:53:08.024972Z",
     "iopub.status.idle": "2022-02-28T08:53:08.028451Z",
     "shell.execute_reply": "2022-02-28T08:53:08.028001Z",
     "shell.execute_reply.started": "2022-02-28T08:53:08.025187Z"
    },
    "tags": []
   },
   "outputs": [
    {
     "data": {
      "text/plain": [
       "{0, 1, 4, 9, 16, 25, 36, 49, 64, 81}"
      ]
     },
     "execution_count": 9,
     "metadata": {},
     "output_type": "execute_result"
    }
   ],
   "source": [
    "set(x**2 for x in range(10))"
   ]
  },
  {
   "cell_type": "markdown",
   "id": "83899260-47bb-445f-8a3b-0226f9228464",
   "metadata": {},
   "source": [
    "Or this line for the shorter syntax."
   ]
  },
  {
   "cell_type": "code",
   "execution_count": 25,
   "id": "cad407b1-3bf3-449a-9393-d18e1f1cced0",
   "metadata": {
    "execution": {
     "iopub.execute_input": "2022-02-28T09:03:43.708130Z",
     "iopub.status.busy": "2022-02-28T09:03:43.707956Z",
     "iopub.status.idle": "2022-02-28T09:03:43.711701Z",
     "shell.execute_reply": "2022-02-28T09:03:43.711244Z",
     "shell.execute_reply.started": "2022-02-28T09:03:43.708113Z"
    },
    "tags": []
   },
   "outputs": [
    {
     "data": {
      "text/plain": [
       "{0, 1, 4, 9, 16, 25, 36, 49, 64, 81}"
      ]
     },
     "execution_count": 25,
     "metadata": {},
     "output_type": "execute_result"
    }
   ],
   "source": [
    "{x**2 for x in range(10)}"
   ]
  },
  {
   "cell_type": "markdown",
   "id": "0be8998d-bd03-41ab-ae5c-62d9008dc10d",
   "metadata": {},
   "source": [
    "### Dict comprehension\n",
    "\n",
    "Last in the row is our dictionary type. As it's a key-value store, the syntax is slightly different.\n",
    "To create a number to square mapping, it takes this."
   ]
  },
  {
   "cell_type": "code",
   "execution_count": 14,
   "id": "09127f66-5535-424c-bc4b-d7c4ac9cdf17",
   "metadata": {
    "execution": {
     "iopub.execute_input": "2022-02-28T08:55:25.597225Z",
     "iopub.status.busy": "2022-02-28T08:55:25.597048Z",
     "iopub.status.idle": "2022-02-28T08:55:25.601057Z",
     "shell.execute_reply": "2022-02-28T08:55:25.600539Z",
     "shell.execute_reply.started": "2022-02-28T08:55:25.597206Z"
    },
    "tags": []
   },
   "outputs": [
    {
     "data": {
      "text/plain": [
       "{0: 0, 1: 1, 2: 4, 3: 9, 4: 16, 5: 25, 6: 36, 7: 49, 8: 64, 9: 81}"
      ]
     },
     "execution_count": 14,
     "metadata": {},
     "output_type": "execute_result"
    }
   ],
   "source": [
    "dict((x, x**2) for x in range(10))"
   ]
  },
  {
   "cell_type": "markdown",
   "id": "9416ffcb-c45b-4500-bcfd-53a50000120a",
   "metadata": {},
   "source": [
    "The dict is created using a row of key-value tuples in this syntax. Much more preferred and more readable is the short syntax to create the `dict`."
   ]
  },
  {
   "cell_type": "code",
   "execution_count": 26,
   "id": "f9a72f96-4017-4751-83b9-303c14a73574",
   "metadata": {
    "execution": {
     "iopub.execute_input": "2022-02-28T09:05:16.239747Z",
     "iopub.status.busy": "2022-02-28T09:05:16.239573Z",
     "iopub.status.idle": "2022-02-28T09:05:16.243688Z",
     "shell.execute_reply": "2022-02-28T09:05:16.243048Z",
     "shell.execute_reply.started": "2022-02-28T09:05:16.239730Z"
    },
    "tags": []
   },
   "outputs": [
    {
     "data": {
      "text/plain": [
       "{0: 0, 1: 1, 2: 4, 3: 9, 4: 16, 5: 25, 6: 36, 7: 49, 8: 64, 9: 81}"
      ]
     },
     "execution_count": 26,
     "metadata": {},
     "output_type": "execute_result"
    }
   ],
   "source": [
    "{x: x**2 for x in range(10)}"
   ]
  },
  {
   "cell_type": "markdown",
   "id": "b437ae22-37f3-4d58-a4c8-a3913bd9883a",
   "metadata": {
    "execution": {
     "iopub.execute_input": "2022-02-23T13:40:12.861266Z",
     "iopub.status.busy": "2022-02-23T13:40:12.861091Z",
     "iopub.status.idle": "2022-02-23T13:40:12.863527Z",
     "shell.execute_reply": "2022-02-23T13:40:12.863130Z",
     "shell.execute_reply.started": "2022-02-23T13:40:12.861250Z"
    }
   },
   "source": [
    "## Iterating over containers\n",
    "\n",
    "Now that we've seen how to basically use `for` and `while` loops and how to create containers in a very elegant and readable fashion, we should practice the use.\n",
    "Let's start with simply iterating over a list of well chosen numbers."
   ]
  },
  {
   "cell_type": "code",
   "execution_count": null,
   "id": "0a9ddea4-ee2b-4321-bcbd-38f538257f30",
   "metadata": {},
   "outputs": [],
   "source": [
    "l = [1, 5, 3, 7, 2, 9, 2, 3, 4, 2]"
   ]
  },
  {
   "cell_type": "markdown",
   "id": "73b809ea-8e63-4644-8d2a-284149c9ab33",
   "metadata": {},
   "source": [
    "The classic approach in most programming languages would be like this."
   ]
  },
  {
   "cell_type": "code",
   "execution_count": 28,
   "id": "d7f4c99d-77da-4595-b64d-d096d751d487",
   "metadata": {
    "execution": {
     "iopub.execute_input": "2022-02-28T09:08:59.322922Z",
     "iopub.status.busy": "2022-02-28T09:08:59.322747Z",
     "iopub.status.idle": "2022-02-28T09:08:59.325795Z",
     "shell.execute_reply": "2022-02-28T09:08:59.325340Z",
     "shell.execute_reply.started": "2022-02-28T09:08:59.322905Z"
    }
   },
   "outputs": [
    {
     "name": "stdout",
     "output_type": "stream",
     "text": [
      "1\n",
      "5\n",
      "3\n",
      "7\n",
      "2\n",
      "9\n",
      "2\n",
      "3\n",
      "4\n",
      "2\n"
     ]
    }
   ],
   "source": [
    "for index in range(len(l)):\n",
    "    print(l[index])"
   ]
  },
  {
   "cell_type": "markdown",
   "id": "b0b1224a-2a69-4956-b837-10eb360245fc",
   "metadata": {},
   "source": [
    "This works in Python as well. A much cleaner approach is this though."
   ]
  },
  {
   "cell_type": "code",
   "execution_count": 29,
   "id": "141cd847-e31a-47d9-ae4e-a5e4990301b4",
   "metadata": {
    "execution": {
     "iopub.execute_input": "2022-02-28T09:09:54.882571Z",
     "iopub.status.busy": "2022-02-28T09:09:54.882316Z",
     "iopub.status.idle": "2022-02-28T09:09:54.886268Z",
     "shell.execute_reply": "2022-02-28T09:09:54.885588Z",
     "shell.execute_reply.started": "2022-02-28T09:09:54.882556Z"
    },
    "tags": []
   },
   "outputs": [
    {
     "name": "stdout",
     "output_type": "stream",
     "text": [
      "1\n",
      "5\n",
      "3\n",
      "7\n",
      "2\n",
      "9\n",
      "2\n",
      "3\n",
      "4\n",
      "2\n"
     ]
    }
   ],
   "source": [
    "for item in l:\n",
    "    print(item)"
   ]
  },
  {
   "cell_type": "markdown",
   "id": "83c1e3ee-4703-469e-989f-9ca048e2cae4",
   "metadata": {},
   "source": [
    "Here, we don't make use of the index variable for accessing the numbers in the list, as the `list` type directly supports iteration."
   ]
  },
  {
   "cell_type": "markdown",
   "id": "a583c68d-dbb1-4727-8bc3-f2de21d1f585",
   "metadata": {},
   "source": [
    "If however the index of each item would be necessary for processing the items it can be generated on the fly using a wrapping `enumerate` call."
   ]
  },
  {
   "cell_type": "code",
   "execution_count": 18,
   "id": "fefc8164-7083-4890-ba0c-650af59a6b85",
   "metadata": {
    "execution": {
     "iopub.execute_input": "2022-02-23T13:41:41.574149Z",
     "iopub.status.busy": "2022-02-23T13:41:41.573933Z",
     "iopub.status.idle": "2022-02-23T13:41:41.577479Z",
     "shell.execute_reply": "2022-02-23T13:41:41.576930Z",
     "shell.execute_reply.started": "2022-02-23T13:41:41.574119Z"
    }
   },
   "outputs": [
    {
     "name": "stdout",
     "output_type": "stream",
     "text": [
      "Item 1 is at index 0.\n",
      "Item 5 is at index 1.\n",
      "Item 3 is at index 2.\n",
      "Item 7 is at index 3.\n",
      "Item 2 is at index 4.\n",
      "Item 9 is at index 5.\n",
      "Item 2 is at index 6.\n",
      "Item 3 is at index 7.\n",
      "Item 4 is at index 8.\n",
      "Item 2 is at index 9.\n"
     ]
    }
   ],
   "source": [
    "for index, item in enumerate(l):\n",
    "    print(f\"Item {item} is at index {index}.\")"
   ]
  },
  {
   "cell_type": "markdown",
   "id": "d2914650-0a15-494d-bb6f-79b63a3fb49a",
   "metadata": {},
   "source": [
    "This creates a tuple for each item in the list of numbers having the index and the number itself which are assigned to the variables `index`, and `item` in each iteration."
   ]
  },
  {
   "cell_type": "markdown",
   "id": "3f35dc64-ceb8-4c9c-a4f8-94c22240440d",
   "metadata": {},
   "source": [
    "This is based on quite a wondeful and powerful concept in Python called *variable expansion*. Let's have a closer look. Imagine you managed a number of color definitions in a list. "
   ]
  },
  {
   "cell_type": "code",
   "execution_count": 34,
   "id": "a7685d1a-e727-4768-b953-7970451c55fd",
   "metadata": {
    "execution": {
     "iopub.execute_input": "2022-02-28T09:20:12.440391Z",
     "iopub.status.busy": "2022-02-28T09:20:12.440147Z",
     "iopub.status.idle": "2022-02-28T09:20:12.443348Z",
     "shell.execute_reply": "2022-02-28T09:20:12.442837Z",
     "shell.execute_reply.started": "2022-02-28T09:20:12.440354Z"
    },
    "tags": []
   },
   "outputs": [],
   "source": [
    "colors = [\n",
    "    (255, 0, 0), # red\n",
    "    (0, 255, 0), # green \n",
    "    (0, 0, 255),  # blue\n",
    "    (255, 0, 255), # violet\n",
    "    (255, 255, 0) # yellow\n",
    "]"
   ]
  },
  {
   "cell_type": "markdown",
   "id": "93fdcb45-86a8-4f32-9ca7-d6b2d95359e7",
   "metadata": {},
   "source": [
    "If you wanted to assign these values to dedicated variables you could do this in a very classic manner like this."
   ]
  },
  {
   "cell_type": "code",
   "execution_count": 35,
   "id": "a0cc1bca-a78e-4aed-840b-e1b0593eb9cd",
   "metadata": {
    "execution": {
     "iopub.execute_input": "2022-02-28T09:20:13.248918Z",
     "iopub.status.busy": "2022-02-28T09:20:13.248747Z",
     "iopub.status.idle": "2022-02-28T09:20:13.251740Z",
     "shell.execute_reply": "2022-02-28T09:20:13.251260Z",
     "shell.execute_reply.started": "2022-02-28T09:20:13.248901Z"
    },
    "tags": []
   },
   "outputs": [],
   "source": [
    "red = colors[0]\n",
    "green = colors[1]\n",
    "blue = colors[2]\n",
    "violet = colors[3]\n",
    "yellow = colors[4]"
   ]
  },
  {
   "cell_type": "markdown",
   "id": "5ebc5082-5fd8-44ce-b2ff-7d5ff9611a6a",
   "metadata": {},
   "source": [
    "Or, more pythonic, using variable expansion:\n"
   ]
  },
  {
   "cell_type": "code",
   "execution_count": 36,
   "id": "fd93f4fa-1125-44dc-9874-091f842a07e5",
   "metadata": {
    "execution": {
     "iopub.execute_input": "2022-02-28T09:21:01.723771Z",
     "iopub.status.busy": "2022-02-28T09:21:01.723600Z",
     "iopub.status.idle": "2022-02-28T09:21:01.726344Z",
     "shell.execute_reply": "2022-02-28T09:21:01.725865Z",
     "shell.execute_reply.started": "2022-02-28T09:21:01.723753Z"
    }
   },
   "outputs": [],
   "source": [
    "red, green, blue, violet, yellow = colors"
   ]
  },
  {
   "cell_type": "markdown",
   "id": "8675572e-50e8-47db-b734-9cf2784de5cb",
   "metadata": {},
   "source": [
    "And even more magically, if you just cared about green an blue"
   ]
  },
  {
   "cell_type": "code",
   "execution_count": 37,
   "id": "6bbd5f1d-0ee2-4e41-aa10-a157933bd65a",
   "metadata": {
    "execution": {
     "iopub.execute_input": "2022-02-28T09:21:46.846685Z",
     "iopub.status.busy": "2022-02-28T09:21:46.846443Z",
     "iopub.status.idle": "2022-02-28T09:21:46.849227Z",
     "shell.execute_reply": "2022-02-28T09:21:46.848667Z",
     "shell.execute_reply.started": "2022-02-28T09:21:46.846669Z"
    }
   },
   "outputs": [],
   "source": [
    "_, green, blue, *_ = colors"
   ]
  },
  {
   "cell_type": "code",
   "execution_count": 19,
   "id": "019dc284-1154-4573-b17c-bfc344fe037b",
   "metadata": {
    "execution": {
     "iopub.execute_input": "2022-02-23T13:41:57.573952Z",
     "iopub.status.busy": "2022-02-23T13:41:57.573767Z",
     "iopub.status.idle": "2022-02-23T13:41:57.576174Z",
     "shell.execute_reply": "2022-02-23T13:41:57.575769Z",
     "shell.execute_reply.started": "2022-02-23T13:41:57.573935Z"
    }
   },
   "outputs": [],
   "source": [
    "t = tuple(l)"
   ]
  },
  {
   "cell_type": "code",
   "execution_count": 20,
   "id": "58ba3ca9-347a-4791-b94f-29c5094eb11a",
   "metadata": {
    "execution": {
     "iopub.execute_input": "2022-02-23T13:42:15.056036Z",
     "iopub.status.busy": "2022-02-23T13:42:15.055862Z",
     "iopub.status.idle": "2022-02-23T13:42:15.058566Z",
     "shell.execute_reply": "2022-02-23T13:42:15.058087Z",
     "shell.execute_reply.started": "2022-02-23T13:42:15.056019Z"
    }
   },
   "outputs": [
    {
     "name": "stdout",
     "output_type": "stream",
     "text": [
      "1\n",
      "5\n",
      "3\n",
      "7\n",
      "2\n",
      "9\n",
      "2\n",
      "3\n",
      "4\n",
      "2\n"
     ]
    }
   ],
   "source": [
    "for item in t:\n",
    "    print(item)"
   ]
  },
  {
   "cell_type": "code",
   "execution_count": 21,
   "id": "34ec2c93-78a4-4f66-b38d-f83f3f209bea",
   "metadata": {
    "execution": {
     "iopub.execute_input": "2022-02-23T13:42:33.496341Z",
     "iopub.status.busy": "2022-02-23T13:42:33.496168Z",
     "iopub.status.idle": "2022-02-23T13:42:33.499588Z",
     "shell.execute_reply": "2022-02-23T13:42:33.499033Z",
     "shell.execute_reply.started": "2022-02-23T13:42:33.496324Z"
    }
   },
   "outputs": [
    {
     "name": "stdout",
     "output_type": "stream",
     "text": [
      "1\n",
      "2\n",
      "3\n",
      "4\n",
      "5\n",
      "7\n",
      "9\n"
     ]
    }
   ],
   "source": [
    "s = set(l)\n",
    "\n",
    "for item in s:\n",
    "    print(item)"
   ]
  },
  {
   "cell_type": "code",
   "execution_count": 28,
   "id": "1ab734ce-8246-4db6-bdee-37635c7289da",
   "metadata": {
    "execution": {
     "iopub.execute_input": "2022-02-23T13:46:12.766434Z",
     "iopub.status.busy": "2022-02-23T13:46:12.766267Z",
     "iopub.status.idle": "2022-02-23T13:46:12.768617Z",
     "shell.execute_reply": "2022-02-23T13:46:12.768247Z",
     "shell.execute_reply.started": "2022-02-23T13:46:12.766418Z"
    },
    "tags": []
   },
   "outputs": [],
   "source": [
    "d = {\n",
    "    \"time\": 0,\n",
    "    \"value\": 0.1,\n",
    "}"
   ]
  },
  {
   "cell_type": "code",
   "execution_count": 29,
   "id": "b0c593ad-8987-4428-80de-6aeb807b36c4",
   "metadata": {
    "execution": {
     "iopub.execute_input": "2022-02-23T13:46:13.063759Z",
     "iopub.status.busy": "2022-02-23T13:46:13.063591Z",
     "iopub.status.idle": "2022-02-23T13:46:13.066620Z",
     "shell.execute_reply": "2022-02-23T13:46:13.065876Z",
     "shell.execute_reply.started": "2022-02-23T13:46:13.063743Z"
    },
    "tags": []
   },
   "outputs": [
    {
     "name": "stdout",
     "output_type": "stream",
     "text": [
      "time\n",
      "value\n"
     ]
    }
   ],
   "source": [
    "for key in d.keys():\n",
    "    print(key)"
   ]
  },
  {
   "cell_type": "code",
   "execution_count": 30,
   "id": "159b4469-2092-4870-9d43-1028ac38af41",
   "metadata": {
    "execution": {
     "iopub.execute_input": "2022-02-23T13:46:13.333515Z",
     "iopub.status.busy": "2022-02-23T13:46:13.333342Z",
     "iopub.status.idle": "2022-02-23T13:46:13.336398Z",
     "shell.execute_reply": "2022-02-23T13:46:13.335919Z",
     "shell.execute_reply.started": "2022-02-23T13:46:13.333498Z"
    },
    "tags": []
   },
   "outputs": [
    {
     "name": "stdout",
     "output_type": "stream",
     "text": [
      "0\n",
      "0.1\n"
     ]
    }
   ],
   "source": [
    "for value in d.values():\n",
    "    print(value)"
   ]
  },
  {
   "cell_type": "code",
   "execution_count": 31,
   "id": "f0be4b1e-071c-4be1-bd0c-c72fef56e5df",
   "metadata": {
    "execution": {
     "iopub.execute_input": "2022-02-23T13:46:13.602294Z",
     "iopub.status.busy": "2022-02-23T13:46:13.602088Z",
     "iopub.status.idle": "2022-02-23T13:46:13.605314Z",
     "shell.execute_reply": "2022-02-23T13:46:13.604915Z",
     "shell.execute_reply.started": "2022-02-23T13:46:13.602278Z"
    },
    "tags": []
   },
   "outputs": [
    {
     "name": "stdout",
     "output_type": "stream",
     "text": [
      "The value for key time is 0.\n",
      "The value for key value is 0.1.\n"
     ]
    }
   ],
   "source": [
    "for key, value in d.items():\n",
    "    print(f\"The value for key {key} is {value}.\")"
   ]
  },
  {
   "cell_type": "code",
   "execution_count": 32,
   "id": "40197d6a-a86c-41d0-b0a2-d8eed8dd6161",
   "metadata": {
    "execution": {
     "iopub.execute_input": "2022-02-23T13:46:13.930088Z",
     "iopub.status.busy": "2022-02-23T13:46:13.929873Z",
     "iopub.status.idle": "2022-02-23T13:46:13.933430Z",
     "shell.execute_reply": "2022-02-23T13:46:13.932836Z",
     "shell.execute_reply.started": "2022-02-23T13:46:13.930071Z"
    },
    "tags": []
   },
   "outputs": [
    {
     "name": "stdout",
     "output_type": "stream",
     "text": [
      "The key-value pair time, 0 is stored at index position 0.\n",
      "The key-value pair value, 0.1 is stored at index position 1.\n"
     ]
    }
   ],
   "source": [
    "for index, (key, value) in enumerate(d.items()):\n",
    "    print(f\"The key-value pair {key}, {value} is stored at index position {index}.\")"
   ]
  },
  {
   "cell_type": "markdown",
   "id": "81296b1b-61c4-4b30-a0b4-74a08422efd9",
   "metadata": {},
   "source": [
    "Creating a reverse lookup dict."
   ]
  },
  {
   "cell_type": "code",
   "execution_count": 33,
   "id": "263bec07-92ef-4a8e-8396-300bdc2429f7",
   "metadata": {
    "execution": {
     "iopub.execute_input": "2022-02-23T13:46:14.807620Z",
     "iopub.status.busy": "2022-02-23T13:46:14.807409Z",
     "iopub.status.idle": "2022-02-23T13:46:14.811217Z",
     "shell.execute_reply": "2022-02-23T13:46:14.810627Z",
     "shell.execute_reply.started": "2022-02-23T13:46:14.807604Z"
    },
    "tags": []
   },
   "outputs": [
    {
     "data": {
      "text/plain": [
       "{0: 'time', 0.1: 'value'}"
      ]
     },
     "execution_count": 33,
     "metadata": {},
     "output_type": "execute_result"
    }
   ],
   "source": [
    "r_d = {value: key for key, value in d.items()}\n",
    "r_d"
   ]
  },
  {
   "cell_type": "markdown",
   "id": "5e8a9318-3b92-4fa0-a521-ab1707182507",
   "metadata": {},
   "source": [
    "You can iterate over text as well."
   ]
  },
  {
   "cell_type": "code",
   "execution_count": 34,
   "id": "fce0823f-2891-4662-8c20-5cef82e6e39b",
   "metadata": {
    "execution": {
     "iopub.execute_input": "2022-02-23T13:47:34.774658Z",
     "iopub.status.busy": "2022-02-23T13:47:34.774487Z",
     "iopub.status.idle": "2022-02-23T13:47:34.777900Z",
     "shell.execute_reply": "2022-02-23T13:47:34.777388Z",
     "shell.execute_reply.started": "2022-02-23T13:47:34.774642Z"
    }
   },
   "outputs": [
    {
     "name": "stdout",
     "output_type": "stream",
     "text": [
      "H\n",
      "e\n",
      "l\n",
      "l\n",
      "o\n",
      " \n",
      "W\n",
      "o\n",
      "r\n",
      "l\n",
      "d\n",
      "!\n"
     ]
    }
   ],
   "source": [
    "message = \"Hello World!\"\n",
    "\n",
    "for char in message:\n",
    "    print(char)"
   ]
  },
  {
   "cell_type": "code",
   "execution_count": 40,
   "id": "8b80da02-ae3d-41c9-a81e-394e93f53d85",
   "metadata": {
    "execution": {
     "iopub.execute_input": "2022-02-23T13:51:51.363167Z",
     "iopub.status.busy": "2022-02-23T13:51:51.362987Z",
     "iopub.status.idle": "2022-02-23T13:51:51.366710Z",
     "shell.execute_reply": "2022-02-23T13:51:51.366240Z",
     "shell.execute_reply.started": "2022-02-23T13:51:51.363149Z"
    },
    "tags": []
   },
   "outputs": [
    {
     "name": "stdout",
     "output_type": "stream",
     "text": [
      "['John', 'Jane', 'Jack', 'Rudi', 'June']\n",
      "['Doe', 'Here', 'There', 'Brave', 'Wright']\n"
     ]
    }
   ],
   "source": [
    "all_names_str = \"John Doe, Jane Here, Jack There, Rudi Brave, June Wright\"\n",
    "\n",
    "all_names = [name.strip() for name in all_names_str.split(\",\")]\n",
    "\n",
    "fornames = []\n",
    "surnames = []\n",
    "\n",
    "for name in all_names:\n",
    "    forname, surname = name.split(\" \")\n",
    "    fornames.append(forname)\n",
    "    surnames.append(surname)\n",
    "\n",
    "print(fornames)\n",
    "print(surnames)"
   ]
  },
  {
   "cell_type": "code",
   "execution_count": 47,
   "id": "89a31fbd-5924-4b9c-95b1-c529001fa2cd",
   "metadata": {
    "execution": {
     "iopub.execute_input": "2022-02-23T13:54:14.903649Z",
     "iopub.status.busy": "2022-02-23T13:54:14.903478Z",
     "iopub.status.idle": "2022-02-23T13:54:14.907651Z",
     "shell.execute_reply": "2022-02-23T13:54:14.907116Z",
     "shell.execute_reply.started": "2022-02-23T13:54:14.903633Z"
    },
    "tags": []
   },
   "outputs": [
    {
     "name": "stdout",
     "output_type": "stream",
     "text": [
      "John Doe\n",
      "Jane Here\n",
      "Jack There\n",
      "Rudi Brave\n",
      "June Wright\n",
      "['John Doe', 'Jane Here', 'Jack There', 'Rudi Brave', 'June Wright']\n",
      "John Doe, Jane Here, Jack There, Rudi Brave, June Wright\n"
     ]
    }
   ],
   "source": [
    "all_names = []\n",
    "\n",
    "for forname, surname in zip(fornames, surnames):\n",
    "    print(forname, surname)\n",
    "    all_names.append(f\"{forname} {surname}\")\n",
    "\n",
    "print(all_names)\n",
    "all_names_str = \", \".join(all_names)\n",
    "print(all_names_str)"
   ]
  },
  {
   "cell_type": "code",
   "execution_count": 48,
   "id": "41dcd2e7-7f5d-4267-8248-8cec3e5a6631",
   "metadata": {
    "execution": {
     "iopub.execute_input": "2022-02-23T13:56:32.978365Z",
     "iopub.status.busy": "2022-02-23T13:56:32.978189Z",
     "iopub.status.idle": "2022-02-23T13:56:32.981581Z",
     "shell.execute_reply": "2022-02-23T13:56:32.981203Z",
     "shell.execute_reply.started": "2022-02-23T13:56:32.978348Z"
    }
   },
   "outputs": [
    {
     "data": {
      "text/plain": [
       "'John Doe, Jane Here, Jack There, Rudi Brave, June Wright'"
      ]
     },
     "execution_count": 48,
     "metadata": {},
     "output_type": "execute_result"
    }
   ],
   "source": [
    "\", \".join([f\"{forname} {surname}\" for forname, surname in zip(fornames, surnames)])"
   ]
  },
  {
   "cell_type": "code",
   "execution_count": null,
   "id": "ea849870-8404-4923-ba49-2c99f3f68f90",
   "metadata": {},
   "outputs": [],
   "source": []
  }
 ],
 "metadata": {
  "kernelspec": {
   "display_name": "Python 3 (ipykernel)",
   "language": "python",
   "name": "python3"
  },
  "language_info": {
   "codemirror_mode": {
    "name": "ipython",
    "version": 3
   },
   "file_extension": ".py",
   "mimetype": "text/x-python",
   "name": "python",
   "nbconvert_exporter": "python",
   "pygments_lexer": "ipython3",
   "version": "3.10.2"
  }
 },
 "nbformat": 4,
 "nbformat_minor": 5
}
