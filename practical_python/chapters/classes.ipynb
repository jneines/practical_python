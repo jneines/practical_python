{
 "cells": [
  {
   "cell_type": "markdown",
   "id": "27835fb3-5ed2-41c7-b246-7d802f255728",
   "metadata": {},
   "source": [
    "# Object orientated programming"
   ]
  },
  {
   "cell_type": "markdown",
   "id": "857c0a8b-06ff-4ed3-b788-900648ea0b81",
   "metadata": {},
   "source": [
    "Python is an object orientated programming language.\n",
    "We've used functions to make code we write re-usable in other projects. Often those functions are used to very specifically group an algorithm that solves a certain problem, like sorting for example.\n",
    "A first step is to wrap this algorithm into a block of code and give it a name. That's what the function definition actually does. And it will generate an interface for using the algorithm in a specific way by the parameters it accepts and the return values it provides.\n",
    "After that you probably reach the point at some point, where you would love to use the named algorithm for a slightly different, but very comparable problem. Imagine you had to sort numbers before and are now up to sorting names in alphabetical order.\n",
    "So you will want to generalize your algorithm and function call to handle both and you're fine afterwards.\n",
    "\n",
    "Object orientated programming aims for going one step further. Instead of grouping lines of code to a named algorithm, it groups all related named algorithms and the corresponding data into a new object.  This is also a change in perspective. Before we had functions matching to data, now we have objects bringing both the data an the functionality to work with it.\n",
    "\n",
    "Let's use an image to make the idea clearer. Think of describing some basic properties of a car. It will have four wheels, a motor, a battery, a steering wheel, some seats and so on. Furthermore that car can do things. It can drive forward and backward, to the left and to the right. It can accelerate and slow down and so forth. It is very straight forward to describe a car like that. Thinking of the object, which is the car, the properties it has, the data, and the things you can do with it, the functionality.\n",
    "\n",
    "That's the basics behind object orientated programming. Let's have a look how this is used in Python."
   ]
  },
  {
   "cell_type": "markdown",
   "id": "b2d6ad34-3e24-4134-8960-3b23081dca6e",
   "metadata": {},
   "source": [
    "The most minimal definition of an object is a one liner in Python. We define a class called `MyClass` here, which doesn't implement anything new, nor has it any data related to it. It can be directl used however."
   ]
  },
  {
   "cell_type": "code",
   "execution_count": 1,
   "id": "b9b5f51a-52f7-4c14-ac6f-3c3551f32000",
   "metadata": {
    "execution": {
     "iopub.execute_input": "2022-03-22T13:31:32.380307Z",
     "iopub.status.busy": "2022-03-22T13:31:32.380062Z",
     "iopub.status.idle": "2022-03-22T13:31:32.386245Z",
     "shell.execute_reply": "2022-03-22T13:31:32.385734Z",
     "shell.execute_reply.started": "2022-03-22T13:31:32.380270Z"
    },
    "tags": []
   },
   "outputs": [],
   "source": [
    "class MyClass:\n",
    "    pass"
   ]
  },
  {
   "cell_type": "code",
   "execution_count": 2,
   "id": "66ae247b-814b-408d-8ff7-836063aaec1f",
   "metadata": {
    "execution": {
     "iopub.execute_input": "2022-03-22T13:31:32.387643Z",
     "iopub.status.busy": "2022-03-22T13:31:32.387473Z",
     "iopub.status.idle": "2022-03-22T13:31:32.390091Z",
     "shell.execute_reply": "2022-03-22T13:31:32.389485Z",
     "shell.execute_reply.started": "2022-03-22T13:31:32.387628Z"
    },
    "tags": []
   },
   "outputs": [],
   "source": [
    "my_class = MyClass()"
   ]
  },
  {
   "cell_type": "markdown",
   "id": "0e9a5f91-558f-469d-81fe-24ada77a52c1",
   "metadata": {},
   "source": [
    ":::{note}\n",
    "Class names are usually specified in CamelCase, where every syllable starts with a capital letter. This makes the use of classes very recognizable.\n",
    ":::"
   ]
  },
  {
   "cell_type": "markdown",
   "id": "260c8af9-c362-4c28-96a9-f87211f22f0e",
   "metadata": {},
   "source": [
    "Using our well known `dir` functions reveals that our new simple class is already capable of a few things, or at least feels prepared for being used. Quite some of those dunder methods are already available for use."
   ]
  },
  {
   "cell_type": "code",
   "execution_count": 3,
   "id": "90511174-ed75-4b3c-ae15-f74ad2479bae",
   "metadata": {
    "execution": {
     "iopub.execute_input": "2022-03-22T13:31:32.393018Z",
     "iopub.status.busy": "2022-03-22T13:31:32.392836Z",
     "iopub.status.idle": "2022-03-22T13:31:32.400744Z",
     "shell.execute_reply": "2022-03-22T13:31:32.400098Z",
     "shell.execute_reply.started": "2022-03-22T13:31:32.393004Z"
    },
    "tags": []
   },
   "outputs": [
    {
     "data": {
      "text/plain": [
       "['__class__',\n",
       " '__delattr__',\n",
       " '__dict__',\n",
       " '__dir__',\n",
       " '__doc__',\n",
       " '__eq__',\n",
       " '__format__',\n",
       " '__ge__',\n",
       " '__getattribute__',\n",
       " '__gt__',\n",
       " '__hash__',\n",
       " '__init__',\n",
       " '__init_subclass__',\n",
       " '__le__',\n",
       " '__lt__',\n",
       " '__module__',\n",
       " '__ne__',\n",
       " '__new__',\n",
       " '__reduce__',\n",
       " '__reduce_ex__',\n",
       " '__repr__',\n",
       " '__setattr__',\n",
       " '__sizeof__',\n",
       " '__str__',\n",
       " '__subclasshook__',\n",
       " '__weakref__']"
      ]
     },
     "execution_count": 3,
     "metadata": {},
     "output_type": "execute_result"
    }
   ],
   "source": [
    "dir(my_class)"
   ]
  },
  {
   "cell_type": "markdown",
   "id": "682928b9-b809-4d63-b13a-f5917d497987",
   "metadata": {},
   "source": [
    ":::{tip}\n",
    "Play around with those dunder methods a bit to see the intention behind them.\n",
    ":::"
   ]
  },
  {
   "cell_type": "markdown",
   "id": "47cbc706-097c-430c-8f82-c2c9e8ea635a",
   "metadata": {},
   "source": [
    "## Group functionality\n",
    "\n",
    "Now let's create a more complex example to make the grouping aspect more obvious. Let's begin to create some geometry handling classes. Why not start with a point representation?"
   ]
  },
  {
   "cell_type": "code",
   "execution_count": 4,
   "id": "e19dc429-bd38-4a66-bf75-fafb0363c223",
   "metadata": {
    "execution": {
     "iopub.execute_input": "2022-03-22T13:31:32.401878Z",
     "iopub.status.busy": "2022-03-22T13:31:32.401566Z",
     "iopub.status.idle": "2022-03-22T13:31:32.404402Z",
     "shell.execute_reply": "2022-03-22T13:31:32.404012Z",
     "shell.execute_reply.started": "2022-03-22T13:31:32.401865Z"
    },
    "tags": []
   },
   "outputs": [],
   "source": [
    "class Point:\n",
    "    def __init__(self, x, y):\n",
    "        self.x = x\n",
    "        self.y = y\n",
    "\n",
    "    def __repr__(self):\n",
    "        return f\"a point at ({self.x},{self.y})\""
   ]
  },
  {
   "cell_type": "markdown",
   "id": "f908f248-bb52-4825-8a73-fd5eda62f4ea",
   "metadata": {},
   "source": [
    "Okay. So quite a few new things are visible here. First of all there is the class definition for a class called `Point`. Following are two functions `__init__` and `__repr__`. They're indented by one level. In Pythons logic that alone makes them belong to the class, as that creates a new block, which ends with last line of our class definition. All *functions* belonging to a class context are called *methods* from now on.\n",
    "\n",
    "Next there is an unusual and unexpected first parameter to both methods called `self`. This is a specific class related parameter, which allows for binding functionality and data to the class. Think of it as the glue that holds everything together. Everything that is bound to this special variable will be accessible throughout the class. The name for this variable can be freely used just as every other variable name in Python can as well. It is a convention however to name this variable `self`. It's very advisable to keep this name as it makes code much easier to recognize and understand for other readers. So, better don't feel tempted to play with it."
   ]
  },
  {
   "cell_type": "markdown",
   "id": "f4461fbb-ba23-47cd-8178-261aa69cdd8c",
   "metadata": {},
   "source": [
    "The `__init__` method has two further parameters, `x` and `y`. Or more specifically it has just two parameters, as the `self` parameter, specified as the first parameter to any method in a class, doesn't count as a parameter. Another difference when comparing *methods* and *functions*. The `__init__` method is special. It's called the *constructor* of the class. In it we can implement all functionality which should be executed when the class is created, more specifically an Instance of it is created. In this case, we assign the values of the parameters `x` and `y` to attributes of the class with the same name `self.x` and `self.y` making those values available throughout the class. "
   ]
  },
  {
   "cell_type": "markdown",
   "id": "1b3c1828-93cf-467f-983b-74b0c2d8ba5c",
   "metadata": {},
   "source": [
    "The `__repr__` method allows to specify a string representation of the class, which is used for example when an Instance of this class is printed. Let's play with that and create a point in the origin of a two dimensional coordinate system and print it."
   ]
  },
  {
   "cell_type": "code",
   "execution_count": 5,
   "id": "3c8e150d-a925-4153-8489-739a6274a2bb",
   "metadata": {
    "execution": {
     "iopub.execute_input": "2022-03-22T13:31:32.405295Z",
     "iopub.status.busy": "2022-03-22T13:31:32.405173Z",
     "iopub.status.idle": "2022-03-22T13:31:32.408660Z",
     "shell.execute_reply": "2022-03-22T13:31:32.407578Z",
     "shell.execute_reply.started": "2022-03-22T13:31:32.405281Z"
    },
    "tags": []
   },
   "outputs": [],
   "source": [
    "p1 = Point(0, 0)"
   ]
  },
  {
   "cell_type": "code",
   "execution_count": 6,
   "id": "046f584c-0045-447d-a348-3b63f5761bed",
   "metadata": {
    "execution": {
     "iopub.execute_input": "2022-03-22T13:31:32.409957Z",
     "iopub.status.busy": "2022-03-22T13:31:32.409716Z",
     "iopub.status.idle": "2022-03-22T13:31:32.412454Z",
     "shell.execute_reply": "2022-03-22T13:31:32.412022Z",
     "shell.execute_reply.started": "2022-03-22T13:31:32.409941Z"
    },
    "tags": []
   },
   "outputs": [
    {
     "name": "stdout",
     "output_type": "stream",
     "text": [
      "a point at (0,0)\n"
     ]
    }
   ],
   "source": [
    "print(p1)"
   ]
  },
  {
   "cell_type": "markdown",
   "id": "3751a039-102f-4246-bdfc-2bd7ae3f6228",
   "metadata": {},
   "source": [
    "Quite nice actually. Let's go a step further and create a class representing a line. This line will consist of two points, and instead of somehow using plain coordinates to specify the line, we'll be using two point objects to specify it. Additionally we will add a method to retrieve the length of that line."
   ]
  },
  {
   "cell_type": "code",
   "execution_count": 7,
   "id": "91442146-4cb1-4265-9466-4c9d57669982",
   "metadata": {
    "execution": {
     "iopub.execute_input": "2022-03-22T13:31:32.413217Z",
     "iopub.status.busy": "2022-03-22T13:31:32.413093Z",
     "iopub.status.idle": "2022-03-22T13:31:32.416825Z",
     "shell.execute_reply": "2022-03-22T13:31:32.416358Z",
     "shell.execute_reply.started": "2022-03-22T13:31:32.413204Z"
    },
    "tags": []
   },
   "outputs": [],
   "source": [
    "import math\n",
    "\n",
    "\n",
    "class Line:\n",
    "    def __init__(self, p1, p2):\n",
    "        self.p1 = p1\n",
    "        self.p2 = p2\n",
    "\n",
    "    def length(self):\n",
    "        return math.sqrt((self.p2.y - self.p1.y) ** 2 + (self.p2.x - self.p1.x) ** 2)\n",
    "\n",
    "    def __repr__(self):\n",
    "        return f\"a line from {self.p1} to {self.p2}\""
   ]
  },
  {
   "cell_type": "markdown",
   "id": "ec5225cd-919a-45d9-86d0-45758bd90aa8",
   "metadata": {},
   "source": [
    "Now we can instantiate a second Point, acting as the lines end point and create the line."
   ]
  },
  {
   "cell_type": "code",
   "execution_count": 8,
   "id": "58978c38-0af4-446c-be51-500b42e85f0c",
   "metadata": {
    "execution": {
     "iopub.execute_input": "2022-03-22T13:31:32.417661Z",
     "iopub.status.busy": "2022-03-22T13:31:32.417405Z",
     "iopub.status.idle": "2022-03-22T13:31:32.420140Z",
     "shell.execute_reply": "2022-03-22T13:31:32.419734Z",
     "shell.execute_reply.started": "2022-03-22T13:31:32.417645Z"
    },
    "tags": []
   },
   "outputs": [
    {
     "name": "stdout",
     "output_type": "stream",
     "text": [
      "a line from a point at (0,0) to a point at (0,1)\n"
     ]
    }
   ],
   "source": [
    "p2 = Point(0, 1)\n",
    "l = Line(p1, p2)\n",
    "print(l)"
   ]
  },
  {
   "cell_type": "markdown",
   "id": "b38dec55-ce27-4fa9-8e4a-68a8fec94d36",
   "metadata": {},
   "source": [
    "And of course we can print the lines length now."
   ]
  },
  {
   "cell_type": "code",
   "execution_count": 9,
   "id": "b94c2102-a0ce-4c34-8c9e-2341676948b0",
   "metadata": {
    "execution": {
     "iopub.execute_input": "2022-03-22T13:31:32.421000Z",
     "iopub.status.busy": "2022-03-22T13:31:32.420781Z",
     "iopub.status.idle": "2022-03-22T13:31:32.423215Z",
     "shell.execute_reply": "2022-03-22T13:31:32.422873Z",
     "shell.execute_reply.started": "2022-03-22T13:31:32.420984Z"
    },
    "tags": []
   },
   "outputs": [
    {
     "name": "stdout",
     "output_type": "stream",
     "text": [
      "The length of the line is 1.0 units.\n"
     ]
    }
   ],
   "source": [
    "print(f\"The length of the line is {l.length()} units.\")"
   ]
  },
  {
   "cell_type": "markdown",
   "id": "53a1f398-b029-4875-ad85-48507190300e",
   "metadata": {},
   "source": [
    "Following that scheme we can create ever more complex objects. A triangle for example could be implemented like this. A length method wouldn't make sense here. A circumference on the other hand would be nice though. And to calculate the circumference, we can make use of our Line objects and its length method."
   ]
  },
  {
   "cell_type": "code",
   "execution_count": 10,
   "id": "7397f402-67a0-4569-ad62-3ade9143151e",
   "metadata": {
    "execution": {
     "iopub.execute_input": "2022-03-22T13:31:32.423921Z",
     "iopub.status.busy": "2022-03-22T13:31:32.423802Z",
     "iopub.status.idle": "2022-03-22T13:31:32.426775Z",
     "shell.execute_reply": "2022-03-22T13:31:32.426436Z",
     "shell.execute_reply.started": "2022-03-22T13:31:32.423907Z"
    },
    "tags": []
   },
   "outputs": [],
   "source": [
    "class Triangle:\n",
    "    def __init__(self, p1, p2, p3):\n",
    "        self.p1 = p1\n",
    "        self.p2 = p2\n",
    "        self.p3 = p3\n",
    "        \n",
    "    def circumference(self):\n",
    "        l1 = Line(self.p1, self.p2).length()\n",
    "        l2 = Line(self.p2, self.p3).length()\n",
    "        l3 = Line(self.p3, self.p1).length()\n",
    "        \n",
    "        return l1 + l2 + l3\n",
    "\n",
    "    def __repr__(self):\n",
    "        return f\"a triangle based on {self.p1}, {self.p2} and {self.p3}.\""
   ]
  },
  {
   "cell_type": "code",
   "execution_count": 11,
   "id": "857521ec-f351-4bf8-89d9-84d392b502c1",
   "metadata": {
    "execution": {
     "iopub.execute_input": "2022-03-22T13:31:32.427717Z",
     "iopub.status.busy": "2022-03-22T13:31:32.427528Z",
     "iopub.status.idle": "2022-03-22T13:31:32.431091Z",
     "shell.execute_reply": "2022-03-22T13:31:32.430539Z",
     "shell.execute_reply.started": "2022-03-22T13:31:32.427701Z"
    },
    "tags": []
   },
   "outputs": [
    {
     "data": {
      "text/plain": [
       "a triangle based on a point at (0,0), a point at (0,1) and a point at (1,1)."
      ]
     },
     "execution_count": 11,
     "metadata": {},
     "output_type": "execute_result"
    }
   ],
   "source": [
    "p3 = Point(1, 1)\n",
    "t = Triangle(p1, p2, p3)\n",
    "t"
   ]
  },
  {
   "cell_type": "code",
   "execution_count": 12,
   "id": "3771c00b-bc00-4f5f-943d-4d24809a8520",
   "metadata": {
    "execution": {
     "iopub.execute_input": "2022-03-22T13:31:32.433890Z",
     "iopub.status.busy": "2022-03-22T13:31:32.433743Z",
     "iopub.status.idle": "2022-03-22T13:31:32.436205Z",
     "shell.execute_reply": "2022-03-22T13:31:32.435874Z",
     "shell.execute_reply.started": "2022-03-22T13:31:32.433875Z"
    },
    "tags": []
   },
   "outputs": [
    {
     "name": "stdout",
     "output_type": "stream",
     "text": [
      "The circumference of the triangle is 3.414213562373095 units.\n"
     ]
    }
   ],
   "source": [
    "print(f\"The circumference of the triangle is {t.circumference()} units.\")"
   ]
  },
  {
   "cell_type": "markdown",
   "id": "dfa188ac-f457-4b48-9b27-9f71531fc57c",
   "metadata": {},
   "source": [
    "What about a rectangle. Pretty straightforward I think."
   ]
  },
  {
   "cell_type": "code",
   "execution_count": 13,
   "id": "123a08ab-1883-4e5a-9104-1d7e1fbb2385",
   "metadata": {
    "execution": {
     "iopub.execute_input": "2022-03-22T13:31:32.436998Z",
     "iopub.status.busy": "2022-03-22T13:31:32.436837Z",
     "iopub.status.idle": "2022-03-22T13:31:32.440196Z",
     "shell.execute_reply": "2022-03-22T13:31:32.439835Z",
     "shell.execute_reply.started": "2022-03-22T13:31:32.436983Z"
    },
    "tags": []
   },
   "outputs": [],
   "source": [
    "class Rectangle:\n",
    "    def __init__(self, p1, p2, p3, p4):\n",
    "        self.p1 = p1\n",
    "        self.p2 = p2\n",
    "        self.p3 = p3\n",
    "        self.p4 = p4\n",
    "        \n",
    "    def circumference(self):\n",
    "        l1 = Line(self.p1, self.p2).length()\n",
    "        l2 = Line(self.p2, self.p3).length()\n",
    "        l3 = Line(self.p3, self.p4).length()\n",
    "        l4 = Line(self.p4, self.p1).length()\n",
    "        \n",
    "        return l1 + l2 + l3 + l4\n",
    "\n",
    "    def __repr__(self):\n",
    "        return f\"a rectangle based on {self.p1}, {self.p2}, {self.p3} and {self.p4}.\""
   ]
  },
  {
   "cell_type": "code",
   "execution_count": 14,
   "id": "0b213a7b-c663-45c8-9003-eb639c4128c7",
   "metadata": {
    "execution": {
     "iopub.execute_input": "2022-03-22T13:31:32.441008Z",
     "iopub.status.busy": "2022-03-22T13:31:32.440855Z",
     "iopub.status.idle": "2022-03-22T13:31:32.443907Z",
     "shell.execute_reply": "2022-03-22T13:31:32.443425Z",
     "shell.execute_reply.started": "2022-03-22T13:31:32.440995Z"
    },
    "tags": []
   },
   "outputs": [
    {
     "data": {
      "text/plain": [
       "a rectangle based on a point at (0,0), a point at (0,1), a point at (1,1) and a point at (1,0)."
      ]
     },
     "execution_count": 14,
     "metadata": {},
     "output_type": "execute_result"
    }
   ],
   "source": [
    "p4 = Point(1, 0)\n",
    "r = Rectangle(p1, p2, p3, p4)\n",
    "r"
   ]
  },
  {
   "cell_type": "code",
   "execution_count": 15,
   "id": "7b7b11df-755b-4fea-a182-16ba7b98166d",
   "metadata": {
    "execution": {
     "iopub.execute_input": "2022-03-22T13:31:32.444823Z",
     "iopub.status.busy": "2022-03-22T13:31:32.444675Z",
     "iopub.status.idle": "2022-03-22T13:31:32.447321Z",
     "shell.execute_reply": "2022-03-22T13:31:32.446916Z",
     "shell.execute_reply.started": "2022-03-22T13:31:32.444808Z"
    },
    "tags": []
   },
   "outputs": [
    {
     "name": "stdout",
     "output_type": "stream",
     "text": [
      "The circumference of the rectangle is 4.0 units.\n"
     ]
    }
   ],
   "source": [
    "print(f\"The circumference of the rectangle is {r.circumference()} units.\")"
   ]
  },
  {
   "cell_type": "markdown",
   "id": "00d626a2-26b8-49bb-910d-91eccc137f00",
   "metadata": {},
   "source": [
    "And here's a final example for geometries. A different implementation for a Rectangle. It will be defined by two opposite points, and have a method to get the `circumference` and the `area` of the square. We'll be re-using as much as possible for the implementation. To ease the implementation of the circumference method based on the two opposite points, we create the four corner points from them temporarily and use the strategy known from the `Rectangle` class to calculate the circumference."
   ]
  },
  {
   "cell_type": "code",
   "execution_count": 36,
   "id": "33d0bdd6-19d8-4be9-a6b1-bee5cc5e21ca",
   "metadata": {
    "execution": {
     "iopub.execute_input": "2022-03-22T13:45:39.851847Z",
     "iopub.status.busy": "2022-03-22T13:45:39.851669Z",
     "iopub.status.idle": "2022-03-22T13:45:39.856025Z",
     "shell.execute_reply": "2022-03-22T13:45:39.855600Z",
     "shell.execute_reply.started": "2022-03-22T13:45:39.851830Z"
    },
    "tags": []
   },
   "outputs": [],
   "source": [
    "class OP_Rectangle:\n",
    "    def __init__(self, p1, p2):\n",
    "        self.p1 = p1\n",
    "        self.p2 = p2\n",
    "        \n",
    "    def circumference(self):\n",
    "        _p1 = Point(self.p1.x, self.p1.y)\n",
    "        _p2 = Point(self.p1.x, self.p2.y)\n",
    "        _p3 = Point(self.p2.x, self.p2.y)\n",
    "        _p4 = Point(self.p2.x, self.p1.y)\n",
    "        \n",
    "        l1 = Line(_p1, _p2).length()\n",
    "        l2 = Line(_p2, _p3).length()\n",
    "        l3 = Line(_p3, _p4).length()\n",
    "        l4 = Line(_p4, _p1).length()\n",
    "        \n",
    "        return l1 + l2 + l3 + l4\n",
    "    \n",
    "    def area(self):\n",
    "        return abs(self.p2.y - self.p1.y) * abs(self.p2.x - self.p1.x)\n",
    "        \n",
    "    def __repr__(self):\n",
    "        return f\"a rectangle defined by {self.p1} and {self.p2} being opposite to it.\""
   ]
  },
  {
   "cell_type": "code",
   "execution_count": 37,
   "id": "e5a5e53d-ee57-43c6-9b02-67673675f558",
   "metadata": {
    "execution": {
     "iopub.execute_input": "2022-03-22T13:45:40.364320Z",
     "iopub.status.busy": "2022-03-22T13:45:40.364091Z",
     "iopub.status.idle": "2022-03-22T13:45:40.366810Z",
     "shell.execute_reply": "2022-03-22T13:45:40.366338Z",
     "shell.execute_reply.started": "2022-03-22T13:45:40.364303Z"
    },
    "tags": []
   },
   "outputs": [
    {
     "name": "stdout",
     "output_type": "stream",
     "text": [
      "a rectangle defined by a point at (0,0) and a point at (1,1) being opposite to it.\n"
     ]
    }
   ],
   "source": [
    "r2 = OP_Rectangle(p1, p3)\n",
    "print(r2)"
   ]
  },
  {
   "cell_type": "code",
   "execution_count": 38,
   "id": "d2461b74-c3fa-4b12-90f9-9a486327c612",
   "metadata": {
    "execution": {
     "iopub.execute_input": "2022-03-22T13:45:41.310198Z",
     "iopub.status.busy": "2022-03-22T13:45:41.310002Z",
     "iopub.status.idle": "2022-03-22T13:45:41.313210Z",
     "shell.execute_reply": "2022-03-22T13:45:41.312647Z",
     "shell.execute_reply.started": "2022-03-22T13:45:41.310181Z"
    },
    "tags": []
   },
   "outputs": [
    {
     "name": "stdout",
     "output_type": "stream",
     "text": [
      "The circumference of the rectangle is 4.0 units.\n"
     ]
    }
   ],
   "source": [
    "print(f\"The circumference of the rectangle is {r2.circumference()} units.\")"
   ]
  },
  {
   "cell_type": "code",
   "execution_count": 39,
   "id": "87376b72-a60d-4c84-9a2f-7af4794f71d8",
   "metadata": {
    "execution": {
     "iopub.execute_input": "2022-03-22T13:45:41.940074Z",
     "iopub.status.busy": "2022-03-22T13:45:41.939897Z",
     "iopub.status.idle": "2022-03-22T13:45:41.942636Z",
     "shell.execute_reply": "2022-03-22T13:45:41.942240Z",
     "shell.execute_reply.started": "2022-03-22T13:45:41.940056Z"
    },
    "tags": []
   },
   "outputs": [
    {
     "name": "stdout",
     "output_type": "stream",
     "text": [
      "The area of the rectangle is 1 square units.\n"
     ]
    }
   ],
   "source": [
    "print(f\"The area of the rectangle is {r2.area()} square units.\")"
   ]
  },
  {
   "cell_type": "markdown",
   "id": "06e11d17-c3a9-4167-ad75-af6e382136f7",
   "metadata": {},
   "source": [
    "## Inheritance"
   ]
  },
  {
   "cell_type": "markdown",
   "id": "d609263f-b1ad-4b73-940b-6be98edd46e1",
   "metadata": {},
   "source": [
    "Another important aspect of object orientated programming is inheritance. The idea is to create more complex, or more specific functionality based on a simpler one by deriving the new implementation from an existing one and replacing or adding necessary functionality to it.\n",
    "\n",
    "The implementation for our `Square` class could be done much cleaner when using this concept. Let's have a look."
   ]
  },
  {
   "cell_type": "code",
   "execution_count": 40,
   "id": "216cc241-f112-4ad9-9521-cb4d5e705038",
   "metadata": {
    "execution": {
     "iopub.execute_input": "2022-03-22T13:45:42.816563Z",
     "iopub.status.busy": "2022-03-22T13:45:42.816333Z",
     "iopub.status.idle": "2022-03-22T13:45:42.820248Z",
     "shell.execute_reply": "2022-03-22T13:45:42.819723Z",
     "shell.execute_reply.started": "2022-03-22T13:45:42.816547Z"
    },
    "tags": []
   },
   "outputs": [],
   "source": [
    "class OP_Rectangle(Rectangle):\n",
    "    def __init__(self, p1, p2):\n",
    "        _p1 = Point(p1.x, p1.y)\n",
    "        _p2 = Point(p1.x, p2.y)\n",
    "        _p3 = Point(p2.x, p2.y)\n",
    "        _p4 = Point(p2.x, p1.y)\n",
    "        Rectangle.__init__(self, _p1, _p2, _p3, _p4)\n",
    "        \n",
    "    def area(self):\n",
    "        return abs(self.p3.y - self.p1.y) * abs(self.p3.x - self.p1.x)"
   ]
  },
  {
   "cell_type": "code",
   "execution_count": 41,
   "id": "668ce72e-4edc-4259-a2ef-dfd9ee1ee766",
   "metadata": {
    "execution": {
     "iopub.execute_input": "2022-03-22T13:46:01.796001Z",
     "iopub.status.busy": "2022-03-22T13:46:01.795829Z",
     "iopub.status.idle": "2022-03-22T13:46:01.798604Z",
     "shell.execute_reply": "2022-03-22T13:46:01.798208Z",
     "shell.execute_reply.started": "2022-03-22T13:46:01.795985Z"
    },
    "tags": []
   },
   "outputs": [
    {
     "name": "stdout",
     "output_type": "stream",
     "text": [
      "a rectangle based on a point at (0,0), a point at (0,1), a point at (1,1) and a point at (1,0).\n"
     ]
    }
   ],
   "source": [
    "r2 = OP_Rectangle(p1, p3)\n",
    "print(r2)"
   ]
  },
  {
   "cell_type": "code",
   "execution_count": 42,
   "id": "e1c73e1d-ef5d-4769-8f28-2841483f2318",
   "metadata": {
    "execution": {
     "iopub.execute_input": "2022-03-22T13:46:02.065555Z",
     "iopub.status.busy": "2022-03-22T13:46:02.065379Z",
     "iopub.status.idle": "2022-03-22T13:46:02.068159Z",
     "shell.execute_reply": "2022-03-22T13:46:02.067767Z",
     "shell.execute_reply.started": "2022-03-22T13:46:02.065538Z"
    },
    "tags": []
   },
   "outputs": [
    {
     "name": "stdout",
     "output_type": "stream",
     "text": [
      "The circumference of the rectangle is 4.0 units.\n"
     ]
    }
   ],
   "source": [
    "print(f\"The circumference of the rectangle is {r2.circumference()} units.\")"
   ]
  },
  {
   "cell_type": "code",
   "execution_count": 43,
   "id": "d4795ce1-299b-4803-91c4-c0188bb9a748",
   "metadata": {
    "execution": {
     "iopub.execute_input": "2022-03-22T13:46:02.256479Z",
     "iopub.status.busy": "2022-03-22T13:46:02.256307Z",
     "iopub.status.idle": "2022-03-22T13:46:02.258875Z",
     "shell.execute_reply": "2022-03-22T13:46:02.258478Z",
     "shell.execute_reply.started": "2022-03-22T13:46:02.256462Z"
    },
    "tags": []
   },
   "outputs": [
    {
     "name": "stdout",
     "output_type": "stream",
     "text": [
      "The area of the rectangle is 1 square units.\n"
     ]
    }
   ],
   "source": [
    "print(f\"The area of the rectangle is {r2.area()} square units.\")"
   ]
  },
  {
   "cell_type": "markdown",
   "id": "52f2c86f-9acc-45e3-8efb-1a7142d2014a",
   "metadata": {},
   "source": [
    "The new code appears to be much cleaner, as it traces the new implementation back to an existing one, which is already understood and known.\n",
    "\n",
    "All we had to do for that was to create the four necessary corner points for the existing Rectangle implementation and call its constructor like shown. This creates the four points `self.p1`, `self.p2`, `self.p3` and `self.p4` as properties of our `OP_Rectangle` class, so that its coordinates can later be used to calculate the rectangles area. If desired, we could of course also replace the `__repr__` method to be more specific on the two initial points that had be used in the `OP_Rectangle`s constructor."
   ]
  },
  {
   "cell_type": "code",
   "execution_count": null,
   "id": "5decdd9d-e939-4784-b977-b693622cf165",
   "metadata": {},
   "outputs": [],
   "source": []
  }
 ],
 "metadata": {
  "kernelspec": {
   "display_name": "Python 3 (ipykernel)",
   "language": "python",
   "name": "python3"
  },
  "language_info": {
   "codemirror_mode": {
    "name": "ipython",
    "version": 3
   },
   "file_extension": ".py",
   "mimetype": "text/x-python",
   "name": "python",
   "nbconvert_exporter": "python",
   "pygments_lexer": "ipython3",
   "version": "3.10.2"
  }
 },
 "nbformat": 4,
 "nbformat_minor": 5
}
