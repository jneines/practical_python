{
 "cells": [
  {
   "cell_type": "markdown",
   "id": "6a2dac46-eb86-4bd9-a8b7-436b269a2e1c",
   "metadata": {},
   "source": [
    "# Working with text\n",
    "\n",
    "There is a point in time where you have to to write your *Hello World* application. This is considered to be *the* first thing you do when learning a new programming language. Well, we have done other things first. However, it's never to late, is it? \n",
    "\n",
    "And it brings another data type into play. The string type `str`, and how to deal with it. So let's create our first string now."
   ]
  },
  {
   "cell_type": "code",
   "execution_count": 11,
   "id": "3a5e95e0-7f27-41b6-a0f4-3c9321d2d92b",
   "metadata": {
    "execution": {
     "iopub.execute_input": "2022-02-21T16:42:25.362852Z",
     "iopub.status.busy": "2022-02-21T16:42:25.362690Z",
     "iopub.status.idle": "2022-02-21T16:42:25.365285Z",
     "shell.execute_reply": "2022-02-21T16:42:25.364849Z",
     "shell.execute_reply.started": "2022-02-21T16:42:25.362837Z"
    },
    "tags": []
   },
   "outputs": [],
   "source": [
    "message = \"Hello World\""
   ]
  },
  {
   "cell_type": "markdown",
   "id": "07a60ef1-9fbf-4cd4-b521-8191847c0f19",
   "metadata": {},
   "source": [
    "We can output the contents of our variable as usual in our jupyter environment, by just executing a cell with the variable name in it. "
   ]
  },
  {
   "cell_type": "code",
   "execution_count": 13,
   "id": "340691e6-d43e-48c4-a1d1-fd3962052cf9",
   "metadata": {
    "execution": {
     "iopub.execute_input": "2022-02-21T16:43:42.056117Z",
     "iopub.status.busy": "2022-02-21T16:43:42.055944Z",
     "iopub.status.idle": "2022-02-21T16:43:42.059587Z",
     "shell.execute_reply": "2022-02-21T16:43:42.059091Z",
     "shell.execute_reply.started": "2022-02-21T16:43:42.056100Z"
    },
    "tags": []
   },
   "outputs": [
    {
     "data": {
      "text/plain": [
       "'Hello World'"
      ]
     },
     "execution_count": 13,
     "metadata": {},
     "output_type": "execute_result"
    }
   ],
   "source": [
    "message"
   ]
  },
  {
   "cell_type": "markdown",
   "id": "ff4b22ae-8df8-404d-bfa0-0ad4d3534dcb",
   "metadata": {},
   "source": [
    "However usually something more explicit is necessary to output text. Python offers the `print` function for this. Another builtin function right at our hands."
   ]
  },
  {
   "cell_type": "code",
   "execution_count": 17,
   "id": "25552721-f508-4873-a124-ca9533e5bcbe",
   "metadata": {
    "execution": {
     "iopub.execute_input": "2022-02-21T16:45:54.016114Z",
     "iopub.status.busy": "2022-02-21T16:45:54.015873Z",
     "iopub.status.idle": "2022-02-21T16:45:54.019464Z",
     "shell.execute_reply": "2022-02-21T16:45:54.018892Z",
     "shell.execute_reply.started": "2022-02-21T16:45:54.016097Z"
    },
    "tags": []
   },
   "outputs": [
    {
     "name": "stdout",
     "output_type": "stream",
     "text": [
      "Hello World\n"
     ]
    }
   ],
   "source": [
    "print(message)"
   ]
  },
  {
   "cell_type": "markdown",
   "id": "027da32e-026d-45e7-bfbd-1ad64c1bf1e2",
   "metadata": {},
   "source": [
    "This does the job. In any Python environment. It will output the provided message followed by a newline, which allows to start outputing text at the beginning of the next line with a possible follow up call to print."
   ]
  },
  {
   "cell_type": "markdown",
   "id": "94da2de4-5441-4326-bf96-d8566512f930",
   "metadata": {},
   "source": [
    "```{tip} To add a newline to the text to be printed is the default behaviour when using print this way. But print is much more powerful. Use the help builtin function with print as its argument to learn more on what print has to offer.\n",
    "```"
   ]
  },
  {
   "cell_type": "markdown",
   "id": "f7af9b1b-3444-4e53-8ad9-b1b4c4592bd7",
   "metadata": {},
   "source": [
    "Strings can be understood as arrays of characters. Actually in programming languages such as *C*, it's actually just that, nothing more. In Python it's an object of course, as anything is an object in Python, and has some more to offer. Let's have a look using tge `dir` function."
   ]
  },
  {
   "cell_type": "code",
   "execution_count": 18,
   "id": "966f3d8d-af13-4416-af28-aeafbf9d53d0",
   "metadata": {
    "execution": {
     "iopub.execute_input": "2022-02-21T16:52:19.112893Z",
     "iopub.status.busy": "2022-02-21T16:52:19.112717Z",
     "iopub.status.idle": "2022-02-21T16:52:19.116809Z",
     "shell.execute_reply": "2022-02-21T16:52:19.116378Z",
     "shell.execute_reply.started": "2022-02-21T16:52:19.112877Z"
    },
    "tags": []
   },
   "outputs": [
    {
     "data": {
      "text/plain": [
       "['__add__',\n",
       " '__class__',\n",
       " '__contains__',\n",
       " '__delattr__',\n",
       " '__dir__',\n",
       " '__doc__',\n",
       " '__eq__',\n",
       " '__format__',\n",
       " '__ge__',\n",
       " '__getattribute__',\n",
       " '__getitem__',\n",
       " '__getnewargs__',\n",
       " '__gt__',\n",
       " '__hash__',\n",
       " '__init__',\n",
       " '__init_subclass__',\n",
       " '__iter__',\n",
       " '__le__',\n",
       " '__len__',\n",
       " '__lt__',\n",
       " '__mod__',\n",
       " '__mul__',\n",
       " '__ne__',\n",
       " '__new__',\n",
       " '__reduce__',\n",
       " '__reduce_ex__',\n",
       " '__repr__',\n",
       " '__rmod__',\n",
       " '__rmul__',\n",
       " '__setattr__',\n",
       " '__sizeof__',\n",
       " '__str__',\n",
       " '__subclasshook__',\n",
       " 'capitalize',\n",
       " 'casefold',\n",
       " 'center',\n",
       " 'count',\n",
       " 'encode',\n",
       " 'endswith',\n",
       " 'expandtabs',\n",
       " 'find',\n",
       " 'format',\n",
       " 'format_map',\n",
       " 'index',\n",
       " 'isalnum',\n",
       " 'isalpha',\n",
       " 'isascii',\n",
       " 'isdecimal',\n",
       " 'isdigit',\n",
       " 'isidentifier',\n",
       " 'islower',\n",
       " 'isnumeric',\n",
       " 'isprintable',\n",
       " 'isspace',\n",
       " 'istitle',\n",
       " 'isupper',\n",
       " 'join',\n",
       " 'ljust',\n",
       " 'lower',\n",
       " 'lstrip',\n",
       " 'maketrans',\n",
       " 'partition',\n",
       " 'removeprefix',\n",
       " 'removesuffix',\n",
       " 'replace',\n",
       " 'rfind',\n",
       " 'rindex',\n",
       " 'rjust',\n",
       " 'rpartition',\n",
       " 'rsplit',\n",
       " 'rstrip',\n",
       " 'split',\n",
       " 'splitlines',\n",
       " 'startswith',\n",
       " 'strip',\n",
       " 'swapcase',\n",
       " 'title',\n",
       " 'translate',\n",
       " 'upper',\n",
       " 'zfill']"
      ]
     },
     "execution_count": 18,
     "metadata": {},
     "output_type": "execute_result"
    }
   ],
   "source": [
    "dir(message)"
   ]
  },
  {
   "cell_type": "markdown",
   "id": "ef859dfd-9a2f-4176-b24c-b88ac08ffa6e",
   "metadata": {},
   "source": [
    "Quite interesting. First of all there are some attributes looking a bit strange compared to the bottom ones. They start and end with a double underscore, such as `__len__`. These are called *dunder* methods (for double under), and usually implement a certain protocol that can be used on the object, such as iteration, or implement operators that are considered to be useful in the context. Addition and mmultiplication are implemented using this concept. The `__add__` and `__mul__` methods are used for this for example. Strings also offet a `__len__` method. This let's us call the `len` builtin method on our message to see how many characters are in our message. Let's have a look."
   ]
  },
  {
   "cell_type": "code",
   "execution_count": 19,
   "id": "dd207134-3139-4102-ba33-61f2b2b37fe4",
   "metadata": {
    "execution": {
     "iopub.execute_input": "2022-02-21T16:57:12.232435Z",
     "iopub.status.busy": "2022-02-21T16:57:12.232218Z",
     "iopub.status.idle": "2022-02-21T16:57:12.235914Z",
     "shell.execute_reply": "2022-02-21T16:57:12.235430Z",
     "shell.execute_reply.started": "2022-02-21T16:57:12.232412Z"
    }
   },
   "outputs": [
    {
     "data": {
      "text/plain": [
       "11"
      ]
     },
     "execution_count": 19,
     "metadata": {},
     "output_type": "execute_result"
    }
   ],
   "source": [
    "len(message)"
   ]
  },
  {
   "cell_type": "markdown",
   "id": "1b6e520d-cd67-4399-be6a-ee2921b13838",
   "metadata": {},
   "source": [
    "Okay. So our message consists of 11 characters. Seems correct I think. Interested in some more useful functions? Here we go."
   ]
  },
  {
   "cell_type": "markdown",
   "id": "4f14b9fc-cba1-48b9-bf5a-9770095d7871",
   "metadata": {},
   "source": [
    "`upper` can return a version of our message, that is all uppercase"
   ]
  },
  {
   "cell_type": "code",
   "execution_count": 20,
   "id": "89ad7598-a105-4dca-a5bd-7ad741a1280e",
   "metadata": {
    "execution": {
     "iopub.execute_input": "2022-02-21T16:58:59.403129Z",
     "iopub.status.busy": "2022-02-21T16:58:59.402957Z",
     "iopub.status.idle": "2022-02-21T16:58:59.406095Z",
     "shell.execute_reply": "2022-02-21T16:58:59.405732Z",
     "shell.execute_reply.started": "2022-02-21T16:58:59.403113Z"
    },
    "tags": []
   },
   "outputs": [
    {
     "data": {
      "text/plain": [
       "'HELLO WORLD'"
      ]
     },
     "execution_count": 20,
     "metadata": {},
     "output_type": "execute_result"
    }
   ],
   "source": [
    "message.upper()"
   ]
  },
  {
   "cell_type": "markdown",
   "id": "74cbd559-3946-48e0-bf0d-4e20d040c3e1",
   "metadata": {},
   "source": [
    "`capitalize` would make the first letter of our string upper case, whilst all others become lower case."
   ]
  },
  {
   "cell_type": "code",
   "execution_count": 26,
   "id": "aefa97bb-6e93-4f54-8fe6-20b178276a00",
   "metadata": {
    "execution": {
     "iopub.execute_input": "2022-02-21T17:01:22.064848Z",
     "iopub.status.busy": "2022-02-21T17:01:22.064676Z",
     "iopub.status.idle": "2022-02-21T17:01:22.068191Z",
     "shell.execute_reply": "2022-02-21T17:01:22.067761Z",
     "shell.execute_reply.started": "2022-02-21T17:01:22.064832Z"
    },
    "tags": []
   },
   "outputs": [
    {
     "data": {
      "text/plain": [
       "'Hello world'"
      ]
     },
     "execution_count": 26,
     "metadata": {},
     "output_type": "execute_result"
    }
   ],
   "source": [
    "message.capitalize()"
   ]
  },
  {
   "cell_type": "markdown",
   "id": "941b2342-3e9f-45ab-ad85-0796dec6cdef",
   "metadata": {},
   "source": [
    "`swapcase` will toggle upper and lower case letters."
   ]
  },
  {
   "cell_type": "code",
   "execution_count": 28,
   "id": "754d62d7-e1a1-4998-97de-dd598e89ae45",
   "metadata": {
    "execution": {
     "iopub.execute_input": "2022-02-21T17:01:43.244261Z",
     "iopub.status.busy": "2022-02-21T17:01:43.244055Z",
     "iopub.status.idle": "2022-02-21T17:01:43.247860Z",
     "shell.execute_reply": "2022-02-21T17:01:43.247427Z",
     "shell.execute_reply.started": "2022-02-21T17:01:43.244245Z"
    },
    "tags": []
   },
   "outputs": [
    {
     "data": {
      "text/plain": [
       "'hELLO wORLD'"
      ]
     },
     "execution_count": 28,
     "metadata": {},
     "output_type": "execute_result"
    }
   ],
   "source": [
    "message.swapcase()"
   ]
  },
  {
   "cell_type": "markdown",
   "id": "a2f3648e-951e-4169-923d-6499367c07a5",
   "metadata": {},
   "source": [
    "`replace` will exchange a part of our message with another one. If we wanted to replace the word *World* with *You* we would use the following."
   ]
  },
  {
   "cell_type": "code",
   "execution_count": 30,
   "id": "d9c97ac4-6359-44b7-b167-2c9e2c7a807d",
   "metadata": {
    "execution": {
     "iopub.execute_input": "2022-02-21T17:03:24.632456Z",
     "iopub.status.busy": "2022-02-21T17:03:24.632276Z",
     "iopub.status.idle": "2022-02-21T17:03:24.635969Z",
     "shell.execute_reply": "2022-02-21T17:03:24.635503Z",
     "shell.execute_reply.started": "2022-02-21T17:03:24.632439Z"
    },
    "tags": []
   },
   "outputs": [
    {
     "data": {
      "text/plain": [
       "'Hello You'"
      ]
     },
     "execution_count": 30,
     "metadata": {},
     "output_type": "execute_result"
    }
   ],
   "source": [
    "message.replace(\"World\", \"You\")"
   ]
  },
  {
   "cell_type": "markdown",
   "id": "dc140efe-5e1d-4769-866c-1c5dd23b0663",
   "metadata": {},
   "source": [
    "```{tip} To learn more about the provided methods by the string type, again use the help builtin on these methods. Such as help(message.title) to learn more on the title method.\n",
    "```"
   ]
  },
  {
   "cell_type": "markdown",
   "id": "5e42d56c-9dce-413f-b542-878926863b5f",
   "metadata": {},
   "source": [
    "Looking more closely on the dir output we recognize that addition (`__add__`) and multiplication (`__mul__`) do actually exist for strings. How does that even make sense? Sure you can do all these things with numbers, but with strings? Let's just try it!"
   ]
  },
  {
   "cell_type": "code",
   "execution_count": 31,
   "id": "500304a5-45b7-4235-9a34-5ba7aa834a6f",
   "metadata": {
    "execution": {
     "iopub.execute_input": "2022-02-21T17:08:15.150290Z",
     "iopub.status.busy": "2022-02-21T17:08:15.150096Z",
     "iopub.status.idle": "2022-02-21T17:08:15.153640Z",
     "shell.execute_reply": "2022-02-21T17:08:15.153139Z",
     "shell.execute_reply.started": "2022-02-21T17:08:15.150254Z"
    }
   },
   "outputs": [
    {
     "data": {
      "text/plain": [
       "'Hello World!'"
      ]
     },
     "execution_count": 31,
     "metadata": {},
     "output_type": "execute_result"
    }
   ],
   "source": [
    "message + \"!\""
   ]
  },
  {
   "cell_type": "markdown",
   "id": "d4a1c0cd-a6b5-4893-a3a2-4edf7e1701d6",
   "metadata": {},
   "source": [
    "Okay, so addition of strings simply extends our message. We were able to add another string *!* to our message. That's quite nice. But what about multiplication?"
   ]
  },
  {
   "cell_type": "code",
   "execution_count": 34,
   "id": "e5bfd40f-0be8-4bc2-a916-7768a0a8bebd",
   "metadata": {
    "execution": {
     "iopub.execute_input": "2022-02-21T17:10:08.091094Z",
     "iopub.status.busy": "2022-02-21T17:10:08.090918Z",
     "iopub.status.idle": "2022-02-21T17:10:08.105955Z",
     "shell.execute_reply": "2022-02-21T17:10:08.105329Z",
     "shell.execute_reply.started": "2022-02-21T17:10:08.091077Z"
    },
    "tags": []
   },
   "outputs": [
    {
     "ename": "TypeError",
     "evalue": "can't multiply sequence by non-int of type 'str'",
     "output_type": "error",
     "traceback": [
      "\u001b[0;31m---------------------------------------------------------------------------\u001b[0m",
      "\u001b[0;31mTypeError\u001b[0m                                 Traceback (most recent call last)",
      "Input \u001b[0;32mIn [34]\u001b[0m, in \u001b[0;36m<module>\u001b[0;34m\u001b[0m\n\u001b[0;32m----> 1\u001b[0m \u001b[43mmessage\u001b[49m\u001b[43m \u001b[49m\u001b[38;5;241;43m*\u001b[39;49m\u001b[43m \u001b[49m\u001b[38;5;124;43m\"\u001b[39;49m\u001b[38;5;124;43m!\u001b[39;49m\u001b[38;5;124;43m\"\u001b[39;49m\n",
      "\u001b[0;31mTypeError\u001b[0m: can't multiply sequence by non-int of type 'str'"
     ]
    }
   ],
   "source": [
    "message * \"!\""
   ]
  },
  {
   "cell_type": "markdown",
   "id": "f18d53f3-6e1f-4967-86cb-f23fe7d10f87",
   "metadata": {},
   "source": [
    "So multiplying with another text is not allowed. Python throws an error here. But what about using numbers?"
   ]
  },
  {
   "cell_type": "code",
   "execution_count": 59,
   "id": "ec595e4e-f9fb-43e1-a255-4278160de42d",
   "metadata": {
    "execution": {
     "iopub.execute_input": "2022-02-21T17:28:25.441990Z",
     "iopub.status.busy": "2022-02-21T17:28:25.441755Z",
     "iopub.status.idle": "2022-02-21T17:28:25.445108Z",
     "shell.execute_reply": "2022-02-21T17:28:25.444723Z",
     "shell.execute_reply.started": "2022-02-21T17:28:25.441958Z"
    },
    "tags": []
   },
   "outputs": [
    {
     "data": {
      "text/plain": [
       "'Hello WorldHello WorldHello WorldHello World'"
      ]
     },
     "execution_count": 59,
     "metadata": {},
     "output_type": "execute_result"
    }
   ],
   "source": [
    "message * 4"
   ]
  },
  {
   "cell_type": "markdown",
   "id": "b30383b5-c908-40d6-97ca-b07c37f21887",
   "metadata": {},
   "source": [
    "This makes sense. We can create a new text which uses our message 4 times to make a new string."
   ]
  },
  {
   "cell_type": "markdown",
   "id": "adf6fae3-8fe9-4dc9-8809-9bdd37fcfe18",
   "metadata": {},
   "source": [
    "## Format strings"
   ]
  },
  {
   "cell_type": "markdown",
   "id": "61bc42ad-8a0d-4edc-9f29-4ebe67e2fab5",
   "metadata": {},
   "source": [
    "And theres a special syntax for strings as well. If the sting is preceeded with the letter f, Python will parse the text and look for identifiers, that should be replaced with variable content. For example"
   ]
  },
  {
   "cell_type": "code",
   "execution_count": 36,
   "id": "f7f5eb30-d355-4e3f-8f21-33830249134d",
   "metadata": {
    "execution": {
     "iopub.execute_input": "2022-02-21T17:14:51.414117Z",
     "iopub.status.busy": "2022-02-21T17:14:51.413630Z",
     "iopub.status.idle": "2022-02-21T17:14:51.417647Z",
     "shell.execute_reply": "2022-02-21T17:14:51.417101Z",
     "shell.execute_reply.started": "2022-02-21T17:14:51.414101Z"
    },
    "tags": []
   },
   "outputs": [
    {
     "data": {
      "text/plain": [
       "'Hello World!'"
      ]
     },
     "execution_count": 36,
     "metadata": {},
     "output_type": "execute_result"
    }
   ],
   "source": [
    "f\"{message}!\""
   ]
  },
  {
   "cell_type": "markdown",
   "id": "c8609028-3687-429f-a2d6-a629a90ff04f",
   "metadata": {},
   "source": [
    "will extend our message with an exclamation mark by replacing the identifier in curly braces with the contents of the variable `message`."
   ]
  },
  {
   "cell_type": "markdown",
   "id": "e33411de-cfdf-4f67-b02f-1003af7dbc90",
   "metadata": {},
   "source": [
    "This will basically work with all printable variables. So variables with numbers can be used as well."
   ]
  },
  {
   "cell_type": "code",
   "execution_count": 37,
   "id": "f7afe43c-163b-4ac1-add8-0c347c02aa8b",
   "metadata": {
    "execution": {
     "iopub.execute_input": "2022-02-21T17:18:12.104514Z",
     "iopub.status.busy": "2022-02-21T17:18:12.104085Z",
     "iopub.status.idle": "2022-02-21T17:18:12.107772Z",
     "shell.execute_reply": "2022-02-21T17:18:12.107323Z",
     "shell.execute_reply.started": "2022-02-21T17:18:12.104498Z"
    }
   },
   "outputs": [
    {
     "data": {
      "text/plain": [
       "'The value of a is 10.0, b is 12.0 currently.'"
      ]
     },
     "execution_count": 37,
     "metadata": {},
     "output_type": "execute_result"
    }
   ],
   "source": [
    "a = 10.\n",
    "b = 12.\n",
    "\n",
    "f\"The value of a is {a}, b is {b} currently.\""
   ]
  },
  {
   "cell_type": "markdown",
   "id": "7ab59f91-97d6-4579-87c7-3a5c75def144",
   "metadata": {},
   "source": [
    "Even small Python statements can be used in these identifiers."
   ]
  },
  {
   "cell_type": "code",
   "execution_count": 38,
   "id": "b17ce74b-292e-44ad-8ba0-b9acc53ad97c",
   "metadata": {
    "execution": {
     "iopub.execute_input": "2022-02-21T17:19:00.732426Z",
     "iopub.status.busy": "2022-02-21T17:19:00.732189Z",
     "iopub.status.idle": "2022-02-21T17:19:00.736082Z",
     "shell.execute_reply": "2022-02-21T17:19:00.735508Z",
     "shell.execute_reply.started": "2022-02-21T17:19:00.732412Z"
    }
   },
   "outputs": [
    {
     "data": {
      "text/plain": [
       "'The product of a with value 10.0 and b with value 12.0 is 120.0.'"
      ]
     },
     "execution_count": 38,
     "metadata": {},
     "output_type": "execute_result"
    }
   ],
   "source": [
    "f\"The product of a with value {a} and b with value {b} is {a*b}.\""
   ]
  },
  {
   "cell_type": "markdown",
   "id": "1f691a3d-2acd-46eb-9582-f3b577b797f1",
   "metadata": {},
   "source": [
    "Also function calls are allowed."
   ]
  },
  {
   "cell_type": "code",
   "execution_count": 39,
   "id": "184e4afd-b3d4-4694-a400-96cabc32a8c5",
   "metadata": {
    "execution": {
     "iopub.execute_input": "2022-02-21T17:19:20.700735Z",
     "iopub.status.busy": "2022-02-21T17:19:20.700531Z",
     "iopub.status.idle": "2022-02-21T17:19:20.703167Z",
     "shell.execute_reply": "2022-02-21T17:19:20.702689Z",
     "shell.execute_reply.started": "2022-02-21T17:19:20.700718Z"
    }
   },
   "outputs": [],
   "source": [
    "import math"
   ]
  },
  {
   "cell_type": "code",
   "execution_count": 42,
   "id": "a5dc74a1-ac89-4e0d-bafb-6639291172be",
   "metadata": {
    "execution": {
     "iopub.execute_input": "2022-02-21T17:20:33.196742Z",
     "iopub.status.busy": "2022-02-21T17:20:33.196564Z",
     "iopub.status.idle": "2022-02-21T17:20:33.200448Z",
     "shell.execute_reply": "2022-02-21T17:20:33.200092Z",
     "shell.execute_reply.started": "2022-02-21T17:20:33.196726Z"
    },
    "tags": []
   },
   "outputs": [
    {
     "data": {
      "text/plain": [
       "'The value of pi/2 is 1.5707963267948966. The sine value of pi is 1.0'"
      ]
     },
     "execution_count": 42,
     "metadata": {},
     "output_type": "execute_result"
    }
   ],
   "source": [
    "f\"The value of pi/2 is {math.pi/2}. The sine value of pi is {math.sin(math.pi/2)}\""
   ]
  },
  {
   "cell_type": "markdown",
   "id": "60f17256-e808-4e51-a6d6-afe95412280a",
   "metadata": {},
   "source": [
    "The string can even be formatted to have a more focused output."
   ]
  },
  {
   "cell_type": "code",
   "execution_count": 45,
   "id": "b90c553c-f21e-45cc-9ea6-e47db7373e8d",
   "metadata": {
    "execution": {
     "iopub.execute_input": "2022-02-21T17:21:58.348070Z",
     "iopub.status.busy": "2022-02-21T17:21:58.347867Z",
     "iopub.status.idle": "2022-02-21T17:21:58.351925Z",
     "shell.execute_reply": "2022-02-21T17:21:58.351445Z",
     "shell.execute_reply.started": "2022-02-21T17:21:58.348055Z"
    },
    "tags": []
   },
   "outputs": [
    {
     "data": {
      "text/plain": [
       "'The value of pi/2 is roughly 1.57.'"
      ]
     },
     "execution_count": 45,
     "metadata": {},
     "output_type": "execute_result"
    }
   ],
   "source": [
    "f\"The value of pi/2 is roughly {math.pi/2:.2f}.\""
   ]
  },
  {
   "cell_type": "markdown",
   "id": "05c6791e-f3ef-4402-857c-3453117c1c2d",
   "metadata": {},
   "source": [
    "This will limit the output in floating point notations to two digits after the decimal point."
   ]
  },
  {
   "cell_type": "markdown",
   "id": "21722e06-dc23-4d10-9672-ea56a1e5bfcf",
   "metadata": {},
   "source": [
    "Here are some more examples. I think you get the idea!"
   ]
  },
  {
   "cell_type": "code",
   "execution_count": 46,
   "id": "1ca18cfc-9c03-45db-8fd2-a54f26adec74",
   "metadata": {
    "execution": {
     "iopub.execute_input": "2022-02-21T17:23:41.696141Z",
     "iopub.status.busy": "2022-02-21T17:23:41.695914Z",
     "iopub.status.idle": "2022-02-21T17:23:41.698660Z",
     "shell.execute_reply": "2022-02-21T17:23:41.698167Z",
     "shell.execute_reply.started": "2022-02-21T17:23:41.696127Z"
    }
   },
   "outputs": [],
   "source": [
    "value = 120.12"
   ]
  },
  {
   "cell_type": "code",
   "execution_count": 55,
   "id": "a30dbe4a-a866-414f-875e-a2217f483a5b",
   "metadata": {
    "execution": {
     "iopub.execute_input": "2022-02-21T17:25:07.742124Z",
     "iopub.status.busy": "2022-02-21T17:25:07.741950Z",
     "iopub.status.idle": "2022-02-21T17:25:07.745410Z",
     "shell.execute_reply": "2022-02-21T17:25:07.744932Z",
     "shell.execute_reply.started": "2022-02-21T17:25:07.742108Z"
    },
    "tags": []
   },
   "outputs": [
    {
     "data": {
      "text/plain": [
       "'    120'"
      ]
     },
     "execution_count": 55,
     "metadata": {},
     "output_type": "execute_result"
    }
   ],
   "source": [
    "f\"{value:7.0f}\""
   ]
  },
  {
   "cell_type": "code",
   "execution_count": 56,
   "id": "bf607b21-1bff-49aa-8370-10c2b70bb837",
   "metadata": {
    "execution": {
     "iopub.execute_input": "2022-02-21T17:25:09.021387Z",
     "iopub.status.busy": "2022-02-21T17:25:09.021216Z",
     "iopub.status.idle": "2022-02-21T17:25:09.024750Z",
     "shell.execute_reply": "2022-02-21T17:25:09.024343Z",
     "shell.execute_reply.started": "2022-02-21T17:25:09.021371Z"
    },
    "tags": []
   },
   "outputs": [
    {
     "data": {
      "text/plain": [
       "' 120.12'"
      ]
     },
     "execution_count": 56,
     "metadata": {},
     "output_type": "execute_result"
    }
   ],
   "source": [
    "f\"{value:7.2f}\""
   ]
  },
  {
   "cell_type": "code",
   "execution_count": 57,
   "id": "5bdec3da-958d-44d0-bbbb-6f831f36198a",
   "metadata": {
    "execution": {
     "iopub.execute_input": "2022-02-21T17:25:14.195235Z",
     "iopub.status.busy": "2022-02-21T17:25:14.194987Z",
     "iopub.status.idle": "2022-02-21T17:25:14.199039Z",
     "shell.execute_reply": "2022-02-21T17:25:14.198491Z",
     "shell.execute_reply.started": "2022-02-21T17:25:14.195197Z"
    },
    "tags": []
   },
   "outputs": [
    {
     "data": {
      "text/plain": [
       "'120.12'"
      ]
     },
     "execution_count": 57,
     "metadata": {},
     "output_type": "execute_result"
    }
   ],
   "source": [
    "f\"{value:0.2f}\""
   ]
  },
  {
   "cell_type": "code",
   "execution_count": 58,
   "id": "2f1c14c5-6935-4a09-802b-6c7a2834b4e7",
   "metadata": {
    "execution": {
     "iopub.execute_input": "2022-02-21T17:25:31.740437Z",
     "iopub.status.busy": "2022-02-21T17:25:31.740217Z",
     "iopub.status.idle": "2022-02-21T17:25:31.743862Z",
     "shell.execute_reply": "2022-02-21T17:25:31.743424Z",
     "shell.execute_reply.started": "2022-02-21T17:25:31.740405Z"
    }
   },
   "outputs": [
    {
     "data": {
      "text/plain": [
       "'0120.12'"
      ]
     },
     "execution_count": 58,
     "metadata": {},
     "output_type": "execute_result"
    }
   ],
   "source": [
    "f\"{value:07.2f}\""
   ]
  },
  {
   "cell_type": "markdown",
   "id": "89d00a62-499a-4dc1-aac4-bfb377b5dbfa",
   "metadata": {},
   "source": [
    "```{note} Please note that when using floating point precision format strings the digit counts as an output character.\n",
    "```"
   ]
  },
  {
   "cell_type": "markdown",
   "id": "8f8b7777-e3a1-461a-a7c5-d7078e4b5d1f",
   "metadata": {},
   "source": [
    "A relatively new syntax for format strings is the following."
   ]
  },
  {
   "cell_type": "code",
   "execution_count": 60,
   "id": "bf2604fc-e828-4f4f-ae06-6959a91c04ad",
   "metadata": {
    "execution": {
     "iopub.execute_input": "2022-02-21T17:31:20.554829Z",
     "iopub.status.busy": "2022-02-21T17:31:20.554657Z",
     "iopub.status.idle": "2022-02-21T17:31:20.558027Z",
     "shell.execute_reply": "2022-02-21T17:31:20.557569Z",
     "shell.execute_reply.started": "2022-02-21T17:31:20.554814Z"
    }
   },
   "outputs": [
    {
     "data": {
      "text/plain": [
       "'a=10.0, b=12.0'"
      ]
     },
     "execution_count": 60,
     "metadata": {},
     "output_type": "execute_result"
    }
   ],
   "source": [
    "f\"{a=}, {b=}\""
   ]
  },
  {
   "cell_type": "markdown",
   "id": "8607a137-79ea-4be3-81b5-674c74ee4ddf",
   "metadata": {},
   "source": [
    "This is very a very useful shortcut for debugging purposes. If you have doubts in the correctness of an algorithm you're currently working on add a simple print statement using this format string for the variables you're using at the point of interest, and you might be quickly enlightened."
   ]
  },
  {
   "cell_type": "code",
   "execution_count": null,
   "id": "2330e7a1-347d-40b6-8669-e3e41a92b1ed",
   "metadata": {},
   "outputs": [],
   "source": []
  }
 ],
 "metadata": {
  "kernelspec": {
   "display_name": "Python 3 (ipykernel)",
   "language": "python",
   "name": "python3"
  },
  "language_info": {
   "codemirror_mode": {
    "name": "ipython",
    "version": 3
   },
   "file_extension": ".py",
   "mimetype": "text/x-python",
   "name": "python",
   "nbconvert_exporter": "python",
   "pygments_lexer": "ipython3",
   "version": "3.10.2"
  }
 },
 "nbformat": 4,
 "nbformat_minor": 5
}
