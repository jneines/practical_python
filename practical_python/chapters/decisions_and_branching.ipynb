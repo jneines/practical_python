{
 "cells": [
  {
   "cell_type": "markdown",
   "id": "5d58e4e3-0ad3-4b70-bfb3-033dfba1029f",
   "metadata": {},
   "source": [
    "# If this than that"
   ]
  },
  {
   "cell_type": "markdown",
   "id": "14ad3d49-9b0a-43b2-9929-9bbcc74eadf0",
   "metadata": {},
   "source": [
    "Another important concept in programming is to change the workflow of a program based on its state or input.\n",
    "\n",
    "Think of you're running a simulation and like to stop iterating as soon as an error, which you would consider a measure for result quality, drops below a certain threshold. That's the general idea behind most simulations. Repeat some sort of calculations until the result does no longer change from iteration to iteration. The difference in results between two iterations in your program can be such an error, which needs to be as low as possible for reasonable result quality. \n",
    "\n",
    "Most simulation engines supporting your ideas work that way. You have to write an algorithm in a way that can be optimized. And optimization in this case means that a resulting error needs to be minimized in order to complete.\n",
    "\n",
    "So in every iterative simulation a decision has to be made at some point. Are we ready yet?\n",
    "\n",
    "Python supports this programming concept with the `if` clause. The idea behind this is like this:\n",
    "\n",
    "if some expression evaluates to True, then do something, else if some other condition evaluates to True, then do different things, else do someting else. You can have one single *if*  clause, as many *else if* branches as you desire, also none, and a single *else* branch, which is also optional."
   ]
  },
  {
   "cell_type": "markdown",
   "id": "ab09e98c-381d-40b8-a621-377a93390661",
   "metadata": {},
   "source": [
    "Let's have a closer look.\n",
    "\n",
    "Imagine we're doing a one step simulation to check if a randomly chosen number is below a certain threshold, say 0.5. We can use a method from the `random` module to generate a (pseudo-) random number, and then check if the number is below that threshold."
   ]
  },
  {
   "cell_type": "markdown",
   "id": "f119b342-c819-4e22-85dc-e93977a0d6e6",
   "metadata": {},
   "source": [
    "We'll import the random module."
   ]
  },
  {
   "cell_type": "code",
   "execution_count": 93,
   "id": "20bb0727-eb4a-49ef-ace2-2bf298fe65c5",
   "metadata": {
    "execution": {
     "iopub.execute_input": "2022-02-23T15:55:26.609981Z",
     "iopub.status.busy": "2022-02-23T15:55:26.609726Z",
     "iopub.status.idle": "2022-02-23T15:55:26.612356Z",
     "shell.execute_reply": "2022-02-23T15:55:26.611877Z",
     "shell.execute_reply.started": "2022-02-23T15:55:26.609924Z"
    },
    "tags": []
   },
   "outputs": [],
   "source": [
    "import random"
   ]
  },
  {
   "cell_type": "markdown",
   "id": "538fff6e-2138-4507-b198-f364fd53aae6",
   "metadata": {},
   "source": [
    "Next, we set the lower threshold."
   ]
  },
  {
   "cell_type": "code",
   "execution_count": 94,
   "id": "67c9f128-8d62-4044-9b33-ceaa57efe899",
   "metadata": {
    "execution": {
     "iopub.execute_input": "2022-02-23T15:55:42.966834Z",
     "iopub.status.busy": "2022-02-23T15:55:42.966658Z",
     "iopub.status.idle": "2022-02-23T15:55:42.969236Z",
     "shell.execute_reply": "2022-02-23T15:55:42.968831Z",
     "shell.execute_reply.started": "2022-02-23T15:55:42.966817Z"
    },
    "tags": []
   },
   "outputs": [],
   "source": [
    "lower_threshold = .5"
   ]
  },
  {
   "cell_type": "markdown",
   "id": "e1dce62a-38b5-47eb-8eb9-437ccca43b1d",
   "metadata": {},
   "source": [
    "And finally we create the random number. \n",
    "In the `if` clause the expression `number < lower_threshold` will either evaluate to `True` or `False`. In case the result is `True` the following code will be executed. If the result is `False` the `else` branch becomes active."
   ]
  },
  {
   "cell_type": "code",
   "execution_count": 95,
   "id": "46ccc3dc-38f7-43ff-a988-471c5ae87dbb",
   "metadata": {
    "execution": {
     "iopub.execute_input": "2022-02-23T15:57:24.984250Z",
     "iopub.status.busy": "2022-02-23T15:57:24.984058Z",
     "iopub.status.idle": "2022-02-23T15:57:24.987463Z",
     "shell.execute_reply": "2022-02-23T15:57:24.986800Z",
     "shell.execute_reply.started": "2022-02-23T15:57:24.984230Z"
    },
    "tags": []
   },
   "outputs": [
    {
     "name": "stdout",
     "output_type": "stream",
     "text": [
      "The number 0.33458387063840056 is below the lower threshold 0.5.\n"
     ]
    }
   ],
   "source": [
    "number = random.random()\n",
    "\n",
    "if number < lower_threshold:\n",
    "    print(f\"The number {number} is below the lower threshold {lower_threshold}.\")\n",
    "else:\n",
    "    print(f\"The number {number} is above the lower threshold {lower_threshold}.\")"
   ]
  },
  {
   "cell_type": "markdown",
   "id": "d6eb2ed2-bc5f-4305-ac46-2b9c669db430",
   "metadata": {},
   "source": [
    "A more sohisticated example would check for a lower and upper bound. In this example we make use of the `elif` branch to allow a second check.\n",
    "We'll set a lower and an upper threshold first."
   ]
  },
  {
   "cell_type": "code",
   "execution_count": 111,
   "id": "aa2476cd-033c-4cb7-b90d-7e0883a5e932",
   "metadata": {
    "execution": {
     "iopub.execute_input": "2022-02-23T16:54:34.620730Z",
     "iopub.status.busy": "2022-02-23T16:54:34.620560Z",
     "iopub.status.idle": "2022-02-23T16:54:34.622843Z",
     "shell.execute_reply": "2022-02-23T16:54:34.622424Z",
     "shell.execute_reply.started": "2022-02-23T16:54:34.620713Z"
    },
    "tags": []
   },
   "outputs": [],
   "source": [
    "lower_threshold = 0.25\n",
    "upper_threshold = 0.75"
   ]
  },
  {
   "cell_type": "markdown",
   "id": "3364223a-8333-4b59-930c-e1311d61513b",
   "metadata": {},
   "source": [
    "And totally comparable to out first example the expression `number < lower_threshold` might again to either `True` or `False`. In case of being `True` the directly following code block is executed. Is the result `False` we're arriving at the `elif` statement, which triggers another check. Here `number > upper_threshold` might evaluate to `True`. In this case the following code is executed. Is the result `False` on the other hand, you already guessed it, the `else` branch is executed."
   ]
  },
  {
   "cell_type": "code",
   "execution_count": 112,
   "id": "0ddb5a3f-093b-4ced-993a-1313c95c96ea",
   "metadata": {
    "execution": {
     "iopub.execute_input": "2022-02-23T16:54:35.205315Z",
     "iopub.status.busy": "2022-02-23T16:54:35.205143Z",
     "iopub.status.idle": "2022-02-23T16:54:35.208003Z",
     "shell.execute_reply": "2022-02-23T16:54:35.207656Z",
     "shell.execute_reply.started": "2022-02-23T16:54:35.205285Z"
    },
    "tags": []
   },
   "outputs": [
    {
     "name": "stdout",
     "output_type": "stream",
     "text": [
      "The number 0.7192234193818268 is in between the lower threshold 0.25 and the upper threshod 0.75.\n"
     ]
    }
   ],
   "source": [
    "number = random.random()\n",
    "\n",
    "if number < lower_threshold:\n",
    "    print(f\"The number {number} is below the lower threshold {lower_threshold}.\")\n",
    "elif number > upper_threshold:\n",
    "    print(f\"The number {number} is above the upper threshold {upper_threshold}.\")\n",
    "else:\n",
    "    print(f\"The number {number} is in between the lower threshold {lower_threshold} and the upper threshod {upper_threshold}.\")"
   ]
  },
  {
   "cell_type": "markdown",
   "id": "fc780366-bdc6-42ba-806f-00a8e0ab9c0a",
   "metadata": {},
   "source": [
    "A simple `if` clause without any `elif` or `else` is also quite commonly used. The typical pattern here is to update some default value set before with a new value because of a changed condition. Think of some default variable which can be overwritten because of entries in a configuration file, or command line arguments to the program at start time. You often could use an `else` clause in these scenarios as well. The consequence however would possibly be to have a rather long code block indented because of this, right behind a quick and small `if` check. That will end up in not being very readable, and should therefore be avoided.\n",
    "The following example might illustrate this."
   ]
  },
  {
   "cell_type": "code",
   "execution_count": 113,
   "id": "6c052e21-4e93-4f66-8584-a84c3f62f52d",
   "metadata": {
    "execution": {
     "iopub.execute_input": "2022-02-23T16:54:36.025746Z",
     "iopub.status.busy": "2022-02-23T16:54:36.025574Z",
     "iopub.status.idle": "2022-02-23T16:54:36.028199Z",
     "shell.execute_reply": "2022-02-23T16:54:36.027767Z",
     "shell.execute_reply.started": "2022-02-23T16:54:36.025729Z"
    },
    "tags": []
   },
   "outputs": [],
   "source": [
    "command_line_options_dont_create_plots = True"
   ]
  },
  {
   "cell_type": "code",
   "execution_count": 114,
   "id": "4cab80a2-8ca3-4f5e-9b05-03b105eb64b1",
   "metadata": {
    "execution": {
     "iopub.execute_input": "2022-02-23T16:54:36.408151Z",
     "iopub.status.busy": "2022-02-23T16:54:36.407989Z",
     "iopub.status.idle": "2022-02-23T16:54:36.410649Z",
     "shell.execute_reply": "2022-02-23T16:54:36.410216Z",
     "shell.execute_reply.started": "2022-02-23T16:54:36.408133Z"
    },
    "tags": []
   },
   "outputs": [],
   "source": [
    "create_plots = True\n",
    "if command_line_options_dont_create_plots:\n",
    "    create_plots = False\n",
    "    \n",
    "# lot's of simulation code here\n",
    "\n",
    "if create_plots:\n",
    "    print(\"Creating plots now\")"
   ]
  },
  {
   "cell_type": "code",
   "execution_count": null,
   "id": "c87ae4a2-bd0e-40b9-a00a-d297fab8ff18",
   "metadata": {},
   "outputs": [],
   "source": []
  },
  {
   "cell_type": "code",
   "execution_count": null,
   "id": "a4bf8065-ad1e-4229-aa19-5c1d81f211ff",
   "metadata": {},
   "outputs": [],
   "source": []
  }
 ],
 "metadata": {
  "kernelspec": {
   "display_name": "Python 3 (ipykernel)",
   "language": "python",
   "name": "python3"
  },
  "language_info": {
   "codemirror_mode": {
    "name": "ipython",
    "version": 3
   },
   "file_extension": ".py",
   "mimetype": "text/x-python",
   "name": "python",
   "nbconvert_exporter": "python",
   "pygments_lexer": "ipython3",
   "version": "3.10.2"
  }
 },
 "nbformat": 4,
 "nbformat_minor": 5
}
