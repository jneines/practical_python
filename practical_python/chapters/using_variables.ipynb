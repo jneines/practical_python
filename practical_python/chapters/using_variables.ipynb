{
 "cells": [
  {
   "cell_type": "markdown",
   "id": "2afa07d3-c5f5-4470-8ab6-5ff693b633af",
   "metadata": {},
   "source": [
    "# Using variables\n",
    "\n",
    "The whole idea behind programming, and what it distinguishes from using a desktop calculator for example, is that values, such as for parameters or constants can be stored in variables, and hence be changed. The syntax for this is to use some string for the name of the variable, followed by an equal sign, which is the assigment operator and the value itself, which should be made available when using the variable. Any dataype can be used, when assiging a value to a variable.\n",
    "For example in order to assign the value to a variable named `a` use the following statement"
   ]
  },
  {
   "cell_type": "code",
   "execution_count": 6,
   "id": "43bd23be-116c-438f-afcf-aa794a70e3e6",
   "metadata": {
    "execution": {
     "iopub.execute_input": "2022-02-21T13:15:03.268135Z",
     "iopub.status.busy": "2022-02-21T13:15:03.267825Z",
     "iopub.status.idle": "2022-02-21T13:15:03.270553Z",
     "shell.execute_reply": "2022-02-21T13:15:03.270073Z",
     "shell.execute_reply.started": "2022-02-21T13:15:03.268096Z"
    },
    "tags": []
   },
   "outputs": [],
   "source": [
    "a = 2"
   ]
  },
  {
   "cell_type": "markdown",
   "id": "7ca6dff7-e117-497a-b362-06dfdfeffcfb",
   "metadata": {},
   "source": [
    "From this point on the variable can be used as a synomym to the value 1. So"
   ]
  },
  {
   "cell_type": "code",
   "execution_count": 7,
   "id": "2af2e757-7a19-42ba-bf21-983dd2dbcaf7",
   "metadata": {
    "execution": {
     "iopub.execute_input": "2022-02-21T13:15:03.886085Z",
     "iopub.status.busy": "2022-02-21T13:15:03.885833Z",
     "iopub.status.idle": "2022-02-21T13:15:03.889997Z",
     "shell.execute_reply": "2022-02-21T13:15:03.889456Z",
     "shell.execute_reply.started": "2022-02-21T13:15:03.886056Z"
    },
    "tags": []
   },
   "outputs": [
    {
     "data": {
      "text/plain": [
       "4"
      ]
     },
     "execution_count": 7,
     "metadata": {},
     "output_type": "execute_result"
    }
   ],
   "source": [
    "a ** 2"
   ]
  },
  {
   "cell_type": "markdown",
   "id": "5bff9aa0-869d-451a-96b0-5d8bd353f6da",
   "metadata": {},
   "source": [
    "will calculate the value of a to the power 2. When changing the value of a and repeating the calculation. The result will obviously change as well."
   ]
  },
  {
   "cell_type": "code",
   "execution_count": 8,
   "id": "cf60c889-8e2d-40fc-a546-252062d935aa",
   "metadata": {
    "execution": {
     "iopub.execute_input": "2022-02-21T13:15:48.722435Z",
     "iopub.status.busy": "2022-02-21T13:15:48.722253Z",
     "iopub.status.idle": "2022-02-21T13:15:48.724780Z",
     "shell.execute_reply": "2022-02-21T13:15:48.724271Z",
     "shell.execute_reply.started": "2022-02-21T13:15:48.722419Z"
    }
   },
   "outputs": [],
   "source": [
    "a = 3"
   ]
  },
  {
   "cell_type": "code",
   "execution_count": 10,
   "id": "f10b3cfb-1749-461c-9c3e-e34a57bddfed",
   "metadata": {
    "execution": {
     "iopub.execute_input": "2022-02-21T13:15:57.585639Z",
     "iopub.status.busy": "2022-02-21T13:15:57.585407Z",
     "iopub.status.idle": "2022-02-21T13:15:57.589158Z",
     "shell.execute_reply": "2022-02-21T13:15:57.588634Z",
     "shell.execute_reply.started": "2022-02-21T13:15:57.585607Z"
    },
    "tags": []
   },
   "outputs": [
    {
     "data": {
      "text/plain": [
       "9"
      ]
     },
     "execution_count": 10,
     "metadata": {},
     "output_type": "execute_result"
    }
   ],
   "source": [
    "a ** 2"
   ]
  },
  {
   "cell_type": "markdown",
   "id": "39c23fe6-f053-4a50-a2cd-72dbb6865731",
   "metadata": {},
   "source": [
    "```{note} Python does not have the concept of constants. There is no real way in Python to make an expression, where the value truly cannot be changed. There are ways to come very close to the necessary behaviour, but there is no exactly matching concept of constants. And most usually this is never really necessary to have this in algorithms. The true reason for having constants in other programming languages is for efficiency reasons. Constants can be handled in a different, more memory efficient way than variables. And this was not considered to be of interest when designing the Python programming language. It is quite common though to indicate something should considered to be understood as a constant when the variable name is written in all uppercase letters.\n",
    "```"
   ]
  },
  {
   "cell_type": "markdown",
   "id": "f9a976c1-a613-43ec-be7a-fc5d117dc6cc",
   "metadata": {},
   "source": [
    "We've used a very short and meaningless variable name here: `a`. This works in Python of course, but does not really help understanding what's going on here.\n",
    "Those trivial variable names are good for showing trivial things, or short lived concepts, within interactive sessions for example. \n",
    "It is however not a good idea to use them in source code meant for production environments.\n",
    "Think of someone else needing to understand what you have implemented, or even your future self in half a year or more needs to revisit an algorithm to do some updates or bug fixing.\n",
    "Speaking variable names help a lot here and support one of the Pythin idioms to write down readable code.\n",
    "\n",
    "Here's a little example to help calculating a discount effective on a price with more meaningful variable names."
   ]
  },
  {
   "cell_type": "code",
   "execution_count": 13,
   "id": "6e91cee1-25a1-4245-94c4-88128880dcc3",
   "metadata": {
    "execution": {
     "iopub.execute_input": "2022-02-21T16:32:57.657998Z",
     "iopub.status.busy": "2022-02-21T16:32:57.657767Z",
     "iopub.status.idle": "2022-02-21T16:32:57.660800Z",
     "shell.execute_reply": "2022-02-21T16:32:57.660066Z",
     "shell.execute_reply.started": "2022-02-21T16:32:57.657982Z"
    },
    "tags": []
   },
   "outputs": [],
   "source": [
    "discount = 13 # in percent of price\n",
    "price = 99.90 # in EUR\n"
   ]
  },
  {
   "cell_type": "code",
   "execution_count": 14,
   "id": "9373f45f-57b7-487b-b6e2-6b3bf696f831",
   "metadata": {
    "execution": {
     "iopub.execute_input": "2022-02-21T16:32:58.110021Z",
     "iopub.status.busy": "2022-02-21T16:32:58.109822Z",
     "iopub.status.idle": "2022-02-21T16:32:58.113966Z",
     "shell.execute_reply": "2022-02-21T16:32:58.113394Z",
     "shell.execute_reply.started": "2022-02-21T16:32:58.110004Z"
    },
    "tags": []
   },
   "outputs": [
    {
     "data": {
      "text/plain": [
       "86.91300000000001"
      ]
     },
     "execution_count": 14,
     "metadata": {},
     "output_type": "execute_result"
    }
   ],
   "source": [
    "price - (discount / 100) * price"
   ]
  },
  {
   "cell_type": "code",
   "execution_count": null,
   "id": "cd44905a-9d07-4c7a-a766-884c77b54dfb",
   "metadata": {},
   "outputs": [],
   "source": []
  }
 ],
 "metadata": {
  "kernelspec": {
   "display_name": "Python 3 (ipykernel)",
   "language": "python",
   "name": "python3"
  },
  "language_info": {
   "codemirror_mode": {
    "name": "ipython",
    "version": 3
   },
   "file_extension": ".py",
   "mimetype": "text/x-python",
   "name": "python",
   "nbconvert_exporter": "python",
   "pygments_lexer": "ipython3",
   "version": "3.10.2"
  }
 },
 "nbformat": 4,
 "nbformat_minor": 5
}
