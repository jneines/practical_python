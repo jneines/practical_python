{
 "cells": [
  {
   "cell_type": "markdown",
   "id": "eb3f6bf4-605a-45ef-94b0-292210a01182",
   "metadata": {},
   "source": [
    "# When things can go wrong"
   ]
  },
  {
   "cell_type": "markdown",
   "id": "66aa164f-996d-4fe9-878c-899e26716432",
   "metadata": {},
   "source": [
    "We've faced a few situations before, where code was not bullet proof in all cases.\n",
    "And this is of course a common problem in all programming languages.\n",
    "You as the author of the code for an algorithm has a certain workflow in mind which solves your specific problem.\n",
    "Also you will almost certainly design your algorithm for a specific data type.\n",
    "You might also be well beware of the few pitfalls that can happen when parameters or input data would let your algorithm behave abnormally. \n",
    "But you would of course circumvent these issues by using the algorithm \"correctly\".\n",
    "\n",
    "What if though, a couple of months later you notice that this old algorithm you've written way back, might actually match a very current problem, only the data types are slightly different.\n",
    "\n",
    "What if someone else finds your implementation and likes to use it in a slightly different context. Chances are, that the use will just fail because of circumstances you weren't aware of when writing the code.\n",
    "\n",
    "There are several ways to address this. One is to check each and every arguments data type and value range.\n",
    "This will certainly help to make your algorithm work correctly. On the other hand the necessary amount of code to perform all the checks may outnumber the code that actually does the job. \n",
    "There will certainly be issues with readability as well, which we remember was one of the key concepts behind the Python programming language.\n",
    "\n",
    "A more modern approach to address some of the issues that might occur is *exception handling*. Most modern high level programming languages do implemment this concept, so does Python.\n",
    "\n",
    "The idea is that you would optimistically `try` to do something `except` an error happens, and when that error happens can cleanly and reliably handle the situation."
   ]
  },
  {
   "cell_type": "markdown",
   "id": "fb6eb7ff-7132-41fe-897d-b0f583a1ff7a",
   "metadata": {},
   "source": [
    "Think of something very simple, like eventually dividing by zero. Trying to calculate the result for `1/0` will result in an error. A program running into this issue will fail and exit, which can be very annoying if this happened because of some parameter optimization in a very long running simulation.\n",
    "\n",
    "In Python we can handle this situation like so"
   ]
  },
  {
   "cell_type": "code",
   "execution_count": 3,
   "id": "0b1536ff-1d99-4502-9022-23c97e316dc5",
   "metadata": {
    "execution": {
     "iopub.execute_input": "2022-03-24T14:01:10.871443Z",
     "iopub.status.busy": "2022-03-24T14:01:10.871267Z",
     "iopub.status.idle": "2022-03-24T14:01:10.874042Z",
     "shell.execute_reply": "2022-03-24T14:01:10.873669Z",
     "shell.execute_reply.started": "2022-03-24T14:01:10.871426Z"
    },
    "tags": []
   },
   "outputs": [
    {
     "name": "stdout",
     "output_type": "stream",
     "text": [
      "An error occured when performing the division: division by zero.\n"
     ]
    }
   ],
   "source": [
    "try:\n",
    "    1 / 0\n",
    "except ZeroDivisionError as e:\n",
    "    print(f\"An error occured when performing the division: {e}.\")"
   ]
  },
  {
   "cell_type": "markdown",
   "id": "ae45b0d2-6d04-4294-a367-80c5d5c8c053",
   "metadata": {},
   "source": [
    "This is a clean approach to this, as the problem is locally dealt with and the surrounding program can continue.\n",
    "\n",
    "Python offers a variety of Errors which can be handled.\n",
    "Every possible situation can be cleanly handled with this approach.\n",
    "The advice here is to use this concept as locally as possible.\n",
    "You could of cause wrap your whole application in a large `try ... except` block. This will end in your application exiting in a controlled way in this case.\n",
    "However the desired result will possibly not available when acting so.\n",
    "\n",
    "Wrapping a single line where things can go wrong or a few logically related lines of code, and offering a clean way to proceed will be the better, more consistent solution.\n",
    "\n",
    "Let's create a simple example to illustrate that. We define a functuin returning 1 over x for a list of numbers."
   ]
  },
  {
   "cell_type": "code",
   "execution_count": 8,
   "id": "ef718ce3-9197-42fd-9bdb-30a0e3ea4c56",
   "metadata": {
    "execution": {
     "iopub.execute_input": "2022-03-24T14:09:04.252847Z",
     "iopub.status.busy": "2022-03-24T14:09:04.252599Z",
     "iopub.status.idle": "2022-03-24T14:09:04.255691Z",
     "shell.execute_reply": "2022-03-24T14:09:04.255207Z",
     "shell.execute_reply.started": "2022-03-24T14:09:04.252830Z"
    },
    "tags": []
   },
   "outputs": [],
   "source": [
    "def one_over_x(xs):\n",
    "    results = []\n",
    "    for x in xs:\n",
    "        results.append(1 / x)\n",
    "    return results"
   ]
  },
  {
   "cell_type": "code",
   "execution_count": 9,
   "id": "f816e56c-d78f-42b3-95a4-cdef45c69449",
   "metadata": {
    "execution": {
     "iopub.execute_input": "2022-03-24T14:09:05.175710Z",
     "iopub.status.busy": "2022-03-24T14:09:05.175504Z",
     "iopub.status.idle": "2022-03-24T14:09:05.179393Z",
     "shell.execute_reply": "2022-03-24T14:09:05.178928Z",
     "shell.execute_reply.started": "2022-03-24T14:09:05.175692Z"
    },
    "tags": []
   },
   "outputs": [
    {
     "data": {
      "text/plain": [
       "[1.0, 0.5, 0.3333333333333333, 0.25]"
      ]
     },
     "execution_count": 9,
     "metadata": {},
     "output_type": "execute_result"
    }
   ],
   "source": [
    "one_over_x([1, 2, 3, 4])"
   ]
  },
  {
   "cell_type": "markdown",
   "id": "db273b02-0144-477e-a30e-af15397ab242",
   "metadata": {},
   "source": [
    "This will work nicely as long as the functio is used \"intentionally\". If things become more generic though ..."
   ]
  },
  {
   "cell_type": "code",
   "execution_count": 10,
   "id": "483bcf58-803c-461f-b19e-58ee9404f6ee",
   "metadata": {
    "execution": {
     "iopub.execute_input": "2022-03-24T14:09:59.336580Z",
     "iopub.status.busy": "2022-03-24T14:09:59.336388Z",
     "iopub.status.idle": "2022-03-24T14:09:59.351093Z",
     "shell.execute_reply": "2022-03-24T14:09:59.350438Z",
     "shell.execute_reply.started": "2022-03-24T14:09:59.336566Z"
    }
   },
   "outputs": [
    {
     "ename": "ZeroDivisionError",
     "evalue": "division by zero",
     "output_type": "error",
     "traceback": [
      "\u001b[0;31m---------------------------------------------------------------------------\u001b[0m",
      "\u001b[0;31mZeroDivisionError\u001b[0m                         Traceback (most recent call last)",
      "Input \u001b[0;32mIn [10]\u001b[0m, in \u001b[0;36m<module>\u001b[0;34m\u001b[0m\n\u001b[0;32m----> 1\u001b[0m \u001b[43mone_over_x\u001b[49m\u001b[43m(\u001b[49m\u001b[38;5;28;43mrange\u001b[39;49m\u001b[43m(\u001b[49m\u001b[38;5;241;43m-\u001b[39;49m\u001b[38;5;241;43m10\u001b[39;49m\u001b[43m,\u001b[49m\u001b[43m \u001b[49m\u001b[38;5;241;43m10\u001b[39;49m\u001b[43m)\u001b[49m\u001b[43m)\u001b[49m\n",
      "Input \u001b[0;32mIn [8]\u001b[0m, in \u001b[0;36mone_over_x\u001b[0;34m(xs)\u001b[0m\n\u001b[1;32m      2\u001b[0m results \u001b[38;5;241m=\u001b[39m []\n\u001b[1;32m      3\u001b[0m \u001b[38;5;28;01mfor\u001b[39;00m x \u001b[38;5;129;01min\u001b[39;00m xs:\n\u001b[0;32m----> 4\u001b[0m     results\u001b[38;5;241m.\u001b[39mappend(\u001b[38;5;241;43m1\u001b[39;49m\u001b[43m \u001b[49m\u001b[38;5;241;43m/\u001b[39;49m\u001b[43m \u001b[49m\u001b[43mx\u001b[49m)\n\u001b[1;32m      5\u001b[0m \u001b[38;5;28;01mreturn\u001b[39;00m results\n",
      "\u001b[0;31mZeroDivisionError\u001b[0m: division by zero"
     ]
    }
   ],
   "source": [
    "one_over_x(range(-10, 10))"
   ]
  },
  {
   "cell_type": "markdown",
   "id": "9e531450-e180-4108-9765-48931a069d66",
   "metadata": {},
   "source": [
    "We'll get that ZeroDivisionError. Wrapping the whole thing will prevent the error"
   ]
  },
  {
   "cell_type": "code",
   "execution_count": 11,
   "id": "99d1f6be-38d1-4093-87f5-3d424920ce67",
   "metadata": {
    "execution": {
     "iopub.execute_input": "2022-03-24T14:10:54.254653Z",
     "iopub.status.busy": "2022-03-24T14:10:54.254480Z",
     "iopub.status.idle": "2022-03-24T14:10:54.257361Z",
     "shell.execute_reply": "2022-03-24T14:10:54.256927Z",
     "shell.execute_reply.started": "2022-03-24T14:10:54.254636Z"
    }
   },
   "outputs": [
    {
     "name": "stdout",
     "output_type": "stream",
     "text": [
      "division by zero\n"
     ]
    }
   ],
   "source": [
    "try:\n",
    "    one_over_x(range(-10, 10))\n",
    "except ZeroDivisionError as e:\n",
    "    print(e)"
   ]
  },
  {
   "cell_type": "markdown",
   "id": "d569b2fe-8c0e-4be7-b9bb-834b11af6a4b",
   "metadata": {},
   "source": [
    "However there will also be no result set for those numbers not triggering errors. \n",
    "\n",
    "So handling the Error locally will obviously be the better choice."
   ]
  },
  {
   "cell_type": "code",
   "execution_count": 16,
   "id": "4c1289dc-7b95-440c-80d0-f40c56ed886f",
   "metadata": {
    "execution": {
     "iopub.execute_input": "2022-03-24T14:21:08.650594Z",
     "iopub.status.busy": "2022-03-24T14:21:08.650418Z",
     "iopub.status.idle": "2022-03-24T14:21:08.653118Z",
     "shell.execute_reply": "2022-03-24T14:21:08.652735Z",
     "shell.execute_reply.started": "2022-03-24T14:21:08.650577Z"
    },
    "tags": []
   },
   "outputs": [],
   "source": [
    "def one_over_x(xs):\n",
    "    results = []\n",
    "    for x in xs:\n",
    "        try:\n",
    "            results.append(1 / x)\n",
    "        except ZeroDivisionError as e:\n",
    "            print(f\"Warning: {e}.\")\n",
    "    return results"
   ]
  },
  {
   "cell_type": "code",
   "execution_count": 17,
   "id": "6439f6c2-1dde-44fb-ada6-80537df6e11a",
   "metadata": {
    "execution": {
     "iopub.execute_input": "2022-03-24T14:21:08.980010Z",
     "iopub.status.busy": "2022-03-24T14:21:08.979836Z",
     "iopub.status.idle": "2022-03-24T14:21:08.983660Z",
     "shell.execute_reply": "2022-03-24T14:21:08.983168Z",
     "shell.execute_reply.started": "2022-03-24T14:21:08.979993Z"
    },
    "tags": []
   },
   "outputs": [
    {
     "name": "stdout",
     "output_type": "stream",
     "text": [
      "Warning: division by zero.\n"
     ]
    },
    {
     "data": {
      "text/plain": [
       "[-0.1,\n",
       " -0.1111111111111111,\n",
       " -0.125,\n",
       " -0.14285714285714285,\n",
       " -0.16666666666666666,\n",
       " -0.2,\n",
       " -0.25,\n",
       " -0.3333333333333333,\n",
       " -0.5,\n",
       " -1.0,\n",
       " 1.0,\n",
       " 0.5,\n",
       " 0.3333333333333333,\n",
       " 0.25,\n",
       " 0.2,\n",
       " 0.16666666666666666,\n",
       " 0.14285714285714285,\n",
       " 0.125,\n",
       " 0.1111111111111111]"
      ]
     },
     "execution_count": 17,
     "metadata": {},
     "output_type": "execute_result"
    }
   ],
   "source": [
    "one_over_x(range(-10, 10))"
   ]
  },
  {
   "cell_type": "markdown",
   "id": "9e788c8a-2cd6-4d6c-b8e4-af07aba0cc25",
   "metadata": {},
   "source": [
    "This implementation will inform us that some error occured when doing the calculations, but a - not necessarily complete - result set will be available.\n",
    "\n",
    "There is also a way to handle more than one exception at once. Think of some preprocessing had accidently merged number and string representations of numbers for the input for our function. We will run into trouble again when trying to execute the function with the new input."
   ]
  },
  {
   "cell_type": "code",
   "execution_count": 18,
   "id": "1c22d6bc-ec50-44e9-9a88-b17fcb5dbe8c",
   "metadata": {
    "execution": {
     "iopub.execute_input": "2022-03-24T14:21:09.767719Z",
     "iopub.status.busy": "2022-03-24T14:21:09.767467Z",
     "iopub.status.idle": "2022-03-24T14:21:09.838672Z",
     "shell.execute_reply": "2022-03-24T14:21:09.837424Z",
     "shell.execute_reply.started": "2022-03-24T14:21:09.767688Z"
    },
    "tags": []
   },
   "outputs": [
    {
     "name": "stdout",
     "output_type": "stream",
     "text": [
      "Warning: division by zero.\n"
     ]
    },
    {
     "ename": "TypeError",
     "evalue": "unsupported operand type(s) for /: 'int' and 'str'",
     "output_type": "error",
     "traceback": [
      "\u001b[0;31m---------------------------------------------------------------------------\u001b[0m",
      "\u001b[0;31mTypeError\u001b[0m                                 Traceback (most recent call last)",
      "Input \u001b[0;32mIn [18]\u001b[0m, in \u001b[0;36m<module>\u001b[0;34m\u001b[0m\n\u001b[0;32m----> 1\u001b[0m \u001b[43mone_over_x\u001b[49m\u001b[43m(\u001b[49m\u001b[43m[\u001b[49m\u001b[38;5;241;43m-\u001b[39;49m\u001b[38;5;241;43m4\u001b[39;49m\u001b[43m,\u001b[49m\u001b[43m \u001b[49m\u001b[38;5;241;43m-\u001b[39;49m\u001b[38;5;241;43m3\u001b[39;49m\u001b[43m,\u001b[49m\u001b[43m \u001b[49m\u001b[38;5;241;43m-\u001b[39;49m\u001b[38;5;241;43m2\u001b[39;49m\u001b[43m,\u001b[49m\u001b[43m \u001b[49m\u001b[38;5;241;43m-\u001b[39;49m\u001b[38;5;241;43m1\u001b[39;49m\u001b[43m,\u001b[49m\u001b[43m \u001b[49m\u001b[38;5;241;43m0\u001b[39;49m\u001b[43m,\u001b[49m\u001b[43m \u001b[49m\u001b[38;5;124;43m\"\u001b[39;49m\u001b[38;5;124;43m1\u001b[39;49m\u001b[38;5;124;43m\"\u001b[39;49m\u001b[43m,\u001b[49m\u001b[43m \u001b[49m\u001b[38;5;124;43m\"\u001b[39;49m\u001b[38;5;124;43m2\u001b[39;49m\u001b[38;5;124;43m\"\u001b[39;49m\u001b[43m,\u001b[49m\u001b[43m \u001b[49m\u001b[38;5;124;43m\"\u001b[39;49m\u001b[38;5;124;43m3\u001b[39;49m\u001b[38;5;124;43m\"\u001b[39;49m\u001b[43m,\u001b[49m\u001b[43m \u001b[49m\u001b[38;5;124;43m\"\u001b[39;49m\u001b[38;5;124;43m4\u001b[39;49m\u001b[38;5;124;43m\"\u001b[39;49m\u001b[43m]\u001b[49m\u001b[43m)\u001b[49m\n",
      "Input \u001b[0;32mIn [16]\u001b[0m, in \u001b[0;36mone_over_x\u001b[0;34m(xs)\u001b[0m\n\u001b[1;32m      3\u001b[0m \u001b[38;5;28;01mfor\u001b[39;00m x \u001b[38;5;129;01min\u001b[39;00m xs:\n\u001b[1;32m      4\u001b[0m     \u001b[38;5;28;01mtry\u001b[39;00m:\n\u001b[0;32m----> 5\u001b[0m         results\u001b[38;5;241m.\u001b[39mappend(\u001b[38;5;241;43m1\u001b[39;49m\u001b[43m \u001b[49m\u001b[38;5;241;43m/\u001b[39;49m\u001b[43m \u001b[49m\u001b[43mx\u001b[49m)\n\u001b[1;32m      6\u001b[0m     \u001b[38;5;28;01mexcept\u001b[39;00m \u001b[38;5;167;01mZeroDivisionError\u001b[39;00m \u001b[38;5;28;01mas\u001b[39;00m e:\n\u001b[1;32m      7\u001b[0m         \u001b[38;5;28mprint\u001b[39m(\u001b[38;5;124mf\u001b[39m\u001b[38;5;124m\"\u001b[39m\u001b[38;5;124mWarning: \u001b[39m\u001b[38;5;132;01m{\u001b[39;00me\u001b[38;5;132;01m}\u001b[39;00m\u001b[38;5;124m.\u001b[39m\u001b[38;5;124m\"\u001b[39m)\n",
      "\u001b[0;31mTypeError\u001b[0m: unsupported operand type(s) for /: 'int' and 'str'"
     ]
    }
   ],
   "source": [
    "one_over_x([-4, -3, -2, -1, 0, \"1\", \"2\", \"3\", \"4\"])"
   ]
  },
  {
   "cell_type": "markdown",
   "id": "90201d37-d258-469f-98b7-ef04e6d6c5cf",
   "metadata": {},
   "source": [
    "A slight modification will do the job though."
   ]
  },
  {
   "cell_type": "code",
   "execution_count": 23,
   "id": "21e8373a-aaec-428d-a874-03495bfa7d2a",
   "metadata": {
    "execution": {
     "iopub.execute_input": "2022-03-24T14:23:35.025883Z",
     "iopub.status.busy": "2022-03-24T14:23:35.025706Z",
     "iopub.status.idle": "2022-03-24T14:23:35.028765Z",
     "shell.execute_reply": "2022-03-24T14:23:35.028349Z",
     "shell.execute_reply.started": "2022-03-24T14:23:35.025865Z"
    },
    "tags": []
   },
   "outputs": [],
   "source": [
    "def one_over_x(xs):\n",
    "    results = []\n",
    "    \n",
    "    for x in xs:\n",
    "        try:\n",
    "            results.append(1 / x)\n",
    "        except ZeroDivisionError as e:\n",
    "            print(f\"Warning: {e}.\")\n",
    "        except TypeError as e:\n",
    "            print(f\"Error: {e}.\")\n",
    "            \n",
    "    return results"
   ]
  },
  {
   "cell_type": "code",
   "execution_count": 24,
   "id": "569c1269-2717-4515-9067-39eb46e44976",
   "metadata": {
    "execution": {
     "iopub.execute_input": "2022-03-24T14:23:36.039691Z",
     "iopub.status.busy": "2022-03-24T14:23:36.039461Z",
     "iopub.status.idle": "2022-03-24T14:23:36.044414Z",
     "shell.execute_reply": "2022-03-24T14:23:36.043796Z",
     "shell.execute_reply.started": "2022-03-24T14:23:36.039675Z"
    },
    "tags": []
   },
   "outputs": [
    {
     "name": "stdout",
     "output_type": "stream",
     "text": [
      "Warning: division by zero.\n",
      "Error: unsupported operand type(s) for /: 'int' and 'str'.\n",
      "Error: unsupported operand type(s) for /: 'int' and 'str'.\n",
      "Error: unsupported operand type(s) for /: 'int' and 'str'.\n",
      "Error: unsupported operand type(s) for /: 'int' and 'str'.\n"
     ]
    },
    {
     "data": {
      "text/plain": [
       "[-0.25, -0.3333333333333333, -0.5, -1.0]"
      ]
     },
     "execution_count": 24,
     "metadata": {},
     "output_type": "execute_result"
    }
   ],
   "source": [
    "one_over_x([-4, -3, -2, -1, 0, \"1\", \"2\", \"3\", \"4\"])"
   ]
  },
  {
   "cell_type": "markdown",
   "id": "7d471e0b-e97a-4d50-8ed6-d5c29d450879",
   "metadata": {},
   "source": [
    "The two errors to handle can also be combined by placing them in a tuple. In this case the error handling block will be the same of course."
   ]
  },
  {
   "cell_type": "code",
   "execution_count": 25,
   "id": "d43101ce-7000-4d31-962e-29e932007916",
   "metadata": {
    "execution": {
     "iopub.execute_input": "2022-03-24T14:23:36.827791Z",
     "iopub.status.busy": "2022-03-24T14:23:36.827558Z",
     "iopub.status.idle": "2022-03-24T14:23:36.830898Z",
     "shell.execute_reply": "2022-03-24T14:23:36.830443Z",
     "shell.execute_reply.started": "2022-03-24T14:23:36.827760Z"
    },
    "tags": []
   },
   "outputs": [],
   "source": [
    "def one_over_x(xs):\n",
    "    results = []\n",
    "    \n",
    "    for x in xs:\n",
    "        try:\n",
    "            results.append(1 / x)\n",
    "        except (ZeroDivisionError, TypeError) as e:\n",
    "            print(f\"Warning: {e}.\")\n",
    "            \n",
    "    return results"
   ]
  },
  {
   "cell_type": "code",
   "execution_count": 26,
   "id": "b18ee202-6cf0-430e-b0e5-573f82ab496f",
   "metadata": {
    "execution": {
     "iopub.execute_input": "2022-03-24T14:23:41.270609Z",
     "iopub.status.busy": "2022-03-24T14:23:41.270415Z",
     "iopub.status.idle": "2022-03-24T14:23:41.275060Z",
     "shell.execute_reply": "2022-03-24T14:23:41.274561Z",
     "shell.execute_reply.started": "2022-03-24T14:23:41.270592Z"
    }
   },
   "outputs": [
    {
     "name": "stdout",
     "output_type": "stream",
     "text": [
      "Warning: division by zero.\n",
      "Warning: unsupported operand type(s) for /: 'int' and 'str'.\n",
      "Warning: unsupported operand type(s) for /: 'int' and 'str'.\n",
      "Warning: unsupported operand type(s) for /: 'int' and 'str'.\n",
      "Warning: unsupported operand type(s) for /: 'int' and 'str'.\n"
     ]
    },
    {
     "data": {
      "text/plain": [
       "[-0.25, -0.3333333333333333, -0.5, -1.0]"
      ]
     },
     "execution_count": 26,
     "metadata": {},
     "output_type": "execute_result"
    }
   ],
   "source": [
    "one_over_x([-4, -3, -2, -1, 0, \"1\", \"2\", \"3\", \"4\"])"
   ]
  },
  {
   "cell_type": "markdown",
   "id": "a6dc3efd-68ff-481a-9915-c4f2a22bb77a",
   "metadata": {},
   "source": [
    "A final word regarding the use of `try ... except` blocks. It is considered best practise to only use them to prevent unpredictable behaviour of a program. Whenever there are ways to programatically handle a situation, this should be preferred.\n",
    "Think of an example where you might be able to use a simple `if ... elif ... else` block as well. There are ways to mis-use `try ... except` blocks for them, ending up in a brute force approach.\n",
    "\n",
    "In the end, as always, `try ... except` blocks should be used for preventing program failures and to increase the readability of your coude."
   ]
  },
  {
   "cell_type": "code",
   "execution_count": null,
   "id": "4530a1c7-b842-4675-b36b-fc5d85e6c614",
   "metadata": {},
   "outputs": [],
   "source": []
  }
 ],
 "metadata": {
  "kernelspec": {
   "display_name": "Python 3 (ipykernel)",
   "language": "python",
   "name": "python3"
  },
  "language_info": {
   "codemirror_mode": {
    "name": "ipython",
    "version": 3
   },
   "file_extension": ".py",
   "mimetype": "text/x-python",
   "name": "python",
   "nbconvert_exporter": "python",
   "pygments_lexer": "ipython3",
   "version": "3.10.2"
  }
 },
 "nbformat": 4,
 "nbformat_minor": 5
}
