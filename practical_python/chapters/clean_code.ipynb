{
 "cells": [
  {
   "cell_type": "markdown",
   "id": "083569b2-4822-449c-bc7c-a8c41d5d8f05",
   "metadata": {},
   "source": [
    "# A word on clean code"
   ]
  },
  {
   "cell_type": "code",
   "execution_count": 2,
   "id": "7d31725f-3982-4e5e-a624-c105097b2396",
   "metadata": {
    "execution": {
     "iopub.execute_input": "2022-02-23T12:02:39.168517Z",
     "iopub.status.busy": "2022-02-23T12:02:39.168301Z",
     "iopub.status.idle": "2022-02-23T12:02:39.177345Z",
     "shell.execute_reply": "2022-02-23T12:02:39.176953Z",
     "shell.execute_reply.started": "2022-02-23T12:02:39.168462Z"
    },
    "tags": []
   },
   "outputs": [
    {
     "name": "stdout",
     "output_type": "stream",
     "text": [
      "The Zen of Python, by Tim Peters\n",
      "\n",
      "Beautiful is better than ugly.\n",
      "Explicit is better than implicit.\n",
      "Simple is better than complex.\n",
      "Complex is better than complicated.\n",
      "Flat is better than nested.\n",
      "Sparse is better than dense.\n",
      "Readability counts.\n",
      "Special cases aren't special enough to break the rules.\n",
      "Although practicality beats purity.\n",
      "Errors should never pass silently.\n",
      "Unless explicitly silenced.\n",
      "In the face of ambiguity, refuse the temptation to guess.\n",
      "There should be one-- and preferably only one --obvious way to do it.\n",
      "Although that way may not be obvious at first unless you're Dutch.\n",
      "Now is better than never.\n",
      "Although never is often better than *right* now.\n",
      "If the implementation is hard to explain, it's a bad idea.\n",
      "If the implementation is easy to explain, it may be a good idea.\n",
      "Namespaces are one honking great idea -- let's do more of those!\n"
     ]
    }
   ],
   "source": [
    "import this"
   ]
  },
  {
   "cell_type": "markdown",
   "id": "6218c60e-e3b3-4fca-81b9-d5437b23e768",
   "metadata": {},
   "source": [
    "PEP8"
   ]
  },
  {
   "cell_type": "markdown",
   "id": "bf581962-63d9-4ecd-ad99-e110a0846edb",
   "metadata": {},
   "source": [
    "flake8, black"
   ]
  },
  {
   "cell_type": "markdown",
   "id": "73e8cdf7-941a-4467-b441-79adb0794033",
   "metadata": {},
   "source": [
    "documenting your code"
   ]
  },
  {
   "cell_type": "code",
   "execution_count": null,
   "id": "e23e8cf7-b02a-4ffe-be05-89eef093da6d",
   "metadata": {},
   "outputs": [],
   "source": []
  }
 ],
 "metadata": {
  "kernelspec": {
   "display_name": "Python 3 (ipykernel)",
   "language": "python",
   "name": "python3"
  },
  "language_info": {
   "codemirror_mode": {
    "name": "ipython",
    "version": 3
   },
   "file_extension": ".py",
   "mimetype": "text/x-python",
   "name": "python",
   "nbconvert_exporter": "python",
   "pygments_lexer": "ipython3",
   "version": "3.10.2"
  }
 },
 "nbformat": 4,
 "nbformat_minor": 5
}
