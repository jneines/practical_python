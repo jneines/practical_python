{
 "cells": [
  {
   "cell_type": "markdown",
   "id": "89947b41-79e0-410c-9738-5480b9d1b141",
   "metadata": {},
   "source": [
    "# Numerical Python"
   ]
  },
  {
   "cell_type": "markdown",
   "id": "b42f4b06-d978-4ee6-9636-a4125a47fae2",
   "metadata": {},
   "source": [
    "You can write books on Numerical Python alone. There is quite some interesting history behind this topic, along with the careers of some wonderful and outstanding people who have driven the development in this area.\n",
    "Usually a set of packages is important for the Numerical Python stack, all worth having a closer look. To begin with, we will focus on some core functionality of these packages, just to get things going.\n",
    "\n",
    "The first package to mention here is `numpy`. It was written to allow array and matrix like handling of numbers together with basic mathematical operations on it more efficiently. In a way known before from the Fortran and Matlab world. This package was created with a similar intention in mind as for the development of Python itself. There was a lack of easy to understand, yet powerful programming languages and data handling environments in the scientific world. Many scientists struggled with creating data evaluation procedures due to the lack of programming skills in languages such as Fortran and C, or faced huge licensing costs for applications such as Matlab to perform seamingly simple tasks.\n",
    "\n",
    "Python was a rising star in these days and people notices how simple the language was although it was pretty complete in functionality and quite powerful already. The missing part was lightning fast algorithms for solving equations, curve fitting and other matrix related operations necessary to model an algorithm following a mathmatical solution. These algorithms existed though in Fortran, and Python was already capable of being extended by wrappers to get Fortran and C based solutions into the Python world by creating suitable APIs for them. It was Travis Oliphant back then who started to work on creating the first Numerical Python package to add all the necessary high performance math functionality. Today this package is known as `numpy`."
   ]
  },
  {
   "cell_type": "markdown",
   "id": "f901765f-58a9-4845-a163-e35b0f6d407a",
   "metadata": {},
   "source": [
    "```{figure} images/travis_oliphant.jpg\n",
    "---\n",
    "alt: travis_oliphant\n",
    "width: 400px\n",
    "align: center\n",
    "name: travis_oliphant\n",
    "---\n",
    "Travis Oliphant (Courtesy unknown)\n",
    "```"
   ]
  },
  {
   "cell_type": "markdown",
   "id": "29ee969b-a0c9-47ee-b878-7df62c0279da",
   "metadata": {},
   "source": [
    "`numpy` started with creating interfaces to well known and largely used fortran libraries such as *linpack*, *lapack*, *atlas* and *blas* which had been developed over decades already by very skilled scientists mainly in the fields of astronomy and particle physics. The very same packages have been used in commercial environments such as Matlab at that time. As a consequence, within a very short time frame, Python jumped on the stage for high performance data processing because of this. \n",
    "Today `numpy` is build upon the various high performance math libraries provided by the CPU vendors to offer the highest performance possible wherever available. A fallback still exists though for the good old fortran libraries to be used where no CPU related libraries exist.\n",
    "\n",
    "A key aspect when creating the library was to create a Pythonic interface for the already existing libraries, so that common strategies to organize and handle data can be re-used in the `numpy` world. This results in a steep learning curve when dealing with the `numpy` functionality. \n",
    "So we can expect iterables for data we can access using square brackets or by looping over the contents and the same operators and function names known from builtins and the `math` module to perform calculus work.\n",
    "\n",
    "There are some key difference in using the offered containers and operators. Operators work on whole container objects. So we don't have to iterate over the contents of an array to calculate a sine value for each element for example. We can just use the whole array as an argument to `numpy`s sine function. And containers are usually typed. So an array can usually not consist of different element types, but has to be based on just `float` values for example. We'll see that later on. Let's just directly dive into it by importing the `numpy` package. The usual way to do this is like this."
   ]
  },
  {
   "cell_type": "code",
   "execution_count": 1,
   "id": "27d4af83-6fe7-4bd6-a956-6a284c050216",
   "metadata": {
    "execution": {
     "iopub.execute_input": "2022-03-23T10:48:25.161926Z",
     "iopub.status.busy": "2022-03-23T10:48:25.161694Z",
     "iopub.status.idle": "2022-03-23T10:48:25.256949Z",
     "shell.execute_reply": "2022-03-23T10:48:25.256511Z",
     "shell.execute_reply.started": "2022-03-23T10:48:25.161854Z"
    },
    "tags": []
   },
   "outputs": [],
   "source": [
    "import numpy as np"
   ]
  },
  {
   "cell_type": "markdown",
   "id": "58895c92-a65d-47af-bb53-35c913136c62",
   "metadata": {},
   "source": [
    "Now every functionality offered by the `numpy` package is available by preceeding `np.` to the desired function call. "
   ]
  },
  {
   "cell_type": "markdown",
   "id": "0fa2065d-1dec-4ac8-91f9-a8bf9913aa96",
   "metadata": {
    "execution": {
     "iopub.execute_input": "2022-03-23T10:49:43.055327Z",
     "iopub.status.busy": "2022-03-23T10:49:43.055111Z",
     "iopub.status.idle": "2022-03-23T10:49:43.066948Z",
     "shell.execute_reply": "2022-03-23T10:49:43.066402Z",
     "shell.execute_reply.started": "2022-03-23T10:49:43.055292Z"
    }
   },
   "source": [
    ":::{tip}\n",
    "Use our well known `dir` function to get an idea what `numpy` has to offer. Do you recognize some functions from previous chapters?\n",
    ":::"
   ]
  },
  {
   "cell_type": "markdown",
   "id": "86de226d-35b5-4d77-ad4c-08d54c1c60d2",
   "metadata": {},
   "source": [
    "Let's start with the creation of containers. An `array` is the simplest container available and can be used to create a `numpy` type variable out of a Python one. By calling"
   ]
  },
  {
   "cell_type": "code",
   "execution_count": 3,
   "id": "eb933841-e553-40b8-89dc-e12400fac187",
   "metadata": {
    "execution": {
     "iopub.execute_input": "2022-03-23T10:55:17.860134Z",
     "iopub.status.busy": "2022-03-23T10:55:17.859956Z",
     "iopub.status.idle": "2022-03-23T10:55:17.863708Z",
     "shell.execute_reply": "2022-03-23T10:55:17.863173Z",
     "shell.execute_reply.started": "2022-03-23T10:55:17.860117Z"
    },
    "tags": []
   },
   "outputs": [
    {
     "data": {
      "text/plain": [
       "array([], dtype=float64)"
      ]
     },
     "execution_count": 3,
     "metadata": {},
     "output_type": "execute_result"
    }
   ],
   "source": [
    "a = np.array([])\n",
    "a"
   ]
  },
  {
   "cell_type": "markdown",
   "id": "13997d9d-d365-482e-bbdf-12762df18e16",
   "metadata": {},
   "source": [
    "for example we create an array out of an empty Python list. The type used for the elements in this array would be a `float64` type, which indicates a 64 bit precision for floating point numbers here. The default used is dependent on the CPU architecture of the host running the Python session. On a 32-bit architecture the default type will be a `float32`."
   ]
  },
  {
   "cell_type": "markdown",
   "id": "f76a5601-551f-4ecf-b2e6-f354f66f825a",
   "metadata": {},
   "source": [
    "Running `dir` on our array shows the object orientated approach used for `numpy`. Our empty array has quite a lot of functionality to offer already."
   ]
  },
  {
   "cell_type": "code",
   "execution_count": 5,
   "id": "407ab9a0-077d-4c9d-89aa-adb80888802a",
   "metadata": {
    "execution": {
     "iopub.execute_input": "2022-03-23T11:01:41.645608Z",
     "iopub.status.busy": "2022-03-23T11:01:41.645389Z",
     "iopub.status.idle": "2022-03-23T11:01:41.650331Z",
     "shell.execute_reply": "2022-03-23T11:01:41.649829Z",
     "shell.execute_reply.started": "2022-03-23T11:01:41.645592Z"
    },
    "tags": []
   },
   "outputs": [
    {
     "data": {
      "text/plain": [
       "['T',\n",
       " '__abs__',\n",
       " '__add__',\n",
       " '__and__',\n",
       " '__array__',\n",
       " '__array_finalize__',\n",
       " '__array_function__',\n",
       " '__array_interface__',\n",
       " '__array_prepare__',\n",
       " '__array_priority__',\n",
       " '__array_struct__',\n",
       " '__array_ufunc__',\n",
       " '__array_wrap__',\n",
       " '__bool__',\n",
       " '__class__',\n",
       " '__class_getitem__',\n",
       " '__complex__',\n",
       " '__contains__',\n",
       " '__copy__',\n",
       " '__deepcopy__',\n",
       " '__delattr__',\n",
       " '__delitem__',\n",
       " '__dir__',\n",
       " '__divmod__',\n",
       " '__dlpack__',\n",
       " '__dlpack_device__',\n",
       " '__doc__',\n",
       " '__eq__',\n",
       " '__float__',\n",
       " '__floordiv__',\n",
       " '__format__',\n",
       " '__ge__',\n",
       " '__getattribute__',\n",
       " '__getitem__',\n",
       " '__gt__',\n",
       " '__hash__',\n",
       " '__iadd__',\n",
       " '__iand__',\n",
       " '__ifloordiv__',\n",
       " '__ilshift__',\n",
       " '__imatmul__',\n",
       " '__imod__',\n",
       " '__imul__',\n",
       " '__index__',\n",
       " '__init__',\n",
       " '__init_subclass__',\n",
       " '__int__',\n",
       " '__invert__',\n",
       " '__ior__',\n",
       " '__ipow__',\n",
       " '__irshift__',\n",
       " '__isub__',\n",
       " '__iter__',\n",
       " '__itruediv__',\n",
       " '__ixor__',\n",
       " '__le__',\n",
       " '__len__',\n",
       " '__lshift__',\n",
       " '__lt__',\n",
       " '__matmul__',\n",
       " '__mod__',\n",
       " '__mul__',\n",
       " '__ne__',\n",
       " '__neg__',\n",
       " '__new__',\n",
       " '__or__',\n",
       " '__pos__',\n",
       " '__pow__',\n",
       " '__radd__',\n",
       " '__rand__',\n",
       " '__rdivmod__',\n",
       " '__reduce__',\n",
       " '__reduce_ex__',\n",
       " '__repr__',\n",
       " '__rfloordiv__',\n",
       " '__rlshift__',\n",
       " '__rmatmul__',\n",
       " '__rmod__',\n",
       " '__rmul__',\n",
       " '__ror__',\n",
       " '__rpow__',\n",
       " '__rrshift__',\n",
       " '__rshift__',\n",
       " '__rsub__',\n",
       " '__rtruediv__',\n",
       " '__rxor__',\n",
       " '__setattr__',\n",
       " '__setitem__',\n",
       " '__setstate__',\n",
       " '__sizeof__',\n",
       " '__str__',\n",
       " '__sub__',\n",
       " '__subclasshook__',\n",
       " '__truediv__',\n",
       " '__xor__',\n",
       " 'all',\n",
       " 'any',\n",
       " 'argmax',\n",
       " 'argmin',\n",
       " 'argpartition',\n",
       " 'argsort',\n",
       " 'astype',\n",
       " 'base',\n",
       " 'byteswap',\n",
       " 'choose',\n",
       " 'clip',\n",
       " 'compress',\n",
       " 'conj',\n",
       " 'conjugate',\n",
       " 'copy',\n",
       " 'ctypes',\n",
       " 'cumprod',\n",
       " 'cumsum',\n",
       " 'data',\n",
       " 'diagonal',\n",
       " 'dot',\n",
       " 'dtype',\n",
       " 'dump',\n",
       " 'dumps',\n",
       " 'fill',\n",
       " 'flags',\n",
       " 'flat',\n",
       " 'flatten',\n",
       " 'getfield',\n",
       " 'imag',\n",
       " 'item',\n",
       " 'itemset',\n",
       " 'itemsize',\n",
       " 'max',\n",
       " 'mean',\n",
       " 'min',\n",
       " 'nbytes',\n",
       " 'ndim',\n",
       " 'newbyteorder',\n",
       " 'nonzero',\n",
       " 'partition',\n",
       " 'prod',\n",
       " 'ptp',\n",
       " 'put',\n",
       " 'ravel',\n",
       " 'real',\n",
       " 'repeat',\n",
       " 'reshape',\n",
       " 'resize',\n",
       " 'round',\n",
       " 'searchsorted',\n",
       " 'setfield',\n",
       " 'setflags',\n",
       " 'shape',\n",
       " 'size',\n",
       " 'sort',\n",
       " 'squeeze',\n",
       " 'std',\n",
       " 'strides',\n",
       " 'sum',\n",
       " 'swapaxes',\n",
       " 'take',\n",
       " 'tobytes',\n",
       " 'tofile',\n",
       " 'tolist',\n",
       " 'tostring',\n",
       " 'trace',\n",
       " 'transpose',\n",
       " 'var',\n",
       " 'view']"
      ]
     },
     "execution_count": 5,
     "metadata": {},
     "output_type": "execute_result"
    }
   ],
   "source": [
    "dir(a)"
   ]
  },
  {
   "cell_type": "markdown",
   "id": "7489cb72-f5ed-4545-b4b1-b298ff8de17a",
   "metadata": {},
   "source": [
    "A few of them we already recognize from previous chapters, such as the `__add__` dunder. So there must be some way of addition implemented for arrays, and the `__mul__` dunder for multiplication. There's also a `__len__` dunder. So a `len` function call on the array should reveal the number of items in it. Let's quickly check that on our empty array."
   ]
  },
  {
   "cell_type": "code",
   "execution_count": 6,
   "id": "622998d9-d595-455c-aa3c-cf3ebf42ecc6",
   "metadata": {
    "execution": {
     "iopub.execute_input": "2022-03-23T11:02:15.899876Z",
     "iopub.status.busy": "2022-03-23T11:02:15.899648Z",
     "iopub.status.idle": "2022-03-23T11:02:15.903704Z",
     "shell.execute_reply": "2022-03-23T11:02:15.902974Z",
     "shell.execute_reply.started": "2022-03-23T11:02:15.899860Z"
    }
   },
   "outputs": [
    {
     "data": {
      "text/plain": [
       "0"
      ]
     },
     "execution_count": 6,
     "metadata": {},
     "output_type": "execute_result"
    }
   ],
   "source": [
    "len(a)"
   ]
  },
  {
   "cell_type": "markdown",
   "id": "bfb933ba-6458-4af6-bd5c-7fcbd618ce03",
   "metadata": {},
   "source": [
    "Yes. That matches our expectations. An empty array has no elements. Fine! There are some helper functions to create more exciting arrays. And in contrast to our Python containers, these array can be multi-dimensional. The following call for example creates a 3x3 array of zeros"
   ]
  },
  {
   "cell_type": "code",
   "execution_count": 7,
   "id": "3d679d89-710e-44db-9720-9e83a74a49c7",
   "metadata": {
    "execution": {
     "iopub.execute_input": "2022-03-23T11:04:12.702745Z",
     "iopub.status.busy": "2022-03-23T11:04:12.702510Z",
     "iopub.status.idle": "2022-03-23T11:04:12.706564Z",
     "shell.execute_reply": "2022-03-23T11:04:12.706119Z",
     "shell.execute_reply.started": "2022-03-23T11:04:12.702700Z"
    },
    "tags": []
   },
   "outputs": [
    {
     "data": {
      "text/plain": [
       "array([[0., 0., 0.],\n",
       "       [0., 0., 0.],\n",
       "       [0., 0., 0.]])"
      ]
     },
     "execution_count": 7,
     "metadata": {},
     "output_type": "execute_result"
    }
   ],
   "source": [
    "z = np.zeros((3,3))\n",
    "z"
   ]
  },
  {
   "cell_type": "markdown",
   "id": "d6ce9a2e-ec7b-4801-9f47-01ae97da0ee9",
   "metadata": {},
   "source": [
    "Calling `len` on it probably gives us the number of elements in it again. Let's check that."
   ]
  },
  {
   "cell_type": "code",
   "execution_count": 9,
   "id": "add7455a-76e9-483d-b419-6436543a5af7",
   "metadata": {
    "execution": {
     "iopub.execute_input": "2022-03-23T11:04:20.203297Z",
     "iopub.status.busy": "2022-03-23T11:04:20.203083Z",
     "iopub.status.idle": "2022-03-23T11:04:20.206682Z",
     "shell.execute_reply": "2022-03-23T11:04:20.206283Z",
     "shell.execute_reply.started": "2022-03-23T11:04:20.203281Z"
    },
    "tags": []
   },
   "outputs": [
    {
     "data": {
      "text/plain": [
       "3"
      ]
     },
     "execution_count": 9,
     "metadata": {},
     "output_type": "execute_result"
    }
   ],
   "source": [
    "len(z)"
   ]
  },
  {
   "cell_type": "markdown",
   "id": "4d4670c3-f1f8-484f-86f8-c2848578058f",
   "metadata": {},
   "source": [
    "Oh wait. We probably expected 9 elements here, whilst `len` returned us 3 elements here. This is because of the array being two dimensional in this case, consisting of 3 vectors having 3 elements each. Look at the output of the array very closely. The square brackets indicate just that.\n",
    "\n",
    "But the array itself has some properties to guide you here. The `size` property can be used to show the real number of elements here. "
   ]
  },
  {
   "cell_type": "code",
   "execution_count": 12,
   "id": "f941bd7c-5f06-4f74-b5a3-afc2f22e3e2d",
   "metadata": {
    "execution": {
     "iopub.execute_input": "2022-03-23T11:08:08.142969Z",
     "iopub.status.busy": "2022-03-23T11:08:08.142740Z",
     "iopub.status.idle": "2022-03-23T11:08:08.146679Z",
     "shell.execute_reply": "2022-03-23T11:08:08.146179Z",
     "shell.execute_reply.started": "2022-03-23T11:08:08.142953Z"
    },
    "tags": []
   },
   "outputs": [
    {
     "data": {
      "text/plain": [
       "9"
      ]
     },
     "execution_count": 12,
     "metadata": {},
     "output_type": "execute_result"
    }
   ],
   "source": [
    "z.size"
   ]
  },
  {
   "cell_type": "markdown",
   "id": "b03b4238-4383-4884-bb36-ae2f343aaf8c",
   "metadata": {},
   "source": [
    "And the `shape` property can be used to show the dimensionality. It returns a tuple with the number of rows and columns."
   ]
  },
  {
   "cell_type": "code",
   "execution_count": 13,
   "id": "e99cf9ef-0ea9-44cb-b3a4-c92376fe69da",
   "metadata": {
    "execution": {
     "iopub.execute_input": "2022-03-23T11:09:00.633609Z",
     "iopub.status.busy": "2022-03-23T11:09:00.633400Z",
     "iopub.status.idle": "2022-03-23T11:09:00.636745Z",
     "shell.execute_reply": "2022-03-23T11:09:00.636294Z",
     "shell.execute_reply.started": "2022-03-23T11:09:00.633591Z"
    },
    "tags": []
   },
   "outputs": [
    {
     "data": {
      "text/plain": [
       "(3, 3)"
      ]
     },
     "execution_count": 13,
     "metadata": {},
     "output_type": "execute_result"
    }
   ],
   "source": [
    "z.shape"
   ]
  },
  {
   "cell_type": "markdown",
   "id": "861813af-a129-4d11-9e14-3ec7acfe4cc1",
   "metadata": {},
   "source": [
    "You can use the `dtype` property to check the used type for the elements."
   ]
  },
  {
   "cell_type": "code",
   "execution_count": 14,
   "id": "3f0cce3d-0a63-4545-ad3f-ca17d0396782",
   "metadata": {
    "execution": {
     "iopub.execute_input": "2022-03-23T11:09:35.615112Z",
     "iopub.status.busy": "2022-03-23T11:09:35.614937Z",
     "iopub.status.idle": "2022-03-23T11:09:35.618841Z",
     "shell.execute_reply": "2022-03-23T11:09:35.618324Z",
     "shell.execute_reply.started": "2022-03-23T11:09:35.615096Z"
    }
   },
   "outputs": [
    {
     "data": {
      "text/plain": [
       "dtype('float64')"
      ]
     },
     "execution_count": 14,
     "metadata": {},
     "output_type": "execute_result"
    }
   ],
   "source": [
    "z.dtype"
   ]
  },
  {
   "cell_type": "markdown",
   "id": "c6b04baf-aaaf-4beb-ae71-c21b5cf12c5b",
   "metadata": {},
   "source": [
    "There is a similar helper function to create multidimensional arrays of just ones."
   ]
  },
  {
   "cell_type": "code",
   "execution_count": 33,
   "id": "ff2df14b-c859-4c38-9ac0-df75fef096e5",
   "metadata": {
    "execution": {
     "iopub.execute_input": "2022-03-23T11:17:28.976783Z",
     "iopub.status.busy": "2022-03-23T11:17:28.976602Z",
     "iopub.status.idle": "2022-03-23T11:17:28.980393Z",
     "shell.execute_reply": "2022-03-23T11:17:28.980021Z",
     "shell.execute_reply.started": "2022-03-23T11:17:28.976766Z"
    },
    "tags": []
   },
   "outputs": [
    {
     "data": {
      "text/plain": [
       "array([[1., 1., 1.],\n",
       "       [1., 1., 1.],\n",
       "       [1., 1., 1.]])"
      ]
     },
     "execution_count": 33,
     "metadata": {},
     "output_type": "execute_result"
    }
   ],
   "source": [
    "o = np.ones((3,3))\n",
    "o"
   ]
  },
  {
   "cell_type": "markdown",
   "id": "d9bb0155-c6e7-49f5-ae00-73b9f9661f16",
   "metadata": {},
   "source": [
    "Creates a 3x3 array with the value 1 in each possible location."
   ]
  },
  {
   "cell_type": "markdown",
   "id": "69e51543-02a9-4a65-bd9e-0d819faff508",
   "metadata": {
    "execution": {
     "iopub.execute_input": "2022-03-23T11:12:49.214719Z",
     "iopub.status.busy": "2022-03-23T11:12:49.214543Z",
     "iopub.status.idle": "2022-03-23T11:12:49.218483Z",
     "shell.execute_reply": "2022-03-23T11:12:49.217950Z",
     "shell.execute_reply.started": "2022-03-23T11:12:49.214702Z"
    },
    "tags": []
   },
   "source": [
    "The `eye` function can be used to create a square array with ones placed into a diaginal and zeros at all other locations."
   ]
  },
  {
   "cell_type": "code",
   "execution_count": 32,
   "id": "0bcf672a-ee4a-47b7-ba68-e032f35dc1ad",
   "metadata": {
    "execution": {
     "iopub.execute_input": "2022-03-23T11:17:22.550036Z",
     "iopub.status.busy": "2022-03-23T11:17:22.549795Z",
     "iopub.status.idle": "2022-03-23T11:17:22.553854Z",
     "shell.execute_reply": "2022-03-23T11:17:22.553449Z",
     "shell.execute_reply.started": "2022-03-23T11:17:22.550006Z"
    },
    "tags": []
   },
   "outputs": [
    {
     "data": {
      "text/plain": [
       "array([[1., 0., 0.],\n",
       "       [0., 1., 0.],\n",
       "       [0., 0., 1.]])"
      ]
     },
     "execution_count": 32,
     "metadata": {},
     "output_type": "execute_result"
    }
   ],
   "source": [
    "e = np.eye(3)\n",
    "e"
   ]
  },
  {
   "cell_type": "markdown",
   "id": "55745cb2-aab5-4857-a65a-a43a2871eafc",
   "metadata": {},
   "source": [
    "`numpy` also offers submodules for specific functionality, as for random numbers for example. The following call generates a 3x3 array of random numbers in the interval [0,1[."
   ]
  },
  {
   "cell_type": "code",
   "execution_count": 31,
   "id": "4e50c01d-56b9-4e03-8ab0-7e0cc9f11b40",
   "metadata": {
    "execution": {
     "iopub.execute_input": "2022-03-23T11:15:35.736324Z",
     "iopub.status.busy": "2022-03-23T11:15:35.736072Z",
     "iopub.status.idle": "2022-03-23T11:15:35.740091Z",
     "shell.execute_reply": "2022-03-23T11:15:35.739551Z",
     "shell.execute_reply.started": "2022-03-23T11:15:35.736295Z"
    },
    "tags": []
   },
   "outputs": [
    {
     "data": {
      "text/plain": [
       "array([[0.9493656 , 0.85161852, 0.27455046],\n",
       "       [0.22802821, 0.67577591, 0.12598189],\n",
       "       [0.47829478, 0.24640749, 0.36375349]])"
      ]
     },
     "execution_count": 31,
     "metadata": {},
     "output_type": "execute_result"
    }
   ],
   "source": [
    "np.random.random((3,3))"
   ]
  },
  {
   "cell_type": "markdown",
   "id": "f041da8b-1799-4580-a5a2-f26537cbc286",
   "metadata": {},
   "source": [
    "These methods already allow to create almost every necessary kind of multidemensional arrays, as these arrays can be added and multiplicated, both with each other - when the dimensions match - or with scalar values. For example."
   ]
  },
  {
   "cell_type": "code",
   "execution_count": 34,
   "id": "1a5de1c9-87df-4111-913b-159af83c63b8",
   "metadata": {
    "execution": {
     "iopub.execute_input": "2022-03-23T11:17:37.349907Z",
     "iopub.status.busy": "2022-03-23T11:17:37.349650Z",
     "iopub.status.idle": "2022-03-23T11:17:37.353741Z",
     "shell.execute_reply": "2022-03-23T11:17:37.353285Z",
     "shell.execute_reply.started": "2022-03-23T11:17:37.349891Z"
    }
   },
   "outputs": [
    {
     "data": {
      "text/plain": [
       "array([[5., 5., 5.],\n",
       "       [5., 5., 5.],\n",
       "       [5., 5., 5.]])"
      ]
     },
     "execution_count": 34,
     "metadata": {},
     "output_type": "execute_result"
    }
   ],
   "source": [
    "o * 5"
   ]
  },
  {
   "cell_type": "markdown",
   "id": "80a968fe-453f-4d17-a452-32e9657c9809",
   "metadata": {},
   "source": [
    "creates a 3x3 array of just fives."
   ]
  },
  {
   "cell_type": "code",
   "execution_count": 35,
   "id": "f094e8a0-a480-436c-9069-0d31326d52c6",
   "metadata": {
    "execution": {
     "iopub.execute_input": "2022-03-23T11:18:17.150970Z",
     "iopub.status.busy": "2022-03-23T11:18:17.150797Z",
     "iopub.status.idle": "2022-03-23T11:18:17.154799Z",
     "shell.execute_reply": "2022-03-23T11:18:17.154192Z",
     "shell.execute_reply.started": "2022-03-23T11:18:17.150952Z"
    }
   },
   "outputs": [
    {
     "data": {
      "text/plain": [
       "array([[3., 5., 5.],\n",
       "       [5., 3., 5.],\n",
       "       [5., 5., 3.]])"
      ]
     },
     "execution_count": 35,
     "metadata": {},
     "output_type": "execute_result"
    }
   ],
   "source": [
    "5 * o - 2 * e"
   ]
  },
  {
   "cell_type": "markdown",
   "id": "c582c0c4-bc1d-405c-bd25-f75c5a9498aa",
   "metadata": {},
   "source": [
    "scales the two former arrays `o` and `e` by a scalar value and substracts the latter result from the first one."
   ]
  },
  {
   "cell_type": "markdown",
   "id": "379d71e0-ffd7-41d8-a348-7eeac28d188e",
   "metadata": {},
   "source": [
    "`numpy` also offers some handy helper functions to create arrays with evenly spaced values in it. For example"
   ]
  },
  {
   "cell_type": "code",
   "execution_count": 48,
   "id": "d20cf45d-ed2b-44d6-9823-e60766155a61",
   "metadata": {
    "execution": {
     "iopub.execute_input": "2022-03-23T11:23:05.360302Z",
     "iopub.status.busy": "2022-03-23T11:23:05.360110Z",
     "iopub.status.idle": "2022-03-23T11:23:05.363585Z",
     "shell.execute_reply": "2022-03-23T11:23:05.363153Z",
     "shell.execute_reply.started": "2022-03-23T11:23:05.360283Z"
    },
    "tags": []
   },
   "outputs": [
    {
     "data": {
      "text/plain": [
       "array([0.  , 0.75, 1.5 , 2.25, 3.  , 3.75, 4.5 , 5.25, 6.  ])"
      ]
     },
     "execution_count": 48,
     "metadata": {},
     "output_type": "execute_result"
    }
   ],
   "source": [
    "a1 = np.linspace(0, 6, 9)\n",
    "a1"
   ]
  },
  {
   "cell_type": "markdown",
   "id": "26b30457-df40-456e-9e7f-2e50d753f88a",
   "metadata": {},
   "source": [
    "creates a one dimensional array of 9 numbers evenly spaced starting at 0 and ending with a 6. In this case the number of values is fixed and set to 9, whilst the step size is calculated from the parameters.\n",
    "\n",
    "On the other hand"
   ]
  },
  {
   "cell_type": "code",
   "execution_count": 51,
   "id": "7e784d8b-4e2e-43dc-9ea7-c802ad9518cb",
   "metadata": {
    "execution": {
     "iopub.execute_input": "2022-03-23T11:25:53.365260Z",
     "iopub.status.busy": "2022-03-23T11:25:53.365094Z",
     "iopub.status.idle": "2022-03-23T11:25:53.368305Z",
     "shell.execute_reply": "2022-03-23T11:25:53.367902Z",
     "shell.execute_reply.started": "2022-03-23T11:25:53.365245Z"
    },
    "tags": []
   },
   "outputs": [
    {
     "data": {
      "text/plain": [
       "array([0. , 0.5, 1. , 1.5, 2. , 2.5, 3. , 3.5, 4. , 4.5, 5. , 5.5, 6. ,\n",
       "       6.5, 7. , 7.5, 8. , 8.5, 9. , 9.5])"
      ]
     },
     "execution_count": 51,
     "metadata": {},
     "output_type": "execute_result"
    }
   ],
   "source": [
    "a2 = np.arange(0, 10, .5)\n",
    "a2"
   ]
  },
  {
   "cell_type": "markdown",
   "id": "2727b333-bea2-4c6b-8f2f-64a65a6c2e65",
   "metadata": {},
   "source": [
    "creates an array of numbers from 0 to 10 with 10 exclusive with a step size of .5, where the number of elements is not explicitely set but the stepsize is fixed."
   ]
  },
  {
   "cell_type": "markdown",
   "id": "977847d9-68dc-4fbc-a1c8-88a0d8b6f8b7",
   "metadata": {},
   "source": [
    "`numpy` arrays can be transformed by changing the dimensionality for example as long as the number of elements does not change. To re-arrange the one dimensional array `a1` to being a two dimensional 3x3 array, we can use the `reshape` method."
   ]
  },
  {
   "cell_type": "code",
   "execution_count": 53,
   "id": "8d52d8ce-df26-4744-bd40-4d388915b310",
   "metadata": {
    "execution": {
     "iopub.execute_input": "2022-03-23T11:28:35.083887Z",
     "iopub.status.busy": "2022-03-23T11:28:35.083688Z",
     "iopub.status.idle": "2022-03-23T11:28:35.087481Z",
     "shell.execute_reply": "2022-03-23T11:28:35.087102Z",
     "shell.execute_reply.started": "2022-03-23T11:28:35.083870Z"
    },
    "tags": []
   },
   "outputs": [
    {
     "data": {
      "text/plain": [
       "array([[0.  , 0.75, 1.5 ],\n",
       "       [2.25, 3.  , 3.75],\n",
       "       [4.5 , 5.25, 6.  ]])"
      ]
     },
     "execution_count": 53,
     "metadata": {},
     "output_type": "execute_result"
    }
   ],
   "source": [
    "m1 = a1.reshape((3,3))\n",
    "m1"
   ]
  },
  {
   "cell_type": "markdown",
   "id": "42ff120c-f631-4d34-ac51-dc3fcbaec4cd",
   "metadata": {},
   "source": [
    "This is a very common procedure when working with `numpy` arrays to create the desired shape and contents, and it almost takes no effort and calculation time, as internally the order of elements does not change at all. Only the properties describing the order visible to the outside is adjusted, which is respected in all further array handling. Note that this creates a copy of the original array `a1`. So the original array is not even touched. The reshape operation basically takes the effort and time of creating a copy of `a1`.\n",
    "\n",
    "We can however trigger a modification of `a1` as well. One trivial way would be to assign the result of the `reshape` operation on `a1` back to `a1`, which would create a copy, modify its properties, assigns the result to the same variabe `a1` again, essentially dropping the original `a1`. \n",
    "\n",
    "The more efficient way would be to directly change the properties of `a1` by assigning a proper new tuple to its shape like so."
   ]
  },
  {
   "cell_type": "code",
   "execution_count": 56,
   "id": "cddfc738-eaab-4ce7-b22b-a2df19a964ee",
   "metadata": {
    "execution": {
     "iopub.execute_input": "2022-03-23T11:34:40.946701Z",
     "iopub.status.busy": "2022-03-23T11:34:40.946528Z",
     "iopub.status.idle": "2022-03-23T11:34:40.949096Z",
     "shell.execute_reply": "2022-03-23T11:34:40.948669Z",
     "shell.execute_reply.started": "2022-03-23T11:34:40.946685Z"
    },
    "tags": []
   },
   "outputs": [],
   "source": [
    "a1.shape = (3, 3)"
   ]
  },
  {
   "cell_type": "code",
   "execution_count": 57,
   "id": "75f6f040-7b75-491c-aed6-15d019180cd4",
   "metadata": {
    "execution": {
     "iopub.execute_input": "2022-03-23T11:34:41.307199Z",
     "iopub.status.busy": "2022-03-23T11:34:41.306965Z",
     "iopub.status.idle": "2022-03-23T11:34:41.310661Z",
     "shell.execute_reply": "2022-03-23T11:34:41.310263Z",
     "shell.execute_reply.started": "2022-03-23T11:34:41.307182Z"
    },
    "tags": []
   },
   "outputs": [
    {
     "data": {
      "text/plain": [
       "array([[0.  , 0.75, 1.5 ],\n",
       "       [2.25, 3.  , 3.75],\n",
       "       [4.5 , 5.25, 6.  ]])"
      ]
     },
     "execution_count": 57,
     "metadata": {},
     "output_type": "execute_result"
    }
   ],
   "source": [
    "a1"
   ]
  },
  {
   "cell_type": "code",
   "execution_count": null,
   "id": "ecc45845-03a7-4b35-bd48-a289f933566f",
   "metadata": {},
   "outputs": [],
   "source": []
  }
 ],
 "metadata": {
  "kernelspec": {
   "display_name": "Python 3 (ipykernel)",
   "language": "python",
   "name": "python3"
  },
  "language_info": {
   "codemirror_mode": {
    "name": "ipython",
    "version": 3
   },
   "file_extension": ".py",
   "mimetype": "text/x-python",
   "name": "python",
   "nbconvert_exporter": "python",
   "pygments_lexer": "ipython3",
   "version": "3.10.2"
  }
 },
 "nbformat": 4,
 "nbformat_minor": 5
}
